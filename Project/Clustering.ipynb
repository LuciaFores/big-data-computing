{
  "nbformat": 4,
  "nbformat_minor": 0,
  "metadata": {
    "colab": {
      "provenance": [],
      "collapsed_sections": [
        "NgLK_AYNXz1E",
        "Dx3B3qS50CNI",
        "Hv2Ttc260UNY",
        "lbwaTeURbK0m"
      ]
    },
    "kernelspec": {
      "name": "python3",
      "display_name": "Python 3"
    },
    "language_info": {
      "name": "python"
    }
  },
  "cells": [
    {
      "cell_type": "markdown",
      "source": [
        "# Introduction\n",
        "In addition to the ALS model for the Recommender System it has been decided to conduct an exeperiment trying to create a Recommender System based not on the opinions (reviews and ratings) that other users left for the items but trying to find a way to cluster games in the attempt to find the most similar games basing the similarity over their plots.\n",
        "\n",
        "In order to try to do that, in the following section of this notebook the process to obtain the clustering of the items starting from their plot is presented: it has been decided to try to cluster them thanks to a K-Means clustering algorithm.\n",
        "\n",
        "In the following section it will be described in detail how it was possible to pre-process the raw data in order to make it usable for the clustering model thanks to a common pipeline used in NLP to process texts"
      ],
      "metadata": {
        "id": "y9COzK22k0aI"
      }
    },
    {
      "cell_type": "markdown",
      "source": [
        "# Needed library import and framework setting\n",
        "In this section the needed library for the code will be imported and the Java framework for the clustering will be created"
      ],
      "metadata": {
        "id": "NgLK_AYNXz1E"
      }
    },
    {
      "cell_type": "code",
      "source": [
        "!pip install pyngrok"
      ],
      "metadata": {
        "colab": {
          "base_uri": "https://localhost:8080/"
        },
        "id": "1wpRFM3E9ZUw",
        "outputId": "55d473da-a68b-4ab2-e6d5-15c7d91e7d43"
      },
      "execution_count": null,
      "outputs": [
        {
          "output_type": "stream",
          "name": "stdout",
          "text": [
            "Collecting pyngrok\n",
            "  Downloading pyngrok-6.0.0.tar.gz (681 kB)\n",
            "\u001b[2K     \u001b[90m━━━━━━━━━━━━━━━━━━━━━━━━━━━━━━━━━━━━━━━\u001b[0m \u001b[32m681.2/681.2 kB\u001b[0m \u001b[31m6.1 MB/s\u001b[0m eta \u001b[36m0:00:00\u001b[0m\n",
            "\u001b[?25h  Preparing metadata (setup.py) ... \u001b[?25l\u001b[?25hdone\n",
            "Requirement already satisfied: PyYAML in /usr/local/lib/python3.10/dist-packages (from pyngrok) (6.0.1)\n",
            "Building wheels for collected packages: pyngrok\n",
            "  Building wheel for pyngrok (setup.py) ... \u001b[?25l\u001b[?25hdone\n",
            "  Created wheel for pyngrok: filename=pyngrok-6.0.0-py3-none-any.whl size=19867 sha256=1be3368d549688a023c68e0ebefc74160833b01b86ad86c530b0060576c21f92\n",
            "  Stored in directory: /root/.cache/pip/wheels/5c/42/78/0c3d438d7f5730451a25f7ac6cbf4391759d22a67576ed7c2c\n",
            "Successfully built pyngrok\n",
            "Installing collected packages: pyngrok\n",
            "Successfully installed pyngrok-6.0.0\n"
          ]
        }
      ]
    },
    {
      "cell_type": "code",
      "source": [
        "!ngrok authtoken 2Tn9uykXlYRjLcSLIgmv1iLdEvG_3gqA9M3V4hLGqH9N3JWEr"
      ],
      "metadata": {
        "colab": {
          "base_uri": "https://localhost:8080/"
        },
        "id": "8PfHfzyv9hIQ",
        "outputId": "5783d8c3-5e48-417f-cfad-ceaf148dcb3c"
      },
      "execution_count": null,
      "outputs": [
        {
          "output_type": "stream",
          "name": "stdout",
          "text": [
            "Authtoken saved to configuration file: /root/.ngrok2/ngrok.yml\n"
          ]
        }
      ]
    },
    {
      "cell_type": "code",
      "source": [
        "from pyngrok import ngrok\n",
        "import os\n",
        "import re"
      ],
      "metadata": {
        "id": "r_LKWaUz9pym"
      },
      "execution_count": null,
      "outputs": []
    },
    {
      "cell_type": "markdown",
      "source": [
        "# Framework Setting\n",
        "In this section the framework needed in order to work with the clustering algorithm is set"
      ],
      "metadata": {
        "id": "Dx3B3qS50CNI"
      }
    },
    {
      "cell_type": "code",
      "execution_count": null,
      "metadata": {
        "id": "CgHP8Kn29Qw6"
      },
      "outputs": [],
      "source": [
        "JAVA_HOME = \"/usr/lib/jvm/java-8-openjdk-amd64\"\n",
        "\n",
        "RANDOM_SEED = 42 # for reproducibility"
      ]
    },
    {
      "cell_type": "code",
      "source": [
        "!apt install openjdk-8-jdk-headless -qq"
      ],
      "metadata": {
        "colab": {
          "base_uri": "https://localhost:8080/"
        },
        "id": "mCKtaZTY9jJj",
        "outputId": "d2d111ee-0bf2-4d60-fcad-ad544e284354"
      },
      "execution_count": null,
      "outputs": [
        {
          "output_type": "stream",
          "name": "stdout",
          "text": [
            "The following additional packages will be installed:\n",
            "  libxtst6 openjdk-8-jre-headless\n",
            "Suggested packages:\n",
            "  openjdk-8-demo openjdk-8-source libnss-mdns fonts-dejavu-extra fonts-nanum\n",
            "  fonts-ipafont-gothic fonts-ipafont-mincho fonts-wqy-microhei\n",
            "  fonts-wqy-zenhei fonts-indic\n",
            "The following NEW packages will be installed:\n",
            "  libxtst6 openjdk-8-jdk-headless openjdk-8-jre-headless\n",
            "0 upgraded, 3 newly installed, 0 to remove and 16 not upgraded.\n",
            "Need to get 39.7 MB of archives.\n",
            "After this operation, 144 MB of additional disk space will be used.\n",
            "Selecting previously unselected package libxtst6:amd64.\n",
            "(Reading database ... 120831 files and directories currently installed.)\n",
            "Preparing to unpack .../libxtst6_2%3a1.2.3-1build4_amd64.deb ...\n",
            "Unpacking libxtst6:amd64 (2:1.2.3-1build4) ...\n",
            "Selecting previously unselected package openjdk-8-jre-headless:amd64.\n",
            "Preparing to unpack .../openjdk-8-jre-headless_8u382-ga-1~22.04.1_amd64.deb ...\n",
            "Unpacking openjdk-8-jre-headless:amd64 (8u382-ga-1~22.04.1) ...\n",
            "Selecting previously unselected package openjdk-8-jdk-headless:amd64.\n",
            "Preparing to unpack .../openjdk-8-jdk-headless_8u382-ga-1~22.04.1_amd64.deb ...\n",
            "Unpacking openjdk-8-jdk-headless:amd64 (8u382-ga-1~22.04.1) ...\n",
            "Setting up libxtst6:amd64 (2:1.2.3-1build4) ...\n",
            "Setting up openjdk-8-jre-headless:amd64 (8u382-ga-1~22.04.1) ...\n",
            "update-alternatives: using /usr/lib/jvm/java-8-openjdk-amd64/jre/bin/orbd to provide /usr/bin/orbd (orbd) in auto mode\n",
            "update-alternatives: using /usr/lib/jvm/java-8-openjdk-amd64/jre/bin/servertool to provide /usr/bin/servertool (servertool) in auto mode\n",
            "update-alternatives: using /usr/lib/jvm/java-8-openjdk-amd64/jre/bin/tnameserv to provide /usr/bin/tnameserv (tnameserv) in auto mode\n",
            "Setting up openjdk-8-jdk-headless:amd64 (8u382-ga-1~22.04.1) ...\n",
            "update-alternatives: using /usr/lib/jvm/java-8-openjdk-amd64/bin/clhsdb to provide /usr/bin/clhsdb (clhsdb) in auto mode\n",
            "update-alternatives: using /usr/lib/jvm/java-8-openjdk-amd64/bin/extcheck to provide /usr/bin/extcheck (extcheck) in auto mode\n",
            "update-alternatives: using /usr/lib/jvm/java-8-openjdk-amd64/bin/hsdb to provide /usr/bin/hsdb (hsdb) in auto mode\n",
            "update-alternatives: using /usr/lib/jvm/java-8-openjdk-amd64/bin/idlj to provide /usr/bin/idlj (idlj) in auto mode\n",
            "update-alternatives: using /usr/lib/jvm/java-8-openjdk-amd64/bin/javah to provide /usr/bin/javah (javah) in auto mode\n",
            "update-alternatives: using /usr/lib/jvm/java-8-openjdk-amd64/bin/jhat to provide /usr/bin/jhat (jhat) in auto mode\n",
            "update-alternatives: using /usr/lib/jvm/java-8-openjdk-amd64/bin/jsadebugd to provide /usr/bin/jsadebugd (jsadebugd) in auto mode\n",
            "update-alternatives: using /usr/lib/jvm/java-8-openjdk-amd64/bin/native2ascii to provide /usr/bin/native2ascii (native2ascii) in auto mode\n",
            "update-alternatives: using /usr/lib/jvm/java-8-openjdk-amd64/bin/schemagen to provide /usr/bin/schemagen (schemagen) in auto mode\n",
            "update-alternatives: using /usr/lib/jvm/java-8-openjdk-amd64/bin/wsgen to provide /usr/bin/wsgen (wsgen) in auto mode\n",
            "update-alternatives: using /usr/lib/jvm/java-8-openjdk-amd64/bin/wsimport to provide /usr/bin/wsimport (wsimport) in auto mode\n",
            "update-alternatives: using /usr/lib/jvm/java-8-openjdk-amd64/bin/xjc to provide /usr/bin/xjc (xjc) in auto mode\n",
            "Processing triggers for libc-bin (2.35-0ubuntu3.1) ...\n",
            "/sbin/ldconfig.real: /usr/local/lib/libtbbmalloc.so.2 is not a symbolic link\n",
            "\n",
            "/sbin/ldconfig.real: /usr/local/lib/libtbbbind.so.3 is not a symbolic link\n",
            "\n",
            "/sbin/ldconfig.real: /usr/local/lib/libtbb.so.12 is not a symbolic link\n",
            "\n",
            "/sbin/ldconfig.real: /usr/local/lib/libtbbbind_2_0.so.3 is not a symbolic link\n",
            "\n",
            "/sbin/ldconfig.real: /usr/local/lib/libtbbbind_2_5.so.3 is not a symbolic link\n",
            "\n",
            "/sbin/ldconfig.real: /usr/local/lib/libtbbmalloc_proxy.so.2 is not a symbolic link\n",
            "\n"
          ]
        }
      ]
    },
    {
      "cell_type": "code",
      "source": [
        "os.environ[\"JAVA_HOME\"] = JAVA_HOME"
      ],
      "metadata": {
        "id": "BHU1hLFz9xsf"
      },
      "execution_count": null,
      "outputs": []
    },
    {
      "cell_type": "markdown",
      "source": [
        "# PySpark Initialization\n",
        "In this section the PySpark session will be initalizated"
      ],
      "metadata": {
        "id": "KEcjdslosQrX"
      }
    },
    {
      "cell_type": "code",
      "source": [
        "# Install PySpark\n",
        "!pip install pyspark"
      ],
      "metadata": {
        "colab": {
          "base_uri": "https://localhost:8080/"
        },
        "id": "JFDKkWjI911V",
        "outputId": "f1d6f5b2-9dca-4efe-8d87-d14bd90558ef"
      },
      "execution_count": null,
      "outputs": [
        {
          "output_type": "stream",
          "name": "stdout",
          "text": [
            "Collecting pyspark\n",
            "  Downloading pyspark-3.4.1.tar.gz (310.8 MB)\n",
            "\u001b[2K     \u001b[90m━━━━━━━━━━━━━━━━━━━━━━━━━━━━━━━━━━━━━━━\u001b[0m \u001b[32m310.8/310.8 MB\u001b[0m \u001b[31m4.9 MB/s\u001b[0m eta \u001b[36m0:00:00\u001b[0m\n",
            "\u001b[?25h  Preparing metadata (setup.py) ... \u001b[?25l\u001b[?25hdone\n",
            "Requirement already satisfied: py4j==0.10.9.7 in /usr/local/lib/python3.10/dist-packages (from pyspark) (0.10.9.7)\n",
            "Building wheels for collected packages: pyspark\n",
            "  Building wheel for pyspark (setup.py) ... \u001b[?25l\u001b[?25hdone\n",
            "  Created wheel for pyspark: filename=pyspark-3.4.1-py2.py3-none-any.whl size=311285388 sha256=905c4f687c582d4ee49a107f096e72a23d7a897aca3642b03f352b7516dc0941\n",
            "  Stored in directory: /root/.cache/pip/wheels/0d/77/a3/ff2f74cc9ab41f8f594dabf0579c2a7c6de920d584206e0834\n",
            "Successfully built pyspark\n",
            "Installing collected packages: pyspark\n",
            "Successfully installed pyspark-3.4.1\n"
          ]
        }
      ]
    },
    {
      "cell_type": "code",
      "source": [
        "# Import libraries\n",
        "import pyspark\n",
        "from pyspark.sql import *\n",
        "from pyspark.sql.types import *\n",
        "from pyspark.sql import functions as sqlf\n",
        "from pyspark import SparkContext, SparkConf\n",
        "from pyspark.ml.feature import Tokenizer, StopWordsRemover\n",
        "from nltk.stem.snowball import SnowballStemmer\n",
        "from pyspark.ml.feature import HashingTF, CountVectorizer, IDF\n",
        "from pyspark.ml import Pipeline\n",
        "from pyspark.ml.clustering import KMeans\n",
        "from pyspark.ml.feature import Normalizer\n",
        "from pyspark.ml.evaluation import ClusteringEvaluator\n",
        "import gc"
      ],
      "metadata": {
        "id": "Nln3r48J96zX"
      },
      "execution_count": null,
      "outputs": []
    },
    {
      "cell_type": "code",
      "source": [
        "# Create the session\n",
        "conf = SparkConf().\\\n",
        "                set('spark.ui.port', \"4050\").\\\n",
        "                set('spark.executor.memory', '4G').\\\n",
        "                set('spark.driver.memory', '45G').\\\n",
        "                set('spark.driver.maxResultSize', '10G').\\\n",
        "                setAppName(\"VideogameClustering\").\\\n",
        "                setMaster(\"local[*]\")\n",
        "\n",
        "# Create the context\n",
        "sc = pyspark.SparkContext(conf=conf)\n",
        "spark = SparkSession.builder.getOrCreate()"
      ],
      "metadata": {
        "id": "DYDPtkph-Akb"
      },
      "execution_count": null,
      "outputs": []
    },
    {
      "cell_type": "code",
      "source": [
        "port = '4050'\n",
        "public_url = ngrok.connect(port).public_url"
      ],
      "metadata": {
        "colab": {
          "base_uri": "https://localhost:8080/"
        },
        "id": "VN2cVyU0EBJ2",
        "outputId": "79843ab1-d42e-4d72-e4bf-592fe4850595"
      },
      "execution_count": null,
      "outputs": [
        {
          "output_type": "stream",
          "name": "stdout",
          "text": []
        },
        {
          "output_type": "stream",
          "name": "stderr",
          "text": [
            "WARNING:pyngrok.process.ngrok:t=2023-08-16T08:53:44+0000 lvl=warn msg=\"ngrok config file found at legacy location, move to XDG location\" xdg_path=/root/.config/ngrok/ngrok.yml legacy_path=/root/.ngrok2/ngrok.yml\n"
          ]
        }
      ]
    },
    {
      "cell_type": "code",
      "source": [
        "print(\"To access the Spark Web UI console, please click on the following link to the ngrok tunnel \\\"{}\\\" -> \\\"http://127.0.0.1:{}\\\"\".format(public_url, port))"
      ],
      "metadata": {
        "id": "zMgHnFAQ-DRP",
        "colab": {
          "base_uri": "https://localhost:8080/"
        },
        "outputId": "abf4c71f-c3fe-4cea-8cad-3b5c2ec7bc26"
      },
      "execution_count": null,
      "outputs": [
        {
          "output_type": "stream",
          "name": "stdout",
          "text": [
            "To access the Spark Web UI console, please click on the following link to the ngrok tunnel \"https://856d-34-74-132-107.ngrok.io\" -> \"http://127.0.0.1:4050\"\n"
          ]
        }
      ]
    },
    {
      "cell_type": "code",
      "source": [
        "spark"
      ],
      "metadata": {
        "id": "PJNiUdij-GFm",
        "colab": {
          "base_uri": "https://localhost:8080/",
          "height": 219
        },
        "outputId": "c85f0c30-2f7d-4e58-d3ef-4edf512ac16a"
      },
      "execution_count": null,
      "outputs": [
        {
          "output_type": "execute_result",
          "data": {
            "text/plain": [
              "<pyspark.sql.session.SparkSession at 0x7bda0ab525f0>"
            ],
            "text/html": [
              "\n",
              "            <div>\n",
              "                <p><b>SparkSession - in-memory</b></p>\n",
              "                \n",
              "        <div>\n",
              "            <p><b>SparkContext</b></p>\n",
              "\n",
              "            <p><a href=\"http://2171d65b70b9:4050\">Spark UI</a></p>\n",
              "\n",
              "            <dl>\n",
              "              <dt>Version</dt>\n",
              "                <dd><code>v3.4.1</code></dd>\n",
              "              <dt>Master</dt>\n",
              "                <dd><code>local[*]</code></dd>\n",
              "              <dt>AppName</dt>\n",
              "                <dd><code>VideogameRecommenderSystem</code></dd>\n",
              "            </dl>\n",
              "        </div>\n",
              "        \n",
              "            </div>\n",
              "        "
            ]
          },
          "metadata": {},
          "execution_count": 14
        }
      ]
    },
    {
      "cell_type": "markdown",
      "source": [
        "# Connection to Google Drive"
      ],
      "metadata": {
        "id": "Hv2Ttc260UNY"
      }
    },
    {
      "cell_type": "code",
      "source": [
        "# Connect this colab to Google Drive\n",
        "from google.colab import drive\n",
        "drive.mount('/content/gdrive')"
      ],
      "metadata": {
        "colab": {
          "base_uri": "https://localhost:8080/"
        },
        "id": "D-8Vm85H9yUz",
        "outputId": "45824285-e826-40fc-8d15-7fc721991bff"
      },
      "execution_count": null,
      "outputs": [
        {
          "output_type": "stream",
          "name": "stdout",
          "text": [
            "Mounted at /content/gdrive\n"
          ]
        }
      ]
    },
    {
      "cell_type": "markdown",
      "source": [
        "# Utils"
      ],
      "metadata": {
        "id": "lbwaTeURbK0m"
      }
    },
    {
      "cell_type": "code",
      "source": [
        "def clean_links(raw_text):\n",
        "  '''\n",
        "  The function removes all the links from a text thanks to the regex called\n",
        "  CLEANER_LINKS\n",
        "  '''\n",
        "  CLEANER_LINKS = re.compile('http[s]?://\\S+')\n",
        "  cleantext = re.sub(CLEANER_LINKS, '', raw_text)\n",
        "  return cleantext"
      ],
      "metadata": {
        "id": "r0aPif0x-jCt"
      },
      "execution_count": null,
      "outputs": []
    },
    {
      "cell_type": "code",
      "source": [
        "def clean_punctuation(raw_text):\n",
        "  '''\n",
        "  The function removes all the punctuation from a text thanks to the regex called\n",
        "  CLEANER_PUNCTUATION\n",
        "  '''\n",
        "  CLEANER_PUNCTUATION = re.compile('[^\\w\\s]')\n",
        "  cleantext = re.sub(CLEANER_PUNCTUATION, ' ', raw_text)\n",
        "  return cleantext"
      ],
      "metadata": {
        "id": "WtJYO5S4-5FC"
      },
      "execution_count": null,
      "outputs": []
    },
    {
      "cell_type": "code",
      "source": [
        "def clean_extra_spaces(raw_text):\n",
        "  '''\n",
        "  The function removes all the extra whitespaces (meaning that if it finds\n",
        "  consecutive whitespaces it will reduce it to one) from a text thanks to the\n",
        "  regex called CLEANER_PUNCTUATION\n",
        "  '''\n",
        "  CLEANER_EXTRA_SPACES = re.compile('\\s\\s+')\n",
        "  cleantext = re.sub(CLEANER_EXTRA_SPACES, ' ', raw_text)\n",
        "  return cleantext"
      ],
      "metadata": {
        "id": "YhoGlC-v_BRy"
      },
      "execution_count": null,
      "outputs": []
    },
    {
      "cell_type": "markdown",
      "source": [
        "The UDFs for all the cleaner functions are now created in order to make them applicable to the dataframe columns"
      ],
      "metadata": {
        "id": "nWKNgdwV1bEi"
      }
    },
    {
      "cell_type": "code",
      "source": [
        "clean_links_UDF = sqlf.udf(lambda x : clean_links(x), StringType())"
      ],
      "metadata": {
        "id": "qa8oT9lA-j5N"
      },
      "execution_count": null,
      "outputs": []
    },
    {
      "cell_type": "code",
      "source": [
        "clean_punctuation_UDF = sqlf.udf(lambda x : clean_punctuation(x), StringType())"
      ],
      "metadata": {
        "id": "KSE9LSbp-7De"
      },
      "execution_count": null,
      "outputs": []
    },
    {
      "cell_type": "code",
      "source": [
        "clean_extra_spaces_UDF = sqlf.udf(lambda x : clean_extra_spaces(x), StringType())"
      ],
      "metadata": {
        "id": "lTE7x10z_DQI"
      },
      "execution_count": null,
      "outputs": []
    },
    {
      "cell_type": "code",
      "source": [
        "@sqlf.udf(\"long\")\n",
        "def num_nonzeros(v):\n",
        "  '''\n",
        "  This function is used to evaluate if the value for the column in a row of the\n",
        "  dataset contains values that are not zeros\n",
        "  '''\n",
        "  return v.numNonzeros()"
      ],
      "metadata": {
        "id": "kAPlLfQrr0HJ"
      },
      "execution_count": null,
      "outputs": []
    },
    {
      "cell_type": "markdown",
      "source": [
        "The following function, called **process_data_for_clustering** implements a simple and common pipeline used to pre-process a text in order to make it usable later on for clustering activities.\n",
        "\n",
        "Specifically the function perform the following actions:\n",
        "\n",
        "\n",
        "1.   Remove all the unuseful informations like **links** and **initial and finals whitespaces** thanks to the *clean_links* and *trim* functions applied to the specific column of the dataset that contains the textual information that need the pre-processing\n",
        "2.   In order to overcome the resources limitation of the RAM available for the computation it has been necessary perform the clustering only on a sample of the data; in the attempt to get the most useful sample of the data it has been decided to remove all the games for which it has not been registered a new review on the Steam platform in the past 365 days. The sample has been reduced from more or less 131000 games to more or less 15000 (and also with this little amount of samples the RAM was pretty much all filled during the computation)\n",
        "3.   The typical pipeline for the NLP processing is then performed: specifically the text is **all transformed to lowercase**, **deprivied of punctuation**, **deprivied of extra whitespaces created during the removal of the punctuation**; in order to maintain only the useful information the **tokeinzation** and the **removal of the stop words** is then performed (using the remover of the stop words provided by the PySpark ML library); finally the remained words are **reduced to thier stem** in order to better compute the similarities of the texts. This last part of the pipeline has been made thanks to the Stemmer provided by the Python Natural Language Toolkit (NLTK)\n",
        "4.   Thanks to the Count Vectorizer, the **frequency of a term in the text** (TF) is computed\n",
        "5.   Finally the IDF (Inverse Document Frequency) is computed\n",
        "6.   So the final TF-IDF dataset is computed and from it all the entries for which the number of features is zero are deleted"
      ],
      "metadata": {
        "id": "-0dEqHwP1_aW"
      }
    },
    {
      "cell_type": "code",
      "source": [
        "def process_data_for_clustering(dataset_df,\n",
        "                                column_name):\n",
        "  '''\n",
        "  This function is used to pre-process the textual data present in the column\n",
        "  column_name of the dataframe dataset_df in order to prepare it for the\n",
        "  clustering\n",
        "  '''\n",
        "  # Remove NaNs values and unuseful information\n",
        "  dataset_df = dataset_df.dropna()\n",
        "  dataset_df = dataset_df.withColumn(column_name, clean_links_UDF(sqlf.col(column_name)))\n",
        "  dataset_df = dataset_df.withColumn(column_name, sqlf.trim(sqlf.col(column_name)))\n",
        "\n",
        "  # Restrict the dataset to a more little sample and get only the most useful\n",
        "  # and recently played games\n",
        "  dataset_df = dataset_df.where(dataset_df.total_recommendations > 0)\n",
        "\n",
        "  #                     *** NLP PRE-PROCESS PIPELINE ***\n",
        "  # Transform the text to lower case\n",
        "  dataset_df = dataset_df.withColumn(column_name, sqlf.lower(sqlf.col(column_name)))\n",
        "  # Remove punctuation\n",
        "  dataset_df = dataset_df.withColumn(column_name, clean_punctuation_UDF(sqlf.col(column_name)))\n",
        "  # Remove extra spaces\n",
        "  dataset_df = dataset_df.withColumn(column_name, clean_extra_spaces_UDF(sqlf.col(column_name)))\n",
        "\n",
        "  # Tokenize the text\n",
        "  tokenizer = Tokenizer(inputCol=column_name, outputCol='tokens')\n",
        "  tokens_df = tokenizer.transform(dataset_df)\n",
        "\n",
        "  # Remove the stopwords\n",
        "  stopwords_remover = StopWordsRemover(inputCol='tokens', outputCol='terms')\n",
        "  terms_df = stopwords_remover.transform(tokens_df)\n",
        "\n",
        "  # Reduce the words to thier stem\n",
        "  stemmer = SnowballStemmer(language=\"english\")\n",
        "  stemmer_udf = sqlf.udf(lambda tokens: [stemmer.stem(token) for token in tokens], ArrayType(StringType()))\n",
        "  terms_stemmed_df = terms_df.withColumn('terms_stemmed', stemmer_udf('terms'))\n",
        "\n",
        "  # Compute the term frequency in the text\n",
        "  cv = CountVectorizer(inputCol='terms_stemmed', outputCol=\"tf_features\", vocabSize=1000, minDF=10)\n",
        "  # Compute the inverse term frequency of the term in the text\n",
        "  idf = IDF(inputCol=\"tf_features\", outputCol=\"features\")\n",
        "\n",
        "  pipeline = Pipeline(stages=[cv, idf])\n",
        "  # Compute the features that represent the text\n",
        "  features = pipeline.fit(terms_stemmed_df)\n",
        "  tf_idf_df = features.transform(terms_stemmed_df)\n",
        "\n",
        "  # Remove the entries for which the features computed are 0\n",
        "  tf_idf_df = tf_idf_df.where(num_nonzeros(\"features\") > 0)\n",
        "\n",
        "  return tf_idf_df"
      ],
      "metadata": {
        "id": "P2fZHkChnjvG"
      },
      "execution_count": null,
      "outputs": []
    },
    {
      "cell_type": "markdown",
      "source": [
        "The following funciton is used to fit a K-Means model used to create cluster of the texts, since the **cosine similarity** is used as distance method it is needed to normalize the features so to make possible the computation of the cosine similarity.\n",
        "\n",
        "It is important to notice that the values given to the parameters are the one that made possible the fitting of the best models by staying also under the RAM limitations"
      ],
      "metadata": {
        "id": "emQ7gL3a63Tm"
      }
    },
    {
      "cell_type": "code",
      "source": [
        "def k_means(dataset,\n",
        "            n_clusters,\n",
        "            features_col='features',\n",
        "            prediction_col='cluster',\n",
        "            random_seed=RANDOM_SEED):\n",
        "  '''\n",
        "  This function is used to normalize the features computed during the pre-procesing\n",
        "  and then use the normalized features to fit the K-Means model.\n",
        "  The function, together with the fitted model, returns a dataframe containing the\n",
        "  mapping of each entry to the corresponding cluster\n",
        "  '''\n",
        "  dataset = Normalizer(inputCol=features_col, outputCol=features_col+\"_norm\", p=1).transform(dataset)\n",
        "  features_col = features_col+\"_norm\"\n",
        "\n",
        "  k_means = KMeans(\n",
        "      featuresCol=features_col,\n",
        "      predictionCol=prediction_col,\n",
        "      k=n_clusters,\n",
        "      initMode='k-means||',\n",
        "      initSteps=5,\n",
        "      tol=0.000001,\n",
        "      maxIter=20,\n",
        "      seed=random_seed,\n",
        "      distanceMeasure='cosine'\n",
        "      )\n",
        "  model = k_means.fit(dataset)\n",
        "\n",
        "  clusters_df = model.transform(dataset)\n",
        "\n",
        "  return model, clusters_df"
      ],
      "metadata": {
        "id": "aapxqUY9RqQw"
      },
      "execution_count": null,
      "outputs": []
    },
    {
      "cell_type": "code",
      "source": [
        "def evaluate_k_means(clusters,\n",
        "                     metric_name=\"silhouette\",\n",
        "                     distance_measure=\"cosine\",\n",
        "                     prediction_col=\"cluster\"\n",
        "                     ):\n",
        "  '''\n",
        "  This function is used to evaluate the performace of the cluster with the\n",
        "  silhouette metrics which is able to capture how much different clusetrs are\n",
        "  different from each other\n",
        "  '''\n",
        "  evaluator = ClusteringEvaluator(metricName=metric_name,\n",
        "                                  distanceMeasure=distance_measure,\n",
        "                                  predictionCol=prediction_col\n",
        "                                  )\n",
        "\n",
        "  return evaluator.evaluate(clusters)"
      ],
      "metadata": {
        "id": "1DwvMD6RKhFz"
      },
      "execution_count": null,
      "outputs": []
    },
    {
      "cell_type": "markdown",
      "source": [
        "# Data Retrieving and Pre-Process\n",
        "In this section the data needed for clustering are retrieved and then preprocessed to get the tf-idf dataset"
      ],
      "metadata": {
        "id": "viOteUvx9L4q"
      }
    },
    {
      "cell_type": "code",
      "source": [
        "games_df = spark.read.load('/content/gdrive/MyDrive/VideogameRecommenderSystem/games.csv',\n",
        "                           format=\"csv\",\n",
        "                           sep=\",\",\n",
        "                           inferSchema=\"true\",\n",
        "                           header=\"true\")"
      ],
      "metadata": {
        "id": "WV6Zb2g_-IBx"
      },
      "execution_count": null,
      "outputs": []
    },
    {
      "cell_type": "code",
      "source": [
        "tf_idf_df = process_data_for_clustering(games_df, 'about_the_game') # or short_description"
      ],
      "metadata": {
        "id": "UUmfqOkWqxQ1"
      },
      "execution_count": null,
      "outputs": []
    },
    {
      "cell_type": "markdown",
      "source": [
        "# Clustering\n",
        "In this section the fit of the models is computed.\n",
        "\n",
        "It is important to know that the fit of the clustering has been tried over different values of K and over different columns. Specifically the columns and the value fo K tested are the following:\n",
        "\n",
        "![cluster_fit_stat.png](data:image/png;base64,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)\n",
        "\n",
        "It is also important to notice that it has only been possible to perform a single configuration for the clustering of the *about_the_game* texts due to the RAM limitations.\n",
        "\n",
        "The final models (for which a detailed analysis is provided in the notebook called *Clustering_Analysis*) chosen are:\n",
        "\n",
        "\n",
        "*   **about_the_game**: K=50\n",
        "*   **short_description**: K=300\n",
        "\n",
        "\n",
        "\n"
      ],
      "metadata": {
        "id": "nJd9teRoX30n"
      }
    },
    {
      "cell_type": "code",
      "source": [
        "k = 100\n",
        "print(\"Running K-means using K = {:d}\".format(k))\n",
        "model, clusters_df = k_means(tf_idf_df, k)\n",
        "silhouette_k = evaluate_k_means(clusters_df)\n",
        "wssd_k = model.summary.trainingCost\n",
        "print(\"Silhouette coefficient computed with cosine distance: {:.3f}\".format(silhouette_k))\n",
        "print(\"Within-cluster Sum of Squared Distances (using cosine distance): {:.3f}\".format(wssd_k))"
      ],
      "metadata": {
        "id": "GgATh4WHXCXi"
      },
      "execution_count": null,
      "outputs": []
    },
    {
      "cell_type": "code",
      "source": [
        "path = '/content/gdrive/MyDrive/VideogameRecommenderSystem/models/KMEANS_about_K_{}'.format(k) # or KMEANS_short_K_{}\n",
        "model.save(path)"
      ],
      "metadata": {
        "id": "hKm5sZddFyJI"
      },
      "execution_count": null,
      "outputs": []
    }
  ]
}