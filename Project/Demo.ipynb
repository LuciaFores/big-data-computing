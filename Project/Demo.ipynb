{
  "nbformat": 4,
  "nbformat_minor": 0,
  "metadata": {
    "colab": {
      "provenance": []
    },
    "kernelspec": {
      "name": "python3",
      "display_name": "Python 3"
    },
    "language_info": {
      "name": "python"
    }
  },
  "cells": [
    {
      "cell_type": "markdown",
      "source": [
        "# Introduction\n",
        "In order to make the Recommender System created usable it has been decided to provide a demo of the real use of it.\n",
        "\n",
        "Specifically it has been decided to create a web application thanks to the Python library *Streamlit*.\n",
        "\n",
        "The choice behind the use of Streamlit is the fact that is a very straightforward library to create web application that make use of ML models.\n",
        "\n",
        "In the following sections of this notebook the passage needed to run the web application are presented: specifically, all the needed libraries are imported (and if needed installed), the local tunnel needed to go to the website is created and the web application is written in the *app.py* file.\n",
        "\n",
        "In the end the commands needed to acces to the website are presented."
      ],
      "metadata": {
        "id": "m4hAAZLonlk_"
      }
    },
    {
      "cell_type": "markdown",
      "source": [
        "# Needed Library Import"
      ],
      "metadata": {
        "id": "Nz_NDcG5nArv"
      }
    },
    {
      "cell_type": "code",
      "execution_count": null,
      "metadata": {
        "colab": {
          "base_uri": "https://localhost:8080/"
        },
        "id": "U7o0dRQ_fX4s",
        "outputId": "18decc0d-ccc1-47d5-a50f-90513fa7069d"
      },
      "outputs": [
        {
          "output_type": "stream",
          "name": "stdout",
          "text": [
            "\u001b[2K     \u001b[90m━━━━━━━━━━━━━━━━━━━━━━━━━━━━━━━━━━━━━━━━\u001b[0m \u001b[32m8.1/8.1 MB\u001b[0m \u001b[31m18.2 MB/s\u001b[0m eta \u001b[36m0:00:00\u001b[0m\n",
            "\u001b[2K     \u001b[90m━━━━━━━━━━━━━━━━━━━━━━━━━━━━━━━━━━━━━━\u001b[0m \u001b[32m164.8/164.8 kB\u001b[0m \u001b[31m17.1 MB/s\u001b[0m eta \u001b[36m0:00:00\u001b[0m\n",
            "\u001b[2K     \u001b[90m━━━━━━━━━━━━━━━━━━━━━━━━━━━━━━━━━━━━━━\u001b[0m \u001b[32m188.5/188.5 kB\u001b[0m \u001b[31m20.2 MB/s\u001b[0m eta \u001b[36m0:00:00\u001b[0m\n",
            "\u001b[2K     \u001b[90m━━━━━━━━━━━━━━━━━━━━━━━━━━━━━━━━━━━━━━━━\u001b[0m \u001b[32m4.7/4.7 MB\u001b[0m \u001b[31m38.4 MB/s\u001b[0m eta \u001b[36m0:00:00\u001b[0m\n",
            "\u001b[2K     \u001b[90m━━━━━━━━━━━━━━━━━━━━━━━━━━━━━━━━━━━━━━━━\u001b[0m \u001b[32m82.1/82.1 kB\u001b[0m \u001b[31m8.0 MB/s\u001b[0m eta \u001b[36m0:00:00\u001b[0m\n",
            "\u001b[2K     \u001b[90m━━━━━━━━━━━━━━━━━━━━━━━━━━━━━━━━━━━━━━━━\u001b[0m \u001b[32m62.7/62.7 kB\u001b[0m \u001b[31m7.1 MB/s\u001b[0m eta \u001b[36m0:00:00\u001b[0m\n",
            "\u001b[2K     \u001b[90m━━━━━━━━━━━━━━━━━━━━━━━━━━━━━━━━━━━━━━\u001b[0m \u001b[32m341.8/341.8 kB\u001b[0m \u001b[31m27.2 MB/s\u001b[0m eta \u001b[36m0:00:00\u001b[0m\n",
            "\u001b[?25h"
          ]
        }
      ],
      "source": [
        "!pip install -q streamlit"
      ]
    },
    {
      "cell_type": "code",
      "source": [
        "!npm install localtunnel"
      ],
      "metadata": {
        "colab": {
          "base_uri": "https://localhost:8080/"
        },
        "id": "ECApAl5zgb-X",
        "outputId": "604ec731-6d80-435e-e3b5-68b5897cff6f"
      },
      "execution_count": null,
      "outputs": [
        {
          "output_type": "stream",
          "name": "stdout",
          "text": [
            "\u001b[K\u001b[?25h\u001b[37;40mnpm\u001b[0m \u001b[0m\u001b[30;43mWARN\u001b[0m \u001b[0m\u001b[35msaveError\u001b[0m ENOENT: no such file or directory, open '/content/package.json'\n",
            "\u001b[0m\u001b[37;40mnpm\u001b[0m \u001b[0m\u001b[34;40mnotice\u001b[0m\u001b[35m\u001b[0m created a lockfile as package-lock.json. You should commit this file.\n",
            "\u001b[0m\u001b[37;40mnpm\u001b[0m \u001b[0m\u001b[30;43mWARN\u001b[0m \u001b[0m\u001b[35menoent\u001b[0m ENOENT: no such file or directory, open '/content/package.json'\n",
            "\u001b[0m\u001b[37;40mnpm\u001b[0m \u001b[0m\u001b[30;43mWARN\u001b[0m\u001b[35m\u001b[0m content No description\n",
            "\u001b[0m\u001b[37;40mnpm\u001b[0m \u001b[0m\u001b[30;43mWARN\u001b[0m\u001b[35m\u001b[0m content No repository field.\n",
            "\u001b[0m\u001b[37;40mnpm\u001b[0m \u001b[0m\u001b[30;43mWARN\u001b[0m\u001b[35m\u001b[0m content No README data\n",
            "\u001b[0m\u001b[37;40mnpm\u001b[0m \u001b[0m\u001b[30;43mWARN\u001b[0m\u001b[35m\u001b[0m content No license field.\n",
            "\u001b[0m\n",
            "+ localtunnel@2.0.2\n",
            "added 22 packages from 22 contributors and audited 22 packages in 2.572s\n",
            "\n",
            "3 packages are looking for funding\n",
            "  run `npm fund` for details\n",
            "\n",
            "found \u001b[92m0\u001b[0m vulnerabilities\n",
            "\n",
            "\u001b[K\u001b[?25h"
          ]
        }
      ]
    },
    {
      "cell_type": "code",
      "source": [
        "!pip install pyspark"
      ],
      "metadata": {
        "colab": {
          "base_uri": "https://localhost:8080/"
        },
        "id": "GSmiimK0uc3D",
        "outputId": "02055c23-a2c7-4b3a-c8dd-1ffe9afd6a96"
      },
      "execution_count": null,
      "outputs": [
        {
          "output_type": "stream",
          "name": "stdout",
          "text": [
            "Collecting pyspark\n",
            "  Downloading pyspark-3.4.1.tar.gz (310.8 MB)\n",
            "\u001b[2K     \u001b[90m━━━━━━━━━━━━━━━━━━━━━━━━━━━━━━━━━━━━━━━\u001b[0m \u001b[32m310.8/310.8 MB\u001b[0m \u001b[31m2.4 MB/s\u001b[0m eta \u001b[36m0:00:00\u001b[0m\n",
            "\u001b[?25h  Preparing metadata (setup.py) ... \u001b[?25l\u001b[?25hdone\n",
            "Requirement already satisfied: py4j==0.10.9.7 in /usr/local/lib/python3.10/dist-packages (from pyspark) (0.10.9.7)\n",
            "Building wheels for collected packages: pyspark\n",
            "  Building wheel for pyspark (setup.py) ... \u001b[?25l\u001b[?25hdone\n",
            "  Created wheel for pyspark: filename=pyspark-3.4.1-py2.py3-none-any.whl size=311285388 sha256=94584d506a8cc5096721fbff832e3a572911207c026cf1390b2536e2a918faaa\n",
            "  Stored in directory: /root/.cache/pip/wheels/0d/77/a3/ff2f74cc9ab41f8f594dabf0579c2a7c6de920d584206e0834\n",
            "Successfully built pyspark\n",
            "Installing collected packages: pyspark\n",
            "Successfully installed pyspark-3.4.1\n"
          ]
        }
      ]
    },
    {
      "cell_type": "markdown",
      "source": [
        "# Connection to Google Drive"
      ],
      "metadata": {
        "id": "IT576IUkLRed"
      }
    },
    {
      "cell_type": "code",
      "source": [
        "# Connect this colab to Google Drive\n",
        "from google.colab import drive\n",
        "drive.mount('/content/gdrive')"
      ],
      "metadata": {
        "colab": {
          "base_uri": "https://localhost:8080/"
        },
        "id": "zHvI2bgru5dn",
        "outputId": "9adc5f94-97ec-4a84-ca90-1df698b582c4"
      },
      "execution_count": null,
      "outputs": [
        {
          "output_type": "stream",
          "name": "stdout",
          "text": [
            "Mounted at /content/gdrive\n"
          ]
        }
      ]
    },
    {
      "cell_type": "markdown",
      "source": [
        "# Demo"
      ],
      "metadata": {
        "id": "-N2P1DjSm82W"
      }
    },
    {
      "cell_type": "code",
      "source": [
        "%%writefile app.py\n",
        "# Import libraries to execute the application functionalities\n",
        "import streamlit as st\n",
        "import pyspark\n",
        "import pandas as pd\n",
        "from pyspark.sql import *\n",
        "from pyspark.sql.types import *\n",
        "from pyspark.sql import functions as sqlf\n",
        "from pyspark import SparkContext, SparkConf\n",
        "from pyspark.ml.recommendation import ALSModel\n",
        "\n",
        "# Create the Spark Session\n",
        "conf = SparkConf().setAppName(\"BDC_Demo\").setMaster(\"local\")\n",
        "spark = SparkSession.builder.config(conf=conf).getOrCreate()\n",
        "\n",
        "# Application Title\n",
        "st.title('Videogame Recommender System')\n",
        "\n",
        "# Load all needed models and data\n",
        "als_model = ALSModel.load('/content/gdrive/MyDrive/VideogameRecommenderSystem/models/ALS19_08_2023__13_09_01')\n",
        "demo_df = spark.read.load('/content/gdrive/MyDrive/VideogameRecommenderSystem/demo_data',\n",
        "                           format=\"csv\",\n",
        "                           sep=\",\",\n",
        "                           inferSchema=\"true\",\n",
        "                           header=\"true\")\n",
        "demo_cluster = spark.read.load('/content/gdrive/MyDrive/VideogameRecommenderSystem/demo_cluster',\n",
        "                           format=\"csv\",\n",
        "                           sep=\",\",\n",
        "                           inferSchema=\"true\",\n",
        "                           header=\"true\")\n",
        "demo_game_cluster = spark.read.load('/content/gdrive/MyDrive/VideogameRecommenderSystem/demo_game_cluster_data',\n",
        "                           format=\"csv\",\n",
        "                           sep=\",\",\n",
        "                           inferSchema=\"true\",\n",
        "                           header=\"true\")\n",
        "games_df = spark.read.load('/content/gdrive/MyDrive/VideogameRecommenderSystem/games.csv',\n",
        "                           format=\"csv\",\n",
        "                           sep=\",\",\n",
        "                           inferSchema=\"true\",\n",
        "                           header=\"true\")\n",
        "\n",
        "def compute_ALS_recommendation(steam_id):\n",
        "  '''\n",
        "  This function is used to compute the recommendation for the user with ID\n",
        "  steam_id with the ALS model\n",
        "  '''\n",
        "  st.write('Computing the recommendations based on the item you already liked...')\n",
        "  steam_int_id = demo_df.filter(demo_df.steam_id == steam_id).first()['steam_int_id']\n",
        "  user = spark.createDataFrame([steam_int_id], \"int\").toDF(\"steam_int_id\")\n",
        "  user_recs = als_model.recommendForUserSubset(user, 5)\n",
        "  # The function to display the results is called\n",
        "  display_ALS_recommendation(user_recs)\n",
        "  return\n",
        "\n",
        "def display_ALS_recommendation(recommendation_df, games_info=games_df):\n",
        "  '''\n",
        "  This function is used to display the recommendation previously computed with\n",
        "  the ALS model.\n",
        "  The results are displayed in a table\n",
        "  '''\n",
        "  st.write('Displaying the information about the recommendations computed...')\n",
        "  data = recommendation_df.first()\n",
        "  recommendations_value = data[\"recommendations\"]\n",
        "  recommendations = [{row.steam_appid : row.rating} for row in recommendations_value]\n",
        "  recommendations_info = []\n",
        "  for recommendation in recommendations:\n",
        "    data = []\n",
        "    appid = list(recommendation.keys())[0]\n",
        "    title = games_info.filter(games_info.steam_appid == appid).first()['name']\n",
        "    data.append(title)\n",
        "    value = recommendation[appid]\n",
        "    data.append(value)\n",
        "    description = games_info.filter(games_info.steam_appid == appid).first()['short_description']\n",
        "    data.append(description)\n",
        "    # All the links to pages of application in steam follow the same structure\n",
        "    link = 'https://store.steampowered.com/app/{}'.format(appid)\n",
        "    data.append(link)\n",
        "    recommendations_info.append(data)\n",
        "  columns = ['Title', 'Rating', 'Description', 'Steam Page']\n",
        "  df = pd.DataFrame(recommendations_info, columns=columns)\n",
        "  st.table(df)\n",
        "  return\n",
        "\n",
        "def compute_cluster_recommendation(title):\n",
        "  '''\n",
        "  This function is used to compute the recommendation for the videogame with title\n",
        "  title with the Clustering model\n",
        "  '''\n",
        "  st.write('Finding similar games to the one you liked...')\n",
        "  cluster = demo_cluster.filter(demo_cluster.name == title).first()['cluster']\n",
        "  games_in_cluster = demo_cluster.filter(sqlf.col('cluster') == cluster)\n",
        "  # 5 random recommendation of games present in the same cluster are provided to\n",
        "  # the user\n",
        "  recommendations = games_in_cluster.sample(False, fraction=5/games_in_cluster.count())\n",
        "  # The function to display the result is called\n",
        "  display_cluster_recommendation(recommendations)\n",
        "  return\n",
        "\n",
        "def display_cluster_recommendation(recommendation_df, games_info=games_df):\n",
        "  '''\n",
        "  This function is used to display the recommendation previously computed with\n",
        "  the clustering model.\n",
        "  The results are displayed in a table\n",
        "  '''\n",
        "  st.write('Displaying the information about the sinilar games...')\n",
        "  recommendations_info = []\n",
        "  recommendations = recommendation_df.collect()\n",
        "  for recommendation in recommendations:\n",
        "    data = []\n",
        "    title = recommendation['name']\n",
        "    data.append(title)\n",
        "    appid = recommendation['steam_appid']\n",
        "    description = games_info.filter(games_info.steam_appid == appid).first()['short_description']\n",
        "    data.append(description)\n",
        "    link = 'https://store.steampowered.com/app/{}'.format(appid)\n",
        "    data.append(link)\n",
        "    recommendations_info.append(data)\n",
        "  columns = ['Title', 'Description', 'Steam Page']\n",
        "  df = pd.DataFrame(recommendations_info, columns=columns)\n",
        "  st.table(df)\n",
        "  return\n",
        "\n",
        "\n",
        "st.write(\"What do you care about the most?\\n Others' opinions or the story that you are going to live?\")\n",
        "choice = st.selectbox('Select your choice', options=[\"\", \"Others' opinions\", \"The story to live\"])\n",
        "\n",
        "if choice == \"Others' opinions\":\n",
        "  id_list = [row.steam_id for row in demo_df.select('steam_id').distinct().collect()]\n",
        "  steam_id = st.selectbox('Select the Steam ID', options=['', *id_list])\n",
        "  btn_als = st.button(\"Compute Recommendations!\")\n",
        "  if btn_als:\n",
        "    compute_ALS_recommendation(steam_id)\n",
        "elif choice == \"The story to live\":\n",
        "  game_list = [row.name for row in demo_game_cluster.select('name').distinct().collect()]\n",
        "  game = st.selectbox('Select one game you liked', options=['', *game_list])\n",
        "  btn_cluster = st.button(\"Compute Recommendations!\")\n",
        "  if btn_cluster:\n",
        "    compute_cluster_recommendation(game)\n",
        "else:\n",
        "  st.write(\"Please select one of the possible options\")\n",
        "\n"
      ],
      "metadata": {
        "colab": {
          "base_uri": "https://localhost:8080/"
        },
        "id": "U_M3awMzgScw",
        "outputId": "64cbd3fc-032c-43a2-8ec9-f91c85beaf06"
      },
      "execution_count": null,
      "outputs": [
        {
          "output_type": "stream",
          "name": "stdout",
          "text": [
            "Overwriting app.py\n"
          ]
        }
      ]
    },
    {
      "cell_type": "code",
      "source": [
        "!streamlit run app.py &>/content/logs.txt &"
      ],
      "metadata": {
        "id": "vSK6I3GbggkF"
      },
      "execution_count": null,
      "outputs": []
    },
    {
      "cell_type": "code",
      "source": [
        "!curl ipv4.icanhazip.com"
      ],
      "metadata": {
        "colab": {
          "base_uri": "https://localhost:8080/"
        },
        "id": "2VpjSJhmg3bg",
        "outputId": "a0a433a9-e9d2-405f-ece1-ce74c546f699"
      },
      "execution_count": null,
      "outputs": [
        {
          "output_type": "stream",
          "name": "stdout",
          "text": [
            "35.196.216.142\n"
          ]
        }
      ]
    },
    {
      "cell_type": "code",
      "source": [
        "!npx localtunnel --port 8501"
      ],
      "metadata": {
        "colab": {
          "base_uri": "https://localhost:8080/"
        },
        "id": "hCfK0e0fgjhJ",
        "outputId": "37040ca1-f79f-4ac9-c90d-95b839576358"
      },
      "execution_count": null,
      "outputs": [
        {
          "output_type": "stream",
          "name": "stdout",
          "text": [
            "\u001b[K\u001b[?25hnpx: installed 22 in 1.676s\n",
            "your url is: https://ready-wings-go.loca.lt\n",
            "^C\n"
          ]
        }
      ]
    }
  ]
}