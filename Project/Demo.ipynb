{
  "nbformat": 4,
  "nbformat_minor": 0,
  "metadata": {
    "colab": {
      "provenance": []
    },
    "kernelspec": {
      "name": "python3",
      "display_name": "Python 3"
    },
    "language_info": {
      "name": "python"
    }
  },
  "cells": [
    {
      "cell_type": "markdown",
      "source": [
        "# Preparazione"
      ],
      "metadata": {
        "id": "Nz_NDcG5nArv"
      }
    },
    {
      "cell_type": "code",
      "execution_count": 1,
      "metadata": {
        "colab": {
          "base_uri": "https://localhost:8080/"
        },
        "id": "U7o0dRQ_fX4s",
        "outputId": "09c173a1-70d3-42c5-f8f8-0519a5861247"
      },
      "outputs": [
        {
          "output_type": "stream",
          "name": "stdout",
          "text": [
            "\u001b[2K     \u001b[90m━━━━━━━━━━━━━━━━━━━━━━━━━━━━━━━━━━━━━━━━\u001b[0m \u001b[32m8.1/8.1 MB\u001b[0m \u001b[31m32.0 MB/s\u001b[0m eta \u001b[36m0:00:00\u001b[0m\n",
            "\u001b[2K     \u001b[90m━━━━━━━━━━━━━━━━━━━━━━━━━━━━━━━━━━━━━━━\u001b[0m \u001b[32m164.8/164.8 kB\u001b[0m \u001b[31m8.9 MB/s\u001b[0m eta \u001b[36m0:00:00\u001b[0m\n",
            "\u001b[2K     \u001b[90m━━━━━━━━━━━━━━━━━━━━━━━━━━━━━━━━━━━━━━\u001b[0m \u001b[32m188.5/188.5 kB\u001b[0m \u001b[31m14.5 MB/s\u001b[0m eta \u001b[36m0:00:00\u001b[0m\n",
            "\u001b[2K     \u001b[90m━━━━━━━━━━━━━━━━━━━━━━━━━━━━━━━━━━━━━━━━\u001b[0m \u001b[32m4.7/4.7 MB\u001b[0m \u001b[31m57.2 MB/s\u001b[0m eta \u001b[36m0:00:00\u001b[0m\n",
            "\u001b[2K     \u001b[90m━━━━━━━━━━━━━━━━━━━━━━━━━━━━━━━━━━━━━━━━\u001b[0m \u001b[32m82.1/82.1 kB\u001b[0m \u001b[31m3.1 MB/s\u001b[0m eta \u001b[36m0:00:00\u001b[0m\n",
            "\u001b[2K     \u001b[90m━━━━━━━━━━━━━━━━━━━━━━━━━━━━━━━━━━━━━━━━\u001b[0m \u001b[32m62.7/62.7 kB\u001b[0m \u001b[31m5.3 MB/s\u001b[0m eta \u001b[36m0:00:00\u001b[0m\n",
            "\u001b[2K     \u001b[90m━━━━━━━━━━━━━━━━━━━━━━━━━━━━━━━━━━━━━━\u001b[0m \u001b[32m341.8/341.8 kB\u001b[0m \u001b[31m24.7 MB/s\u001b[0m eta \u001b[36m0:00:00\u001b[0m\n",
            "\u001b[?25h"
          ]
        }
      ],
      "source": [
        "!pip install -q streamlit"
      ]
    },
    {
      "cell_type": "code",
      "source": [
        "!npm install localtunnel"
      ],
      "metadata": {
        "colab": {
          "base_uri": "https://localhost:8080/"
        },
        "id": "ECApAl5zgb-X",
        "outputId": "0b7d7bff-ec7f-4ca9-c38f-914ea44b1dd5"
      },
      "execution_count": 2,
      "outputs": [
        {
          "output_type": "stream",
          "name": "stdout",
          "text": [
            "\u001b[K\u001b[?25h\u001b[37;40mnpm\u001b[0m \u001b[0m\u001b[30;43mWARN\u001b[0m \u001b[0m\u001b[35msaveError\u001b[0m ENOENT: no such file or directory, open '/content/package.json'\n",
            "\u001b[K\u001b[?25h\u001b[37;40mnpm\u001b[0m \u001b[0m\u001b[34;40mnotice\u001b[0m\u001b[35m\u001b[0m created a lockfile as package-lock.json. You should commit this file.\n",
            "\u001b[0m\u001b[37;40mnpm\u001b[0m \u001b[0m\u001b[30;43mWARN\u001b[0m \u001b[0m\u001b[35menoent\u001b[0m ENOENT: no such file or directory, open '/content/package.json'\n",
            "\u001b[0m\u001b[37;40mnpm\u001b[0m \u001b[0m\u001b[30;43mWARN\u001b[0m\u001b[35m\u001b[0m content No description\n",
            "\u001b[0m\u001b[37;40mnpm\u001b[0m \u001b[0m\u001b[30;43mWARN\u001b[0m\u001b[35m\u001b[0m content No repository field.\n",
            "\u001b[0m\u001b[37;40mnpm\u001b[0m \u001b[0m\u001b[30;43mWARN\u001b[0m\u001b[35m\u001b[0m content No README data\n",
            "\u001b[0m\u001b[37;40mnpm\u001b[0m \u001b[0m\u001b[30;43mWARN\u001b[0m\u001b[35m\u001b[0m content No license field.\n",
            "\u001b[0m\n",
            "+ localtunnel@2.0.2\n",
            "added 22 packages from 22 contributors and audited 22 packages in 2.562s\n",
            "\n",
            "3 packages are looking for funding\n",
            "  run `npm fund` for details\n",
            "\n",
            "found \u001b[92m0\u001b[0m vulnerabilities\n",
            "\n",
            "\u001b[K\u001b[?25h"
          ]
        }
      ]
    },
    {
      "cell_type": "code",
      "source": [
        "!pip install pyspark"
      ],
      "metadata": {
        "colab": {
          "base_uri": "https://localhost:8080/"
        },
        "id": "GSmiimK0uc3D",
        "outputId": "fcaa0289-9766-4374-b6d4-2f54fc5fdaca"
      },
      "execution_count": 3,
      "outputs": [
        {
          "output_type": "stream",
          "name": "stdout",
          "text": [
            "Collecting pyspark\n",
            "  Downloading pyspark-3.4.1.tar.gz (310.8 MB)\n",
            "\u001b[2K     \u001b[90m━━━━━━━━━━━━━━━━━━━━━━━━━━━━━━━━━━━━━━━\u001b[0m \u001b[32m310.8/310.8 MB\u001b[0m \u001b[31m2.2 MB/s\u001b[0m eta \u001b[36m0:00:00\u001b[0m\n",
            "\u001b[?25h  Preparing metadata (setup.py) ... \u001b[?25l\u001b[?25hdone\n",
            "Requirement already satisfied: py4j==0.10.9.7 in /usr/local/lib/python3.10/dist-packages (from pyspark) (0.10.9.7)\n",
            "Building wheels for collected packages: pyspark\n",
            "  Building wheel for pyspark (setup.py) ... \u001b[?25l\u001b[?25hdone\n",
            "  Created wheel for pyspark: filename=pyspark-3.4.1-py2.py3-none-any.whl size=311285388 sha256=5442ffb3ebb2ac28a731c9ed641f3078dca316dfd0d9b52071d2473ab4409b07\n",
            "  Stored in directory: /root/.cache/pip/wheels/0d/77/a3/ff2f74cc9ab41f8f594dabf0579c2a7c6de920d584206e0834\n",
            "Successfully built pyspark\n",
            "Installing collected packages: pyspark\n",
            "Successfully installed pyspark-3.4.1\n"
          ]
        }
      ]
    },
    {
      "cell_type": "code",
      "source": [
        "# Connect this colab to Google Drive\n",
        "from google.colab import drive\n",
        "drive.mount('/content/gdrive')"
      ],
      "metadata": {
        "colab": {
          "base_uri": "https://localhost:8080/"
        },
        "id": "zHvI2bgru5dn",
        "outputId": "c3820047-197d-4d5f-b714-7fdc64d242bc"
      },
      "execution_count": 4,
      "outputs": [
        {
          "output_type": "stream",
          "name": "stdout",
          "text": [
            "Mounted at /content/gdrive\n"
          ]
        }
      ]
    },
    {
      "cell_type": "markdown",
      "source": [
        "# Demo"
      ],
      "metadata": {
        "id": "-N2P1DjSm82W"
      }
    },
    {
      "cell_type": "code",
      "source": [
        "%%writefile app.py\n",
        "import streamlit as st\n",
        "import pyspark\n",
        "import pandas as pd\n",
        "from pyspark.sql import *\n",
        "from pyspark.sql.types import *\n",
        "from pyspark.sql import functions as sqlf\n",
        "from pyspark import SparkContext, SparkConf\n",
        "from pyspark.ml.recommendation import ALSModel\n",
        "\n",
        "conf = SparkConf().setAppName(\"BDC_Demo\").setMaster(\"local\")\n",
        "spark = SparkSession.builder.config(conf=conf).getOrCreate()\n",
        "\n",
        "st.title('Videogame Recommender System')\n",
        "\n",
        "als_model = ALSModel.load('/content/gdrive/MyDrive/VideogameRecommenderSystem/models/ALS10_08_2023__13_28_08')\n",
        "demo_df = spark.read.load('/content/gdrive/MyDrive/VideogameRecommenderSystem/demo_data',\n",
        "                           format=\"csv\",\n",
        "                           sep=\",\",\n",
        "                           inferSchema=\"true\",\n",
        "                           header=\"true\")\n",
        "demo_cluster = spark.read.load('/content/gdrive/MyDrive/VideogameRecommenderSystem/demo_cluster',\n",
        "                           format=\"csv\",\n",
        "                           sep=\",\",\n",
        "                           inferSchema=\"true\",\n",
        "                           header=\"true\")\n",
        "demo_game_cluster = spark.read.load('/content/gdrive/MyDrive/VideogameRecommenderSystem/demo_game_cluster_data',\n",
        "                           format=\"csv\",\n",
        "                           sep=\",\",\n",
        "                           inferSchema=\"true\",\n",
        "                           header=\"true\")\n",
        "games_df = spark.read.load('/content/gdrive/MyDrive/VideogameRecommenderSystem/games.csv',\n",
        "                           format=\"csv\",\n",
        "                           sep=\",\",\n",
        "                           inferSchema=\"true\",\n",
        "                           header=\"true\")\n",
        "\n",
        "def compute_ALS_recommendation(steam_id):\n",
        "  st.write('Computing the recommendations based on the item you already liked...')\n",
        "  steam_int_id = demo_df.filter(demo_df.steam_id == steam_id).first()['steam_int_id']\n",
        "  user = spark.createDataFrame([steam_int_id], \"int\").toDF(\"steam_int_id\")\n",
        "  user_recs = als_model.recommendForUserSubset(user, 5)\n",
        "  display_ALS_recommendation(user_recs)\n",
        "\n",
        "def display_ALS_recommendation(recommendation_df, games_info=games_df):\n",
        "  st.write('Displaying the information about the recommendations computed...')\n",
        "  data = recommendation_df.first()\n",
        "  recommendations_value = data[\"recommendations\"]\n",
        "  recommendations = [{row.steam_appid : row.rating} for row in recommendations_value]\n",
        "  recommendations_info = []\n",
        "  for recommendation in recommendations:\n",
        "    data = []\n",
        "    appid = list(recommendation.keys())[0]\n",
        "    title = games_info.filter(games_info.steam_appid == appid).first()['name']\n",
        "    data.append(title)\n",
        "    value = recommendation[appid]\n",
        "    data.append(value)\n",
        "    description = games_info.filter(games_info.steam_appid == appid).first()['short_description']\n",
        "    data.append(description)\n",
        "    link = 'https://store.steampowered.com/app/{}'.format(appid)\n",
        "    data.append(link)\n",
        "    recommendations_info.append(data)\n",
        "  columns = ['Title', 'Rating', 'Description', 'Steam Page']\n",
        "  df = pd.DataFrame(recommendations_info, columns=columns)\n",
        "  st.table(df)\n",
        "\n",
        "def compute_cluster_recommendation(title):\n",
        "  cluster = demo_cluster.filter(demo_cluster.name == title).first()['cluster']\n",
        "  games_in_cluster = demo_cluster.filter(sqlf.col('cluster') == cluster)\n",
        "  recommendations = games_in_cluster.sample(False, fraction=5/games_in_cluster.count())\n",
        "  display_cluster_recommendation(recommendations)\n",
        "\n",
        "def display_cluster_recommendation(recommendation_df, games_info=games_df):\n",
        "  recommendations_info = []\n",
        "  recommendations = recommendation_df.collect()\n",
        "  for recommendation in recommendations:\n",
        "    data = []\n",
        "    title = recommendation['name']\n",
        "    data.append(title)\n",
        "    appid = recommendation['steam_appid']\n",
        "    description = games_info.filter(games_info.steam_appid == appid).first()['short_description']\n",
        "    data.append(description)\n",
        "    link = 'https://store.steampowered.com/app/{}'.format(appid)\n",
        "    data.append(link)\n",
        "    recommendations_info.append(data)\n",
        "  columns = ['Title', 'Description', 'Steam Page']\n",
        "  df = pd.DataFrame(recommendations_info, columns=columns)\n",
        "  st.table(df)\n",
        "\n",
        "\n",
        "st.write(\"What do you care about the most?\\n Others' opinions or the story that you are going to live?\")\n",
        "choice = st.selectbox('Select your choice', options=[\"\", \"Others' opinions\", \"The story to live\"])\n",
        "\n",
        "if choice == \"Others' opinions\":\n",
        "  id_list = [row.steam_id for row in demo_df.select('steam_id').distinct().collect()]\n",
        "  steam_id = st.selectbox('Select the Steam ID', options=['', *id_list])\n",
        "  btn_als = st.button(\"Compute Recommendations!\")\n",
        "  if btn_als:\n",
        "    compute_ALS_recommendation(steam_id)\n",
        "elif choice == \"The story to live\":\n",
        "  game_list = [row.name for row in demo_game_cluster.select('name').distinct().collect()]\n",
        "  game = st.selectbox('Select one game you liked', options=['', *game_list])\n",
        "  btn_cluster = st.button(\"Compute Recommendations!\")\n",
        "  if btn_cluster:\n",
        "    compute_cluster_recommendation(game)\n",
        "else:\n",
        "  st.write(\"Please select one of the possible options\")\n",
        "\n"
      ],
      "metadata": {
        "colab": {
          "base_uri": "https://localhost:8080/"
        },
        "id": "U_M3awMzgScw",
        "outputId": "95f4ed01-9cdf-4bf9-ee34-5035a3f4ef57"
      },
      "execution_count": 90,
      "outputs": [
        {
          "output_type": "stream",
          "name": "stdout",
          "text": [
            "Overwriting app.py\n"
          ]
        }
      ]
    },
    {
      "cell_type": "code",
      "source": [
        "!streamlit run app.py &>/content/logs.txt &"
      ],
      "metadata": {
        "id": "vSK6I3GbggkF"
      },
      "execution_count": 91,
      "outputs": []
    },
    {
      "cell_type": "code",
      "source": [
        "!curl ipv4.icanhazip.com"
      ],
      "metadata": {
        "colab": {
          "base_uri": "https://localhost:8080/"
        },
        "id": "2VpjSJhmg3bg",
        "outputId": "cdd9b081-085c-4b62-ea11-1d88ceef391b"
      },
      "execution_count": 92,
      "outputs": [
        {
          "output_type": "stream",
          "name": "stdout",
          "text": [
            "34.74.39.230\n"
          ]
        }
      ]
    },
    {
      "cell_type": "code",
      "source": [
        "!npx localtunnel --port 8501"
      ],
      "metadata": {
        "colab": {
          "base_uri": "https://localhost:8080/"
        },
        "id": "hCfK0e0fgjhJ",
        "outputId": "acf03911-0b68-4d76-9e12-9a41c5ae2578"
      },
      "execution_count": 93,
      "outputs": [
        {
          "output_type": "stream",
          "name": "stdout",
          "text": [
            "\u001b[K\u001b[?25hnpx: installed 22 in 2.205s\n",
            "your url is: https://some-trams-notice.loca.lt\n",
            "^C\n"
          ]
        }
      ]
    }
  ]
}