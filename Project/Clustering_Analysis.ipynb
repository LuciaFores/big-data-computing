{
  "nbformat": 4,
  "nbformat_minor": 0,
  "metadata": {
    "colab": {
      "provenance": []
    },
    "kernelspec": {
      "name": "python3",
      "display_name": "Python 3"
    },
    "language_info": {
      "name": "python"
    }
  },
  "cells": [
    {
      "cell_type": "markdown",
      "source": [
        "# Preparazione"
      ],
      "metadata": {
        "id": "1KEDy2WvsTuS"
      }
    },
    {
      "cell_type": "code",
      "source": [
        "!pip install pyspark"
      ],
      "metadata": {
        "colab": {
          "base_uri": "https://localhost:8080/"
        },
        "id": "1U5O4jUTdf1q",
        "outputId": "c89fb552-4e36-4795-deff-03e79620a59c"
      },
      "execution_count": 1,
      "outputs": [
        {
          "output_type": "stream",
          "name": "stdout",
          "text": [
            "Collecting pyspark\n",
            "  Downloading pyspark-3.4.1.tar.gz (310.8 MB)\n",
            "\u001b[2K     \u001b[90m━━━━━━━━━━━━━━━━━━━━━━━━━━━━━━━━━━━━━━━\u001b[0m \u001b[32m310.8/310.8 MB\u001b[0m \u001b[31m4.0 MB/s\u001b[0m eta \u001b[36m0:00:00\u001b[0m\n",
            "\u001b[?25h  Preparing metadata (setup.py) ... \u001b[?25l\u001b[?25hdone\n",
            "Requirement already satisfied: py4j==0.10.9.7 in /usr/local/lib/python3.10/dist-packages (from pyspark) (0.10.9.7)\n",
            "Building wheels for collected packages: pyspark\n",
            "  Building wheel for pyspark (setup.py) ... \u001b[?25l\u001b[?25hdone\n",
            "  Created wheel for pyspark: filename=pyspark-3.4.1-py2.py3-none-any.whl size=311285388 sha256=12be029cf5a3143e16bd1c06f2fcd71a28fbc607c9f38d73d16fa58564e79c65\n",
            "  Stored in directory: /root/.cache/pip/wheels/0d/77/a3/ff2f74cc9ab41f8f594dabf0579c2a7c6de920d584206e0834\n",
            "Successfully built pyspark\n",
            "Installing collected packages: pyspark\n",
            "Successfully installed pyspark-3.4.1\n"
          ]
        }
      ]
    },
    {
      "cell_type": "code",
      "execution_count": 2,
      "metadata": {
        "id": "53QhuCwwGj1c",
        "colab": {
          "base_uri": "https://localhost:8080/"
        },
        "outputId": "5ab81c4e-8975-43a4-a950-38d84f551f66"
      },
      "outputs": [
        {
          "output_type": "stream",
          "name": "stdout",
          "text": [
            "Collecting pyngrok\n",
            "  Downloading pyngrok-6.0.0.tar.gz (681 kB)\n",
            "\u001b[2K     \u001b[90m━━━━━━━━━━━━━━━━━━━━━━━━━━━━━━━━━━━━━━━\u001b[0m \u001b[32m681.2/681.2 kB\u001b[0m \u001b[31m6.0 MB/s\u001b[0m eta \u001b[36m0:00:00\u001b[0m\n",
            "\u001b[?25h  Preparing metadata (setup.py) ... \u001b[?25l\u001b[?25hdone\n",
            "Requirement already satisfied: PyYAML in /usr/local/lib/python3.10/dist-packages (from pyngrok) (6.0.1)\n",
            "Building wheels for collected packages: pyngrok\n",
            "  Building wheel for pyngrok (setup.py) ... \u001b[?25l\u001b[?25hdone\n",
            "  Created wheel for pyngrok: filename=pyngrok-6.0.0-py3-none-any.whl size=19867 sha256=6ab5d25457d2226845c68eac88b3cc64bf389c904de763a8dd0d40feeaa1e13e\n",
            "  Stored in directory: /root/.cache/pip/wheels/5c/42/78/0c3d438d7f5730451a25f7ac6cbf4391759d22a67576ed7c2c\n",
            "Successfully built pyngrok\n",
            "Installing collected packages: pyngrok\n",
            "Successfully installed pyngrok-6.0.0\n"
          ]
        }
      ],
      "source": [
        "!pip install pyngrok"
      ]
    },
    {
      "cell_type": "code",
      "source": [
        "!ngrok authtoken 2Tn9uykXlYRjLcSLIgmv1iLdEvG_3gqA9M3V4hLGqH9N3JWEr"
      ],
      "metadata": {
        "colab": {
          "base_uri": "https://localhost:8080/"
        },
        "id": "lBzrVrOzdUbO",
        "outputId": "8f0be843-0b5d-4f96-9e98-04ed53cb65f6"
      },
      "execution_count": 3,
      "outputs": [
        {
          "output_type": "stream",
          "name": "stdout",
          "text": [
            "Authtoken saved to configuration file: /root/.ngrok2/ngrok.yml\n"
          ]
        }
      ]
    },
    {
      "cell_type": "code",
      "source": [
        "from pyngrok import ngrok\n",
        "import re\n",
        "import gc\n",
        "import matplotlib.pyplot as plt"
      ],
      "metadata": {
        "id": "E78Vz7jNdXxV"
      },
      "execution_count": 4,
      "outputs": []
    },
    {
      "cell_type": "code",
      "source": [
        "import pyspark\n",
        "from pyspark.sql import *\n",
        "from pyspark.sql.types import *\n",
        "from pyspark.sql import functions as sqlf\n",
        "from pyspark import SparkContext, SparkConf\n",
        "from pyspark.ml.feature import Tokenizer, StopWordsRemover\n",
        "from nltk.stem.snowball import SnowballStemmer\n",
        "from pyspark.ml.feature import HashingTF, CountVectorizer, IDF\n",
        "from pyspark.ml import Pipeline\n",
        "from pyspark.ml.feature import Normalizer\n",
        "from pyspark.ml.clustering import KMeans, KMeansModel\n",
        "from pyspark.ml.evaluation import ClusteringEvaluator\n",
        "from pyspark.ml.feature import PCA\n",
        "from pyspark.ml.linalg import Vectors\n",
        "from pyspark.ml.feature import VectorAssembler"
      ],
      "metadata": {
        "id": "ld9bjpYTddY0"
      },
      "execution_count": 5,
      "outputs": []
    },
    {
      "cell_type": "code",
      "source": [
        "conf = SparkConf().\\\n",
        "                set('spark.ui.port', \"4050\").\\\n",
        "                set('spark.executor.memory', '4G').\\\n",
        "                set('spark.driver.memory', '45G').\\\n",
        "                set('spark.driver.maxResultSize', '10G').\\\n",
        "                setAppName(\"VideogameRecommenderSystem\").\\\n",
        "                setMaster(\"local[*]\")\n",
        "\n",
        "# Create the context\n",
        "sc = pyspark.SparkContext(conf=conf)\n",
        "spark = SparkSession.builder.getOrCreate()"
      ],
      "metadata": {
        "id": "556AuHFpdor-"
      },
      "execution_count": 6,
      "outputs": []
    },
    {
      "cell_type": "code",
      "source": [
        "port = '4050'\n",
        "public_url = ngrok.connect(port).public_url"
      ],
      "metadata": {
        "colab": {
          "base_uri": "https://localhost:8080/"
        },
        "id": "i8ULI66Rdre5",
        "outputId": "1edd462f-9be1-4b52-bcde-bb9d46f363aa"
      },
      "execution_count": 7,
      "outputs": [
        {
          "output_type": "stream",
          "name": "stderr",
          "text": [
            "WARNING:pyngrok.process.ngrok:t=2023-08-16T11:23:36+0000 lvl=warn msg=\"ngrok config file found at legacy location, move to XDG location\" xdg_path=/root/.config/ngrok/ngrok.yml legacy_path=/root/.ngrok2/ngrok.yml\n"
          ]
        }
      ]
    },
    {
      "cell_type": "code",
      "source": [
        "print(\"To access the Spark Web UI console, please click on the following link to the ngrok tunnel \\\"{}\\\" -> \\\"http://127.0.0.1:{}\\\"\".format(public_url, port))"
      ],
      "metadata": {
        "colab": {
          "base_uri": "https://localhost:8080/"
        },
        "id": "6KbEYDU6dtzj",
        "outputId": "c4a4e000-c5ae-446c-f536-a7fcc0a620ec"
      },
      "execution_count": 8,
      "outputs": [
        {
          "output_type": "stream",
          "name": "stdout",
          "text": [
            "To access the Spark Web UI console, please click on the following link to the ngrok tunnel \"https://2952-35-188-81-166.ngrok-free.app\" -> \"http://127.0.0.1:4050\"\n"
          ]
        }
      ]
    },
    {
      "cell_type": "code",
      "source": [
        "spark"
      ],
      "metadata": {
        "colab": {
          "base_uri": "https://localhost:8080/",
          "height": 309
        },
        "id": "jTqOhvyZdxfU",
        "outputId": "391326ea-e0dd-41b2-c333-65aa0ce1fee9"
      },
      "execution_count": 9,
      "outputs": [
        {
          "output_type": "execute_result",
          "data": {
            "text/plain": [
              "<pyspark.sql.session.SparkSession at 0x7b49c6fe3eb0>"
            ],
            "text/html": [
              "\n",
              "            <div>\n",
              "                <p><b>SparkSession - in-memory</b></p>\n",
              "                \n",
              "        <div>\n",
              "            <p><b>SparkContext</b></p>\n",
              "\n",
              "            <p><a href=\"http://070ec3566738:4050\">Spark UI</a></p>\n",
              "\n",
              "            <dl>\n",
              "              <dt>Version</dt>\n",
              "                <dd><code>v3.4.1</code></dd>\n",
              "              <dt>Master</dt>\n",
              "                <dd><code>local[*]</code></dd>\n",
              "              <dt>AppName</dt>\n",
              "                <dd><code>VideogameRecommenderSystem</code></dd>\n",
              "            </dl>\n",
              "        </div>\n",
              "        \n",
              "            </div>\n",
              "        "
            ]
          },
          "metadata": {},
          "execution_count": 9
        }
      ]
    },
    {
      "cell_type": "code",
      "source": [
        "# Connect this colab to Google Drive\n",
        "from google.colab import drive\n",
        "drive.mount('/content/gdrive')"
      ],
      "metadata": {
        "colab": {
          "base_uri": "https://localhost:8080/"
        },
        "id": "9x70ZriheLRM",
        "outputId": "fcc820a9-28e3-45a9-e002-9f73da99474e"
      },
      "execution_count": 10,
      "outputs": [
        {
          "output_type": "stream",
          "name": "stdout",
          "text": [
            "Mounted at /content/gdrive\n"
          ]
        }
      ]
    },
    {
      "cell_type": "markdown",
      "source": [
        "# Utils"
      ],
      "metadata": {
        "id": "aiFqwEuGrHO2"
      }
    },
    {
      "cell_type": "code",
      "source": [
        "CLEANER_LINKS = re.compile('http[s]?://\\S+')\n",
        "\n",
        "def clean_links(raw_text):\n",
        "  cleantext = re.sub(CLEANER_LINKS, '', raw_text)\n",
        "  return cleantext\n",
        "\n",
        "clean_links_UDF = sqlf.udf(lambda x : clean_links(x), StringType())"
      ],
      "metadata": {
        "id": "MNifYuuirIe8"
      },
      "execution_count": 11,
      "outputs": []
    },
    {
      "cell_type": "code",
      "source": [
        "CLEANER_PUNCTUATION = re.compile('[^\\w\\s]')\n",
        "\n",
        "def clean_punctuation(raw_text):\n",
        "  cleantext = re.sub(CLEANER_PUNCTUATION, ' ', raw_text)\n",
        "  return cleantext\n",
        "\n",
        "clean_punctuation_UDF = sqlf.udf(lambda x : clean_punctuation(x), StringType())"
      ],
      "metadata": {
        "id": "quQLUnnorSD8"
      },
      "execution_count": 12,
      "outputs": []
    },
    {
      "cell_type": "code",
      "source": [
        "CLEANER_EXTRA_SPACES = re.compile('\\s\\s+')\n",
        "\n",
        "def clean_extra_spaces(raw_text):\n",
        "  cleantext = re.sub(CLEANER_EXTRA_SPACES, ' ', raw_text)\n",
        "  return cleantext\n",
        "\n",
        "clean_extra_spaces_UDF = sqlf.udf(lambda x : clean_extra_spaces(x), StringType())"
      ],
      "metadata": {
        "id": "CI8ADRkDrUTT"
      },
      "execution_count": 13,
      "outputs": []
    },
    {
      "cell_type": "code",
      "source": [
        "@sqlf.udf(\"long\")\n",
        "def num_nonzeros(v):\n",
        "  return v.numNonzeros()"
      ],
      "metadata": {
        "id": "ymfpQRiJr5N5"
      },
      "execution_count": 14,
      "outputs": []
    },
    {
      "cell_type": "code",
      "source": [
        "def process_data_for_clustering(dataset_df,\n",
        "                                column_name):\n",
        "  dataset_df = dataset_df.dropna()\n",
        "  dataset_df = dataset_df.withColumn(column_name, clean_links_UDF(sqlf.col(column_name)))\n",
        "  dataset_df = dataset_df.withColumn(column_name, sqlf.trim(sqlf.col(column_name)))\n",
        "\n",
        "  dataset_df = dataset_df.where(dataset_df.total_recommendations > 0)\n",
        "\n",
        "  dataset_df = dataset_df.withColumn(column_name, sqlf.lower(sqlf.col(column_name)))\n",
        "  dataset_df = dataset_df.withColumn(column_name, clean_punctuation_UDF(sqlf.col(column_name)))\n",
        "  dataset_df = dataset_df.withColumn(column_name, clean_extra_spaces_UDF(sqlf.col(column_name)))\n",
        "\n",
        "  tokenizer = Tokenizer(inputCol=column_name, outputCol='tokens')\n",
        "  tokens_df = tokenizer.transform(dataset_df)\n",
        "\n",
        "  stopwords_remover = StopWordsRemover(inputCol='tokens', outputCol='terms')\n",
        "  terms_df = stopwords_remover.transform(tokens_df)\n",
        "\n",
        "  stemmer = SnowballStemmer(language=\"english\")\n",
        "  stemmer_udf = sqlf.udf(lambda tokens: [stemmer.stem(token) for token in tokens], ArrayType(StringType()))\n",
        "  terms_stemmed_df = terms_df.withColumn('terms_stemmed', stemmer_udf('terms'))\n",
        "\n",
        "  cv = CountVectorizer(inputCol='terms_stemmed', outputCol=\"tf_features\", vocabSize=1000, minDF=10)\n",
        "  idf = IDF(inputCol=\"tf_features\", outputCol=\"features\")\n",
        "\n",
        "  pipeline = Pipeline(stages=[cv, idf])\n",
        "  features = pipeline.fit(terms_stemmed_df)\n",
        "  tf_idf_df = features.transform(terms_stemmed_df)\n",
        "\n",
        "  tf_idf_df = tf_idf_df.where(num_nonzeros(\"features\") > 0)\n",
        "\n",
        "  return tf_idf_df"
      ],
      "metadata": {
        "id": "JkF0QKDIrYiU"
      },
      "execution_count": 15,
      "outputs": []
    },
    {
      "cell_type": "code",
      "source": [
        "def evaluate_k_means(clusters,\n",
        "                     metric_name=\"silhouette\",\n",
        "                     distance_measure=\"cosine\",\n",
        "                     prediction_col=\"cluster\"\n",
        "                     ):\n",
        "\n",
        "  evaluator = ClusteringEvaluator(metricName=metric_name,\n",
        "                                  distanceMeasure=distance_measure,\n",
        "                                  predictionCol=prediction_col\n",
        "                                  )\n",
        "\n",
        "  return evaluator.evaluate(clusters)"
      ],
      "metadata": {
        "id": "VVCgXrTbvP2Y"
      },
      "execution_count": 16,
      "outputs": []
    },
    {
      "cell_type": "code",
      "source": [
        "def compute_PCA(dataset_df,\n",
        "                input_col='features_norm',\n",
        "                output_col='pca_features',\n",
        "                num_components=2\n",
        "                ):\n",
        "  pca = PCA(k=num_components, inputCol=input_col, outputCol=output_col)\n",
        "  pca_model = pca.fit(dataset_df)\n",
        "  pca_result = pca_model.transform(dataset_df)\n",
        "  return pca_result"
      ],
      "metadata": {
        "id": "I2uueiGYDL-S"
      },
      "execution_count": 17,
      "outputs": []
    },
    {
      "cell_type": "code",
      "source": [
        "def scatter_cluster(pca_pd,\n",
        "                    k,\n",
        "                    n_col):\n",
        "  pca_pd[['pca_1', 'pca_2']] = pca_pd['pca_features'].apply(lambda x: pd.Series(x))\n",
        "  plt.figure(figsize=(8, 6))\n",
        "  for cluster_id in range(k):\n",
        "      cluster_data = pca_pd[pca_pd['cluster'] == cluster_id][['pca_1', 'pca_2']]\n",
        "      plt.scatter(cluster_data['pca_1'], cluster_data['pca_2'], label=f'Cluster {cluster_id}')\n",
        "\n",
        "  plt.title('TF-IDF KMeans Clustering')\n",
        "  plt.xlabel('X')\n",
        "  plt.ylabel('Y')\n",
        "  plt.legend(loc='center left', bbox_to_anchor=(1, 0.5), ncol=n_col)\n",
        "  plt.show()"
      ],
      "metadata": {
        "id": "QLc2KfwEEfXB"
      },
      "execution_count": 18,
      "outputs": []
    },
    {
      "cell_type": "markdown",
      "source": [
        "# Games clustered on 'about_the_game'"
      ],
      "metadata": {
        "id": "N5uIIc6Gd4l0"
      }
    },
    {
      "cell_type": "code",
      "source": [
        "games_df = spark.read.load('/content/gdrive/MyDrive/VideogameRecommenderSystem/games.csv',\n",
        "                           format=\"csv\",\n",
        "                           sep=\",\",\n",
        "                           inferSchema=\"true\",\n",
        "                           header=\"true\")"
      ],
      "metadata": {
        "id": "eWP-_ThKsF3f"
      },
      "execution_count": 19,
      "outputs": []
    },
    {
      "cell_type": "code",
      "source": [
        "tf_idf_about_df = process_data_for_clustering(games_df, 'about_the_game')"
      ],
      "metadata": {
        "id": "WFzu2RZDsLFY"
      },
      "execution_count": 20,
      "outputs": []
    },
    {
      "cell_type": "code",
      "source": [
        "tf_idf_about_df = Normalizer(inputCol='features', outputCol='features_norm', p=1).transform(tf_idf_about_df)"
      ],
      "metadata": {
        "id": "8wLnOriHuBOm"
      },
      "execution_count": 21,
      "outputs": []
    },
    {
      "cell_type": "code",
      "source": [
        "cluster_about = KMeansModel.load('/content/gdrive/MyDrive/VideogameRecommenderSystem/models/KMEANS_about_K_50')"
      ],
      "metadata": {
        "id": "f49KGUSud9N5"
      },
      "execution_count": 22,
      "outputs": []
    },
    {
      "cell_type": "code",
      "source": [
        "clusters_about_df = cluster_about.transform(tf_idf_about_df)"
      ],
      "metadata": {
        "id": "E2VEb1tTh5WW"
      },
      "execution_count": 23,
      "outputs": []
    },
    {
      "cell_type": "code",
      "source": [
        "del games_df\n",
        "gc.collect()"
      ],
      "metadata": {
        "colab": {
          "base_uri": "https://localhost:8080/"
        },
        "id": "1_l_HpnWxwO9",
        "outputId": "40ebfe71-22ed-49fc-85e8-ade3d8dce1fe"
      },
      "execution_count": 24,
      "outputs": [
        {
          "output_type": "execute_result",
          "data": {
            "text/plain": [
              "456"
            ]
          },
          "metadata": {},
          "execution_count": 24
        }
      ]
    },
    {
      "cell_type": "code",
      "source": [
        "shilouette = evaluate_k_means(clusters_about_df)\n",
        "print('The shilouette score, computed with the cosine distance, is: {:.3f}'.format(shilouette))"
      ],
      "metadata": {
        "colab": {
          "base_uri": "https://localhost:8080/"
        },
        "id": "A8f2k4MLuj1_",
        "outputId": "2f9d7e4f-a88d-41cd-829e-51dc662f5b0b"
      },
      "execution_count": 25,
      "outputs": [
        {
          "output_type": "stream",
          "name": "stdout",
          "text": [
            "The shilouette score, computed with the cosine distance, is: 0.045\n"
          ]
        }
      ]
    },
    {
      "cell_type": "code",
      "source": [
        "clusters_about_df.groupBy(\"cluster\").count().sort(\"cluster\").show()"
      ],
      "metadata": {
        "colab": {
          "base_uri": "https://localhost:8080/"
        },
        "id": "TcB971p0zBza",
        "outputId": "abcf69e3-eb91-41b4-fe33-3392f121b82f"
      },
      "execution_count": 26,
      "outputs": [
        {
          "output_type": "stream",
          "name": "stdout",
          "text": [
            "+-------+-----+\n",
            "|cluster|count|\n",
            "+-------+-----+\n",
            "|      0|  585|\n",
            "|      1|  171|\n",
            "|      2|  743|\n",
            "|      3|  106|\n",
            "|      4|  539|\n",
            "|      5|  325|\n",
            "|      6|  133|\n",
            "|      7|  723|\n",
            "|      8|   89|\n",
            "|      9|  345|\n",
            "|     10|  310|\n",
            "|     11|   46|\n",
            "|     12|   63|\n",
            "|     13|  240|\n",
            "|     14|  124|\n",
            "|     15|  530|\n",
            "|     16|  228|\n",
            "|     17|  129|\n",
            "|     18|  196|\n",
            "|     19|  814|\n",
            "+-------+-----+\n",
            "only showing top 20 rows\n",
            "\n"
          ]
        }
      ]
    },
    {
      "cell_type": "code",
      "source": [
        "pca_df = compute_PCA(clusters_about_df)"
      ],
      "metadata": {
        "id": "bPooMR10EKDx"
      },
      "execution_count": 27,
      "outputs": []
    },
    {
      "cell_type": "code",
      "source": [
        "pca_pd = pca_df.toPandas()"
      ],
      "metadata": {
        "id": "b8U_Nvlqzxi_"
      },
      "execution_count": 28,
      "outputs": []
    },
    {
      "cell_type": "code",
      "source": [
        "import pandas as pd"
      ],
      "metadata": {
        "id": "uPDsO3cjBEUa"
      },
      "execution_count": 29,
      "outputs": []
    },
    {
      "cell_type": "code",
      "source": [
        "# Create a scatter plot\n",
        "scatter_cluster(pca_pd, 50, 5)"
      ],
      "metadata": {
        "colab": {
          "base_uri": "https://localhost:8080/",
          "height": 564
        },
        "id": "aG68xnaz0liP",
        "outputId": "f6cd1096-77bd-42e1-e7d6-284d9af5b6d1"
      },
      "execution_count": 30,
      "outputs": [
        {
          "output_type": "display_data",
          "data": {
            "text/plain": [
              "<Figure size 800x600 with 1 Axes>"
            ],
            "image/png": "[encoded data removed]"
          },
          "metadata": {}
        }
      ]
    }
  ]
}