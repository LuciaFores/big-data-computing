{
  "cells": [
    {
      "cell_type": "markdown",
      "metadata": {
        "id": "HfshcX1INwlY"
      },
      "source": [
        "#Introduction\n",
        "The aim of the project is to create a videogame recommender system based on the recommendations provided by users on the Steam platform.\n",
        "\n",
        "The reasons behind the choice to use Steam are several:\n",
        "\n",
        "\n",
        "*   Steam is at the moment the biggest videogame store online that also provides a \"community mechanic\" for their users. The users (that arrives to be 120 million active users each month) have the possibility to create their profile not only to store the games buyed but also to share with their friends the \"achievments\" that they can get in game and more importantly they have the possiblity to leave reviews on each game on the catalogue in order to communicate their preferences to other users\n",
        "*   Steam is a highly friendly platform for developer, meaning that they provide APIs to fetch data from their website and also are not against scraping (as long as it compell the robots.txt - http://steamcommunity.com/robots.txt - of the website and is not used in order to create bots to automate transactions, spamming and so on...) meaning that is possible to collect up-to-date data without having too many restrictions\n",
        "*   If a game is distributed on PCs it will very probable that it will distributed also on Steam; beside some notable exclusive for other online store platform (i.e. Fortnite, Genshin Impact, Minecraft, ...), Steam can be saw as the most comprehensive online store (since it is not tieded to any specific publisher) in which the most of the games for PC can be found\n",
        "\n",
        "\n",
        "In the following sections I will illustrate the job done in order to create the recommender system. Specifically the following topics will be covered\n",
        "\n",
        "\n",
        "1.   Dataset Collection\n",
        "2.   Data Cleaning\n",
        "3.   Recommendations' Translation\n",
        "4.   Data Analysis\n",
        "5.   ALS Training\n",
        "\n",
        "In the other .ipynb other passages to create the Recommender System will be illustrated. Specifically the following topics will be covered\n",
        "\n",
        "7.   ALS Model Analysis\n",
        "8.   Document Clustering over the plot of the games\n",
        "9.   Clustering Analysis\n",
        "10.  Demo to try the recommender system\n",
        "\n",
        "\n",
        "\n",
        "\n"
      ]
    },
    {
      "cell_type": "markdown",
      "metadata": {
        "id": "6xbqrzmgcdOq"
      },
      "source": [
        "# Needed library import\n",
        "\n",
        "In this section the needed library to work in the project will be imported. It will also be instantiated some variables whose value will be useful in order to make the computation re-executable"
      ]
    },
    {
      "cell_type": "code",
      "source": [
        "# In order to make the experiment re-executable\n",
        "RANDOM_SEED = 42"
      ],
      "metadata": {
        "id": "SA-2esZcR6kq"
      },
      "execution_count": null,
      "outputs": []
    },
    {
      "cell_type": "code",
      "execution_count": null,
      "metadata": {
        "colab": {
          "base_uri": "https://localhost:8080/"
        },
        "id": "uIlagCi8WnRp",
        "outputId": "c559412e-2470-441f-8520-fe2c0f80b59c"
      },
      "outputs": [
        {
          "output_type": "stream",
          "name": "stdout",
          "text": [
            "Collecting pyngrok\n",
            "  Downloading pyngrok-6.0.0.tar.gz (681 kB)\n",
            "\u001b[?25l     \u001b[90m━━━━━━━━━━━━━━━━━━━━━━━━━━━━━━━━━━━━━━━━\u001b[0m \u001b[32m0.0/681.2 kB\u001b[0m \u001b[31m?\u001b[0m eta \u001b[36m-:--:--\u001b[0m\r\u001b[2K     \u001b[91m━━━━\u001b[0m\u001b[90m╺\u001b[0m\u001b[90m━━━━━━━━━━━━━━━━━━━━━━━━━━━━━━━━━━━\u001b[0m \u001b[32m71.7/681.2 kB\u001b[0m \u001b[31m2.0 MB/s\u001b[0m eta \u001b[36m0:00:01\u001b[0m\r\u001b[2K     \u001b[91m━━━━━━━━━━━━━━━━━━━━━\u001b[0m\u001b[90m╺\u001b[0m\u001b[90m━━━━━━━━━━━━━━━━━\u001b[0m \u001b[32m368.6/681.2 kB\u001b[0m \u001b[31m5.2 MB/s\u001b[0m eta \u001b[36m0:00:01\u001b[0m\r\u001b[2K     \u001b[91m━━━━━━━━━━━━━━━━━━━━━━━━━━━━━━━━━━━━━━\u001b[0m\u001b[91m╸\u001b[0m \u001b[32m675.8/681.2 kB\u001b[0m \u001b[31m6.5 MB/s\u001b[0m eta \u001b[36m0:00:01\u001b[0m\r\u001b[2K     \u001b[90m━━━━━━━━━━━━━━━━━━━━━━━━━━━━━━━━━━━━━━━\u001b[0m \u001b[32m681.2/681.2 kB\u001b[0m \u001b[31m5.8 MB/s\u001b[0m eta \u001b[36m0:00:00\u001b[0m\n",
            "\u001b[?25h  Preparing metadata (setup.py) ... \u001b[?25l\u001b[?25hdone\n",
            "Requirement already satisfied: PyYAML in /usr/local/lib/python3.10/dist-packages (from pyngrok) (6.0.1)\n",
            "Building wheels for collected packages: pyngrok\n",
            "  Building wheel for pyngrok (setup.py) ... \u001b[?25l\u001b[?25hdone\n",
            "  Created wheel for pyngrok: filename=pyngrok-6.0.0-py3-none-any.whl size=19867 sha256=a9494f1f9488788bcdd66085d365455100f1dbc798b0492deeda0b285aa45f68\n",
            "  Stored in directory: /root/.cache/pip/wheels/5c/42/78/0c3d438d7f5730451a25f7ac6cbf4391759d22a67576ed7c2c\n",
            "Successfully built pyngrok\n",
            "Installing collected packages: pyngrok\n",
            "Successfully installed pyngrok-6.0.0\n"
          ]
        }
      ],
      "source": [
        "# pyngrok is specifically useful in order to make the\n",
        "# Spark UI visitable for the users\n",
        "!pip install pyngrok"
      ]
    },
    {
      "cell_type": "code",
      "execution_count": null,
      "metadata": {
        "colab": {
          "base_uri": "https://localhost:8080/"
        },
        "id": "9shz2XomWsiP",
        "outputId": "f371ed6c-4603-40e4-9e0c-a3dad1de00bf"
      },
      "outputs": [
        {
          "output_type": "stream",
          "name": "stdout",
          "text": [
            "Authtoken saved to configuration file: /root/.ngrok2/ngrok.yml\n"
          ]
        }
      ],
      "source": [
        "# The authtoken is needed to use th ngrok tunnel\n",
        "!ngrok authtoken 2Tn9uykXlYRjLcSLIgmv1iLdEvG_3gqA9M3V4hLGqH9N3JWEr"
      ]
    },
    {
      "cell_type": "code",
      "execution_count": null,
      "metadata": {
        "colab": {
          "base_uri": "https://localhost:8080/"
        },
        "id": "PuASuFLJdnT_",
        "outputId": "51844417-9775-4144-986c-25941fdbe491"
      },
      "outputs": [
        {
          "output_type": "stream",
          "name": "stdout",
          "text": [
            "Collecting howlongtobeatpy\n",
            "  Downloading howlongtobeatpy-1.0.5.tar.gz (11 kB)\n",
            "  Preparing metadata (setup.py) ... \u001b[?25l\u001b[?25hdone\n",
            "Requirement already satisfied: aiohttp>=3.8.3 in /usr/local/lib/python3.10/dist-packages (from howlongtobeatpy) (3.8.5)\n",
            "Requirement already satisfied: requests>=2.28.1 in /usr/local/lib/python3.10/dist-packages (from howlongtobeatpy) (2.31.0)\n",
            "Collecting aiounittest>=1.4.2 (from howlongtobeatpy)\n",
            "  Downloading aiounittest-1.4.2-py3-none-any.whl (7.0 kB)\n",
            "Collecting fake_useragent>=1.1.0 (from howlongtobeatpy)\n",
            "  Downloading fake_useragent-1.2.1-py3-none-any.whl (14 kB)\n",
            "Requirement already satisfied: attrs>=17.3.0 in /usr/local/lib/python3.10/dist-packages (from aiohttp>=3.8.3->howlongtobeatpy) (23.1.0)\n",
            "Requirement already satisfied: charset-normalizer<4.0,>=2.0 in /usr/local/lib/python3.10/dist-packages (from aiohttp>=3.8.3->howlongtobeatpy) (3.2.0)\n",
            "Requirement already satisfied: multidict<7.0,>=4.5 in /usr/local/lib/python3.10/dist-packages (from aiohttp>=3.8.3->howlongtobeatpy) (6.0.4)\n",
            "Requirement already satisfied: async-timeout<5.0,>=4.0.0a3 in /usr/local/lib/python3.10/dist-packages (from aiohttp>=3.8.3->howlongtobeatpy) (4.0.3)\n",
            "Requirement already satisfied: yarl<2.0,>=1.0 in /usr/local/lib/python3.10/dist-packages (from aiohttp>=3.8.3->howlongtobeatpy) (1.9.2)\n",
            "Requirement already satisfied: frozenlist>=1.1.1 in /usr/local/lib/python3.10/dist-packages (from aiohttp>=3.8.3->howlongtobeatpy) (1.4.0)\n",
            "Requirement already satisfied: aiosignal>=1.1.2 in /usr/local/lib/python3.10/dist-packages (from aiohttp>=3.8.3->howlongtobeatpy) (1.3.1)\n",
            "Requirement already satisfied: wrapt in /usr/local/lib/python3.10/dist-packages (from aiounittest>=1.4.2->howlongtobeatpy) (1.14.1)\n",
            "Requirement already satisfied: idna<4,>=2.5 in /usr/local/lib/python3.10/dist-packages (from requests>=2.28.1->howlongtobeatpy) (3.4)\n",
            "Requirement already satisfied: urllib3<3,>=1.21.1 in /usr/local/lib/python3.10/dist-packages (from requests>=2.28.1->howlongtobeatpy) (2.0.4)\n",
            "Requirement already satisfied: certifi>=2017.4.17 in /usr/local/lib/python3.10/dist-packages (from requests>=2.28.1->howlongtobeatpy) (2023.7.22)\n",
            "Building wheels for collected packages: howlongtobeatpy\n",
            "  Building wheel for howlongtobeatpy (setup.py) ... \u001b[?25l\u001b[?25hdone\n",
            "  Created wheel for howlongtobeatpy: filename=howlongtobeatpy-1.0.5-py3-none-any.whl size=10673 sha256=45210bafb4f725377a3cb39457cdf25cc0823849ebaef8381e2d919a0e46821d\n",
            "  Stored in directory: /root/.cache/pip/wheels/ab/5c/a9/a7ed038bf3e63e09334c66de47707badb6d61bd0d8bd17cbd6\n",
            "Successfully built howlongtobeatpy\n",
            "Installing collected packages: fake_useragent, aiounittest, howlongtobeatpy\n",
            "Successfully installed aiounittest-1.4.2 fake_useragent-1.2.1 howlongtobeatpy-1.0.5\n"
          ]
        }
      ],
      "source": [
        "# The howlongtobeatpy is the python wrapper for the How Long To Beat API\n",
        "# that will later be used in the data collection\n",
        "!pip install howlongtobeatpy"
      ]
    },
    {
      "cell_type": "code",
      "execution_count": null,
      "metadata": {
        "id": "NEVuXqY1aAjC"
      },
      "outputs": [],
      "source": [
        "from pyngrok import ngrok\n",
        "import os\n",
        "import re\n",
        "import requests\n",
        "import json\n",
        "import pandas as pd\n",
        "from tqdm import tqdm\n",
        "import csv\n",
        "import time\n",
        "from bs4 import BeautifulSoup\n",
        "from howlongtobeatpy import HowLongToBeat\n",
        "import os\n",
        "import matplotlib.pyplot as plt\n",
        "import seaborn as sns\n",
        "import numpy as np\n",
        "from datetime import datetime\n",
        "%matplotlib inline"
      ]
    },
    {
      "cell_type": "markdown",
      "metadata": {
        "id": "DgM-bVKmV-wi"
      },
      "source": [
        "#Dataset Collection\n",
        "In the following section I will explain how I was able to get the dataset needed for the system from the Steam Store.\n",
        "\n",
        "In order to get the data (as I will explain in a detailed way later) I used the APIs provided by the Store and the platform visited and an ad-hoc web scraper."
      ]
    },
    {
      "cell_type": "markdown",
      "metadata": {
        "id": "LNtgf6N6chdv"
      },
      "source": [
        "## Connection to Google Drive"
      ]
    },
    {
      "cell_type": "code",
      "execution_count": null,
      "metadata": {
        "id": "QPqdTSvcWwHT"
      },
      "outputs": [],
      "source": [
        "# Connect this colab to Google Drive\n",
        "from google.colab import drive\n",
        "drive.mount('/content/gdrive')"
      ]
    },
    {
      "cell_type": "markdown",
      "metadata": {
        "id": "1gZGCc7Vckl-"
      },
      "source": [
        "## Check dataset files presence"
      ]
    },
    {
      "cell_type": "code",
      "execution_count": null,
      "metadata": {
        "id": "oeNd4dCmNESt"
      },
      "outputs": [],
      "source": [
        "# Checks if the folder in which the dataset is contained is present on Google\n",
        "# Drive, if it is not present it will proceed with the execution of the scripts\n",
        "# used to collect the data\n",
        "\n",
        "# Each flag will check if a specific part of the dataset is present in the\n",
        "# folder and if not present it will compute that specific part of the dataset\n",
        "# collection\n",
        "\n",
        "# This flag is used to check if the file in which the informations about each\n",
        "# game (either tagged as 'game' or 'DLC') on the store is present\n",
        "games = os.path.exists(\"/content/gdrive/MyDrive/VideogameRecommenderSystem/games.csv\")\n",
        "# This flag is used to check if the file in which the informations about the\n",
        "# users (called 'players' from now on) is present\n",
        "players = os.path.exists(\"/content/gdrive/MyDrive/VideogameRecommenderSystem/players.csv\")\n",
        "# This flag is used to check if the file in which the informations about the\n",
        "# recommendations (also called 'reviews' from now on) leaved by the players is\n",
        "# present\n",
        "game_reviews = os.path.exists(\"/content/gdrive/MyDrive/VideogameRecommenderSystem/game_reviews.csv\")\n",
        "# This flag is used to check if the file in which the informations about the\n",
        "# statistics on the average time used to complete a game is present\n",
        "hours_stat = os.path.exists(\"/content/gdrive/MyDrive/VideogameRecommenderSystem/hours_stat.csv\")"
      ]
    },
    {
      "cell_type": "markdown",
      "metadata": {
        "id": "JJyuzsfFcZoL"
      },
      "source": [
        "### Missing *games.csv* file\n",
        "If the file containing the informations about the games (either complete games or DLCs) is missing, the following script will be executed.\n",
        "\n",
        "The script acts as following:\n",
        "\n",
        "\n",
        "*   Import all the needed libraries\n",
        "*   Defines the function that is needed to process the response get from the request to the site for the specific game information\n",
        "* Download the most up-to-date file containing **all** the applications that are present on the store; it is important to notice that not all the application on the store are games (or DLCs), in fact Steam also has listed additional contents for games like soundtracks or artbooks, naturally these items are not interesting for the recommender system so they must be discarded, however the only way to do that is to check for specific informations about the application, see the category of the item and filter them by only maintaining the ones whose category is either *game* or *DLC*\n",
        "* Saves the information about the interesting items; specifically the script will save the **commercial name** of the application (corresponding to the *name* column in the file), the **appid** of the application which is the **unique identificator** of the application on the store (corresponding to the *steam_appid* column in the file), the **type** of the application (either *game* or *DLC* and corresponding to the *type* column in the file), the **description of the game** provided by the developer/publisher (corresponding to the *about_the_game* column in the file), the **synopsis of the game** (corresponding to the *short_description* column of the file) and the **number of recommendations** that are present on the store for the specific application (corresponding to the *total_recommendation* column in the file). As for the recommendations is important to notice that the value could not be the same as the one that actually is on the store (meaning that there could be some games that have on the file **less** reviews than the one that are actually on the store): this is due to a limitation of the API that only get the reviews that has been written in the past 365 days from the day in which the request is made (so as it will be described later, in order to get the most of the reviews the API has not been used in favor of an ad-hoc scraper that actually is able to get more reviews)\n",
        "* Perform a preliminary cleaning of the data: when retrieved from the store in fact the textual data about the game (stored in both the column *about_the_game* and *short_description*) is not ready to be stored in a .csv file; the text is in fact full of characters (like HTML tags, tabs, newlines, commas, semicolons or pipes) that could cause problems in the formatting of the file, so in order to have the file only with the wanted columns is necessary to filter them before saving it\n",
        "\n"
      ]
    },
    {
      "cell_type": "code",
      "execution_count": null,
      "metadata": {
        "colab": {
          "base_uri": "https://localhost:8080/"
        },
        "id": "klFYCxYTcZ8_",
        "outputId": "6eb511e5-f106-40a4-e41a-da8decc41534"
      },
      "outputs": [
        {
          "output_type": "stream",
          "name": "stdout",
          "text": [
            "'games.csv' file found\n"
          ]
        }
      ],
      "source": [
        "if not games:\n",
        "  def get_game_info(app_id):\n",
        "    \"\"\"\n",
        "    This function takes the app_id of a game and returns the information\n",
        "    about the game from the Steam API.\n",
        "    \"\"\"\n",
        "    url = f'http://store.steampowered.com/api/appdetails?appids={app_id}'\n",
        "    try:\n",
        "      response = requests.get(url)\n",
        "    except:\n",
        "      with open('output_files/error_log.csv', 'a') as F_err:\n",
        "        writer = csv.writer(F_err)\n",
        "        writer.writerow([app_id])\n",
        "      return {}\n",
        "    data = response.json()\n",
        "    # The data could be None if the time-limit amount of requests\n",
        "    # given by the API is exceeded\n",
        "    if data == None:\n",
        "      with open('output_files/error_log.csv', 'a') as F_err:\n",
        "        writer = csv.writer(F_err)\n",
        "        writer.writerow([app_id])\n",
        "      return {}\n",
        "    # The success of the request can be True if the application is public\n",
        "    # and has information to be read or False if the application cannot be\n",
        "    # saw by users and so it does not have public information to be read\n",
        "    if data[str(app_id)]['success']:\n",
        "      return data[str(app_id)]['data']\n",
        "    else:\n",
        "      return {}\n",
        "\n",
        "\n",
        "  # This framework is useful in case of the freeze of the script due to possible\n",
        "  # errors: since new applications are added to the store very frequently, it is\n",
        "  # useful to define the set of the applications to be checked to a specific\n",
        "  # AppList downloaded at the beginning of the dataset collection\n",
        "\n",
        "  # Check for the existence of the Steam application file\n",
        "  # If not present, download it\n",
        "  # CONTROLLA POI STA COSA DI OUTPUT_FILES\n",
        "  if not os.path.exists('output_files/apps.csv'):\n",
        "    print('Steam application file not found. Downloading it...')\n",
        "    URL = 'https://api.steampowered.com/ISteamApps/GetAppList/v2/'\n",
        "    # In this case the try-except is not needed because this file is always\n",
        "    # downloadable\n",
        "    r = requests.get(url=URL)\n",
        "    apps_data = r.json()\n",
        "    # CONTROLLA QUALI SONO GLI ALTRI CAMPI DEL FILE JSON\n",
        "    apps_data = apps_data['applist']['apps']\n",
        "    with open('output_files/apps.json', 'w') as F:\n",
        "        json.dump(apps_data, F)\n",
        "    # The file is then converted to json and then to csv in order to have a\n",
        "    # more friendly usable file\n",
        "    df = pd.read_json('output_files/apps.json')\n",
        "    df.to_csv('output_files/apps.csv', index=None)\n",
        "  else:\n",
        "    print('Steam application file found. Loading it...')\n",
        "\n",
        "\n",
        "  # Read the Steam application file as dataframe\n",
        "  # and get only the identifier of the applications\n",
        "  df = pd.read_csv('output_files/apps.csv')\n",
        "  app_ids = df['appid']\n",
        "\n",
        "  # Checks if the file containing the needed information about the partial dataset\n",
        "  # is present; if not create it\n",
        "  if not os.path.exists('output_files/games.csv'):\n",
        "    with open('output_files/games.csv', 'w') as F:\n",
        "      writer = csv.writer(F)\n",
        "      cols = ['name', 'steam_appid', 'type', 'about_the_game', 'short_description', 'total_recommendations', ]\n",
        "      writer.writerow(cols)\n",
        "\n",
        "  # Same as before, but the 'other.csv' file will contain all the applications that\n",
        "  # are not games or DLCs\n",
        "  if not os.path.exists('output_files/other.csv'):\n",
        "    with open('output_files/other.csv', 'w') as F_1:\n",
        "      writer_1 = csv.writer(F_1)\n",
        "      cols = ['steam_appid']\n",
        "      writer_1.writerow(cols)\n",
        "\n",
        "  # Loop over the entire list of application to find games and DLCs\n",
        "  for i, row in tqdm(app_ids.to_frame().iterrows(), total = app_ids.shape[0]):\n",
        "    # This sleep is needed to avoid the overcame of the time-limit of the API\n",
        "      if i%20 == 0:\n",
        "          time.sleep(15)\n",
        "      app_id = row['appid']\n",
        "      game_info = get_game_info(app_id)\n",
        "      if game_info != {}:\n",
        "        # get only the needed informations\n",
        "          if game_info['type'] == 'game' or game_info['type'] == 'dlc':\n",
        "              data = []\n",
        "              data.append(game_info['name'])\n",
        "              data.append(game_info['steam_appid'])\n",
        "              data.append(game_info['type'])\n",
        "              data.append(game_info['about_the_game'])\n",
        "              data.append(game_info['short_description'])\n",
        "              try:\n",
        "                  data.append(game_info['recommendations']['total'])\n",
        "              # this could happen both because no reviews were left for the game\n",
        "              # or because no reviews were left for the game in the past 365\n",
        "              # days\n",
        "              except KeyError:\n",
        "                  data.append(0)\n",
        "              with open('output_files/games.csv', 'a') as F:\n",
        "                writer = csv.writer(F)\n",
        "                writer.writerow(data)\n",
        "          else:\n",
        "            with open('output_files/other.csv', 'a') as F_1:\n",
        "              writer_1 = csv.writer(F_1)\n",
        "              writer_1.writerow([app_id])\n",
        "      else:\n",
        "        with open('output_files/other.csv', 'a') as F_1:\n",
        "          writer_1 = csv.writer(F_1)\n",
        "          writer_1.writerow([app_id])\n",
        "\n",
        "  # Needed clean in order to correctly format the csv file\n",
        "  def clean_html(raw_html):\n",
        "    \"\"\"\n",
        "    This function is used to delete the HTML tags and their content from the text\n",
        "    thanks to the CLEANER_TAGS regex\n",
        "    \"\"\"\n",
        "    # This is a regex needed to remove HTML tags from the texts\n",
        "    CLEANER_TAGS = re.compile('<.*?>|&([a-z0-9]+|#[0-9]{1,6}|#x[0-9a-f]{1,6});')\n",
        "    cleantext = re.sub(CLEANER_TAGS, '', raw_html)\n",
        "    return cleantext\n",
        "\n",
        "  def clean_separators(raw_text):\n",
        "    \"\"\"\n",
        "    This function is used to delete the charachters that are used as csv\n",
        "    separators thanks to the CLEANER_SEPARATORS regex\n",
        "    \"\"\"\n",
        "    # This is a regex needed to remove all the characters that could be read as\n",
        "    # separators in the .csv file\n",
        "    CLEANER_SEPARATORS = re.compile(r'[,\\t;|]')\n",
        "    cleanedtext = re.sub(CLEANER_SEPARATORS, '', raw_text)\n",
        "    return cleanedtext\n",
        "\n",
        "  def format_string(raw_text):\n",
        "    \"\"\"\n",
        "    This function is needed to remove all the multiple whitespaces in the text\n",
        "    \"\"\"\n",
        "    return ' '.join(raw_text.split())\n",
        "\n",
        "  games_df = pd.read_csv(\"/content/gdrive/MyDrive/VideogameRecommenderSystem/games.csv\")\n",
        "\n",
        "  games_df['name'] = games_df['name'].astype(str)\n",
        "  games_df['name'] = games_df['name'].apply(clean_separators)\n",
        "  games_df['name'] = games_df['name'].apply(format_string)\n",
        "\n",
        "  games_df['about_the_game'] = games_df['about_the_game'].astype(str)\n",
        "  games_df['about_the_game'] = games_df['about_the_game'].apply(clean_html)\n",
        "  games_df['about_the_game'] = games_df['about_the_game'].apply(clean_separators)\n",
        "  games_df['about_the_game'] = games_df['about_the_game'].apply(format_string)\n",
        "\n",
        "  games_df['short_description'] = games_df['short_description'].astype(str)\n",
        "  games_df['short_description'] = games_df['short_description'].apply(clean_html)\n",
        "  games_df['short_description'] = games_df['short_description'].apply(clean_separators)\n",
        "  games_df['short_description'] = games_df['short_description'].apply(format_string)\n",
        "\n",
        "  games_df = games_df[['name', 'steam_appid', 'type', 'about_the_game', 'short_description', 'total_recommendations']]\n",
        "\n",
        "  games_df.to_csv('/content/gdrive/MyDrive/VideogameRecommenderSystem/games.csv', index=False)\n",
        "\n",
        "else:\n",
        "  print(\"'games.csv' file found\")"
      ]
    },
    {
      "cell_type": "markdown",
      "metadata": {
        "id": "io1dGu_XnqLH"
      },
      "source": [
        "### Missing *players.csv* file\n",
        "If the file containing the informations about the games (either complete games or DLCs) is missing, the following script will be executed.\n",
        "\n",
        "The script acts as following:\n",
        "\n",
        "\n",
        "*   At first imports all the needed libraries\n",
        "*   Then filters the games collected before by getting only the ones for which the *total_recommendation* column in the file *games.csv* has at least 1 recommendation (as said before this could not get all the games that have at least one recommendation due to the year-limit of the API but this limit will be overcome later during the collection of the reviews that will be done starting from the players and not from the games)\n",
        "* Then for each one of the games filtered the script will try to get the **first 100 players** by retrieving the **100 most valuable reviews** for the game. The Steam store in fact gives the possibility to the user to judge the reviews left by other players by voting them as *useful* or *not useful*. By providing the request made in the script the API will return as result at most the first 100 reviews that were also judged as the most useful for the game. This decision has been made in order to avoid troll reviews or reviews done for review bombing which are pretty common in Steam\n",
        "* The Steam identification numbers of the players are then saved in the *players.csv* file\n",
        "\n"
      ]
    },
    {
      "cell_type": "code",
      "execution_count": null,
      "metadata": {
        "colab": {
          "base_uri": "https://localhost:8080/"
        },
        "id": "QU24K0ORCsm7",
        "outputId": "bceb4273-538c-48be-c086-23901b806e30"
      },
      "outputs": [
        {
          "output_type": "stream",
          "name": "stdout",
          "text": [
            "'players.csv' file found\n"
          ]
        }
      ],
      "source": [
        "if not players:\n",
        "  # Filter to get only the games that in the last year have been reviewed at\n",
        "  # least one time\n",
        "  df = pd.read_csv('output_files/games.csv')\n",
        "  df_tmp = df[df['total_recommendations']>0]\n",
        "  app_ids = df_tmp['steam_appid'].tolist()\n",
        "\n",
        "\n",
        "  # Prepare to save the players, it is important to use a set because it is\n",
        "  # important to not have duplicated users from which the reviews will be\n",
        "  # later retrieved\n",
        "  players = set()\n",
        "\n",
        "\n",
        "  # This framework is used to make the script robust to errors and to possible\n",
        "  # re-execution.\n",
        "  # The script first checks if some players were already found, if not it will\n",
        "  # create the file to save their ids\n",
        "  if not os.path.exists('output_files/players.csv'):\n",
        "    print(\"No players found.\")\n",
        "    with open('output_files/players.csv', 'w') as F:\n",
        "      writer = csv.writer(F)\n",
        "      cols = ['steam_id', ]\n",
        "      writer.writerow(cols)\n",
        "  # If some players were already saved then the starting set is set to the\n",
        "  # ids that were previously collected\n",
        "  else:\n",
        "    print(\"Some players found, ids loaded.\")\n",
        "    df_players = pd.read_csv('output_files/players.csv')\n",
        "    players = set(df_players['steam_id'].tolist())\n",
        "\n",
        "  # This file is used to collect possible games whose resolution is not\n",
        "  # successful and it is mostly used to have an hint of the 'health' of the\n",
        "  # current execution of the script and so is created at any execution of the\n",
        "  # script\n",
        "  with open('output_files/error_appid.csv', 'w') as F_1:\n",
        "    writer_1 = csv.writer(F_1)\n",
        "    cols = ['steam_appid', ]\n",
        "    writer_1.writerow(cols)\n",
        "\n",
        "  # This file collects the games for which the 100 most valuable players have\n",
        "  # been collected, since the script must be resilient to error and re-executions\n",
        "  # at any new execution the script will check for its existence and if the file\n",
        "  # is not found it will create it\n",
        "  if not os.path.exists('output_files/resolved_appid.csv'):\n",
        "    print('No resolved ids found.')\n",
        "    with open('output_files/resolved_appid.csv', 'w') as F_2:\n",
        "      writer_2 = csv.writer(F_2)\n",
        "      cols = ['steam_appid', ]\n",
        "      writer_2.writerow(cols)\n",
        "  # Naturally if the file is found it means that some games were already resolved\n",
        "  # and in order to not make duplicate requests the appids of the resolved\n",
        "  # applications are removed from the list of the applications that must be\n",
        "  # resolved in the execution\n",
        "  else:\n",
        "    print('Already resolved some games ids, removing them from the list...')\n",
        "    df_resolved = pd.read_csv('output_files/resolved_appid.csv')\n",
        "    resolved_app_ids = df_resolved['steam_appid'].tolist()\n",
        "    app_ids = list(set(app_ids) - set(resolved_app_ids))\n",
        "\n",
        "\n",
        "  # Loops over all the appids that must be resolved\n",
        "  for app_id in tqdm(app_ids, total=len(app_ids)):\n",
        "    # Try to get the 100 most valuable reviews (and following the 100 most\n",
        "    # valuable users that have written those reviews)\n",
        "    url = f'https://store.steampowered.com/appreviews/{app_id}?json=1&language=all&num_per_page=100'\n",
        "    # This sleep is needed in order to not exceed the time-limit imposed by the\n",
        "    # API\n",
        "    time.sleep(1)\n",
        "    try:\n",
        "      response = requests.get(url)\n",
        "    except:\n",
        "      with open('output_files/error_appid.csv', 'a') as F_1:\n",
        "        writer_1 = csv.writer(F)\n",
        "        writer.writerow([app_id])\n",
        "        continue\n",
        "    if response.status_code == 200:\n",
        "      data = response.json()\n",
        "      # If the request is successfull for each review the script saves the\n",
        "      # player id\n",
        "      with open('output_files/players.csv', 'a') as F:\n",
        "        writer = csv.writer(F)\n",
        "        for review in data['reviews']:\n",
        "          player_id = review['author']['steamid']\n",
        "          if player_id not in players:\n",
        "            players.add(player_id)\n",
        "            writer.writerow([player_id])\n",
        "      # And save the appid as one that has been resolved\n",
        "      with open('output_files/resolved_appid.csv', 'a') as F_2:\n",
        "        writer_2 = csv.writer(F_2)\n",
        "        writer_2.writerow([app_id])\n",
        "    else:\n",
        "      with open('output_files/error_appid.csv', 'a') as F_1:\n",
        "        writer_1 = csv.writer(F_1)\n",
        "        writer_1.writerow([app_id])\n",
        "else:\n",
        "  print(\"'players.csv' file found\")"
      ]
    },
    {
      "cell_type": "markdown",
      "metadata": {
        "id": "jZyyO02ZHCPH"
      },
      "source": [
        "### Missing *games_reviews.csv* file\n",
        "After getting all the players interesting for the system it's time to collect the reviews that they wrote.\n",
        "The aim of the project is to create a **Collaborative Filtering Recommender System** and for this reason is important to collect the reviews not much for the specific items that the system will recommend but moreover for the specific users of the system that will later on be used in order to compute the similarities among the user that wants the recommendation and the ones that are collected in the system.\n",
        "The Steam APIs (in addition of not having the possibility to check for reviews older than 1 year from the request - which can be naturally a big problem since, excluding some games that are continuously consumed by new users, games are usally reviewed only in the few following months from the publishing) does not actually give the possibility to get the reviews starting from the users.\n",
        "In order to overcome this two big limitation an ad-hoc scraper has been created.\n",
        "\n",
        "The script used to retrieve the games review starting from the users acts as following:\n",
        "\n",
        "\n",
        "*   Import all the needed libraries\n",
        "*   Define the function that is used, given a Steam id for an user and a page number indicating a page of their *review section* on their Steam profile, to parse the HTML page got as response of the request and save **only** the reviews from the response\n",
        "*   Retrieve the previously found players\n",
        "*   For each one of the found players, the script will get all the reviews written by the players together with the needed information got from the reivew\n",
        "\n",
        "\n",
        "It is important to notice that the saved information for each review are: **Steam id of the author** (corresponding to the *steam_id* column in the file), the **Application id for which the review has been written** (corresponding to the *app_id* column in the file), the **recommendation** given by the user for the application (can either be *Recommended* or *Not Recommended* and it's corresponding to the *recommended* column in the file) and the **amount of hours for which the user has played the game** (can be not present or present with two different values corresponding to the **total amount of time for which the user has been playing the game** and the **total amount of time for which the user has played the game at the moment of the writing of the review**; this data corresponds to the *hours_played* in the file).\n",
        "There are two important aspects that deserve to be mentioned: the first one is that it has been decided to not take in consideration the textual feedback given by the users; this is because the textual feedback is not actually mandatory in order to submit a review for a game and also because even if present the textual feedback can be actually unusefull in order to understand the feeling of the user towards the game (since it can be composed by emoticons or ASCII drawings). The second one is strictly connected to the aspect just mentioned: as already said the recommendations on Steam can only be categorized as *Recommended* or *Not Recommended* meaning the user cannot express **how much** they recommend or not a game; it's in this situation that the **hours that players spent playing the games** are helpful: by having an idea of **how much is the average time to complete a game** (which will be later explained) it is possible to convert the simple recommendation on a larger scale of grades (by taking in account how much time they spent before writing the review, if they continued playing the game after that and so on...). Naturally not all the reviews are connected to the play-time of the users (since it's possible to play the games without having Steam collecting the user data about the gaming experience), in this case the reviews will be considered *neutral with a positive (or negative) meaning*.\n",
        "\n",
        "\n"
      ]
    },
    {
      "cell_type": "code",
      "execution_count": null,
      "metadata": {
        "colab": {
          "base_uri": "https://localhost:8080/"
        },
        "id": "SaryZNlNPiAF",
        "outputId": "33d9db08-5747-4d85-e73a-8db44b674f4a"
      },
      "outputs": [
        {
          "output_type": "stream",
          "name": "stdout",
          "text": [
            "'game_reviews.csv' file found\n"
          ]
        }
      ],
      "source": [
        "if not game_reviews:\n",
        "  # Define the function needed to retrieve all the reviews written by an user\n",
        "  # and found in a specific page of the review section of their profile\n",
        "  def get_reviews(steam_id, page_number):\n",
        "    \"\"\"\n",
        "    This function parse the given page page_number for the review section of the\n",
        "    of the user profile with steam_id identification number. From the page it\n",
        "    returns the list of all the reviews in page (all characterized by the tag\n",
        "    <class='review_box'> in the HTML page)\n",
        "    \"\"\"\n",
        "    url = f\"https://steamcommunity.com/profiles/{steam_id}/recommended/?p={page_number}\"\n",
        "    # The user agent is defined in order to avoid to be recognized as a Python\n",
        "    # bot by the website\n",
        "    headers = {'User-Agent': 'Mozilla/5.0'}\n",
        "    response = requests.get(url, headers=headers)\n",
        "    soup = BeautifulSoup(response.text, \"html.parser\")\n",
        "    reviews = soup.findAll('div', {'class': 'review_box'})\n",
        "    return reviews\n",
        "\n",
        "\n",
        "  # Get all the previously found players\n",
        "  df_players = pd.read_csv('output_files/players.csv')\n",
        "  steam_ids = set(df_players['steam_id'].tolist())\n",
        "\n",
        "\n",
        "  # This framework is used in order to make the script resilient to errors and\n",
        "  # re-execution\n",
        "  # Specifically at any execution it will check if the file containing the reviews\n",
        "  # is present; if not it will create it\n",
        "  if not os.path.exists('output_files/game_reviews.csv'):\n",
        "    print(\"Creating review file...\")\n",
        "    with open('output_files/game_reviews.csv', 'w') as F:\n",
        "      writer = csv.writer(F)\n",
        "      cols = ['steam_id', 'app_id', 'recommended', 'hours_played']\n",
        "      writer.writerow(cols)\n",
        "  # If it is present the reviews will be appended to the pratial result\n",
        "  else:\n",
        "    print(\"Review file found, next reviews will be appended\")\n",
        "\n",
        "  # As before the error file is used to have an hint of the 'health' of the\n",
        "  # execution and to store all the users ids for which the retrieving of the\n",
        "  # reviews has not worked.\n",
        "  # Since the error file is not used to successfully resume execution after an\n",
        "  # interruption the file is created brand new at any execution\n",
        "  with open('output_files/error_steam_ids.csv', 'w') as F_1:\n",
        "    writer_1 = csv.writer(F_1)\n",
        "    cols = ['steam_id']\n",
        "    writer_1.writerow(cols)\n",
        "\n",
        "  # As before it is important to save the resolved user for which the reviews\n",
        "  # has already been collected, so it is important to have a file that stores\n",
        "  # all the resolved users, the script will check at any execution if the file is\n",
        "  # present: if not it will create it\n",
        "  if not os.path.exists('output_files/resolved_steam_ids.csv'):\n",
        "    print(\"No resolved steam ids found.\")\n",
        "    with open('output_files/resolved_steam_ids.csv', 'w') as F_2:\n",
        "      writer = csv.writer(F_2)\n",
        "      cols = ['steam_id']\n",
        "      writer.writerow(cols)\n",
        "  # If not present the alreay resolved users will be deleted from the ones that\n",
        "  # must be resolved.\n",
        "  # It is important to notice that this framework limits the duplication in case\n",
        "  # of abruption of the script: in fact the worst case is the one for which the\n",
        "  # script interrupts while having resolved some but not all the reviews for a user.\n",
        "  # In this case at the following execution of the script that user will be again\n",
        "  # resolved and some of the reviews will be duplicated but they can be easily\n",
        "  # removed later\n",
        "  else:\n",
        "    print(\"Some resolved steam ids found, ids loaded.\")\n",
        "    df_resolved = pd.read_csv('output_files/resolved_steam_ids.csv')\n",
        "    resolved_steam_ids = df_resolved['steam_id'].tolist()\n",
        "    steam_ids = list(set(steam_ids) - set(resolved_steam_ids))\n",
        "\n",
        "\n",
        "  # Loops for each user that must be resolved\n",
        "  for steam_id in tqdm(steam_ids, total=len(steam_ids)):\n",
        "    # i is a counter that show at which page of the 'reviews' section of the\n",
        "    # profile of a specific user the script has arrived; it is important to\n",
        "    # notice that the pages will always start from 1 and goes on up until all\n",
        "    # the reviews has been showed\n",
        "    # When analyzing a new user the page counter is set to 0\n",
        "    i = 0\n",
        "    # This sleep is used to wait a bit before processing a new user, in this\n",
        "    # way the Steam website will never be overflooded by requests and the\n",
        "    # scraping won't go against the terms of usage\n",
        "    time.sleep(1.5)\n",
        "    # Up until is possible to find more reviews\n",
        "    while True:\n",
        "      # The script will analyze a new page of the 'review' section of the profile\n",
        "      i += 1\n",
        "      try:\n",
        "        reviews = get_reviews(steam_id, i)\n",
        "      except:\n",
        "        with open('output_files/error_steam_ids.csv', 'a') as F_1:\n",
        "          writer_1 = csv.writer(F_1)\n",
        "          writer_1.writerow([steam_id])\n",
        "          break\n",
        "      # If some reviews are found\n",
        "      # This check is useful because for each user is possible to check any page\n",
        "      # wanted to be checked from the 'review' section of the profile but if the\n",
        "      # user did not wrote as much reviews needed to complete all the previous\n",
        "      # pages the list returned by the parser will be empty\n",
        "      if reviews != []:\n",
        "          # For each review written by the user collect all the needed informations\n",
        "          for review in reviews:\n",
        "            review_data = []\n",
        "            # The author of the review\n",
        "            review_data.append(str(steam_id))\n",
        "            # The steam application id: in the section of the HTML page\n",
        "            # characterized by the tag <class='game_capsule_ctn'> is present a\n",
        "            # picture representing the thumbnail of the game, the image is linked\n",
        "            # to the application page on the Steam store and so it is possible\n",
        "            # to get from the link the Steam appid of the application.\n",
        "            # All the links have the following structure\n",
        "              # https://steamcommunity.com/app/{app_id}\n",
        "            # and so the app_id can be found starting from the character present\n",
        "            # in the position 31 of the string up until the end of the link\n",
        "            app_id = review.find('a', {'class': 'game_capsule_ctn'})['href'][31:]\n",
        "            review_data.append(app_id)\n",
        "            # The value for the recommendation of the review\n",
        "            recommended = review.find('div', {'class': 'title'}).text\n",
        "            review_data.append(recommended)\n",
        "            # The amount of hours played by the user for the game\n",
        "            hours_played = review.find('div', {'class': 'hours'}).text\n",
        "            hours_played = hours_played.replace('\\r', '')\n",
        "            hours_played = hours_played.replace('\\n', '')\n",
        "            hours_played = hours_played.replace('\\t', '')\n",
        "            review_data.append(hours_played)\n",
        "            # Then save the information for the review\n",
        "            with open('output_files/game_reviews.csv', 'a') as F:\n",
        "              writer = csv.writer(F)\n",
        "              writer.writerow(review_data)\n",
        "      # When no more new pages with reviews can be found than the user can be\n",
        "      # considered resolved\n",
        "      else:\n",
        "        with open('output_files/resolved_steam_ids.csv', 'a') as F_2:\n",
        "          writer_2 = csv.writer(F_2)\n",
        "          writer_2.writerow([steam_id])\n",
        "          break\n",
        "\n",
        "\n",
        "  # After getting all the reviews is important to maintain only the ones about\n",
        "  # the apps that are in the 'games.csv' since it could happen that there are\n",
        "  # some reviews about games that are not in the total lists of game that the\n",
        "  # recommender system is considering\n",
        "  df_rev = pd.read_csv('output_files/game_reviews.csv')\n",
        "  df_game = pd.read_csv('output_files/games.csv')\n",
        "\n",
        "  df_game = df_game[['name', 'steam_appid']]\n",
        "  df_rev = df_rev[df_rev['app_id'].isin(df_game['steam_appid'])]\n",
        "  df_rev.to_csv('output_files/game_reviews.csv', index=False)\n",
        "else:\n",
        "  print(\"'game_reviews.csv' file found\")"
      ]
    },
    {
      "cell_type": "markdown",
      "metadata": {
        "id": "sQko9KeZVzWN"
      },
      "source": [
        "### Missing *hours_stat.csv* file\n",
        "As already mentioned in order to get the *rating* of a review written by an user is important to know the average time needed to complete a game (in this way it's possible to compare how many hours the played the game and understand if the user had a complete knowledge about the game in order to express the recommendation). Since knowing how long a game is it has always been an important notion for gamers, there is a portal, called *howlongtobeat* that provide the amount of time (estimated from the data given by the user of the platform) that is needed to complete a game.\n",
        "How Long To Beat actually provides at most 4 different possible values: the amount of time needed to **complete the main storyline**, the amount of time needed to **complete the main storyline and the extra-quests**, the amount of time needed to **complete the game at 100%** (with all the secrets) and the amount of time used by a **casual gamer wihtout any specific objectives**.\n",
        "It is importat to understand though that not all the games present on Steam are also listed on HLTB (since Steam is full of indie games that are not widely played)\n",
        "\n",
        "In order to retrieve the data from the website the API has been used. The script used to retrive the needed data acts as following:\n",
        "\n",
        "\n",
        "*   Imports all the needed libraries\n",
        "*   Filters all the games for which is present at least one review\n",
        "*   Creates a connection to the How Long To Beat portal and retrieves all the wanted information from the portal\n",
        "\n"
      ]
    },
    {
      "cell_type": "code",
      "execution_count": null,
      "metadata": {
        "colab": {
          "base_uri": "https://localhost:8080/"
        },
        "id": "fxb2vyOGYAOf",
        "outputId": "3a0750b8-cfb7-409a-b675-e52170c9bb3f"
      },
      "outputs": [
        {
          "output_type": "stream",
          "name": "stdout",
          "text": [
            "'hours_stat.csv' file found\n"
          ]
        }
      ],
      "source": [
        "if not hours_stat:\n",
        "  # Filter all the games for which there is a review in the dataset\n",
        "  df_game = pd.read_csv('output_files/games.csv')\n",
        "  df_rev = pd.read_csv('output_files/game_reviews.csv')\n",
        "  df_game = df_game[df_game['steam_appid'].isin(df_rev['app_id'])]\n",
        "  df_game = df_game.dropna(subset=['name'])\n",
        "\n",
        "  # Create a dictionary with interesting information about games to be saved later\n",
        "  game_dict = dict(zip(df_game['name'], df_game['steam_appid']))\n",
        "  # Retrieve all the titles of the interesting games\n",
        "  titles = game_dict.keys()\n",
        "\n",
        "  # This framework is used to make the script resilient to errors and re-executions\n",
        "  # Since if for a game the information has already been collected it must not\n",
        "  # be analyzed again the script check at any execution if the file that stores\n",
        "  # the resolved games exists; if not it will create it, if present it will remove\n",
        "  # the resolved games from the ones that must be resolved\n",
        "  if os.path.exists('output_files/resolved_games.csv'):\n",
        "    print('Already resolved some titles, removing them from the list...')\n",
        "    resolved_df = pd.read_csv('output_files/resolved_games.csv')\n",
        "    resolved_titles = resolved_df['title'].tolist()\n",
        "    titles = list(set(titles) - set(resolved_titles))\n",
        "  else:\n",
        "    print('No resolved games yet, starting from the beginning...')\n",
        "    with open('output_files/hours_stat.csv', 'w') as F:\n",
        "      writer = csv.writer(F)\n",
        "      cols = ['title', 'steam_appid', 'main_story', 'main_extra', 'complesionist', 'all_styles', ]\n",
        "      writer.writerow(cols)\n",
        "    with open('output_files/resolved_games.csv', 'w') as F_1:\n",
        "      writer_1 = csv.writer(F_1)\n",
        "      writer_1.writerow(['title'])\n",
        "  with open('output_files/unresolved_games.csv', 'w') as F_2:\n",
        "      writer_2 = csv.writer(F_2)\n",
        "      writer_2.writerow(['title'])\n",
        "\n",
        "\n",
        "  # It creates a connection with the How Long To Beat API\n",
        "  hltb = HowLongToBeat()\n",
        "  # Loops over all the needed games\n",
        "  for title in tqdm(titles, total=len(titles)):\n",
        "    app_id = game_dict[title]\n",
        "    try:\n",
        "      results = hltb.search(title)\n",
        "    except:\n",
        "      with open('output_files/unresolved_games.csv', 'a') as F_2:\n",
        "        writer_2 = csv.writer(F_2)\n",
        "        writer_2.writerow([title])\n",
        "    # If the request on the site is successfull and the game is on the platform\n",
        "    # it collects the hours statistics for each 'game style'\n",
        "    if results != None:\n",
        "      if len(results) > 0:\n",
        "        game = results[0]\n",
        "        data = []\n",
        "        data.append(title)\n",
        "        data.append(app_id)\n",
        "        data.append(game.main_story)\n",
        "        data.append(game.main_extra)\n",
        "        data.append(game.completionist)\n",
        "        data.append(game.all_styles)\n",
        "      # If the game is not present on the platform all the statistics will be\n",
        "      # set to 0\n",
        "      else:\n",
        "        data = []\n",
        "        data.append(title)\n",
        "        data.append(app_id)\n",
        "        data.append(0)\n",
        "        data.append(0)\n",
        "        data.append(0)\n",
        "        data.append(0)\n",
        "      # The statistics will be saved\n",
        "      with open('output_files/hours_stat.csv', 'a') as F:\n",
        "        writer = csv.writer(F)\n",
        "        writer.writerow(data)\n",
        "      # And the game will considered resolved\n",
        "      with open('output_files/resolved_games.csv', 'a') as F_1:\n",
        "        writer_1 = csv.writer(F_1)\n",
        "        writer_1.writerow([title])\n",
        "    else:\n",
        "      with open('output_files/unresolved_games.csv', 'a') as F_2:\n",
        "        writer_2 = csv.writer(F_2)\n",
        "        writer_2.writerow([title])\n",
        "else:\n",
        "  print(\"'hours_stat.csv' file found\")"
      ]
    },
    {
      "cell_type": "markdown",
      "metadata": {
        "id": "dxNM5GjX4qLa"
      },
      "source": [
        "#PySpark Initialization\n",
        "\n",
        "Since the project will be over a large amount of data is pretty much useful to use Pyspark in order to manage the data (and later on the models). In this section the session to the Pyspark framework will be initializated."
      ]
    },
    {
      "cell_type": "code",
      "execution_count": null,
      "metadata": {
        "colab": {
          "base_uri": "https://localhost:8080/"
        },
        "id": "yXQRLwrI5AKI",
        "outputId": "e69e74f2-7ec7-47d8-dacd-bd2aa9dd4cc0"
      },
      "outputs": [
        {
          "output_type": "stream",
          "name": "stdout",
          "text": [
            "Collecting pyspark\n",
            "  Downloading pyspark-3.4.1.tar.gz (310.8 MB)\n",
            "\u001b[2K     \u001b[90m━━━━━━━━━━━━━━━━━━━━━━━━━━━━━━━━━━━━━━━\u001b[0m \u001b[32m310.8/310.8 MB\u001b[0m \u001b[31m2.3 MB/s\u001b[0m eta \u001b[36m0:00:00\u001b[0m\n",
            "\u001b[?25h  Preparing metadata (setup.py) ... \u001b[?25l\u001b[?25hdone\n",
            "Requirement already satisfied: py4j==0.10.9.7 in /usr/local/lib/python3.10/dist-packages (from pyspark) (0.10.9.7)\n",
            "Building wheels for collected packages: pyspark\n",
            "  Building wheel for pyspark (setup.py) ... \u001b[?25l\u001b[?25hdone\n",
            "  Created wheel for pyspark: filename=pyspark-3.4.1-py2.py3-none-any.whl size=311285388 sha256=ad58122374ee3031ac0975b1131552689244949ed54ff0256eddb9e7ef80631c\n",
            "  Stored in directory: /root/.cache/pip/wheels/0d/77/a3/ff2f74cc9ab41f8f594dabf0579c2a7c6de920d584206e0834\n",
            "Successfully built pyspark\n",
            "Installing collected packages: pyspark\n",
            "Successfully installed pyspark-3.4.1\n"
          ]
        }
      ],
      "source": [
        "# Install PySpark\n",
        "!pip install pyspark"
      ]
    },
    {
      "cell_type": "code",
      "execution_count": null,
      "metadata": {
        "id": "QNeCQ1NB5wBR"
      },
      "outputs": [],
      "source": [
        "# Import libraries\n",
        "import pyspark\n",
        "from pyspark.sql import *\n",
        "from pyspark.sql.types import *\n",
        "# It is important to notice that in order to make use later on of Python functions\n",
        "# like min and max is necessary to rename the Pyspark.sql functions that would\n",
        "# otherwise override the Python functions\n",
        "from pyspark.sql import functions as sqlf\n",
        "from pyspark import SparkContext, SparkConf\n",
        "# This libraries will later on be used to train the Collaborative Filtering\n",
        "# model\n",
        "from pyspark.ml.recommendation import ALS\n",
        "from pyspark.ml.evaluation import RegressionEvaluator\n",
        "from pyspark.ml.tuning import ParamGridBuilder, CrossValidator"
      ]
    },
    {
      "cell_type": "code",
      "execution_count": null,
      "metadata": {
        "id": "y-MLR86M5-T2"
      },
      "outputs": [],
      "source": [
        "# Create the session\n",
        "conf = SparkConf().\\\n",
        "                set('spark.ui.port', \"4050\").\\\n",
        "                set('spark.executor.memory', '4G').\\\n",
        "                set('spark.driver.memory', '45G').\\\n",
        "                set('spark.driver.maxResultSize', '10G').\\\n",
        "                set('setCheckpointDir', '/content/gdrive/MyDrive/VideogameRecommenderSystem/checkpoints_pyspark').\\\n",
        "                setAppName(\"VideogameRecommenderSystem\").\\\n",
        "                setMaster(\"local[*]\")\n",
        "\n",
        "# Create the context\n",
        "sc = pyspark.SparkContext(conf=conf)\n",
        "spark = SparkSession.builder.getOrCreate()"
      ]
    },
    {
      "cell_type": "code",
      "execution_count": null,
      "metadata": {
        "id": "SKL00xk9W4s2",
        "colab": {
          "base_uri": "https://localhost:8080/"
        },
        "outputId": "725f822f-f621-4016-efa8-4a95556fa347"
      },
      "outputs": [
        {
          "output_type": "stream",
          "name": "stderr",
          "text": [
            "WARNING:pyngrok.process.ngrok:t=2023-08-16T12:54:01+0000 lvl=warn msg=\"ngrok config file found at legacy location, move to XDG location\" xdg_path=/root/.config/ngrok/ngrok.yml legacy_path=/root/.ngrok2/ngrok.yml\n"
          ]
        }
      ],
      "source": [
        "# This is needed to expose publicly the ngrok tunnel to the Spark UI\n",
        "port = '4050'\n",
        "public_url = ngrok.connect(port).public_url"
      ]
    },
    {
      "cell_type": "code",
      "execution_count": null,
      "metadata": {
        "id": "_-S3UA6xW8e5",
        "colab": {
          "base_uri": "https://localhost:8080/"
        },
        "outputId": "036a36e2-d3c7-455b-ad6c-ec3339050cbf"
      },
      "outputs": [
        {
          "output_type": "stream",
          "name": "stdout",
          "text": [
            "To access the Spark Web UI console, please click on the following link to the ngrok tunnel \"https://173e-34-74-255-57.ngrok-free.app\" -> \"http://127.0.0.1:4050\"\n"
          ]
        }
      ],
      "source": [
        "print(\"To access the Spark Web UI console, please click on the following link to the ngrok tunnel \\\"{}\\\" -> \\\"http://127.0.0.1:{}\\\"\".format(public_url, port))"
      ]
    },
    {
      "cell_type": "code",
      "execution_count": null,
      "metadata": {
        "id": "khisiCn96zxf",
        "colab": {
          "base_uri": "https://localhost:8080/",
          "height": 219
        },
        "outputId": "38964974-03aa-429e-c6df-c5cad40e33d5"
      },
      "outputs": [
        {
          "output_type": "execute_result",
          "data": {
            "text/plain": [
              "<pyspark.sql.session.SparkSession at 0x79d550c12a10>"
            ],
            "text/html": [
              "\n",
              "            <div>\n",
              "                <p><b>SparkSession - in-memory</b></p>\n",
              "                \n",
              "        <div>\n",
              "            <p><b>SparkContext</b></p>\n",
              "\n",
              "            <p><a href=\"http://9275baec2ea4:4050\">Spark UI</a></p>\n",
              "\n",
              "            <dl>\n",
              "              <dt>Version</dt>\n",
              "                <dd><code>v3.4.1</code></dd>\n",
              "              <dt>Master</dt>\n",
              "                <dd><code>local[*]</code></dd>\n",
              "              <dt>AppName</dt>\n",
              "                <dd><code>VideogameRecommenderSystem</code></dd>\n",
              "            </dl>\n",
              "        </div>\n",
              "        \n",
              "            </div>\n",
              "        "
            ]
          },
          "metadata": {},
          "execution_count": 18
        }
      ],
      "source": [
        "# To check if the Spark session has been correctly started\n",
        "spark"
      ]
    },
    {
      "cell_type": "markdown",
      "metadata": {
        "id": "clojI9dU1AfO"
      },
      "source": [
        "#Data Cleaning\n",
        "In the following section I will explain in detail the job done in order to clean the data collected.\n",
        "\n",
        "Specifically each table has been cleaned in order to have the data pre-processed and ready to be used for further operations."
      ]
    },
    {
      "cell_type": "markdown",
      "metadata": {
        "id": "6jVcUeWOBiXe"
      },
      "source": [
        "##*games.csv* cleaning\n",
        "In this section is presented the pre-eliminary work done to clean the games.csv table (that will be later on be re-done in order to pre-process the data for the document clustering)."
      ]
    },
    {
      "cell_type": "code",
      "execution_count": null,
      "metadata": {
        "id": "jRXMJ2ro7dBy"
      },
      "outputs": [],
      "source": [
        "# Load the needed data\n",
        "games_df = spark.read.load('/content/gdrive/MyDrive/VideogameRecommenderSystem/games.csv',\n",
        "                           format=\"csv\",\n",
        "                           sep=\",\",\n",
        "                           inferSchema=\"true\",\n",
        "                           header=\"true\")"
      ]
    },
    {
      "cell_type": "code",
      "execution_count": null,
      "metadata": {
        "colab": {
          "base_uri": "https://localhost:8080/"
        },
        "id": "wh2D0kuVVpUJ",
        "outputId": "33d5fb1d-d08b-49bd-af47-81d362db1b40"
      },
      "outputs": [
        {
          "output_type": "stream",
          "name": "stdout",
          "text": [
            "Row number: 131974 \n",
            "Column number: 6\n"
          ]
        }
      ],
      "source": [
        "# Present the structure of the data\n",
        "print(\"Row number:\", games_df.count(), \"\\nColumn number:\", len(games_df.columns))"
      ]
    },
    {
      "cell_type": "code",
      "execution_count": null,
      "metadata": {
        "colab": {
          "base_uri": "https://localhost:8080/"
        },
        "id": "ahr9wVKKwDvz",
        "outputId": "c8ddbbc6-48aa-4fbc-d92a-83cb296dd008"
      },
      "outputs": [
        {
          "output_type": "stream",
          "name": "stdout",
          "text": [
            "root\n",
            " |-- name: string (nullable = true)\n",
            " |-- steam_appid: integer (nullable = true)\n",
            " |-- type: string (nullable = true)\n",
            " |-- about_the_game: string (nullable = true)\n",
            " |-- short_description: string (nullable = true)\n",
            " |-- total_recommendations: integer (nullable = true)\n",
            "\n"
          ]
        }
      ],
      "source": [
        "# Check for the columns in the table\n",
        "games_df.printSchema()"
      ]
    },
    {
      "cell_type": "markdown",
      "source": [
        "Since the data will later on be used for clustering is important to remove rows for which the plot of the game has not been collected. In order to achieve this it is important to inspect if there are some NaNs value on important columns and, if the rows are not too much, remove them"
      ],
      "metadata": {
        "id": "taCYUf_Z_xNU"
      }
    },
    {
      "cell_type": "code",
      "execution_count": null,
      "metadata": {
        "colab": {
          "base_uri": "https://localhost:8080/"
        },
        "id": "QXcP3Wf1UUAm",
        "outputId": "c120aef0-c57f-477e-df0a-3566bc6946e1"
      },
      "outputs": [
        {
          "output_type": "stream",
          "name": "stdout",
          "text": [
            "+-------+------+-----------+------+--------------+-----------------+---------------------+\n",
            "|summary|  name|steam_appid|  type|about_the_game|short_description|total_recommendations|\n",
            "+-------+------+-----------+------+--------------+-----------------+---------------------+\n",
            "|  count|131974|     131974|131974|        131884|           131974|               131974|\n",
            "+-------+------+-----------+------+--------------+-----------------+---------------------+\n",
            "\n"
          ]
        }
      ],
      "source": [
        "# show nans (count rows if there are no nans)\n",
        "games_df.summary('count').show()"
      ]
    },
    {
      "cell_type": "markdown",
      "source": [
        "As it can be saw from the previous table there are only 90 rows that do not present a value for the column *about_the_game*. Since it's a very conspicuous number they can be removed without problems"
      ],
      "metadata": {
        "id": "i4PgTrNuAH7W"
      }
    },
    {
      "cell_type": "code",
      "execution_count": null,
      "metadata": {
        "colab": {
          "base_uri": "https://localhost:8080/"
        },
        "id": "sD9dLnWd3YnW",
        "outputId": "c472b1d5-2706-473d-f4ce-1418a8e93c5f"
      },
      "outputs": [
        {
          "output_type": "stream",
          "name": "stdout",
          "text": [
            "Row number before excluding rows with NaNs: 131974\n"
          ]
        }
      ],
      "source": [
        "print(\"Row number before excluding rows with NaNs:\", games_df.count())"
      ]
    },
    {
      "cell_type": "code",
      "execution_count": null,
      "metadata": {
        "colab": {
          "base_uri": "https://localhost:8080/"
        },
        "id": "LnZzYFwe2gTu",
        "outputId": "fc89ae7b-5e7d-497b-d45e-53a244b341e8"
      },
      "outputs": [
        {
          "output_type": "stream",
          "name": "stdout",
          "text": [
            "Row number after excluding rows with NaNs: 131884\n"
          ]
        }
      ],
      "source": [
        "# remove rows with nans\n",
        "games_df = games_df.dropna()\n",
        "print(\"Row number after excluding rows with NaNs:\", games_df.count())"
      ]
    },
    {
      "cell_type": "markdown",
      "source": [
        "As it can be saw from the row sample presented, inside the textual representation of the plots of the games sometimes links are present.\n",
        "\n",
        "Since the cannot provide useful information about the actual plot of the game (they are either links to the game page or links to some images) they can be removed without any loss for the information"
      ],
      "metadata": {
        "id": "Ck4pnEZP_MYr"
      }
    },
    {
      "cell_type": "code",
      "execution_count": null,
      "metadata": {
        "colab": {
          "base_uri": "https://localhost:8080/"
        },
        "id": "yLXRLf-57wWn",
        "outputId": "304b4eb6-d828-41a2-ff88-1b8d36a9d92f"
      },
      "outputs": [
        {
          "output_type": "stream",
          "name": "stdout",
          "text": [
            "+----------------------------------------+-----------+----+---------------------------------------------------------------------------------------------------------------------------------------------------------------------------------------------------------------------------------------------------------------------------------------------------------------------------------------------------------------------------------------------------------------------------------------------------------------------------------------------------------------------------------------------------------------------------------------------------------------------------------------------------------------------------------------------------------------------------------------------------------------------------------------------------------------------------------------------------------------------------------------------------------------------------------------------------------------------------------------------------------------------------------------------------------------------------------------------------------------------------------------------------------------------------------------------------------------------------------------------------------------------------------------------------------------------------------+--------------------------------------------------------------------------------------------------------------------------------------------------------------------------------------------------------------------------------------------------------------------------------------------+---------------------+\n",
            "|name                                    |steam_appid|type|about_the_game                                                                                                                                                                                                                                                                                                                                                                                                                                                                                                                                                                                                                                                                                                                                                                                                                                                                                                                                                                                                                                                                                                                                                                                                                                                                                                                   |short_description                                                                                                                                                                                                                                                                           |total_recommendations|\n",
            "+----------------------------------------+-----------+----+---------------------------------------------------------------------------------------------------------------------------------------------------------------------------------------------------------------------------------------------------------------------------------------------------------------------------------------------------------------------------------------------------------------------------------------------------------------------------------------------------------------------------------------------------------------------------------------------------------------------------------------------------------------------------------------------------------------------------------------------------------------------------------------------------------------------------------------------------------------------------------------------------------------------------------------------------------------------------------------------------------------------------------------------------------------------------------------------------------------------------------------------------------------------------------------------------------------------------------------------------------------------------------------------------------------------------------+--------------------------------------------------------------------------------------------------------------------------------------------------------------------------------------------------------------------------------------------------------------------------------------------+---------------------+\n",
            "|Poly Jigsaw: Furries                    |2485470    |game|Poly Jigsaw: Furries is a traditional style jigsaw puzzle game with a cute furry.Featuring 50 hand drawn images in a polygonal style with each puzzle piece uniquely shaped in a way no physical puzzle could be.The player's goal - puzzle pieces together to get a beautiful picture.In Poly Jigsaw: Furries:- 50 levels- Polygonal art- Simple controls (mouse)- Achievements- Relax music                                                                                                                                                                                                                                                                                                                                                                                                                                                                                                                                                                                                                                                                                                                                                                                                                                                                                                                                    |Poly Jigsaw: Furries is a traditional style jigsaw puzzle game with a cute furry.                                                                                                                                                                                                           |0                    |\n",
            "|Fantasy Grounds - FG Grasslands Map Pack|2484870    |dlc |FG Grasslands Map Pack The FG Grasslands Map Pack features images and art produced by our in-house artist Joshua Watmough. They have been organized and optimized for use with Fantasy Grounds Unity and the image tools. This map pack consists of many static images as well as some new animated elements for the construction of meadows fields and the like. Brushes include animated fish animated waves on a shore and dirt roads Decorations include animated birds animated surface waves rocks rock outcroppings fallen logs patches of dirt grass leaves and more Image Fills include animated water overlay 4 types of dirt grass mud pond water and more Map of a grassland example made with this art pack                                                                                                                                                                                                                                                                                                                                                                                                                                                                                                                                                                                                         |FG Grasslands Map Pack The FG Grasslands Map Pack features images and art produced by our in-house artist Joshua Watmough. They have been organized and optimized for use with Fantasy Grounds Unity and the image tools.                                                                   |0                    |\n",
            "|Phantom Peak                            |2484240    |game|https://store.steampowered.com/app/2484240/Phantom_Peak/Phantom Peak is an thrilling horror game set in an industrial complex. Solve the mysteries of the experiments conducted within these walls and discover the horrifying truth.Can you survive the nightmarish journey through Phantom Peak's industrial ruins? Will you uncover the truth or become yet another victim of the unearthly terrors that haunt this forsaken place?                                                                                                                                                                                                                                                                                                                                                                                                                                                                                                                                                                                                                                                                                                                                                                                                                                                                                           |Phantom Peak is an thrilling horror game set in an industrial complex. Solve the mysteries of the experiments conducted within these walls and discover the horrifying truth.                                                                                                               |0                    |\n",
            "|Jolly Putt - Mini Golf & Arcade         |2484340    |game|Jolly Putt is a classic tycoon game where your job is to manage an indoor Mini Golf Arcade. But you don't just get to design your own courses you can actually take part in tournaments and play them yourself! Keep your guests happy with great course designs and exciting arcade machines. If you can exceed their expectations they might become permanent members of your park. With enough members you can expand your building and lure V.I.P.s to your venue.If you really want to wow your customers you should also provide ample dining opportunities and a beautiful array of decorations. And don't forget to setup a Prize Stall so the lucky arcade players have someplace to redeem their tickets.Jolly Putt will features a wide array of unlockable content to keep you busy for hours on end.Design your own courses with a wide range of lanes and obstacles.Play your own courses and explore your park in first-person.Manage your income with an extensive display of statistics.Hire and supervise your staff.Hold tournaments.Position and rotate objects freely.Decorate and customize your park.Nostalgic isometric graphicsManage arcade prizes win-chances ticket rewards and food offerings.And much more when the game releases....Let's have a jolly good time at Jolly Putt - Mini Golf Arcade!|The jolliest Mini Golf Arcade Tycoon game! Design and Play your own courses. Manage arcade ticket prizes food stalls staff and much more to satisfy your park guest's every need. Customize decorate and explore your park in first-person.                                                 |0                    |\n",
            "|Fat Rat Pinball                         |2484420    |game|Substitute the ball in a pinball game for a Fat Rat to see what happens... Well this is Fat Rat Pinball a nice casual game! The challenges of a classic pinball are mixed up with the rat body physics creating a unique unexpected and fun pinball arcade game. With this new game you'll see animals flying over the pinball machine being hit by the flippers bouncing as a ball in the bumpers and increasing your score on each collision. But don't panic - no animals are hurt in this game. Everything happens in a nice way. You can try to beat up the pinball tables. Some pinball machines have stages and you go up until the end point. So it's part of the game challenge to win the pinball machines but you'll need to be skilled to do it. The gameplay is simple: control the flippers left and right. For launching the ball you should push down to choose the spring force. The score records and achievements are incorporated with Steam Works where you can see the game rankings. Have fun with Fat Rat Pinball! Bad Rats: the Rats Revenge © 2009-2017 Invent4 Entretenimento Ltda. Fat Rat Pinball © 2017-2023 Invent4 Entretenimento Ltda.                                                                                                                                                          |Play pinball with the Fat Rat as the ball. Yes it's an unique pinball game where the classic game encounters the unexpected magic of Bad Rats. Using ragdolls as the balls the arcade classic game enters in a brand new perspective. It's a fun and enjoyable pinball game. Try to beat it!|0                    |\n",
            "+----------------------------------------+-----------+----+---------------------------------------------------------------------------------------------------------------------------------------------------------------------------------------------------------------------------------------------------------------------------------------------------------------------------------------------------------------------------------------------------------------------------------------------------------------------------------------------------------------------------------------------------------------------------------------------------------------------------------------------------------------------------------------------------------------------------------------------------------------------------------------------------------------------------------------------------------------------------------------------------------------------------------------------------------------------------------------------------------------------------------------------------------------------------------------------------------------------------------------------------------------------------------------------------------------------------------------------------------------------------------------------------------------------------------+--------------------------------------------------------------------------------------------------------------------------------------------------------------------------------------------------------------------------------------------------------------------------------------------+---------------------+\n",
            "only showing top 5 rows\n",
            "\n"
          ]
        }
      ],
      "source": [
        "# Inspect some rows of the table\n",
        "games_df.show(n=5, truncate=False)"
      ]
    },
    {
      "cell_type": "code",
      "execution_count": null,
      "metadata": {
        "id": "NijMt45FzIvy"
      },
      "outputs": [],
      "source": [
        "# Remove the links from the games descriptions since they are not relevant for\n",
        "# the project\n",
        "def clean_links(raw_text):\n",
        "  \"\"\"\n",
        "  This function is used to remove all the links from the texts thanks to the\n",
        "  CLEANER_LINKS regex\n",
        "  \"\"\"\n",
        "  CLEANER_LINKS = re.compile('http[s]?://\\S+')\n",
        "  cleantext = re.sub(CLEANER_LINKS, '', raw_text)\n",
        "  return cleantext"
      ]
    },
    {
      "cell_type": "code",
      "execution_count": null,
      "metadata": {
        "id": "yVwgK_TLzhCx"
      },
      "outputs": [],
      "source": [
        "# It has been chosen to create an UDF (User Defined Function) in order to have\n",
        "# the possibility to use the function to clean links (that must be applied to)\n",
        "# each row of the datarame with the PySpark withColumn function\n",
        "clean_links_UDF = sqlf.udf(lambda x : clean_links(x), StringType())"
      ]
    },
    {
      "cell_type": "code",
      "source": [
        "def clean_row(dataset_df, columnName):\n",
        "  \"\"\"\n",
        "  This function is used to perform cleaning on the wanted column of the dataframe.\n",
        "  Specifically the function deletes the links from the column and then checks\n",
        "  (and removes) if the deletion of the links comported the appearance of any\n",
        "  whitespaces at the beginning or at the end of the text\n",
        "  \"\"\"\n",
        "  dataset_df = dataset_df.withColumn(columnName, clean_links_UDF(sqlf.col(columnName)))\n",
        "  dataset_df = dataset_df.withColumn(columnName, sqlf.trim(sqlf.col(columnName)))\n",
        "  return dataset_df"
      ],
      "metadata": {
        "id": "KeBnbPUdBkXu"
      },
      "execution_count": null,
      "outputs": []
    },
    {
      "cell_type": "code",
      "source": [
        "games_df = clean_row(games_df, 'about_the_game')\n",
        "games_df = clean_row(games_df, 'short_description')"
      ],
      "metadata": {
        "id": "RAegS9q5B82v"
      },
      "execution_count": null,
      "outputs": []
    },
    {
      "cell_type": "code",
      "execution_count": null,
      "metadata": {
        "colab": {
          "base_uri": "https://localhost:8080/"
        },
        "id": "KjvbV0a0AnGl",
        "outputId": "8e64fce4-799a-4b20-9017-fa97b0222954"
      },
      "outputs": [
        {
          "output_type": "stream",
          "name": "stdout",
          "text": [
            "+----------------------------------------+-----------+----+---------------------------------------------------------------------------------------------------------------------------------------------------------------------------------------------------------------------------------------------------------------------------------------------------------------------------------------------------------------------------------------------------------------------------------------------------------------------------------------------------------------------------------------------------------------------------------------------------------------------------------------------------------------------------------------------------------------------------------------------------------------------------------------------------------------------------------------------------------------------------------------------------------------------------------------------------------------------------------------------------------------------------------------------------------------------------------------------------------------------------------------------------------------------------------------------------------------------------------------------------------------------------------------------------------------------------------+--------------------------------------------------------------------------------------------------------------------------------------------------------------------------------------------------------------------------------------------------------------------------------------------+---------------------+\n",
            "|name                                    |steam_appid|type|about_the_game                                                                                                                                                                                                                                                                                                                                                                                                                                                                                                                                                                                                                                                                                                                                                                                                                                                                                                                                                                                                                                                                                                                                                                                                                                                                                                                   |short_description                                                                                                                                                                                                                                                                           |total_recommendations|\n",
            "+----------------------------------------+-----------+----+---------------------------------------------------------------------------------------------------------------------------------------------------------------------------------------------------------------------------------------------------------------------------------------------------------------------------------------------------------------------------------------------------------------------------------------------------------------------------------------------------------------------------------------------------------------------------------------------------------------------------------------------------------------------------------------------------------------------------------------------------------------------------------------------------------------------------------------------------------------------------------------------------------------------------------------------------------------------------------------------------------------------------------------------------------------------------------------------------------------------------------------------------------------------------------------------------------------------------------------------------------------------------------------------------------------------------------+--------------------------------------------------------------------------------------------------------------------------------------------------------------------------------------------------------------------------------------------------------------------------------------------+---------------------+\n",
            "|Poly Jigsaw: Furries                    |2485470    |game|Poly Jigsaw: Furries is a traditional style jigsaw puzzle game with a cute furry.Featuring 50 hand drawn images in a polygonal style with each puzzle piece uniquely shaped in a way no physical puzzle could be.The player's goal - puzzle pieces together to get a beautiful picture.In Poly Jigsaw: Furries:- 50 levels- Polygonal art- Simple controls (mouse)- Achievements- Relax music                                                                                                                                                                                                                                                                                                                                                                                                                                                                                                                                                                                                                                                                                                                                                                                                                                                                                                                                    |Poly Jigsaw: Furries is a traditional style jigsaw puzzle game with a cute furry.                                                                                                                                                                                                           |0                    |\n",
            "|Fantasy Grounds - FG Grasslands Map Pack|2484870    |dlc |FG Grasslands Map Pack The FG Grasslands Map Pack features images and art produced by our in-house artist Joshua Watmough. They have been organized and optimized for use with Fantasy Grounds Unity and the image tools. This map pack consists of many static images as well as some new animated elements for the construction of meadows fields and the like. Brushes include animated fish animated waves on a shore and dirt roads Decorations include animated birds animated surface waves rocks rock outcroppings fallen logs patches of dirt grass leaves and more Image Fills include animated water overlay 4 types of dirt grass mud pond water and more Map of a grassland example made with this art pack                                                                                                                                                                                                                                                                                                                                                                                                                                                                                                                                                                                                         |FG Grasslands Map Pack The FG Grasslands Map Pack features images and art produced by our in-house artist Joshua Watmough. They have been organized and optimized for use with Fantasy Grounds Unity and the image tools.                                                                   |0                    |\n",
            "|Phantom Peak                            |2484240    |game|Peak is an thrilling horror game set in an industrial complex. Solve the mysteries of the experiments conducted within these walls and discover the horrifying truth.Can you survive the nightmarish journey through Phantom Peak's industrial ruins? Will you uncover the truth or become yet another victim of the unearthly terrors that haunt this forsaken place?                                                                                                                                                                                                                                                                                                                                                                                                                                                                                                                                                                                                                                                                                                                                                                                                                                                                                                                                                           |Phantom Peak is an thrilling horror game set in an industrial complex. Solve the mysteries of the experiments conducted within these walls and discover the horrifying truth.                                                                                                               |0                    |\n",
            "|Jolly Putt - Mini Golf & Arcade         |2484340    |game|Jolly Putt is a classic tycoon game where your job is to manage an indoor Mini Golf Arcade. But you don't just get to design your own courses you can actually take part in tournaments and play them yourself! Keep your guests happy with great course designs and exciting arcade machines. If you can exceed their expectations they might become permanent members of your park. With enough members you can expand your building and lure V.I.P.s to your venue.If you really want to wow your customers you should also provide ample dining opportunities and a beautiful array of decorations. And don't forget to setup a Prize Stall so the lucky arcade players have someplace to redeem their tickets.Jolly Putt will features a wide array of unlockable content to keep you busy for hours on end.Design your own courses with a wide range of lanes and obstacles.Play your own courses and explore your park in first-person.Manage your income with an extensive display of statistics.Hire and supervise your staff.Hold tournaments.Position and rotate objects freely.Decorate and customize your park.Nostalgic isometric graphicsManage arcade prizes win-chances ticket rewards and food offerings.And much more when the game releases....Let's have a jolly good time at Jolly Putt - Mini Golf Arcade!|The jolliest Mini Golf Arcade Tycoon game! Design and Play your own courses. Manage arcade ticket prizes food stalls staff and much more to satisfy your park guest's every need. Customize decorate and explore your park in first-person.                                                 |0                    |\n",
            "|Fat Rat Pinball                         |2484420    |game|Substitute the ball in a pinball game for a Fat Rat to see what happens... Well this is Fat Rat Pinball a nice casual game! The challenges of a classic pinball are mixed up with the rat body physics creating a unique unexpected and fun pinball arcade game. With this new game you'll see animals flying over the pinball machine being hit by the flippers bouncing as a ball in the bumpers and increasing your score on each collision. But don't panic - no animals are hurt in this game. Everything happens in a nice way. You can try to beat up the pinball tables. Some pinball machines have stages and you go up until the end point. So it's part of the game challenge to win the pinball machines but you'll need to be skilled to do it. The gameplay is simple: control the flippers left and right. For launching the ball you should push down to choose the spring force. The score records and achievements are incorporated with Steam Works where you can see the game rankings. Have fun with Fat Rat Pinball! Bad Rats: the Rats Revenge © 2009-2017 Invent4 Entretenimento Ltda. Fat Rat Pinball © 2017-2023 Invent4 Entretenimento Ltda.                                                                                                                                                          |Play pinball with the Fat Rat as the ball. Yes it's an unique pinball game where the classic game encounters the unexpected magic of Bad Rats. Using ragdolls as the balls the arcade classic game enters in a brand new perspective. It's a fun and enjoyable pinball game. Try to beat it!|0                    |\n",
            "+----------------------------------------+-----------+----+---------------------------------------------------------------------------------------------------------------------------------------------------------------------------------------------------------------------------------------------------------------------------------------------------------------------------------------------------------------------------------------------------------------------------------------------------------------------------------------------------------------------------------------------------------------------------------------------------------------------------------------------------------------------------------------------------------------------------------------------------------------------------------------------------------------------------------------------------------------------------------------------------------------------------------------------------------------------------------------------------------------------------------------------------------------------------------------------------------------------------------------------------------------------------------------------------------------------------------------------------------------------------------------------------------------------------------+--------------------------------------------------------------------------------------------------------------------------------------------------------------------------------------------------------------------------------------------------------------------------------------------+---------------------+\n",
            "only showing top 5 rows\n",
            "\n"
          ]
        }
      ],
      "source": [
        "# Show the previous sample of rows to check if the links were correctly removed\n",
        "games_df.show(n=5, truncate=False)"
      ]
    },
    {
      "cell_type": "markdown",
      "metadata": {
        "id": "3a0xmFU8BnUZ"
      },
      "source": [
        "##*game_reviews.csv* cleaning\n",
        "In this section is presented the pre-eliminary work done to clean the games_reviews.csv table.\n",
        "Specifically in this section it will be presented how it was possible to retrieve the amount of time played by the user that wrote the review from the text that was collected during the data collection"
      ]
    },
    {
      "cell_type": "code",
      "execution_count": null,
      "metadata": {
        "id": "w4sc_ttAQZ3G"
      },
      "outputs": [],
      "source": [
        "# Load the needed data\n",
        "reviews_df = spark.read.load('/content/gdrive/MyDrive/VideogameRecommenderSystem/game_reviews.csv',\n",
        "                           format=\"csv\",\n",
        "                           sep=\",\",\n",
        "                           inferSchema=\"true\",\n",
        "                           header=\"true\")"
      ]
    },
    {
      "cell_type": "code",
      "execution_count": null,
      "metadata": {
        "colab": {
          "base_uri": "https://localhost:8080/"
        },
        "id": "IR_vdLcSWeip",
        "outputId": "d3b58346-a6a8-4264-c749-99b12778b03a"
      },
      "outputs": [
        {
          "output_type": "stream",
          "name": "stdout",
          "text": [
            "Row number: 6788734 \n",
            "Column number: 4\n"
          ]
        }
      ],
      "source": [
        "# Check for the data structure\n",
        "print(\"Row number:\", reviews_df.count(), \"\\nColumn number:\", len(reviews_df.columns))"
      ]
    },
    {
      "cell_type": "code",
      "execution_count": null,
      "metadata": {
        "colab": {
          "base_uri": "https://localhost:8080/"
        },
        "id": "efn27tKfRBWv",
        "outputId": "b069496d-6ace-4ea2-ad5e-cb1396a90014"
      },
      "outputs": [
        {
          "output_type": "stream",
          "name": "stdout",
          "text": [
            "root\n",
            " |-- steam_id: long (nullable = true)\n",
            " |-- app_id: integer (nullable = true)\n",
            " |-- recommended: string (nullable = true)\n",
            " |-- hours_played: string (nullable = true)\n",
            "\n"
          ]
        }
      ],
      "source": [
        "# Check for the columns of the table\n",
        "reviews_df.printSchema()"
      ]
    },
    {
      "cell_type": "code",
      "execution_count": null,
      "metadata": {
        "colab": {
          "base_uri": "https://localhost:8080/"
        },
        "id": "9dm3KyO_WpD5",
        "outputId": "0c06fda3-f488-487b-f8c8-f2783ab55384"
      },
      "outputs": [
        {
          "output_type": "stream",
          "name": "stdout",
          "text": [
            "+-------+--------+-------+-----------+------------+\n",
            "|summary|steam_id| app_id|recommended|hours_played|\n",
            "+-------+--------+-------+-----------+------------+\n",
            "|  count| 6788734|6788734|    6788734|     6788734|\n",
            "+-------+--------+-------+-----------+------------+\n",
            "\n"
          ]
        }
      ],
      "source": [
        "# Check if there are some NaNs\n",
        "reviews_df.summary('count').show()"
      ]
    },
    {
      "cell_type": "markdown",
      "source": [
        "As it can be saw from the following table the data about the amount of hours played by each user is not ready to be used for further computations: it is merealy a string that present the information that needs to be splitted into two different columns *total_played_hours* and *played_hours_on_review* each one containing the float representation of the amount of time for each user played the game"
      ],
      "metadata": {
        "id": "wf4Fb-cHD88Y"
      }
    },
    {
      "cell_type": "code",
      "execution_count": null,
      "metadata": {
        "colab": {
          "base_uri": "https://localhost:8080/"
        },
        "id": "HKnvPQ6QREit",
        "outputId": "63eaa34e-f4c0-4e20-cd33-a1cc59812fff"
      },
      "outputs": [
        {
          "output_type": "stream",
          "name": "stdout",
          "text": [
            "+-----------------+-------+---------------+-----------------------------------------------+\n",
            "|steam_id         |app_id |recommended    |hours_played                                   |\n",
            "+-----------------+-------+---------------+-----------------------------------------------+\n",
            "|76561198832156672|277739 |Not Recommended|0.0 hrs on record                              |\n",
            "|76561198850506752|960990 |Recommended    |13.3 hrs on record(13.3 hrs at review time)    |\n",
            "|76561198850506752|1987080|Recommended    |8.1 hrs on record(4.0 hrs at review time)      |\n",
            "|76561198850506752|240    |Recommended    |43.0 hrs on record                             |\n",
            "|76561198850506752|620    |Recommended    |16.5 hrs on record(5.6 hrs at review time)     |\n",
            "|76561198850506752|730    |Recommended    |1,102.3 hrs on record(307.2 hrs at review time)|\n",
            "|76561198850506752|381210 |Recommended    |444.0 hrs on record(127.8 hrs at review time)  |\n",
            "|76561198046773252|200910 |Recommended    |16.3 hrs on record                             |\n",
            "|76561198046773252|1997040|Recommended    |31.9 hrs on record(26.6 hrs at review time)    |\n",
            "|76561198046773252|107100 |Recommended    |13.7 hrs on record                             |\n",
            "+-----------------+-------+---------------+-----------------------------------------------+\n",
            "only showing top 10 rows\n",
            "\n"
          ]
        }
      ],
      "source": [
        "# Inspect a sample of rows\n",
        "reviews_df.show(n=10, truncate=False)"
      ]
    },
    {
      "cell_type": "code",
      "execution_count": null,
      "metadata": {
        "id": "leuvJCW-aPi7"
      },
      "outputs": [],
      "source": [
        "def create_tot_hours(raw_text):\n",
        "  \"\"\"\n",
        "  This function is used to parse the textual information about the hours played\n",
        "  by the users thanks to the CLEANER_CHARACTERS regex that is used to only\n",
        "  maintain the numerical information in the string. Specifically this function\n",
        "  is used to compute the the informations about the total hours played (which is\n",
        "  an information that is always present)\n",
        "  \"\"\"\n",
        "  CLEANER_CHARACTERS = re.compile(r'[(),a-zA-Z]')\n",
        "  cleanedtext = re.sub(CLEANER_CHARACTERS, '', raw_text)\n",
        "  tmp = cleanedtext.split()\n",
        "  tot = float(tmp[0])\n",
        "  return tot\n",
        "\n",
        "def create_hours_on_review(raw_text):\n",
        "  \"\"\"\n",
        "  This function is used to parse the textual information about the hours played\n",
        "  by the users thanks to the CLEANER_CHARACTERS regex that is used to only\n",
        "  maintain the numerical information in the string. Specifically this function\n",
        "  is used to compute the the informations about the hours played when the player\n",
        "  wrote the review (which is an information that is not always present; in case\n",
        "  of the missing information 0.0 will be stored as the played time on review)\n",
        "  \"\"\"\n",
        "  CLEANER_CHARACTERS = re.compile(r'[(),a-zA-Z]')\n",
        "  cleanedtext = re.sub(CLEANER_CHARACTERS, '', raw_text)\n",
        "  tmp = cleanedtext.split()\n",
        "  tot = 0.0\n",
        "  if len(tmp) == 2:\n",
        "    tot = float(tmp[1])\n",
        "  return tot"
      ]
    },
    {
      "cell_type": "code",
      "execution_count": null,
      "metadata": {
        "id": "Ij6l5H5Ia4Zz"
      },
      "outputs": [],
      "source": [
        "# As before the UDF about the previous defined functions were created\n",
        "create_tot_hours_UDF = sqlf.udf(lambda x : create_tot_hours(x), FloatType())\n",
        "create_hours_on_review_UDF = sqlf.udf(lambda x : create_hours_on_review(x), FloatType())"
      ]
    },
    {
      "cell_type": "code",
      "source": [
        "def create_played_hours_information(dataset_df, columnName='hours_played'):\n",
        "  \"\"\"\n",
        "  This function is used to create the numerical information about the hours that\n",
        "  each player played for each game that they reviewed both for the total played\n",
        "  hours and for the hours played at the moment of the review\n",
        "  \"\"\"\n",
        "  dataset_df = dataset_df.withColumn('total_played_hours', create_tot_hours_UDF(sqlf.col(columnName)))\n",
        "  dataset_df = dataset_df.withColumn('played_hours_on_review', create_hours_on_review_UDF(sqlf.col(columnName)))\n",
        "  return dataset_df"
      ],
      "metadata": {
        "id": "TJIeKUvQFpUI"
      },
      "execution_count": null,
      "outputs": []
    },
    {
      "cell_type": "code",
      "execution_count": null,
      "metadata": {
        "id": "Ca9_cSQ_bGfs"
      },
      "outputs": [],
      "source": [
        "reviews_df = create_played_hours_information(reviews_df)\n",
        "# This renaming is useful in order to have all the tables with the column named\n",
        "# in the same way\n",
        "reviews_df = reviews_df.withColumnRenamed('app_id', 'steam_appid')"
      ]
    },
    {
      "cell_type": "code",
      "execution_count": null,
      "metadata": {
        "colab": {
          "base_uri": "https://localhost:8080/"
        },
        "id": "zQDBWk8ubU8m",
        "outputId": "eed46863-c456-464d-bc0a-5e5aed4b16ed"
      },
      "outputs": [
        {
          "output_type": "stream",
          "name": "stdout",
          "text": [
            "root\n",
            " |-- steam_id: long (nullable = true)\n",
            " |-- steam_appid: integer (nullable = true)\n",
            " |-- recommended: string (nullable = true)\n",
            " |-- hours_played: string (nullable = true)\n",
            " |-- total_played_hours: float (nullable = true)\n",
            " |-- played_hours_on_review: float (nullable = true)\n",
            "\n"
          ]
        }
      ],
      "source": [
        "# Check if the job done on the columns got to the wanted result\n",
        "reviews_df.printSchema()"
      ]
    },
    {
      "cell_type": "markdown",
      "source": [
        "As it can be saw from the follwoing table the parsing of the information about the amount of hours played by the player has been correctly done"
      ],
      "metadata": {
        "id": "eUysbb9bG0LW"
      }
    },
    {
      "cell_type": "code",
      "execution_count": null,
      "metadata": {
        "colab": {
          "base_uri": "https://localhost:8080/"
        },
        "id": "lGKXIsd6de0g",
        "outputId": "1fc7400b-1fcb-4f30-cd21-a9f0349c8363"
      },
      "outputs": [
        {
          "output_type": "stream",
          "name": "stdout",
          "text": [
            "+-----------------+-----------+---------------+-----------------------------------------------+------------------+----------------------+\n",
            "|steam_id         |steam_appid|recommended    |hours_played                                   |total_played_hours|played_hours_on_review|\n",
            "+-----------------+-----------+---------------+-----------------------------------------------+------------------+----------------------+\n",
            "|76561198832156672|277739     |Not Recommended|0.0 hrs on record                              |0.0               |0.0                   |\n",
            "|76561198850506752|960990     |Recommended    |13.3 hrs on record(13.3 hrs at review time)    |13.3              |13.3                  |\n",
            "|76561198850506752|1987080    |Recommended    |8.1 hrs on record(4.0 hrs at review time)      |8.1               |4.0                   |\n",
            "|76561198850506752|240        |Recommended    |43.0 hrs on record                             |43.0              |0.0                   |\n",
            "|76561198850506752|620        |Recommended    |16.5 hrs on record(5.6 hrs at review time)     |16.5              |5.6                   |\n",
            "|76561198850506752|730        |Recommended    |1,102.3 hrs on record(307.2 hrs at review time)|1102.3            |307.2                 |\n",
            "|76561198850506752|381210     |Recommended    |444.0 hrs on record(127.8 hrs at review time)  |444.0             |127.8                 |\n",
            "|76561198046773252|200910     |Recommended    |16.3 hrs on record                             |16.3              |0.0                   |\n",
            "|76561198046773252|1997040    |Recommended    |31.9 hrs on record(26.6 hrs at review time)    |31.9              |26.6                  |\n",
            "|76561198046773252|107100     |Recommended    |13.7 hrs on record                             |13.7              |0.0                   |\n",
            "+-----------------+-----------+---------------+-----------------------------------------------+------------------+----------------------+\n",
            "only showing top 10 rows\n",
            "\n"
          ]
        }
      ],
      "source": [
        "# Inspect a sample of rows\n",
        "reviews_df.show(n=10, truncate=False)"
      ]
    },
    {
      "cell_type": "markdown",
      "metadata": {
        "id": "TjTwb3G22WAn"
      },
      "source": [
        "## *hours_stat.csv* cleaning\n",
        "In this section it will be presented the work done to clean the hours_stat.csv table. This table will not need a big cleaning but in order to optimize the amount of data that needs to be maintain in memory, the unuseful columns will be removed."
      ]
    },
    {
      "cell_type": "code",
      "execution_count": null,
      "metadata": {
        "id": "qif2wDftziMe"
      },
      "outputs": [],
      "source": [
        "# Load the needed data\n",
        "hours_stat_df = spark.read.load('/content/gdrive/MyDrive/VideogameRecommenderSystem/hours_stat.csv',\n",
        "                           format=\"csv\",\n",
        "                           sep=\",\",\n",
        "                           inferSchema=\"true\",\n",
        "                           header=\"true\")"
      ]
    },
    {
      "cell_type": "code",
      "execution_count": null,
      "metadata": {
        "colab": {
          "base_uri": "https://localhost:8080/"
        },
        "id": "HOjQ5wh9XXyS",
        "outputId": "45bff57c-7122-491a-cb0c-5ea39fe2ba5b"
      },
      "outputs": [
        {
          "output_type": "stream",
          "name": "stdout",
          "text": [
            "Row number: 79977 \n",
            "Column number: 6\n"
          ]
        }
      ],
      "source": [
        "# Check for the data structure\n",
        "print(\"Row number:\", hours_stat_df.count(), \"\\nColumn number:\", len(hours_stat_df.columns))"
      ]
    },
    {
      "cell_type": "code",
      "execution_count": null,
      "metadata": {
        "colab": {
          "base_uri": "https://localhost:8080/"
        },
        "id": "IdIupI-D0mSQ",
        "outputId": "c3c6da1f-851f-4dd6-fa57-96b09462f4b1"
      },
      "outputs": [
        {
          "output_type": "stream",
          "name": "stdout",
          "text": [
            "root\n",
            " |-- title: string (nullable = true)\n",
            " |-- steam_appid: string (nullable = true)\n",
            " |-- main_story: string (nullable = true)\n",
            " |-- main_extra: double (nullable = true)\n",
            " |-- completionist: double (nullable = true)\n",
            " |-- all_styles: double (nullable = true)\n",
            "\n"
          ]
        }
      ],
      "source": [
        "# Check for the columns in the table\n",
        "hours_stat_df.printSchema()"
      ]
    },
    {
      "cell_type": "markdown",
      "source": [
        "As it can be saw from the column schema of the table, there are two columns that are not in the wanted fromat: specifically the *steam_appid* column, that is a string instead of an integer, and the *main_story* column, that is a string instead of a double.\n",
        "\n",
        "So, in order to have a consistency among data that will have hte need to interact together, it is necessary to cast this two columns to the wanted data type"
      ],
      "metadata": {
        "id": "-aE6iOufHumS"
      }
    },
    {
      "cell_type": "code",
      "execution_count": null,
      "metadata": {
        "id": "qblvN6eE1etH"
      },
      "outputs": [],
      "source": [
        "hours_stat_df = hours_stat_df.withColumn('steam_appid', hours_stat_df.steam_appid.cast('integer'))\n",
        "hours_stat_df = hours_stat_df.withColumn('main_story', hours_stat_df.main_story.cast('double'))"
      ]
    },
    {
      "cell_type": "code",
      "execution_count": null,
      "metadata": {
        "colab": {
          "base_uri": "https://localhost:8080/"
        },
        "id": "7JLaazJ3Xc-O",
        "outputId": "37748e9b-f03f-44fe-ac31-13de2fe45420"
      },
      "outputs": [
        {
          "output_type": "stream",
          "name": "stdout",
          "text": [
            "+-------+-----+-----------+----------+----------+-------------+----------+\n",
            "|summary|title|steam_appid|main_story|main_extra|completionist|all_styles|\n",
            "+-------+-----+-----------+----------+----------+-------------+----------+\n",
            "|  count|79977|      79977|     79977|     79977|        79977|     79977|\n",
            "+-------+-----+-----------+----------+----------+-------------+----------+\n",
            "\n"
          ]
        }
      ],
      "source": [
        "# Check if there are some NaNs\n",
        "hours_stat_df.summary('count').show()"
      ]
    },
    {
      "cell_type": "code",
      "execution_count": null,
      "metadata": {
        "colab": {
          "base_uri": "https://localhost:8080/"
        },
        "id": "584nJ96z0oY5",
        "outputId": "5b373402-c996-496e-f30e-14a976b391d7"
      },
      "outputs": [
        {
          "output_type": "stream",
          "name": "stdout",
          "text": [
            "+---------------------------------------+-----------+----------+----------+-------------+----------+\n",
            "|title                                  |steam_appid|main_story|main_extra|completionist|all_styles|\n",
            "+---------------------------------------+-----------+----------+----------+-------------+----------+\n",
            "|Adamgelion                             |2484530    |0         |0.0       |0.0          |0.0       |\n",
            "|The golden girl pulls and licks the dog|2482460    |0         |0.0       |0.0          |0.0       |\n",
            "|Sex Simulator - Beach Resort           |2481790    |0         |0.0       |0.0          |0.0       |\n",
            "|Quantum Rail                           |2481340    |0         |0.0       |0.0          |0.0       |\n",
            "|Sun Haven: Set Sail Pack               |2488151    |0         |0.0       |0.0          |0.0       |\n",
            "+---------------------------------------+-----------+----------+----------+-------------+----------+\n",
            "only showing top 5 rows\n",
            "\n"
          ]
        }
      ],
      "source": [
        "# Inspect a sample of rows\n",
        "hours_stat_df.show(n=5, truncate=False)"
      ]
    },
    {
      "cell_type": "code",
      "source": [
        "# Since if there will be the need to join tables together only the steam_appid\n",
        "# will be needed and the title information is also stored in the games.csv table\n",
        "# (and so in this table can be considered as a duplicated information) it is\n",
        "# possible to drop the title column without any problems\n",
        "hours_stat_df = hours_stat_df.drop('title')"
      ],
      "metadata": {
        "id": "yUPBUPCzISHp"
      },
      "execution_count": null,
      "outputs": []
    },
    {
      "cell_type": "code",
      "execution_count": null,
      "metadata": {
        "colab": {
          "base_uri": "https://localhost:8080/"
        },
        "id": "ZMo-I9i_2BR6",
        "outputId": "8a4271d1-55ab-4003-f525-bd166c1b2313"
      },
      "outputs": [
        {
          "output_type": "stream",
          "name": "stdout",
          "text": [
            "root\n",
            " |-- steam_appid: integer (nullable = true)\n",
            " |-- main_story: double (nullable = true)\n",
            " |-- main_extra: double (nullable = true)\n",
            " |-- completionist: double (nullable = true)\n",
            " |-- all_styles: double (nullable = true)\n",
            "\n"
          ]
        }
      ],
      "source": [
        "# Check if the cast and the drop produced the wanted result\n",
        "hours_stat_df.printSchema()"
      ]
    },
    {
      "cell_type": "code",
      "execution_count": null,
      "metadata": {
        "colab": {
          "base_uri": "https://localhost:8080/"
        },
        "id": "6dXgvcW32NY-",
        "outputId": "0f2b17a3-eb15-44e5-b55f-f0afff9e8897"
      },
      "outputs": [
        {
          "output_type": "stream",
          "name": "stdout",
          "text": [
            "+-----------+----------+----------+-------------+----------+\n",
            "|steam_appid|main_story|main_extra|completionist|all_styles|\n",
            "+-----------+----------+----------+-------------+----------+\n",
            "|2484530    |0.0       |0.0       |0.0          |0.0       |\n",
            "|2482460    |0.0       |0.0       |0.0          |0.0       |\n",
            "|2481790    |0.0       |0.0       |0.0          |0.0       |\n",
            "|2481340    |0.0       |0.0       |0.0          |0.0       |\n",
            "|2488151    |0.0       |0.0       |0.0          |0.0       |\n",
            "+-----------+----------+----------+-------------+----------+\n",
            "only showing top 5 rows\n",
            "\n"
          ]
        }
      ],
      "source": [
        "# Inspect a sample of rows of the cleaned table\n",
        "hours_stat_df.show(n=5, truncate=False)"
      ]
    },
    {
      "cell_type": "markdown",
      "metadata": {
        "id": "gdK8AW-Zulek"
      },
      "source": [
        "# Recommendations' Translation\n",
        "As already mentioned, on Steam the users' recommendations can only be expressed as *Recommended* or *Not Recommended*. The recommendations can then optionally be accompanied by a textual comment that is, most of the time, either left blank or in any case does not report very useful information on the user's opinion on the game.\n",
        "\n",
        "In order to overcome this limitation of the Steam recommendation, I decided to look over an objective data that is recorderd when a user plays the game through the Steam library: the **playtime**; in fact, when a user start the game from their Steam library, the service register the total playtime of the user and when they write the recommendation report their playtime (both the total one and the one at the time of the review or just the total one) on the heading of the recommendation.\n",
        "\n",
        "By looking at it, and comparing it with the average of the time needed to complete a game (information collected thanks to the portal *How Long To Beat* which contains the amount of time needed to complete a game) the simple positive-negative recommendations will be translated to a larger scale of ratings going from 1 to 5; there are still some problems though: it can happen that a player leaves a recommendation that does not report the playtime since people can play Steam games while being offline (meaning that the service has no way to collect user information during that time) or simply because they leave the recommendation as soon as they purchase the game; in this cases the recommendation will be considered as *neutral* (and so put to 3 which is at the perfect center of the scale). Also it can happen that there are no data on average playtime on *How Long To Beat*, also in this case the reviews will be considered as *neutral* (but giving an hint of the negative or positive judgement given by the user, so they will be translated to 2.5 if negative and to 3.5 if positive)"
      ]
    },
    {
      "cell_type": "code",
      "execution_count": null,
      "metadata": {
        "id": "ujQ9orTl4ynP"
      },
      "outputs": [],
      "source": [
        "# Join the table of the reviews with the table of the hours played in order to\n",
        "# compute easily the rating later\n",
        "reviews_df = reviews_df.join(\n",
        "    hours_stat_df, reviews_df.steam_appid == hours_stat_df.steam_appid, \"inner\"\n",
        "    ).select(\n",
        "        # select all the information carried in the reviews_df table with only\n",
        "        # the wanted column of the hours_stat_df\n",
        "        reviews_df['*'], hours_stat_df['main_story'], hours_stat_df['main_extra'],\n",
        "        hours_stat_df['completionist'], hours_stat_df['all_styles']\n",
        "        )\n"
      ]
    },
    {
      "cell_type": "code",
      "execution_count": null,
      "metadata": {
        "colab": {
          "base_uri": "https://localhost:8080/"
        },
        "id": "hjNzfEEpXy-q",
        "outputId": "38cf139d-3de3-43f4-92cd-770067e5d5e0"
      },
      "outputs": [
        {
          "output_type": "stream",
          "name": "stdout",
          "text": [
            "Row number: 79977 \n",
            "Column number: 5\n"
          ]
        }
      ],
      "source": [
        "# Check for the data structure\n",
        "print(\"Row number:\", hours_stat_df.count(), \"\\nColumn number:\", len(hours_stat_df.columns))"
      ]
    },
    {
      "cell_type": "code",
      "execution_count": null,
      "metadata": {
        "colab": {
          "base_uri": "https://localhost:8080/"
        },
        "id": "0tnJ-tpT5ePm",
        "outputId": "d7663447-b6da-420e-eca5-b3f553364486"
      },
      "outputs": [
        {
          "output_type": "stream",
          "name": "stdout",
          "text": [
            "root\n",
            " |-- steam_id: long (nullable = true)\n",
            " |-- steam_appid: integer (nullable = true)\n",
            " |-- recommended: string (nullable = true)\n",
            " |-- hours_played: string (nullable = true)\n",
            " |-- total_played_hours: float (nullable = true)\n",
            " |-- played_hours_on_review: float (nullable = true)\n",
            " |-- main_story: double (nullable = true)\n",
            " |-- main_extra: double (nullable = true)\n",
            " |-- completionist: double (nullable = true)\n",
            " |-- all_styles: double (nullable = true)\n",
            "\n"
          ]
        }
      ],
      "source": [
        "# Check for the columns in the table\n",
        "reviews_df.printSchema()"
      ]
    },
    {
      "cell_type": "code",
      "execution_count": null,
      "metadata": {
        "colab": {
          "base_uri": "https://localhost:8080/"
        },
        "id": "0AhmSqga5gcr",
        "outputId": "39fda4d9-8745-4e83-e416-42be84ddd5c1"
      },
      "outputs": [
        {
          "output_type": "stream",
          "name": "stdout",
          "text": [
            "+-----------------+-----------+---------------+-------------------------------------------+------------------+----------------------+----------+----------+-------------+----------+\n",
            "|steam_id         |steam_appid|recommended    |hours_played                               |total_played_hours|played_hours_on_review|main_story|main_extra|completionist|all_styles|\n",
            "+-----------------+-----------+---------------+-------------------------------------------+------------------+----------------------+----------+----------+-------------+----------+\n",
            "|76561198832156672|277739     |Not Recommended|0.0 hrs on record                          |0.0               |0.0                   |0.0       |0.0       |0.0          |0.0       |\n",
            "|76561198850506752|960990     |Recommended    |13.3 hrs on record(13.3 hrs at review time)|13.3              |13.3                  |10.62     |12.39     |27.41        |11.7      |\n",
            "|76561198850506752|1987080    |Recommended    |8.1 hrs on record(4.0 hrs at review time)  |8.1               |4.0                   |4.58      |7.6       |10.65        |5.37      |\n",
            "|76561198850506752|240        |Recommended    |43.0 hrs on record                         |43.0              |0.0                   |72.05     |87.12     |357.76       |133.74    |\n",
            "|76561198850506752|620        |Recommended    |16.5 hrs on record(5.6 hrs at review time) |16.5              |5.6                   |8.6       |13.71     |21.42        |10.44     |\n",
            "+-----------------+-----------+---------------+-------------------------------------------+------------------+----------------------+----------+----------+-------------+----------+\n",
            "only showing top 5 rows\n",
            "\n"
          ]
        }
      ],
      "source": [
        "# Inspect a sample of rows\n",
        "reviews_df.show(n=5, truncate=False)"
      ]
    },
    {
      "cell_type": "code",
      "execution_count": null,
      "metadata": {
        "id": "8QZLKoApHuHH"
      },
      "outputs": [],
      "source": [
        "@sqlf.udf(FloatType())\n",
        "def create_ratings(recommendation, total_played_hours, main_story, main_extra, completionist, all_styles):\n",
        "  \"\"\"\n",
        "  This function takes the needed columns of a row of the dataframe as argument\n",
        "  and then return the computed rating in order to create a new column with the\n",
        "  ratings given by the users to the games reviewd\n",
        "  \"\"\"\n",
        "  # Define the possible collections of ratings\n",
        "  negative_ratings = [1.0, 1.5, 2.0, 2.5]\n",
        "  neutral_ratings = 3.0\n",
        "  positive_ratings = [3.5, 4.0, 4.5, 5.0]\n",
        "\n",
        "  # Check for the hours played by an user for a specific game\n",
        "\n",
        "  # If there are no data about the hours played\n",
        "  if total_played_hours == 0.0:\n",
        "    # Since it's not possible to know if the user actually played the game offline\n",
        "    # or just wrote the review right after buying the game (and so possbily without\n",
        "    # knowing it), the rating assigned will be neutral\n",
        "    return neutral_ratings\n",
        "  # If the user actually played the game but it is not possbile to make comparison\n",
        "  # about the average time needed to play the game (meaning the game was not listed\n",
        "  # on How Long To Beat)\n",
        "  if main_story == 0.0:\n",
        "    # The rating assigned to a 'Recommended' review will be 3.5\n",
        "    if recommendation == 'Recommended':\n",
        "      return positive_ratings[0]\n",
        "    # The rating assign to a 'Not Recommended' review will be 2.5\n",
        "    return negative_ratings[-1]\n",
        "  # If there are both data about the hours played by the user and the average\n",
        "  # time that is needed to complete the game\n",
        "  else:\n",
        "    # - Knowing that there are 9 possible ratings\n",
        "    #   1, 1.5, 2, 2.5, 3, 3.5, 4, 4.5, 5\n",
        "    #   and that the first four are to be connected to a Not Recommended review,\n",
        "    #   the last four to a Recommended review and that the vote 3 is just neutral\n",
        "    #   and used to reviews for which there is not either the play time or the\n",
        "    #   info about the average playtime\n",
        "    # - Map with the following approach the reviews:\n",
        "    #   - Compute the average of all the playtimes for all the styles\n",
        "    #   - Compute the proportion between the playtime and the average computed\n",
        "    #   - Each vote corresponds to a 25% of the total\n",
        "    #   - With this proportion map the recommend to one of the four possible\n",
        "    #   vote for the category\n",
        "    avg_playtime = (main_story + main_extra + completionist + all_styles)/4\n",
        "    enj_percentage = (total_played_hours*100)/avg_playtime\n",
        "    rate_index = min(int(enj_percentage // 25), 3)\n",
        "    if recommendation == 'Recommended':\n",
        "      return positive_ratings[rate_index]\n",
        "    return negative_ratings[rate_index]\n"
      ]
    },
    {
      "cell_type": "code",
      "execution_count": null,
      "metadata": {
        "id": "NFp8fFAUuvKn"
      },
      "outputs": [],
      "source": [
        "reviews_df = reviews_df.withColumn('rating', create_ratings(\n",
        "    reviews_df['recommended'],\n",
        "    reviews_df['total_played_hours'],\n",
        "    reviews_df['main_story'],\n",
        "    reviews_df['main_extra'],\n",
        "    reviews_df['completionist'],\n",
        "    reviews_df['all_styles']\n",
        "))"
      ]
    },
    {
      "cell_type": "code",
      "execution_count": null,
      "metadata": {
        "id": "SMEf-EJ_6vR5"
      },
      "outputs": [],
      "source": [
        "# Drop all the unuseful columns\n",
        "reviews_df= reviews_df.drop(\n",
        "    'hours_played',\n",
        "    'total_played_hours',\n",
        "    'played_hours_on_review',\n",
        "    'main_story',\n",
        "    'main_extra',\n",
        "    'completionist',\n",
        "    'all_styles'\n",
        "    )"
      ]
    },
    {
      "cell_type": "code",
      "execution_count": null,
      "metadata": {
        "colab": {
          "base_uri": "https://localhost:8080/"
        },
        "id": "Q6FW12LEwmB8",
        "outputId": "44035c95-5a57-48f4-97b9-2fd997c3a54c"
      },
      "outputs": [
        {
          "output_type": "stream",
          "name": "stdout",
          "text": [
            "root\n",
            " |-- steam_id: long (nullable = true)\n",
            " |-- steam_appid: integer (nullable = true)\n",
            " |-- recommended: string (nullable = true)\n",
            " |-- rating: float (nullable = true)\n",
            "\n"
          ]
        }
      ],
      "source": [
        "# Check for the new column schema of the table\n",
        "reviews_df.printSchema()"
      ]
    },
    {
      "cell_type": "code",
      "execution_count": null,
      "metadata": {
        "colab": {
          "base_uri": "https://localhost:8080/"
        },
        "id": "pf0jXIPvworh",
        "outputId": "922ce30e-15e9-4ea5-ba0f-809020c22f2a"
      },
      "outputs": [
        {
          "output_type": "stream",
          "name": "stdout",
          "text": [
            "+-----------------+-----------+---------------+------+\n",
            "|         steam_id|steam_appid|    recommended|rating|\n",
            "+-----------------+-----------+---------------+------+\n",
            "|76561198832156672|     277739|Not Recommended|   3.0|\n",
            "|76561198850506752|     960990|    Recommended|   5.0|\n",
            "|76561198850506752|    1987080|    Recommended|   5.0|\n",
            "|76561198850506752|        240|    Recommended|   4.0|\n",
            "|76561198850506752|        620|    Recommended|   5.0|\n",
            "|76561198850506752|        730|    Recommended|   5.0|\n",
            "|76561198850506752|     381210|    Recommended|   5.0|\n",
            "|76561198046773252|     200910|    Recommended|   5.0|\n",
            "|76561198046773252|    1997040|    Recommended|   3.5|\n",
            "|76561198046773252|     107100|    Recommended|   5.0|\n",
            "|76561198046773252|    1110910|    Recommended|   5.0|\n",
            "|76561198046773252|    1245620|    Recommended|   3.5|\n",
            "|76561198046773252|    1623660|    Recommended|   3.5|\n",
            "|76561198046773252|     418270|Not Recommended|   1.0|\n",
            "|76561198046773252|     399640|    Recommended|   5.0|\n",
            "|76561198046773252|     625960|    Recommended|   3.5|\n",
            "|76561198046773252|     745920|    Recommended|   4.5|\n",
            "|76561198046773252|     319140|    Recommended|   3.5|\n",
            "|76561198046773252|    1191580|    Recommended|   5.0|\n",
            "|76561198046773252|    1110100|    Recommended|   5.0|\n",
            "+-----------------+-----------+---------------+------+\n",
            "only showing top 20 rows\n",
            "\n"
          ]
        }
      ],
      "source": [
        "# Inspect a sample of rows of the table\n",
        "reviews_df.show()"
      ]
    },
    {
      "cell_type": "markdown",
      "metadata": {
        "id": "sgGEsmuuHA6h"
      },
      "source": [
        "# Data Analysis\n",
        "Before proceeding with the model training, in this section of the project it will present the pre-eliminary analysis made on the data in order to get an hint of their distribution.\n",
        "\n",
        "Specifically it will be performed an EDA (Exploratory Data Analysis) so to understand the distribution of the ratings and of the review both looking for user persepctive (amount of reviews-per-user) and for videogame perspective (amount of reviews-per-game).\n",
        "\n",
        "It is important to notice that it has been decided to compute CDFs (Cumulative Distribution Function) an Box Plots in order to have a significat representation of the big amount of data collected. In fact, in statistics,he cumulative distribution function (CDF) of a real-valued random variable X, or just distribution function of X, evaluated at x, is the probability that X will take a value less than or equal to x. In the case of the plot presented this definition is pretty much useful since it can give a much more significat information than the one that histograms can give since, given the big amount of data, this type of plots risks to become unreadble"
      ]
    },
    {
      "cell_type": "markdown",
      "source": [
        "## Utils\n",
        "In this section the utility functions used during the analysis will be presented"
      ],
      "metadata": {
        "id": "vVc7b8yWNp8V"
      }
    },
    {
      "cell_type": "code",
      "execution_count": null,
      "metadata": {
        "id": "SDGy4_skaytd"
      },
      "outputs": [],
      "source": [
        "def plot_cdf_with_focus(data, x_label, x_min=None, x_max=None, title=None, focus_title=None):\n",
        "  \"\"\"\n",
        "  This function is used to plot a CDF (Cumulative Distributed Function) with a\n",
        "  focus on a more significat portion of data\n",
        "  \"\"\"\n",
        "  # Sort the data\n",
        "  sorted_data = np.sort(data)\n",
        "\n",
        "  # Calculate the cumulative probabilities\n",
        "  cdf = np.arange(1, len(sorted_data) + 1) / len(sorted_data)\n",
        "\n",
        "  # Create the main plot\n",
        "  plt.figure(figsize=(10, 6))\n",
        "  plt.plot(sorted_data, cdf)\n",
        "  plt.title(\"Cumulative Distribution Function (CDF)\")\n",
        "  if title is not None:\n",
        "    plt.title(title)\n",
        "  plt.xlabel(x_label)\n",
        "  plt.ylabel(\"CDF\")\n",
        "\n",
        "  # Create a subplot with focused x-axis\n",
        "  if x_min is not None and x_max is not None:\n",
        "    plt.figure(figsize=(10, 6))\n",
        "    plt.subplot(2, 1, 1)\n",
        "    plt.plot(sorted_data, cdf)\n",
        "    plt.title(\"CDF with Focused X-Axis\")\n",
        "    plt.xlabel(x_label)\n",
        "    plt.ylabel(\"CDF\")\n",
        "    plt.xlim(x_min, x_max)\n",
        "    if focus_title is not None:\n",
        "      plt.title(focus_title)\n",
        "\n",
        "  plt.tight_layout()\n",
        "  plt.show()\n",
        "  return\n"
      ]
    },
    {
      "cell_type": "code",
      "source": [
        "def plot_histogram(pd_dataset, x, y, ticks, x_label, y_label, title):\n",
        "  plt.bar(\n",
        "    pd_dataset[x],\n",
        "    pd_dataset[y],\n",
        "    edgecolor='black',\n",
        "    width=.4,\n",
        "    tick_label = ticks\n",
        "    )\n",
        "  plt.xlabel(x_labe)\n",
        "  plt.ylabel(y_label)\n",
        "  plt.title(title)\n",
        "  plt.show()\n",
        "  return"
      ],
      "metadata": {
        "id": "hT4J9OyIRUyg"
      },
      "execution_count": null,
      "outputs": []
    },
    {
      "cell_type": "code",
      "source": [
        "def plot_box_plot(x_value, x_label):\n",
        "  fig, ax = plt.subplots(1,1, figsize=(6,4))\n",
        "\n",
        "  _ = sns.boxplot(x=x_value, color=\"g\")\n",
        "  _ = ax.set_xlabel(x_label)\n",
        "  return"
      ],
      "metadata": {
        "id": "bNRnRiLRT4Np"
      },
      "execution_count": null,
      "outputs": []
    },
    {
      "cell_type": "markdown",
      "metadata": {
        "id": "RhRPX1ihHY3W"
      },
      "source": [
        "## Ratings' distribution EDA\n",
        "In this section it will be presented the EDA made on the Ratings distribution.\n",
        "\n",
        "Specifically it will be presented a summary about the data, an histogram representing the distribution of the ratings that will be later one reinforced with the plot of the CDF and the Box Plot"
      ]
    },
    {
      "cell_type": "markdown",
      "source": [
        "As it can be saw from the summary of the ratings there are 6779243 reviews and the mean of the given reviews (that correctly span from 1 to 5) is 3.77. The standard deviation tells that the data are not too much dispersed around the mean and as for the percentiles it is possible to say that the most given ratings span from 3.5 to 5.0"
      ],
      "metadata": {
        "id": "cq69z4I9P6LL"
      }
    },
    {
      "cell_type": "code",
      "execution_count": null,
      "metadata": {
        "colab": {
          "base_uri": "https://localhost:8080/"
        },
        "id": "a8706xf2Hes7",
        "outputId": "de92e64e-498b-49d2-f333-8ae769f859de"
      },
      "outputs": [
        {
          "name": "stdout",
          "output_type": "stream",
          "text": [
            "+-------+------------------+\n",
            "|summary|            rating|\n",
            "+-------+------------------+\n",
            "|  count|           6779243|\n",
            "|   mean|3.7748374707913555|\n",
            "| stddev|1.1207036350541448|\n",
            "|    min|               1.0|\n",
            "|    25%|               3.5|\n",
            "|    50%|               3.5|\n",
            "|    75%|               5.0|\n",
            "|    max|               5.0|\n",
            "+-------+------------------+\n",
            "\n"
          ]
        }
      ],
      "source": [
        "reviews_df.select('rating').summary().show()"
      ]
    },
    {
      "cell_type": "code",
      "execution_count": null,
      "metadata": {
        "id": "1DDIyju8qk3y"
      },
      "outputs": [],
      "source": [
        "# Transform the wanted column to Pandas DataFrame in order to compute more easily\n",
        "# the following plots\n",
        "pd_reviews_df = reviews_df.select('rating').toPandas()"
      ]
    },
    {
      "cell_type": "code",
      "execution_count": null,
      "metadata": {
        "id": "63Wb6XF5fpNm"
      },
      "outputs": [],
      "source": [
        "# Compute, in percentage, the amount of a specific rating over the total assigned\n",
        "ratings_df = pd_reviews_df[['rating']].value_counts().reset_index(name='counts')\n",
        "tot_rows = reviews_df.count()\n",
        "ratings_df['percentage'] = ratings_df['counts']/tot_rows"
      ]
    },
    {
      "cell_type": "code",
      "execution_count": null,
      "metadata": {
        "colab": {
          "base_uri": "https://localhost:8080/",
          "height": 331
        },
        "id": "3B9cbEYetH0Q",
        "outputId": "b29656b6-a150-4146-b5b4-db9a99cb4d9f"
      },
      "outputs": [
        {
          "data": {
            "text/html": [
              "\n",
              "\n",
              "  <div id=\"df-118404aa-f06d-469c-a549-4a3ed60dd926\">\n",
              "    <div class=\"colab-df-container\">\n",
              "      <div>\n",
              "<style scoped>\n",
              "    .dataframe tbody tr th:only-of-type {\n",
              "        vertical-align: middle;\n",
              "    }\n",
              "\n",
              "    .dataframe tbody tr th {\n",
              "        vertical-align: top;\n",
              "    }\n",
              "\n",
              "    .dataframe thead th {\n",
              "        text-align: right;\n",
              "    }\n",
              "</style>\n",
              "<table border=\"1\" class=\"dataframe\">\n",
              "  <thead>\n",
              "    <tr style=\"text-align: right;\">\n",
              "      <th></th>\n",
              "      <th>rating</th>\n",
              "      <th>counts</th>\n",
              "      <th>percentage</th>\n",
              "    </tr>\n",
              "  </thead>\n",
              "  <tbody>\n",
              "    <tr>\n",
              "      <th>0</th>\n",
              "      <td>5.0</td>\n",
              "      <td>2276734</td>\n",
              "      <td>0.335839</td>\n",
              "    </tr>\n",
              "    <tr>\n",
              "      <th>1</th>\n",
              "      <td>3.5</td>\n",
              "      <td>2132427</td>\n",
              "      <td>0.314552</td>\n",
              "    </tr>\n",
              "    <tr>\n",
              "      <th>2</th>\n",
              "      <td>2.5</td>\n",
              "      <td>850133</td>\n",
              "      <td>0.125402</td>\n",
              "    </tr>\n",
              "    <tr>\n",
              "      <th>3</th>\n",
              "      <td>4.5</td>\n",
              "      <td>367912</td>\n",
              "      <td>0.054270</td>\n",
              "    </tr>\n",
              "    <tr>\n",
              "      <th>4</th>\n",
              "      <td>4.0</td>\n",
              "      <td>357764</td>\n",
              "      <td>0.052773</td>\n",
              "    </tr>\n",
              "    <tr>\n",
              "      <th>5</th>\n",
              "      <td>1.0</td>\n",
              "      <td>308240</td>\n",
              "      <td>0.045468</td>\n",
              "    </tr>\n",
              "    <tr>\n",
              "      <th>6</th>\n",
              "      <td>3.0</td>\n",
              "      <td>303469</td>\n",
              "      <td>0.044764</td>\n",
              "    </tr>\n",
              "    <tr>\n",
              "      <th>7</th>\n",
              "      <td>1.5</td>\n",
              "      <td>104783</td>\n",
              "      <td>0.015456</td>\n",
              "    </tr>\n",
              "    <tr>\n",
              "      <th>8</th>\n",
              "      <td>2.0</td>\n",
              "      <td>77781</td>\n",
              "      <td>0.011473</td>\n",
              "    </tr>\n",
              "  </tbody>\n",
              "</table>\n",
              "</div>\n",
              "      <button class=\"colab-df-convert\" onclick=\"convertToInteractive('df-118404aa-f06d-469c-a549-4a3ed60dd926')\"\n",
              "              title=\"Convert this dataframe to an interactive table.\"\n",
              "              style=\"display:none;\">\n",
              "\n",
              "  <svg xmlns=\"http://www.w3.org/2000/svg\" height=\"24px\"viewBox=\"0 0 24 24\"\n",
              "       width=\"24px\">\n",
              "    <path d=\"M0 0h24v24H0V0z\" fill=\"none\"/>\n",
              "    <path d=\"M18.56 5.44l.94 2.06.94-2.06 2.06-.94-2.06-.94-.94-2.06-.94 2.06-2.06.94zm-11 1L8.5 8.5l.94-2.06 2.06-.94-2.06-.94L8.5 2.5l-.94 2.06-2.06.94zm10 10l.94 2.06.94-2.06 2.06-.94-2.06-.94-.94-2.06-.94 2.06-2.06.94z\"/><path d=\"M17.41 7.96l-1.37-1.37c-.4-.4-.92-.59-1.43-.59-.52 0-1.04.2-1.43.59L10.3 9.45l-7.72 7.72c-.78.78-.78 2.05 0 2.83L4 21.41c.39.39.9.59 1.41.59.51 0 1.02-.2 1.41-.59l7.78-7.78 2.81-2.81c.8-.78.8-2.07 0-2.86zM5.41 20L4 18.59l7.72-7.72 1.47 1.35L5.41 20z\"/>\n",
              "  </svg>\n",
              "      </button>\n",
              "\n",
              "\n",
              "\n",
              "    <div id=\"df-c2613da5-7117-4fe1-996b-f8fa9dacb052\">\n",
              "      <button class=\"colab-df-quickchart\" onclick=\"quickchart('df-c2613da5-7117-4fe1-996b-f8fa9dacb052')\"\n",
              "              title=\"Suggest charts.\"\n",
              "              style=\"display:none;\">\n",
              "\n",
              "<svg xmlns=\"http://www.w3.org/2000/svg\" height=\"24px\"viewBox=\"0 0 24 24\"\n",
              "     width=\"24px\">\n",
              "    <g>\n",
              "        <path d=\"M19 3H5c-1.1 0-2 .9-2 2v14c0 1.1.9 2 2 2h14c1.1 0 2-.9 2-2V5c0-1.1-.9-2-2-2zM9 17H7v-7h2v7zm4 0h-2V7h2v10zm4 0h-2v-4h2v4z\"/>\n",
              "    </g>\n",
              "</svg>\n",
              "      </button>\n",
              "    </div>\n",
              "\n",
              "<style>\n",
              "  .colab-df-quickchart {\n",
              "    background-color: #E8F0FE;\n",
              "    border: none;\n",
              "    border-radius: 50%;\n",
              "    cursor: pointer;\n",
              "    display: none;\n",
              "    fill: #1967D2;\n",
              "    height: 32px;\n",
              "    padding: 0 0 0 0;\n",
              "    width: 32px;\n",
              "  }\n",
              "\n",
              "  .colab-df-quickchart:hover {\n",
              "    background-color: #E2EBFA;\n",
              "    box-shadow: 0px 1px 2px rgba(60, 64, 67, 0.3), 0px 1px 3px 1px rgba(60, 64, 67, 0.15);\n",
              "    fill: #174EA6;\n",
              "  }\n",
              "\n",
              "  [theme=dark] .colab-df-quickchart {\n",
              "    background-color: #3B4455;\n",
              "    fill: #D2E3FC;\n",
              "  }\n",
              "\n",
              "  [theme=dark] .colab-df-quickchart:hover {\n",
              "    background-color: #434B5C;\n",
              "    box-shadow: 0px 1px 3px 1px rgba(0, 0, 0, 0.15);\n",
              "    filter: drop-shadow(0px 1px 2px rgba(0, 0, 0, 0.3));\n",
              "    fill: #FFFFFF;\n",
              "  }\n",
              "</style>\n",
              "\n",
              "    <script>\n",
              "      async function quickchart(key) {\n",
              "        const containerElement = document.querySelector('#' + key);\n",
              "        const charts = await google.colab.kernel.invokeFunction(\n",
              "            'suggestCharts', [key], {});\n",
              "      }\n",
              "    </script>\n",
              "\n",
              "      <script>\n",
              "\n",
              "function displayQuickchartButton(domScope) {\n",
              "  let quickchartButtonEl =\n",
              "    domScope.querySelector('#df-c2613da5-7117-4fe1-996b-f8fa9dacb052 button.colab-df-quickchart');\n",
              "  quickchartButtonEl.style.display =\n",
              "    google.colab.kernel.accessAllowed ? 'block' : 'none';\n",
              "}\n",
              "\n",
              "        displayQuickchartButton(document);\n",
              "      </script>\n",
              "      <style>\n",
              "    .colab-df-container {\n",
              "      display:flex;\n",
              "      flex-wrap:wrap;\n",
              "      gap: 12px;\n",
              "    }\n",
              "\n",
              "    .colab-df-convert {\n",
              "      background-color: #E8F0FE;\n",
              "      border: none;\n",
              "      border-radius: 50%;\n",
              "      cursor: pointer;\n",
              "      display: none;\n",
              "      fill: #1967D2;\n",
              "      height: 32px;\n",
              "      padding: 0 0 0 0;\n",
              "      width: 32px;\n",
              "    }\n",
              "\n",
              "    .colab-df-convert:hover {\n",
              "      background-color: #E2EBFA;\n",
              "      box-shadow: 0px 1px 2px rgba(60, 64, 67, 0.3), 0px 1px 3px 1px rgba(60, 64, 67, 0.15);\n",
              "      fill: #174EA6;\n",
              "    }\n",
              "\n",
              "    [theme=dark] .colab-df-convert {\n",
              "      background-color: #3B4455;\n",
              "      fill: #D2E3FC;\n",
              "    }\n",
              "\n",
              "    [theme=dark] .colab-df-convert:hover {\n",
              "      background-color: #434B5C;\n",
              "      box-shadow: 0px 1px 3px 1px rgba(0, 0, 0, 0.15);\n",
              "      filter: drop-shadow(0px 1px 2px rgba(0, 0, 0, 0.3));\n",
              "      fill: #FFFFFF;\n",
              "    }\n",
              "  </style>\n",
              "\n",
              "      <script>\n",
              "        const buttonEl =\n",
              "          document.querySelector('#df-118404aa-f06d-469c-a549-4a3ed60dd926 button.colab-df-convert');\n",
              "        buttonEl.style.display =\n",
              "          google.colab.kernel.accessAllowed ? 'block' : 'none';\n",
              "\n",
              "        async function convertToInteractive(key) {\n",
              "          const element = document.querySelector('#df-118404aa-f06d-469c-a549-4a3ed60dd926');\n",
              "          const dataTable =\n",
              "            await google.colab.kernel.invokeFunction('convertToInteractive',\n",
              "                                                     [key], {});\n",
              "          if (!dataTable) return;\n",
              "\n",
              "          const docLinkHtml = 'Like what you see? Visit the ' +\n",
              "            '<a target=\"_blank\" href=https://colab.research.google.com/notebooks/data_table.ipynb>data table notebook</a>'\n",
              "            + ' to learn more about interactive tables.';\n",
              "          element.innerHTML = '';\n",
              "          dataTable['output_type'] = 'display_data';\n",
              "          await google.colab.output.renderOutput(dataTable, element);\n",
              "          const docLink = document.createElement('div');\n",
              "          docLink.innerHTML = docLinkHtml;\n",
              "          element.appendChild(docLink);\n",
              "        }\n",
              "      </script>\n",
              "    </div>\n",
              "  </div>\n"
            ],
            "text/plain": [
              "   rating   counts  percentage\n",
              "0     5.0  2276734    0.335839\n",
              "1     3.5  2132427    0.314552\n",
              "2     2.5   850133    0.125402\n",
              "3     4.5   367912    0.054270\n",
              "4     4.0   357764    0.052773\n",
              "5     1.0   308240    0.045468\n",
              "6     3.0   303469    0.044764\n",
              "7     1.5   104783    0.015456\n",
              "8     2.0    77781    0.011473"
            ]
          },
          "execution_count": 66,
          "metadata": {},
          "output_type": "execute_result"
        }
      ],
      "source": [
        "# Inspect the percentages\n",
        "ratings_df.head(n=10)"
      ]
    },
    {
      "cell_type": "markdown",
      "source": [
        "As it can be saw from the histogram the distribution of the ratings actually is in accord with the already made observation, in fact is possible to see that the most used rating is 5.0, followed by 3.5, 2.5, 4.5, 4.0, 1.0, 3.0, 1.5, 2.0"
      ],
      "metadata": {
        "id": "WNvz7CrtSILM"
      }
    },
    {
      "cell_type": "code",
      "execution_count": null,
      "metadata": {
        "colab": {
          "base_uri": "https://localhost:8080/",
          "height": 472
        },
        "id": "k2XG2J14LMXK",
        "outputId": "41b695f0-2d0b-4903-86f3-f1b2ca07fe66"
      },
      "outputs": [
        {
          "data": {
            "image/png": "[encoded data removed]",
            "text/plain": [
              "<Figure size 640x480 with 1 Axes>"
            ]
          },
          "metadata": {},
          "output_type": "display_data"
        }
      ],
      "source": [
        "plot_histogram(ratings_df,\n",
        "               'rating',\n",
        "               'counts',\n",
        "               ratings_df['rating'],\n",
        "               'Rating',\n",
        "               'Count',\n",
        "               'Distribution of Ratings'\n",
        "               )"
      ]
    },
    {
      "cell_type": "markdown",
      "source": [
        "Moreover, as it can be saw from the CDF it is possible to say that more or less the 60% of the ratings have a value that is 3.5 or lower"
      ],
      "metadata": {
        "id": "O7y8fEkWTATN"
      }
    },
    {
      "cell_type": "code",
      "execution_count": null,
      "metadata": {
        "colab": {
          "base_uri": "https://localhost:8080/",
          "height": 607
        },
        "id": "XzHGaBB4pMIT",
        "outputId": "a9ece30e-181b-4e21-d114-8a60410ab80b"
      },
      "outputs": [
        {
          "data": {
            "image/png": "[encoded data removed]",
            "text/plain": [
              "<Figure size 1000x600 with 1 Axes>"
            ]
          },
          "metadata": {},
          "output_type": "display_data"
        }
      ],
      "source": [
        "plot_cdf_with_focus(pd_reviews_df['rating'], 'Ratings', None, None, 'CDF Review Ratings')"
      ]
    },
    {
      "cell_type": "markdown",
      "source": [
        "As presented from the Box Plot, the majority of the ratings goes from 3.5 to 5.0"
      ],
      "metadata": {
        "id": "v1z9xaCpTs6u"
      }
    },
    {
      "cell_type": "code",
      "execution_count": null,
      "metadata": {
        "colab": {
          "base_uri": "https://localhost:8080/",
          "height": 388
        },
        "id": "aixo2ODxeMbw",
        "outputId": "d783d94d-06c4-43d1-e72e-37c20246594e"
      },
      "outputs": [
        {
          "data": {
            "image/png": "[encoded data removed]",
            "text/plain": [
              "<Figure size 600x400 with 1 Axes>"
            ]
          },
          "metadata": {},
          "output_type": "display_data"
        }
      ],
      "source": [
        "plot_box_plot(pd_reviews_df.rating, \"Ratings\")"
      ]
    },
    {
      "cell_type": "markdown",
      "metadata": {
        "id": "7jqHZA8-PYvs"
      },
      "source": [
        "## Items' popularity EDA\n",
        "In this section it will be presented the EDA made on the Items' popularity meaning that it will be inspected how many are the most popular (the one with more reviews) videogames in the dataset"
      ]
    },
    {
      "cell_type": "code",
      "execution_count": null,
      "metadata": {
        "id": "LyL_ROigPhHa"
      },
      "outputs": [],
      "source": [
        "# Group the reviews on the base of the steam_appind meaning and counting them\n",
        "# meaning that it will be known how many reviews there are for each game\n",
        "videogames_popularity_df = reviews_df.groupby('steam_appid').count().orderBy('count')"
      ]
    },
    {
      "cell_type": "markdown",
      "source": [
        "As it can be saw from the summary of the data there are 79966 games in the dataset and the mean of the amount of reviews for each game is 84. Naturaly since there is at least a game with 39433 reviews (while all the other percentiles says that the games have a number of reviews that span from 1 to 32) the standard deviation is really really high"
      ],
      "metadata": {
        "id": "L4b7fU74U9wU"
      }
    },
    {
      "cell_type": "code",
      "execution_count": null,
      "metadata": {
        "colab": {
          "base_uri": "https://localhost:8080/"
        },
        "id": "nqrRWhw6egVS",
        "outputId": "bf275fe1-8613-49e0-b085-b3e0a7fc6817"
      },
      "outputs": [
        {
          "name": "stdout",
          "output_type": "stream",
          "text": [
            "+-------+-----------------+\n",
            "|summary|            count|\n",
            "+-------+-----------------+\n",
            "|  count|            79966|\n",
            "|   mean|84.77656754120501|\n",
            "| stddev|484.5537212185353|\n",
            "|    min|                1|\n",
            "|    25%|                2|\n",
            "|    50%|                8|\n",
            "|    75%|               32|\n",
            "|    max|            39433|\n",
            "+-------+-----------------+\n",
            "\n"
          ]
        }
      ],
      "source": [
        "# Present the summary of the count of the reviews\n",
        "videogames_popularity_df.select('count').summary().show()"
      ]
    },
    {
      "cell_type": "code",
      "execution_count": null,
      "metadata": {
        "id": "6CMlu8UvQJ8l"
      },
      "outputs": [],
      "source": [
        "# Translate the dataframe to a Pandas DataFrame to compute easily the plots\n",
        "pd_videogames_popularity_df = videogames_popularity_df.toPandas()"
      ]
    },
    {
      "cell_type": "markdown",
      "source": [
        "As it can be saw from the plots pretty much the 75% of the videogames has a number of reviews that span from 1 to 35"
      ],
      "metadata": {
        "id": "lUtpRNruV4FB"
      }
    },
    {
      "cell_type": "code",
      "execution_count": null,
      "metadata": {
        "colab": {
          "base_uri": "https://localhost:8080/",
          "height": 894
        },
        "id": "E7MT3nJTlb57",
        "outputId": "9ff71d3d-3805-4960-c80d-65058f095875"
      },
      "outputs": [
        {
          "data": {
            "image/png": "[encoded data removed]",
            "text/plain": [
              "<Figure size 1000x600 with 1 Axes>"
            ]
          },
          "metadata": {},
          "output_type": "display_data"
        },
        {
          "data": {
            "image/png": "[encoded data removed]",
            "text/plain": [
              "<Figure size 1000x600 with 1 Axes>"
            ]
          },
          "metadata": {},
          "output_type": "display_data"
        }
      ],
      "source": [
        "# Define the ends for the focus on the most significant data\n",
        "x_min = 0\n",
        "x_max = 35\n",
        "plot_cdf_with_focus(pd_videogames_popularity_df['count'], 'Reviews-Per-Item', x_min, x_max, 'CDF Reviews-Per-Item', 'CDF with focus on x-axis ('+str(x_min)+', '+str(x_max)+')' )"
      ]
    },
    {
      "cell_type": "code",
      "execution_count": null,
      "metadata": {
        "colab": {
          "base_uri": "https://localhost:8080/",
          "height": 388
        },
        "id": "umdz5W9ueczF",
        "outputId": "7bf43495-9c9c-4f35-9d85-9751a4cb0c1d"
      },
      "outputs": [
        {
          "data": {
            "image/png": "[encoded data removed]",
            "text/plain": [
              "<Figure size 600x400 with 1 Axes>"
            ]
          },
          "metadata": {},
          "output_type": "display_data"
        }
      ],
      "source": [
        "# QUESTO CONTROLLALO POI SE PUOI O NO METTERLO IN FUNZIONE e vedi pure come leggerlo\n",
        "fig, ax = plt.subplots(1,1, figsize=(6,4))\n",
        "\n",
        "#_ = sns.boxplot(x=pd_videogames_popularity_df.count, color=\"g\")\n",
        "_ = sns.boxplot(x=\"count\", data=pd_videogames_popularity_df, color=\"g\")\n",
        "_ = ax.set_xlabel(\"Reviews-Per-Item\")"
      ]
    },
    {
      "cell_type": "markdown",
      "metadata": {
        "id": "7HUImHYnYUPm"
      },
      "source": [
        "## Users' Activity EDA\n",
        "In this section it will be presented the EDA made on the Users' Activity, meaning that it will be inspected how many reviews each user left"
      ]
    },
    {
      "cell_type": "code",
      "execution_count": null,
      "metadata": {
        "id": "Fb2DhcYRYYx_"
      },
      "outputs": [],
      "source": [
        "# Compute the amount of ratings each user left\n",
        "ratings_per_user = (\n",
        "    reviews_df\n",
        "    .groupBy('steam_id')\n",
        "    .count()\n",
        "    .orderBy('count', ascending=False)\n",
        ")"
      ]
    },
    {
      "cell_type": "markdown",
      "source": [
        "As it can be saw from the summary of the data, there are 291652 users in the dataset and on average each one of them left 23 reviews. Also in this case, since pretty much all the users left an amount of reviews that span from 1 to 24, but there is also at least one user that left 9296 reviews the standard deviation is really high"
      ],
      "metadata": {
        "id": "UOQEkUueWzh0"
      }
    },
    {
      "cell_type": "code",
      "execution_count": null,
      "metadata": {
        "colab": {
          "base_uri": "https://localhost:8080/"
        },
        "id": "TbdpWE2VfNmU",
        "outputId": "8eed7467-a06c-4e69-9890-f374a07fc465"
      },
      "outputs": [
        {
          "name": "stdout",
          "output_type": "stream",
          "text": [
            "+-------+------------------+\n",
            "|summary|             count|\n",
            "+-------+------------------+\n",
            "|  count|            291652|\n",
            "|   mean|23.244287712753554|\n",
            "| stddev| 60.50570284228065|\n",
            "|    min|                 1|\n",
            "|    25%|                 3|\n",
            "|    50%|                 9|\n",
            "|    75%|                24|\n",
            "|    max|              9296|\n",
            "+-------+------------------+\n",
            "\n"
          ]
        }
      ],
      "source": [
        "# Compute the summary over the data\n",
        "ratings_per_user.select('count').summary().show()"
      ]
    },
    {
      "cell_type": "code",
      "execution_count": null,
      "metadata": {
        "id": "4zz4huoPfN7F"
      },
      "outputs": [],
      "source": [
        "# Transform the dataframe to a Pandas DataFrame in order to plot easily the plots\n",
        "pd_ratings_per_user = ratings_per_user.toPandas()"
      ]
    },
    {
      "cell_type": "markdown",
      "source": [
        "As it can be saw from the CDF more or less the 80% of the users left 35 or less reviews, it is also significant to notice that 60% of the users left 15 or less reviews"
      ],
      "metadata": {
        "id": "lxe6N9SOXpeC"
      }
    },
    {
      "cell_type": "code",
      "execution_count": null,
      "metadata": {
        "colab": {
          "base_uri": "https://localhost:8080/",
          "height": 894
        },
        "id": "lQ59a06MoNCn",
        "outputId": "4a6da2da-dca1-4edc-e7be-b721727a5264"
      },
      "outputs": [
        {
          "data": {
            "image/png": "[encoded data removed]",
            "text/plain": [
              "<Figure size 1000x600 with 1 Axes>"
            ]
          },
          "metadata": {},
          "output_type": "display_data"
        },
        {
          "data": {
            "image/png": "[encoded data removed]",
            "text/plain": [
              "<Figure size 1000x600 with 1 Axes>"
            ]
          },
          "metadata": {},
          "output_type": "display_data"
        }
      ],
      "source": [
        "# Define the ends of the focus of the CDF\n",
        "x_min = 0\n",
        "x_max = 35\n",
        "plot_cdf_with_focus(pd_ratings_per_user['count'], 'Reviews-Per-User', x_min, x_max, 'CDF Reviews-Per-User', 'CDF with focus on x-axis ('+str(x_min)+', '+str(x_max)+')' )"
      ]
    },
    {
      "cell_type": "code",
      "execution_count": null,
      "metadata": {
        "colab": {
          "base_uri": "https://localhost:8080/",
          "height": 388
        },
        "id": "HsOhw0KvegZU",
        "outputId": "6b7d2685-dc98-420d-e575-5fbb55a8024e"
      },
      "outputs": [
        {
          "data": {
            "image/png": "[encoded data removed]",
            "text/plain": [
              "<Figure size 600x400 with 1 Axes>"
            ]
          },
          "metadata": {},
          "output_type": "display_data"
        }
      ],
      "source": [
        "fig, ax = plt.subplots(1,1, figsize=(6,4))\n",
        "\n",
        "#_ = sns.boxplot(x=pd_videogames_popularity_df.count, color=\"g\")\n",
        "_ = sns.boxplot(x=\"count\", data=pd_ratings_per_user, color=\"g\")\n",
        "_ = ax.set_xlabel(\"Reviews-Per-User\")"
      ]
    },
    {
      "cell_type": "markdown",
      "metadata": {
        "id": "135LT3FAvzCX"
      },
      "source": [
        "# ALS Training\n",
        "After analyzing the data it is possible to proceed with the model training in order to create the real Recommender System.\n",
        "\n",
        "For the sake of this project it has been decided to produce a Collaborative Filtering Recommender System Model Based with ALS (Alternate Least Square): during the job done on the project it has also tried to produce Memory Based Recommender Systems (both User-Based and Item-Based) but due to the limitations in the resoruces (specifically in the RAM) it has not been possible to ever compute a Recommender System in this way.\n",
        "\n",
        "As better explained later, the ALS model has been trained thanks to a Cross Validation that permitted to produce the better version of the model given the parameters provided in the training"
      ]
    },
    {
      "cell_type": "code",
      "execution_count": null,
      "metadata": {
        "colab": {
          "base_uri": "https://localhost:8080/"
        },
        "id": "aIdXMY8Gxwqg",
        "outputId": "fdea1ed9-4e06-4eb9-99e9-e55787f2aa40"
      },
      "outputs": [
        {
          "output_type": "stream",
          "name": "stdout",
          "text": [
            "root\n",
            " |-- steam_id: long (nullable = true)\n",
            " |-- steam_appid: integer (nullable = true)\n",
            " |-- recommended: string (nullable = true)\n",
            " |-- rating: float (nullable = true)\n",
            "\n"
          ]
        }
      ],
      "source": [
        "# Check for the table schema\n",
        "reviews_df.printSchema()"
      ]
    },
    {
      "cell_type": "markdown",
      "source": [
        "In order to make possible the ALS training it is needed to map the Steam IDs of the users to an Integer version of them"
      ],
      "metadata": {
        "id": "m0i6AmYBadP3"
      }
    },
    {
      "cell_type": "code",
      "execution_count": null,
      "metadata": {
        "id": "utnaNMPmw7sc"
      },
      "outputs": [],
      "source": [
        "# Create the mapping between the Long verison of the IDs and the Integer version\n",
        "# of them\n",
        "user_id_mapping = reviews_df.select('steam_id').distinct().rdd.zipWithIndex().toDF(['steam_id', 'steam_int_id'])"
      ]
    },
    {
      "cell_type": "code",
      "execution_count": null,
      "metadata": {
        "colab": {
          "base_uri": "https://localhost:8080/"
        },
        "id": "XSEWclSqy5nT",
        "outputId": "2f73ceaa-20e9-4795-9c72-4faa0feaa859"
      },
      "outputs": [
        {
          "output_type": "stream",
          "name": "stdout",
          "text": [
            "root\n",
            " |-- steam_id: struct (nullable = true)\n",
            " |    |-- steam_id: long (nullable = true)\n",
            " |-- steam_int_id: long (nullable = true)\n",
            "\n"
          ]
        }
      ],
      "source": [
        "# Check the result\n",
        "user_id_mapping.printSchema()"
      ]
    },
    {
      "cell_type": "markdown",
      "source": [
        "Since the mapping created a struct field that must not be in this way in order to have the possibility to join the new table with the old one, it is necessary to select the field of the struct and build a schema that is consistent with the the schema of the other table"
      ],
      "metadata": {
        "id": "bztizsD5a4jc"
      }
    },
    {
      "cell_type": "code",
      "execution_count": null,
      "metadata": {
        "id": "eEyWL2TXy8Qu"
      },
      "outputs": [],
      "source": [
        "# Get only the needed field of the new table\n",
        "mapped_ids = user_id_mapping.select(sqlf.col(\"steam_int_id\"), sqlf.col(\"steam_id\").getItem(\"steam_id\").alias(\"steam_id\"))"
      ]
    },
    {
      "cell_type": "code",
      "execution_count": null,
      "metadata": {
        "colab": {
          "base_uri": "https://localhost:8080/"
        },
        "id": "sMWgSNJHzP2J",
        "outputId": "bd59c620-0548-4a69-ff2a-d429d7acaff6"
      },
      "outputs": [
        {
          "output_type": "stream",
          "name": "stdout",
          "text": [
            "+------------+-----------------+\n",
            "|steam_int_id|         steam_id|\n",
            "+------------+-----------------+\n",
            "|           0|76561198259233672|\n",
            "|           1|76561198341423566|\n",
            "|           2|76561198031569409|\n",
            "|           3|76561197972849454|\n",
            "|           4|76561197973899044|\n",
            "|           5|76561198076660221|\n",
            "|           6|76561199196015162|\n",
            "|           7|76561198148487790|\n",
            "|           8|76561198130662169|\n",
            "|           9|76561197962366215|\n",
            "|          10|76561197960269579|\n",
            "|          11|76561198153732068|\n",
            "|          12|76561198045204619|\n",
            "|          13|76561198054117588|\n",
            "|          14|76561197972329126|\n",
            "|          15|76561198031573706|\n",
            "|          16|76561198115985007|\n",
            "|          17|76561198132762380|\n",
            "|          18|76561198290049169|\n",
            "|          19|76561198036818252|\n",
            "+------------+-----------------+\n",
            "only showing top 20 rows\n",
            "\n"
          ]
        }
      ],
      "source": [
        "# Inspect some rows of the table for the mapping\n",
        "mapped_ids.show()"
      ]
    },
    {
      "cell_type": "code",
      "execution_count": null,
      "metadata": {
        "id": "fgI4OBYXyzB7"
      },
      "outputs": [],
      "source": [
        "# Join the two tables\n",
        "user_activity_df = reviews_df.join(mapped_ids, on='steam_id', how='inner')"
      ]
    },
    {
      "cell_type": "code",
      "execution_count": null,
      "metadata": {
        "colab": {
          "base_uri": "https://localhost:8080/"
        },
        "id": "Gw_DQJyiziYb",
        "outputId": "0b125b13-2bc0-4044-9067-f54432d757ae"
      },
      "outputs": [
        {
          "output_type": "stream",
          "name": "stdout",
          "text": [
            "+-----------------+-----------+---------------+------+------------+\n",
            "|         steam_id|steam_appid|    recommended|rating|steam_int_id|\n",
            "+-----------------+-----------+---------------+------+------------+\n",
            "|76561198259233672|     951650|    Recommended|   3.0|           0|\n",
            "|76561198341423566|    1581451|    Recommended|   3.0|           1|\n",
            "|76561198031569409|       2310|    Recommended|   3.5|           2|\n",
            "|76561198031569409|     337000|    Recommended|   5.0|           2|\n",
            "|76561198031569409|    1353270|Not Recommended|   2.0|           2|\n",
            "|76561198031569409|    1049410|Not Recommended|   1.0|           2|\n",
            "|76561198031569409|     294860|Not Recommended|   2.5|           2|\n",
            "|76561198031569409|     429660|Not Recommended|   2.5|           2|\n",
            "|76561198031569409|     224760|Not Recommended|   2.5|           2|\n",
            "|76561198031569409|     405830|    Recommended|   3.5|           2|\n",
            "|76561198031569409|      31290|    Recommended|   4.0|           2|\n",
            "|76561198031569409|      32360|    Recommended|   5.0|           2|\n",
            "|76561198031569409|      57640|    Recommended|   5.0|           2|\n",
            "|76561198031569409|     686200|    Recommended|   5.0|           2|\n",
            "|76561198031569409|    1145960|Not Recommended|   1.5|           2|\n",
            "|76561198031569409|     480490|    Recommended|   3.5|           2|\n",
            "|76561198031569409|     228200|    Recommended|   4.0|           2|\n",
            "|76561198031569409|     435150|Not Recommended|   2.5|           2|\n",
            "|76561198031569409|    1911390|    Recommended|   3.5|           2|\n",
            "|76561198031569409|    1342620|    Recommended|   3.5|           2|\n",
            "+-----------------+-----------+---------------+------+------------+\n",
            "only showing top 20 rows\n",
            "\n"
          ]
        }
      ],
      "source": [
        "# Inspect a sample of rows\n",
        "user_activity_df.show()"
      ]
    },
    {
      "cell_type": "code",
      "source": [
        "# Save the table with the mapping for future computations\n",
        "user_activity_df.write.options(header='True', delimiter=',').csv('/content/gdrive/MyDrive/VideogameRecommenderSystem/user_activity')"
      ],
      "metadata": {
        "id": "vndBoEEFUM2L"
      },
      "execution_count": null,
      "outputs": []
    },
    {
      "cell_type": "markdown",
      "source": [
        "In order to train and evaluate the performances of the model it is necessary to divide the dataset into two different part: the training dataset, that are the data that will be used during the model training, and the test dataset, that are the data that will be used during the model evaluation.\n",
        "\n",
        "In order to make the training re-executable the seed has been put to RANDOM_SEED so that the split will happen always in the same way"
      ],
      "metadata": {
        "id": "ppoNiOw5btbz"
      }
    },
    {
      "cell_type": "code",
      "execution_count": null,
      "metadata": {
        "id": "_x888rX0v2Xj"
      },
      "outputs": [],
      "source": [
        "# Split the dataset in the training set and the test set\n",
        "(training, test) = user_activity_df.randomSplit([0.8, 0.2], seed=RANDOM_SEED)"
      ]
    },
    {
      "cell_type": "markdown",
      "source": [
        "In the following cell the ALS model is created. Specifically the model:\n",
        "\n",
        "\n",
        "*   Will consider the value in steam_int_id as the users of the system\n",
        "*   Will consider the value in steam_appid as the item of the system\n",
        "*   Will consider the value of rating as the ratings given by the users to the items\n",
        "*   Will set the coldStartStrategy to **drop** in order to have the possibility to evaluate the model\n",
        "\n"
      ],
      "metadata": {
        "id": "D8plm_LQczCh"
      }
    },
    {
      "cell_type": "code",
      "execution_count": null,
      "metadata": {
        "id": "YLivkanxv9QA"
      },
      "outputs": [],
      "source": [
        "als = ALS(\n",
        "    userCol=\"steam_int_id\",\n",
        "    itemCol=\"steam_appid\",\n",
        "    ratingCol=\"rating\",\n",
        "    coldStartStrategy=\"drop\",\n",
        "    nonnegative=True\n",
        ")"
      ]
    },
    {
      "cell_type": "code",
      "execution_count": null,
      "metadata": {
        "id": "Er3WF-OYb0pt"
      },
      "outputs": [],
      "source": [
        "als.checkpointInterval = 2"
      ]
    },
    {
      "cell_type": "markdown",
      "source": [
        "The *param_grid* is used in order to day which are the hyper-parameter values that must be tested for the hyper-parameters. In this way it will be possible to train the model thanks to a Cross Validator.\n",
        "\n",
        "It is important to know that:\n",
        "\n",
        "\n",
        "*   rank express the **number of latent factors that the model will try to learn**\n",
        "*   maxIter express the **number of iterations to be performed during the matrix factorization**\n",
        "*   regParam express **how much it is possible to be distant from the right value during the training**\n",
        "\n"
      ],
      "metadata": {
        "id": "zHYYqGQHdrQk"
      }
    },
    {
      "cell_type": "code",
      "execution_count": null,
      "metadata": {
        "id": "Rl4LBYaPrhBz"
      },
      "outputs": [],
      "source": [
        "param_grid = ParamGridBuilder()\\\n",
        "             .addGrid(als.rank, [1, 15, 20])\\\n",
        "             .addGrid(als.maxIter, [10])\\\n",
        "             .addGrid(als.regParam, [.8, .6])\\\n",
        "             .build()"
      ]
    },
    {
      "cell_type": "markdown",
      "source": [
        "The *evaluator* is used to evaluate the performance of the model.\n",
        "\n",
        "This specific evaluator will check the RMSE (Root Mean Square Error) computed checking how much the prediction is distant from the actual rating that the user gave to the item"
      ],
      "metadata": {
        "id": "I1wmXfz5eXiu"
      }
    },
    {
      "cell_type": "code",
      "execution_count": null,
      "metadata": {
        "id": "xXMLXBlmwKL2"
      },
      "outputs": [],
      "source": [
        "evaluator = RegressionEvaluator(\n",
        "    metricName=\"rmse\",\n",
        "    labelCol=\"rating\",\n",
        "    predictionCol=\"prediction\"\n",
        ")"
      ]
    },
    {
      "cell_type": "markdown",
      "source": [
        "The *CrossValidator* will then build the models with the wanted values said by the *ParamGrid* and will evaluate them thanks to the *Evaluator*"
      ],
      "metadata": {
        "id": "TpRhZni4eqlM"
      }
    },
    {
      "cell_type": "code",
      "execution_count": null,
      "metadata": {
        "id": "3y4dGLaBsKlF"
      },
      "outputs": [],
      "source": [
        "cv = CrossValidator(\n",
        "        estimator=als,\n",
        "        estimatorParamMaps=param_grid,\n",
        "        evaluator=evaluator,\n",
        "        numFolds=3)"
      ]
    },
    {
      "cell_type": "code",
      "execution_count": null,
      "metadata": {
        "id": "TFGw6NBhsRTh"
      },
      "outputs": [],
      "source": [
        "# Train the possible models over the training set\n",
        "model = cv.fit(training)"
      ]
    },
    {
      "cell_type": "markdown",
      "source": [
        "The model that gave the best performance evaluation will be saved in order to be used later"
      ],
      "metadata": {
        "id": "kxt0CPUze_Tv"
      }
    },
    {
      "cell_type": "code",
      "execution_count": null,
      "metadata": {
        "colab": {
          "base_uri": "https://localhost:8080/"
        },
        "id": "Nfp86plUsix6",
        "outputId": "51c6a1aa-2dae-4abe-914e-aa1beba40c71"
      },
      "outputs": [
        {
          "name": "stdout",
          "output_type": "stream",
          "text": [
            "rank:  15\n",
            "MaxIter:  10\n",
            "RegParam:  0.6\n"
          ]
        }
      ],
      "source": [
        "# Retrieve the best model and present the values for the hyper-parameters\n",
        "best_model = model.bestModel\n",
        "print('rank: ', best_model.rank)\n",
        "print('MaxIter: ', best_model._java_obj.parent().getMaxIter())\n",
        "print('RegParam: ', best_model._java_obj.parent().getRegParam())"
      ]
    },
    {
      "cell_type": "code",
      "execution_count": null,
      "metadata": {
        "id": "T_pMU5IgcM3P"
      },
      "outputs": [],
      "source": [
        "# Save the model\n",
        "path = '/content/gdrive/MyDrive/VideogameRecommenderSystem/models/'\n",
        "now = datetime.now()\n",
        "dt_string = now.strftime(\"%d_%m_%Y__%H_%M_%S\")\n",
        "model_name = \"ALS\" + dt_string\n",
        "path += model_name\n",
        "best_model.save(path)"
      ]
    }
  ],
  "metadata": {
    "colab": {
      "collapsed_sections": [
        "6xbqrzmgcdOq",
        "DgM-bVKmV-wi",
        "1gZGCc7Vckl-",
        "JJyuzsfFcZoL",
        "io1dGu_XnqLH",
        "jZyyO02ZHCPH",
        "sQko9KeZVzWN",
        "dxNM5GjX4qLa",
        "clojI9dU1AfO",
        "6jVcUeWOBiXe",
        "3a0xmFU8BnUZ",
        "TjTwb3G22WAn",
        "gdK8AW-Zulek",
        "sgGEsmuuHA6h",
        "vVc7b8yWNp8V",
        "RhRPX1ihHY3W",
        "7jqHZA8-PYvs",
        "7HUImHYnYUPm",
        "135LT3FAvzCX"
      ],
      "provenance": []
    },
    "kernelspec": {
      "display_name": "Python 3",
      "name": "python3"
    },
    "language_info": {
      "name": "python"
    }
  },
  "nbformat": 4,
  "nbformat_minor": 0
}