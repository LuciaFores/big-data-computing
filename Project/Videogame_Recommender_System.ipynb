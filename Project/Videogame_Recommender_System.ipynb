{
  "nbformat": 4,
  "nbformat_minor": 0,
  "metadata": {
    "colab": {
      "provenance": [],
      "collapsed_sections": [
        "6xbqrzmgcdOq",
        "DgM-bVKmV-wi",
        "dxNM5GjX4qLa",
        "clojI9dU1AfO",
        "gdK8AW-Zulek",
        "sgGEsmuuHA6h",
        "135LT3FAvzCX"
      ]
    },
    "kernelspec": {
      "name": "python3",
      "display_name": "Python 3"
    },
    "language_info": {
      "name": "python"
    }
  },
  "cells": [
    {
      "cell_type": "markdown",
      "source": [
        "#Introduction\n",
        "The aim of the project is to create a videogame recommender system based on the recommendations provided by users on the Steam platform.\n",
        "\n",
        "The reasons behind the choice to use Steam are several:\n",
        "\n",
        "\n",
        "*   Steam is at the moment the biggest videogame store online that also provides a \"community mechanic\" for their users. The users (that arrives to be 120 million active users each month) have the possibility to create their profile not only to store the games buyed but also to share with their friends the \"achievments\" that they can get in game and more importantly they have the possiblity to leave reviews on each game on the catalogue in order to communicate their preferences to other users\n",
        "*   Steam is a highly friendly platform for developer, meaning that they provide APIs to fetch data from their website and also are not against scraping (as long as it compell the robots.txt - http://steamcommunity.com/robots.txt - of the website and is not used in order to create bots to automate transactions, spamming and so on...) meaning that is possible to collect up-to-date data without having too many restrictions\n",
        "*   If a game is distributed on PCs it will very probable that it will distributed also on Steam; beside some notable exclusive for other online store platform (i.e. Fortnite, Genshin Impact, Minecraft, ...), Steam can be saw as the most comprehensive online store (since it is not tieded to any specific publisher) in which the most of the games for PC can be found\n",
        "\n",
        "\n",
        "In the following sections I will illustrate the job done in order to create the recommender system. Specifically the following topics will be covered\n",
        "\n",
        "\n",
        "1.   Dataset Collection\n",
        "2.   Data Cleaning\n",
        "3.   Recommendations' Translation\n",
        "4.   Data Analysis\n",
        "5.   AGGIUNGI LE ALTRE\n",
        "\n",
        "\n"
      ],
      "metadata": {
        "id": "HfshcX1INwlY"
      }
    },
    {
      "cell_type": "markdown",
      "source": [
        "# Library import"
      ],
      "metadata": {
        "id": "6xbqrzmgcdOq"
      }
    },
    {
      "cell_type": "code",
      "source": [
        "!pip install howlongtobeatpy"
      ],
      "metadata": {
        "colab": {
          "base_uri": "https://localhost:8080/"
        },
        "id": "BB9wIgbpSSnT",
        "outputId": "a172be82-d03e-4cb2-89ef-a02e09f27b88"
      },
      "execution_count": 1,
      "outputs": [
        {
          "output_type": "stream",
          "name": "stdout",
          "text": [
            "Collecting howlongtobeatpy\n",
            "  Downloading howlongtobeatpy-1.0.5.tar.gz (11 kB)\n",
            "  Preparing metadata (setup.py) ... \u001b[?25l\u001b[?25hdone\n",
            "Requirement already satisfied: aiohttp>=3.8.3 in /usr/local/lib/python3.10/dist-packages (from howlongtobeatpy) (3.8.5)\n",
            "Requirement already satisfied: requests>=2.28.1 in /usr/local/lib/python3.10/dist-packages (from howlongtobeatpy) (2.31.0)\n",
            "Collecting aiounittest>=1.4.2 (from howlongtobeatpy)\n",
            "  Downloading aiounittest-1.4.2-py3-none-any.whl (7.0 kB)\n",
            "Collecting fake_useragent>=1.1.0 (from howlongtobeatpy)\n",
            "  Downloading fake_useragent-1.2.1-py3-none-any.whl (14 kB)\n",
            "Requirement already satisfied: attrs>=17.3.0 in /usr/local/lib/python3.10/dist-packages (from aiohttp>=3.8.3->howlongtobeatpy) (23.1.0)\n",
            "Requirement already satisfied: charset-normalizer<4.0,>=2.0 in /usr/local/lib/python3.10/dist-packages (from aiohttp>=3.8.3->howlongtobeatpy) (3.2.0)\n",
            "Requirement already satisfied: multidict<7.0,>=4.5 in /usr/local/lib/python3.10/dist-packages (from aiohttp>=3.8.3->howlongtobeatpy) (6.0.4)\n",
            "Requirement already satisfied: async-timeout<5.0,>=4.0.0a3 in /usr/local/lib/python3.10/dist-packages (from aiohttp>=3.8.3->howlongtobeatpy) (4.0.2)\n",
            "Requirement already satisfied: yarl<2.0,>=1.0 in /usr/local/lib/python3.10/dist-packages (from aiohttp>=3.8.3->howlongtobeatpy) (1.9.2)\n",
            "Requirement already satisfied: frozenlist>=1.1.1 in /usr/local/lib/python3.10/dist-packages (from aiohttp>=3.8.3->howlongtobeatpy) (1.4.0)\n",
            "Requirement already satisfied: aiosignal>=1.1.2 in /usr/local/lib/python3.10/dist-packages (from aiohttp>=3.8.3->howlongtobeatpy) (1.3.1)\n",
            "Requirement already satisfied: wrapt in /usr/local/lib/python3.10/dist-packages (from aiounittest>=1.4.2->howlongtobeatpy) (1.14.1)\n",
            "Requirement already satisfied: idna<4,>=2.5 in /usr/local/lib/python3.10/dist-packages (from requests>=2.28.1->howlongtobeatpy) (3.4)\n",
            "Requirement already satisfied: urllib3<3,>=1.21.1 in /usr/local/lib/python3.10/dist-packages (from requests>=2.28.1->howlongtobeatpy) (1.26.16)\n",
            "Requirement already satisfied: certifi>=2017.4.17 in /usr/local/lib/python3.10/dist-packages (from requests>=2.28.1->howlongtobeatpy) (2023.7.22)\n",
            "Building wheels for collected packages: howlongtobeatpy\n",
            "  Building wheel for howlongtobeatpy (setup.py) ... \u001b[?25l\u001b[?25hdone\n",
            "  Created wheel for howlongtobeatpy: filename=howlongtobeatpy-1.0.5-py3-none-any.whl size=10674 sha256=92492de7ec9aef56b473a6fc7f2fda9906a89ab9b56c71e196184193377c7d53\n",
            "  Stored in directory: /root/.cache/pip/wheels/ab/5c/a9/a7ed038bf3e63e09334c66de47707badb6d61bd0d8bd17cbd6\n",
            "Successfully built howlongtobeatpy\n",
            "Installing collected packages: fake_useragent, aiounittest, howlongtobeatpy\n",
            "Successfully installed aiounittest-1.4.2 fake_useragent-1.2.1 howlongtobeatpy-1.0.5\n"
          ]
        }
      ]
    },
    {
      "cell_type": "code",
      "source": [
        "import os\n",
        "import re\n",
        "import requests\n",
        "import json\n",
        "import pandas as pd\n",
        "from tqdm import tqdm\n",
        "import csv\n",
        "import time\n",
        "from bs4 import BeautifulSoup\n",
        "from howlongtobeatpy import HowLongToBeat\n",
        "import os\n",
        "import matplotlib.pyplot as plt\n",
        "import seaborn as sns\n",
        "import numpy as np\n",
        "from datetime import datetime\n",
        "from itertools import combinations\n",
        "%matplotlib inline"
      ],
      "metadata": {
        "id": "NEVuXqY1aAjC"
      },
      "execution_count": 2,
      "outputs": []
    },
    {
      "cell_type": "markdown",
      "source": [
        "#Dataset Collection\n",
        "In the following section I will explain how I was able to get the dataset needed for the system from the Steam Store.\n",
        "\n",
        "In order to get the data (as I will explain in a detailed way later) I used the APIs provided by the Store and an ad-hoc web scraper."
      ],
      "metadata": {
        "id": "DgM-bVKmV-wi"
      }
    },
    {
      "cell_type": "markdown",
      "source": [
        "## Connection to Google Drive"
      ],
      "metadata": {
        "id": "LNtgf6N6chdv"
      }
    },
    {
      "cell_type": "code",
      "source": [
        "# Connect this colab to Google Drive\n",
        "from google.colab import drive\n",
        "drive.mount('/content/gdrive')"
      ],
      "metadata": {
        "colab": {
          "base_uri": "https://localhost:8080/"
        },
        "id": "QPqdTSvcWwHT",
        "outputId": "83c0a3ea-9c73-43ec-b996-54d6c57cc9a9"
      },
      "execution_count": 3,
      "outputs": [
        {
          "output_type": "stream",
          "name": "stdout",
          "text": [
            "Mounted at /content/gdrive\n"
          ]
        }
      ]
    },
    {
      "cell_type": "markdown",
      "source": [
        "## Check dataset files presence"
      ],
      "metadata": {
        "id": "1gZGCc7Vckl-"
      }
    },
    {
      "cell_type": "code",
      "execution_count": 4,
      "metadata": {
        "id": "oeNd4dCmNESt"
      },
      "outputs": [],
      "source": [
        "# Checks if the folder in which the dataset is contained is present on Google\n",
        "# Drive, if it is not present it will proceed with the execution of the scripts\n",
        "# that I used to collect the data\n",
        "\n",
        "# Each flag will check if a specific part of the dataset is present in the\n",
        "# folder and if not present it will compute that specific part of the dataset\n",
        "# collection\n",
        "\n",
        "# This flag is used to check if the file in which the informations about each\n",
        "# game (either tagged as 'game' or 'DLC') on the store is present\n",
        "games = os.path.exists(\"/content/gdrive/MyDrive/VideogameRecommenderSystem/games.csv\")\n",
        "# This flag is used to check if the file in which the informations about the\n",
        "# users (called 'players' from now on) is present\n",
        "players = os.path.exists(\"/content/gdrive/MyDrive/VideogameRecommenderSystem/players.csv\")\n",
        "# This flag is used to check if the file in which the informations about the\n",
        "# recommendations (also called 'reviews' from now on) leaved by the players is\n",
        "# present\n",
        "game_reviews = os.path.exists(\"/content/gdrive/MyDrive/VideogameRecommenderSystem/game_reviews.csv\")\n",
        "# This flag is used to check if the file in which the informations about the\n",
        "# statistics on the average time used to complete a game is present\n",
        "hours_stat = os.path.exists(\"/content/gdrive/MyDrive/VideogameRecommenderSystem/hours_stat.csv\")"
      ]
    },
    {
      "cell_type": "markdown",
      "source": [
        "### Missing *games.csv* file\n",
        "If the file containing the informations about the games (either complete games or DLCs) is missing, the following script will be executed.\n",
        "\n",
        "The script acts as following:\n",
        "\n",
        "\n",
        "*   Import all the needed libraries\n",
        "*   Defines the function that is needed to process the response get from the request to the site for the specific game information\n",
        "* Download the most up-to-date file containing **all** the applications that are present on the store; it is important to notice that not all the application on the store are games (or DLCs), in fact Steam also has listed additional contents for games like soundtracks or artbooks, naturally these items are not interesting for the recommender system so they must be discarded, however the only way to do that is to check for specific informations about the application, see the category of the item and filter them by only maintaining the ones whose category is either *game* or *DLC*\n",
        "* Saves the information about the interesting items; specifically the script will save the **commercial name** of the application (corresponding to the *name* column in the file), the **appid** of the application which is the **unique identificator** of the application on the store (corresponding to the *steam_appid* column in the file), the **type** of the application (either *game* or *DLC* and corresponding to the *type* column in the file), the **description of the game** provided by the developer/publisher (corresponding to the *about_the_game* column in the file), the **synopsis of the game** (corresponding to the *short_description* column of the file) and the **number of recommendations** that are present on the store for the specific application (corresponding to the *total_recommendation* column in the file). As for the recommendations is important to notice that the value could not be the same as the one that actually is on the store (meaning that there could be some games that have on the file **less** reviews than the one that are actually on the store): this is due to a limitation of the API that only get the reviews that has been written in the past 365 days from the day in which the request is made (so as it will be described later, in order to get the most of the reviews the API has not been used in favor of an ad-hoc scraper that actually is able to get more reviews)\n",
        "* AGGIUNGI DESCRIZIONE DELLA PULIZIA FATTA\n",
        "\n"
      ],
      "metadata": {
        "id": "JJyuzsfFcZoL"
      }
    },
    {
      "cell_type": "code",
      "source": [
        "if not games:\n",
        "  def get_game_info(app_id):\n",
        "    \"\"\"\n",
        "    This function takes the app_id of a game and returns the information\n",
        "    about the game from the Steam API.\n",
        "    \"\"\"\n",
        "    url = f'http://store.steampowered.com/api/appdetails?appids={app_id}'\n",
        "    try:\n",
        "      response = requests.get(url)\n",
        "    except:\n",
        "      with open('output_files/error_log.csv', 'a') as F_err:\n",
        "        writer = csv.writer(F_err)\n",
        "        writer.writerow([app_id])\n",
        "      return {}\n",
        "    data = response.json()\n",
        "    # The data could be None if the time-limit amount of requests\n",
        "    # given by the API is exceeded\n",
        "    if data == None:\n",
        "      with open('output_files/error_log.csv', 'a') as F_err:\n",
        "        writer = csv.writer(F_err)\n",
        "        writer.writerow([app_id])\n",
        "      return {}\n",
        "    # The success of the request can be True if the application is public\n",
        "    # and has information to be read or False if the application cannot be\n",
        "    # saw by users and so it does not have public information to be read\n",
        "    if data[str(app_id)]['success']:\n",
        "      return data[str(app_id)]['data']\n",
        "    else:\n",
        "      return {}\n",
        "\n",
        "\n",
        "  # This framework is useful in case of the freeze of the script due to possible\n",
        "  # errors: since new applications are added to the store very frequently, it is\n",
        "  # useful to define the set of the applications to be checked to a specific\n",
        "  # AppList downloaded at the beginning of the dataset collection\n",
        "\n",
        "  # Check for the existence of the Steam application file\n",
        "  # If not present, download it\n",
        "  # CONTROLLA POI STA COSA DI OUTPUT_FILES\n",
        "  if not os.path.exists('output_files/apps.csv'):\n",
        "    print('Steam application file not found. Downloading it...')\n",
        "    URL = 'https://api.steampowered.com/ISteamApps/GetAppList/v2/'\n",
        "    # In this case the try-except is not needed because this file is always\n",
        "    # downloadable\n",
        "    r = requests.get(url=URL)\n",
        "    apps_data = r.json()\n",
        "    # CONTROLLA QUALI SONO GLI ALTRI CAMPI DEL FILE JSON\n",
        "    apps_data = apps_data['applist']['apps']\n",
        "    with open('output_files/apps.json', 'w') as F:\n",
        "        json.dump(apps_data, F)\n",
        "    # The file is then converted to json and then to csv in order to have a\n",
        "    # more friendly usable file\n",
        "    df = pd.read_json('output_files/apps.json')\n",
        "    df.to_csv('output_files/apps.csv', index=None)\n",
        "  else:\n",
        "    print('Steam application file found. Loading it...')\n",
        "\n",
        "\n",
        "  # Read the Steam application file as dataframe\n",
        "  # and get only the identifier of the applications\n",
        "  df = pd.read_csv('output_files/apps.csv')\n",
        "  app_ids = df['appid']\n",
        "\n",
        "  # Checks if the file containing the needed information about the partial dataset\n",
        "  # is present; if not create it\n",
        "  if not os.path.exists('output_files/games.csv'):\n",
        "    with open('output_files/games.csv', 'w') as F:\n",
        "      writer = csv.writer(F)\n",
        "      cols = ['name', 'steam_appid', 'type', 'about_the_game', 'short_description', 'total_recommendations', ]\n",
        "      writer.writerow(cols)\n",
        "\n",
        "  # Same as before, but the 'other.csv' file will contain all the applications that\n",
        "  # are not games or DLCs\n",
        "  if not os.path.exists('output_files/other.csv'):\n",
        "    with open('output_files/other.csv', 'w') as F_1:\n",
        "      writer_1 = csv.writer(F_1)\n",
        "      cols = ['steam_appid']\n",
        "      writer_1.writerow(cols)\n",
        "\n",
        "  # Loop over the entire list of application to find games and DLCs\n",
        "  for i, row in tqdm(app_ids.to_frame().iterrows(), total = app_ids.shape[0]):\n",
        "    # This sleep is needed to avoid the overcame of the time-limit of the API\n",
        "      if i%20 == 0:\n",
        "          time.sleep(15)\n",
        "      app_id = row['appid']\n",
        "      game_info = get_game_info(app_id)\n",
        "      if game_info != {}:\n",
        "          if game_info['type'] == 'game' or game_info['type'] == 'dlc':\n",
        "              data = []\n",
        "              data.append(game_info['name'])\n",
        "              data.append(game_info['steam_appid'])\n",
        "              data.append(game_info['type'])\n",
        "              data.append(game_info['about_the_game'])\n",
        "              data.append(game_info['short_description'])\n",
        "              try:\n",
        "                  data.append(game_info['recommendations']['total'])\n",
        "              except KeyError:\n",
        "                  data.append(0)\n",
        "              with open('output_files/games.csv', 'a') as F:\n",
        "                writer = csv.writer(F)\n",
        "                writer.writerow(data)\n",
        "          else:\n",
        "            with open('output_files/other.csv', 'a') as F_1:\n",
        "              writer_1 = csv.writer(F_1)\n",
        "              writer_1.writerow([app_id])\n",
        "      else:\n",
        "        with open('output_files/other.csv', 'a') as F_1:\n",
        "          writer_1 = csv.writer(F_1)\n",
        "          writer_1.writerow([app_id])\n",
        "\n",
        "  # Needed clean in order to correctly format the csv file\n",
        "  CLEANER_TAGS = re.compile('<.*?>|&([a-z0-9]+|#[0-9]{1,6}|#x[0-9a-f]{1,6});')\n",
        "  CLEANER_SEPARATORS = re.compile(r'[,\\t;|]')\n",
        "\n",
        "  def clean_html(raw_html):\n",
        "    cleantext = re.sub(CLEANER_TAGS, '', raw_html)\n",
        "    return cleantext\n",
        "\n",
        "  def clean_separators(raw_text):\n",
        "    cleanedtext = re.sub(CLEANER_SEPARATORS, '', raw_text)\n",
        "    return cleanedtext\n",
        "\n",
        "  def format_string(raw_text):\n",
        "    return ' '.join(raw_text.split())\n",
        "\n",
        "  games_df = pd.read_csv(\"/content/gdrive/MyDrive/VideogameRecommenderSystem/games.csv\")\n",
        "\n",
        "  games_df['name'] = games_df['name'].astype(str)\n",
        "  games_df['name'] = games_df['name'].apply(clean_separators)\n",
        "  games_df['name'] = games_df['name'].apply(format_string)\n",
        "\n",
        "  games_df['about_the_game'] = games_df['about_the_game'].astype(str)\n",
        "  games_df['about_the_game'] = games_df['about_the_game'].apply(clean_html)\n",
        "  games_df['about_the_game'] = games_df['about_the_game'].apply(clean_separators)\n",
        "  games_df['about_the_game'] = games_df['about_the_game'].apply(format_string)\n",
        "\n",
        "  games_df['short_description'] = games_df['short_description'].astype(str)\n",
        "  games_df['short_description'] = games_df['short_description'].apply(clean_html)\n",
        "  games_df['short_description'] = games_df['short_description'].apply(clean_separators)\n",
        "  games_df['short_description'] = games_df['short_description'].apply(format_string)\n",
        "\n",
        "  games_df = games_df[['name', 'steam_appid', 'type', 'about_the_game', 'short_description', 'total_recommendations']]\n",
        "\n",
        "  games_df.to_csv('/content/gdrive/MyDrive/VideogameRecommenderSystem/games.csv', index=False)\n",
        "\n",
        "else:\n",
        "  print(\"'games.csv' file found\")"
      ],
      "metadata": {
        "id": "klFYCxYTcZ8_",
        "colab": {
          "base_uri": "https://localhost:8080/"
        },
        "outputId": "ba8ad482-aa36-4235-ed77-beee307d48a3"
      },
      "execution_count": 5,
      "outputs": [
        {
          "output_type": "stream",
          "name": "stdout",
          "text": [
            "'games.csv' file found\n"
          ]
        }
      ]
    },
    {
      "cell_type": "markdown",
      "source": [
        "### Missing *players.csv* file\n",
        "If the file containing the informations about the games (either complete games or DLCs) is missing, the following script will be executed.\n",
        "\n",
        "The script acts as following:\n",
        "\n",
        "\n",
        "*   At first imports all the needed libraries\n",
        "*   Then filters the games collected before by getting only the ones for which the *total_recommendation* column in the file *games.csv* has at least 1 recommendation (as said before this could not get all the games that have at least one recommendation due to the year-limit of the API but this limit will overcome later during the collection of the reviews that will be done starting from the players and not from the games)\n",
        "* Then for each one of the games filtered the script will try to get the **first 100 players** by retrieving the **100 most valuable reviews** for the game. The Steam store in fact gives the possibility to the user to judge the reviews left by other players by voting them as *useful* or *not useful*. By providing the request made in the script the API will return as result at most the first 100 reviews that were also judged as the most useful for the game. This decision has been made in order to avoid troll reviews or reviews done for review bombing which are pretty common in Steam\n",
        "* The Steam identification numbers of the players are then saved in the *players.csv* file\n",
        "\n"
      ],
      "metadata": {
        "id": "io1dGu_XnqLH"
      }
    },
    {
      "cell_type": "code",
      "source": [
        "if not players:\n",
        "  # Filter to get only the games that in the last year have been reviewed at\n",
        "  # least one time\n",
        "  df = pd.read_csv('output_files/games.csv')\n",
        "  df_tmp = df[df['total_recommendations']>0]\n",
        "  app_ids = df_tmp['steam_appid'].tolist()\n",
        "\n",
        "\n",
        "  # Prepare to save the players, it is important to use a set because it is\n",
        "  # important to not have duplicated users from which the reviews will be\n",
        "  # later retrieved\n",
        "  players = set()\n",
        "\n",
        "\n",
        "  # This framework is used to make the script robust to errors and to possible\n",
        "  # re-execution.\n",
        "  # The script first checks if some players were already found, if not it will\n",
        "  # create the file to save their ids\n",
        "  if not os.path.exists('output_files/players.csv'):\n",
        "    print(\"No players found.\")\n",
        "    with open('output_files/players.csv', 'w') as F:\n",
        "      writer = csv.writer(F)\n",
        "      cols = ['steam_id', ]\n",
        "      writer.writerow(cols)\n",
        "  # If some players were already saved then the starting set is set to the\n",
        "  # ids that were previously collected\n",
        "  else:\n",
        "    print(\"Some players found, ids loaded.\")\n",
        "    df_players = pd.read_csv('output_files/players.csv')\n",
        "    players = set(df_players['steam_id'].tolist())\n",
        "\n",
        "  # This file is used to collect possible games whose resolution is not\n",
        "  # successful and it is mostly used to have an hint of the 'health' of the\n",
        "  # current execution of the script and so is created at any execution of the\n",
        "  # script\n",
        "  with open('output_files/error_appid.csv', 'w') as F_1:\n",
        "    writer_1 = csv.writer(F_1)\n",
        "    cols = ['steam_appid', ]\n",
        "    writer_1.writerow(cols)\n",
        "\n",
        "  # This file collects the games for which the 100 most valuable players have\n",
        "  # been collected, since the script must be resilient to error and re-executions\n",
        "  # at any new execution the script will check for its existence and if the file\n",
        "  # is not found it will create it\n",
        "  if not os.path.exists('output_files/resolved_appid.csv'):\n",
        "    print('No resolved ids found.')\n",
        "    with open('output_files/resolved_appid.csv', 'w') as F_2:\n",
        "      writer_2 = csv.writer(F_2)\n",
        "      cols = ['steam_appid', ]\n",
        "      writer_2.writerow(cols)\n",
        "  # Naturally if the file is found it means that some games were already resolved\n",
        "  # and in order to not make duplicate requests the appids of the resolved\n",
        "  # applications are removed from the list of the applications that must be\n",
        "  # resolved in the execution\n",
        "  else:\n",
        "    print('Already resolved some games ids, removing them from the list...')\n",
        "    df_resolved = pd.read_csv('output_files/resolved_appid.csv')\n",
        "    resolved_app_ids = df_resolved['steam_appid'].tolist()\n",
        "    app_ids = list(set(app_ids) - set(resolved_app_ids))\n",
        "\n",
        "\n",
        "  # Loops over all the appids that must be resolved\n",
        "  for app_id in tqdm(app_ids, total=len(app_ids)):\n",
        "    # Try to get the 100 most valuable reviews (and following the 100 most\n",
        "    # valuable users that have written those reviews)\n",
        "    url = f'https://store.steampowered.com/appreviews/{app_id}?json=1&language=all&num_per_page=100'\n",
        "    # This sleep is needed in order to not exceed the time-limit imposed by the\n",
        "    # API\n",
        "    time.sleep(1)\n",
        "    try:\n",
        "      response = requests.get(url)\n",
        "    except:\n",
        "      with open('output_files/error_appid.csv', 'a') as F_1:\n",
        "        writer_1 = csv.writer(F)\n",
        "        writer.writerow([app_id])\n",
        "        continue\n",
        "    if response.status_code == 200:\n",
        "      data = response.json()\n",
        "      # If the request is successfull for each review got save the player id\n",
        "      with open('output_files/players.csv', 'a') as F:\n",
        "        writer = csv.writer(F)\n",
        "        for review in data['reviews']:\n",
        "          player_id = review['author']['steamid']\n",
        "          if player_id not in players:\n",
        "            players.add(player_id)\n",
        "            writer.writerow([player_id])\n",
        "      # And save the appid as one that has been resolved\n",
        "      with open('output_files/resolved_appid.csv', 'a') as F_2:\n",
        "        writer_2 = csv.writer(F_2)\n",
        "        writer_2.writerow([app_id])\n",
        "    else:\n",
        "      with open('output_files/error_appid.csv', 'a') as F_1:\n",
        "        writer_1 = csv.writer(F_1)\n",
        "        writer_1.writerow([app_id])\n",
        "else:\n",
        "  print(\"'players.csv' file found\")"
      ],
      "metadata": {
        "id": "QU24K0ORCsm7",
        "colab": {
          "base_uri": "https://localhost:8080/"
        },
        "outputId": "d294d879-e036-4279-fbc0-b0d4715d9ef0"
      },
      "execution_count": 6,
      "outputs": [
        {
          "output_type": "stream",
          "name": "stdout",
          "text": [
            "'players.csv' file found\n"
          ]
        }
      ]
    },
    {
      "cell_type": "markdown",
      "source": [
        "### Missing *games_reviews.csv* file\n",
        "After getting all the players interesting for the system it's time to collect the reviews that they wrote.\n",
        "The aim of the project is to create a **collaborative filtering recommender system** and for this reason is important to collect the reviews not much for the specific items that the system will recommend but moreover for the specific users of the system that will later on be used in order to compute the similarities among the user that wants the recommendation and the ones that are collected in the system.\n",
        "The Steam APIs (in addition of not having the possibility to check for reviews older than 1 year from the request - which can be naturally a big problem since, excluding some games that are continuously consumed by new users, games are usally reviewed only in the few following months from the publishing) does not actually give the possibility to get the reviews starting from the users.\n",
        "In order to overcome this two big limitation an ad-hoc scraper has been created.\n",
        "\n",
        "The script used to retrieve the games review starting from the users acts as following:\n",
        "\n",
        "\n",
        "*   Import all the needed libraries\n",
        "*   Define the function that is used, given a Steam id for an user and a page number indicating a page of their *review section* on their Steam profile, will parse the HTML page got as response of the request and save **only** the reviews from the response\n",
        "*   Retrieve the previously found players\n",
        "*   For each one of the found players, the script will get all the reviews written by the players together with the needed information got from the reivew\n",
        "\n",
        "\n",
        "It is important to notice that the saved information for each review are: **Steam id of the author** (corresponding to the *steam_id* column in the file), the **Application id for which the review has been written** (corresponding to the *app_id* column in the file), the **recommendation** given by the user for the application (can either be *Recommended* or *Not Recommended* and it's corresponding to the *recommended* column in the file) and the **amount of hours for which the user has played the game** (can be not present or present with two different values corresponding to the **total amount of time for which the user has been playing the game** and the **total amount of time for which the user has played the game at the moment of the writing of the review**; this data corresponds to the *hours_played* in the file).\n",
        "There are two important aspects that deserve to be mentioned: the first one is that it has been decided to not take in consideration the textual feedback given by the users; this is because the textual feedback is not actually mandatory in order to submit a review for a game and also because even if present the textual feedback can be actually unusefull in order to understand the feeling of the user towards the game (since it can be composed by emoticons or ASCII drawings). The second one is strictly connected to the aspect just mentioned: as already said the recommendations on Steam can only be categorized as *Recommended* or *Not Recommended* meaning the user cannot express **how much** they recommend or not a game; it's in this situation that the **hours that players spent playing the games** are helpful: by having an idea of **how much is the average time to complete a game** (which will be later explained) it is possible to convert the simple recommendation on a larger scale of grades (by taking in account how much time they spent before writing the review, if they continued playing the game after that and so on...). Naturally not all the reviews are connected to the play-time of the users (since it's possible to pla the games without having Steam collecting the user data about the gaming experience), in this case the reviews will be considered *neutral with a positive (or negative) meaning*.\n",
        "\n",
        "\n"
      ],
      "metadata": {
        "id": "jZyyO02ZHCPH"
      }
    },
    {
      "cell_type": "code",
      "source": [
        "if not game_reviews:\n",
        "  # Define the function needed to retrieve all the reviews written by an user\n",
        "  # and found in a specific page of the review section of their profile\n",
        "  def get_reviews(steam_id, page_number):\n",
        "    \"\"\"\n",
        "    This function parse the given page page_number for the review section of the\n",
        "    of the user profile with steam_id identification number. From the page it\n",
        "    returns the list of all the reviews in page (all characterized by the tag\n",
        "    <class='review_box'> in the HTML page)\n",
        "    \"\"\"\n",
        "    url = f\"https://steamcommunity.com/profiles/{steam_id}/recommended/?p={page_number}\"\n",
        "    # The user agent is defined in order to avoid to be recognized as a Python\n",
        "    # bot by the website\n",
        "    headers = {'User-Agent': 'Mozilla/5.0'}\n",
        "    response = requests.get(url, headers=headers)\n",
        "    soup = BeautifulSoup(response.text, \"html.parser\")\n",
        "    reviews = soup.findAll('div', {'class': 'review_box'})\n",
        "    return reviews\n",
        "\n",
        "\n",
        "  # Get all the previously found players\n",
        "  df_players = pd.read_csv('output_files/players.csv')\n",
        "  steam_ids = set(df_players['steam_id'].tolist())\n",
        "\n",
        "\n",
        "  # This framework is used in order to make the script resilient to errors and\n",
        "  # re-execution\n",
        "  # Specifically at any execution it will check if the file containing the reviews\n",
        "  # is present; if not it will create it\n",
        "  if not os.path.exists('output_files/game_reviews.csv'):\n",
        "    print(\"Creating review file...\")\n",
        "    with open('output_files/game_reviews.csv', 'w') as F:\n",
        "      writer = csv.writer(F)\n",
        "      cols = ['steam_id', 'app_id', 'recommended', 'hours_played']\n",
        "      writer.writerow(cols)\n",
        "  # If it is present the reviews will be appended to the pratial result\n",
        "  else:\n",
        "    print(\"Review file found, next reviews will be appended\")\n",
        "\n",
        "  # As before the error file is used to have an hint of the 'health' of the\n",
        "  # execution and to store all the users ids for which the retrieving of the\n",
        "  # reviews has not worked.\n",
        "  # Since the error file is not used to successfully resume execution after an\n",
        "  # interruption the file is created brand new at any execution\n",
        "  with open('output_files/error_steam_ids.csv', 'w') as F_1:\n",
        "    writer_1 = csv.writer(F_1)\n",
        "    cols = ['steam_id']\n",
        "    writer_1.writerow(cols)\n",
        "\n",
        "  # As before it is important to save the resolved user for which the reviews\n",
        "  # has already been collected, so it is important to have a file that stores\n",
        "  # all the resolved users, the script will check at any execution if the file is\n",
        "  # present: if not it will create it\n",
        "  if not os.path.exists('output_files/resolved_steam_ids.csv'):\n",
        "    print(\"No resolved steam ids found.\")\n",
        "    with open('output_files/resolved_steam_ids.csv', 'w') as F_2:\n",
        "      writer = csv.writer(F_2)\n",
        "      cols = ['steam_id']\n",
        "      writer.writerow(cols)\n",
        "  # If not present the alreay resolved users will be deleted from the ones that\n",
        "  # must be resolved.\n",
        "  # It is important to notice that this framework limits the duplication in case\n",
        "  # of abruption of the script: in fact the worst case is the one for which the\n",
        "  # script interrupts while having resolved some but not all the reviews for a user.\n",
        "  # In this case at the following execution of the script that user will be again\n",
        "  # resolved and some of the reviews will be duplicated but they can be easily\n",
        "  # removed later\n",
        "  else:\n",
        "    print(\"Some resolved steam ids found, ids loaded.\")\n",
        "    df_resolved = pd.read_csv('output_files/resolved_steam_ids.csv')\n",
        "    resolved_steam_ids = df_resolved['steam_id'].tolist()\n",
        "    steam_ids = list(set(steam_ids) - set(resolved_steam_ids))\n",
        "\n",
        "\n",
        "  # Loops for each user that must be resolved\n",
        "  for steam_id in tqdm(steam_ids, total=len(steam_ids)):\n",
        "    # i is a counter that show at which page of the 'reviews' section of the\n",
        "    # profile of a specific user the script has arrived; it is important to\n",
        "    # notice that the pages will always start from 1 and goes on up until all\n",
        "    # the reviews has been showed\n",
        "    # When analyzing a new user the page counter is set to 0\n",
        "    i = 0\n",
        "    # This sleep is used to wait a bit before processing a new user, in this\n",
        "    # way the Steam website will never be overflooded by requests and the\n",
        "    # scraping won't go against the terms of usage\n",
        "    time.sleep(1.5)\n",
        "    # Up until is possible to find more reviews\n",
        "    while True:\n",
        "      # The script will analyze a new page of the 'review' section of the profile\n",
        "      i += 1\n",
        "      try:\n",
        "        reviews = get_reviews(steam_id, i)\n",
        "      except:\n",
        "        with open('output_files/error_steam_ids.csv', 'a') as F_1:\n",
        "          writer_1 = csv.writer(F_1)\n",
        "          writer_1.writerow([steam_id])\n",
        "          break\n",
        "      # If some reviews are found\n",
        "      # This check is useful because for each user is possible to check any page\n",
        "      # wanted to be checked from the 'review' section of the profile but if the\n",
        "      # user did not wrote as much reviews needed to complete all the previous\n",
        "      # pages the list returned by the parser will be empty\n",
        "      if reviews != []:\n",
        "          # For each review written by the user collect all the needed informations\n",
        "          for review in reviews:\n",
        "            review_data = []\n",
        "            # The author of the review\n",
        "            review_data.append(str(steam_id))\n",
        "            # The steam application id: in the section of the HTML page\n",
        "            # characterized by the tag <class='game_capsule_ctn'> is present a\n",
        "            # picture representing the thumbnail of the game, the image is linked\n",
        "            # to the application page on the Steam store and so it is possible\n",
        "            # to get from the link the Steam appid of the application.\n",
        "            # All the links have the following structure\n",
        "              # https://steamcommunity.com/app/{app_id}\n",
        "            # and so the app_id can be found starting from the character present\n",
        "            # in the position 3 of the string up until the end of the link\n",
        "            app_id = review.find('a', {'class': 'game_capsule_ctn'})['href'][31:]\n",
        "            review_data.append(app_id)\n",
        "            # The value for the recommendation of the review\n",
        "            recommended = review.find('div', {'class': 'title'}).text\n",
        "            review_data.append(recommended)\n",
        "            # The amount of hours played by the user for the game\n",
        "            hours_played = review.find('div', {'class': 'hours'}).text\n",
        "            hours_played = hours_played.replace('\\r', '')\n",
        "            hours_played = hours_played.replace('\\n', '')\n",
        "            hours_played = hours_played.replace('\\t', '')\n",
        "            review_data.append(hours_played)\n",
        "            # Then save the information for the review\n",
        "            with open('output_files/game_reviews.csv', 'a') as F:\n",
        "              writer = csv.writer(F)\n",
        "              writer.writerow(review_data)\n",
        "      # When no more new pages with reviews can be found than the user can be\n",
        "      # considered resolved\n",
        "      else:\n",
        "        with open('output_files/resolved_steam_ids.csv', 'a') as F_2:\n",
        "          writer_2 = csv.writer(F_2)\n",
        "          writer_2.writerow([steam_id])\n",
        "          break\n",
        "\n",
        "\n",
        "  # After getting all the reviews is important to maintain only the ones about\n",
        "  # the apps that are in the 'games.csv' since it could happen that there are\n",
        "  # some reviews about games that are not in the total lists of game that the\n",
        "  # recommender system is considering\n",
        "  df_rev = pd.read_csv('output_files/game_reviews.csv')\n",
        "  df_game = pd.read_csv('output_files/games.csv')\n",
        "\n",
        "  df_game = df_game[['name', 'steam_appid']]\n",
        "  df_rev = df_rev[df_rev['app_id'].isin(df_game['steam_appid'])]\n",
        "  df_rev.to_csv('output_files/game_reviews.csv', index=False)\n",
        "else:\n",
        "  print(\"'game_reviews.csv' file found\")"
      ],
      "metadata": {
        "id": "SaryZNlNPiAF",
        "colab": {
          "base_uri": "https://localhost:8080/"
        },
        "outputId": "c10f33ea-9ff5-4576-cf97-fa4119a80197"
      },
      "execution_count": 7,
      "outputs": [
        {
          "output_type": "stream",
          "name": "stdout",
          "text": [
            "'game_reviews.csv' file found\n"
          ]
        }
      ]
    },
    {
      "cell_type": "markdown",
      "source": [
        "### Missing *hours_stat.csv* file\n",
        "As already mentioned in order to get the *graded value* of a review written by an user is important to know the average time needed to complete a game (in this way it's possible to compare how many hours the played the game and understand if the user had a complete knowledge about the game in order to express the recommendation). Since knowing how long a game is it has always been an important notion for gamers, there is a portal, called *howlongtobeat* that provide the amount of time (estimated from the data given by the user of the platform) that is needed to complete a game.\n",
        "How Long To Beat actually provides at most 4 different possible values: the amount of time needed to **complete the main storyline**, the amount of time needed to **complete the main storyline and the extra-quests**, the amount of time needed to **complete the game at 100%** (with all the secrets) and an **average among them**.\n",
        "It is importat to understand though that not all the games present on Steam are also listed on HLTB (since Steam is full of indie simulators that are not widely played)\n",
        "\n",
        "In order to retrieve the data from the website the API has been used. The script used to retrive the needed data acts as following:\n",
        "\n",
        "\n",
        "*   Imports all the needed libraries\n",
        "*   Filters all the games for which is present at least one review\n",
        "*   Creates a connection to the How Long To Beat portal and retrieves all the wanted information from the portal\n",
        "\n"
      ],
      "metadata": {
        "id": "sQko9KeZVzWN"
      }
    },
    {
      "cell_type": "code",
      "source": [
        "if not hours_stat:\n",
        "  # Filter all the games for which there is a review in the dataset\n",
        "  df_game = pd.read_csv('output_files/games.csv')\n",
        "  df_rev = pd.read_csv('output_files/game_reviews.csv')\n",
        "  df_game = df_game[df_game['steam_appid'].isin(df_rev['app_id'])]\n",
        "  df_game = df_game.dropna(subset=['name'])\n",
        "\n",
        "  # Create a dictionary with interesting information about games to be saved later\n",
        "  game_dict = dict(zip(df_game['name'], df_game['steam_appid']))\n",
        "  # Retrieve all the titles of the interesting games\n",
        "  titles = game_dict.keys()\n",
        "\n",
        "  # This framework is used to make the script resilient to errors and re-executions\n",
        "  # Since if for a game the information has already been collected it must not\n",
        "  # be analyzed again the script check at any execution if the file that stores\n",
        "  # the resolved games exists; if not it will create it, if present it will remove\n",
        "  # the resolved games from the ones that must be resolved\n",
        "  if os.path.exists('output_files/resolved_games.csv'):\n",
        "    print('Already resolved some titles, removing them from the list...')\n",
        "    resolved_df = pd.read_csv('output_files/resolved_games.csv')\n",
        "    resolved_titles = resolved_df['title'].tolist()\n",
        "    titles = list(set(titles) - set(resolved_titles))\n",
        "  else:\n",
        "    print('No resolved games yet, starting from the beginning...')\n",
        "    with open('output_files/hours_stat.csv', 'w') as F:\n",
        "      writer = csv.writer(F)\n",
        "      cols = ['title', 'steam_appid', 'main_story', 'main_extra', 'complesionist', 'all_styles', ]\n",
        "      writer.writerow(cols)\n",
        "    with open('output_files/resolved_games.csv', 'w') as F_1:\n",
        "      writer_1 = csv.writer(F_1)\n",
        "      writer_1.writerow(['title'])\n",
        "  with open('output_files/unresolved_games.csv', 'w') as F_2:\n",
        "      writer_2 = csv.writer(F_2)\n",
        "      writer_2.writerow(['title'])\n",
        "\n",
        "\n",
        "  # It creates a connection with the How Long To Beat API\n",
        "  hltb = HowLongToBeat()\n",
        "  # Loops over all the needed games\n",
        "  for title in tqdm(titles, total=len(titles)):\n",
        "    app_id = game_dict[title]\n",
        "    try:\n",
        "      results = hltb.search(title)\n",
        "    except:\n",
        "      with open('output_files/unresolved_games.csv', 'a') as F_2:\n",
        "        writer_2 = csv.writer(F_2)\n",
        "        writer_2.writerow([title])\n",
        "    # If the request on the site is successfull and the game is on the platform\n",
        "    # it collects the hours statistics for each 'game style'\n",
        "    if results != None:\n",
        "      if len(results) > 0:\n",
        "        game = results[0]\n",
        "        data = []\n",
        "        data.append(title)\n",
        "        data.append(app_id)\n",
        "        data.append(game.main_story)\n",
        "        data.append(game.main_extra)\n",
        "        data.append(game.completionist)\n",
        "        data.append(game.all_styles)\n",
        "      # If the game is not present on the platform all the statistics will be\n",
        "      # set to 0\n",
        "      else:\n",
        "        data = []\n",
        "        data.append(title)\n",
        "        data.append(app_id)\n",
        "        data.append(0)\n",
        "        data.append(0)\n",
        "        data.append(0)\n",
        "        data.append(0)\n",
        "      # The statistics will be saved\n",
        "      with open('output_files/hours_stat.csv', 'a') as F:\n",
        "        writer = csv.writer(F)\n",
        "        writer.writerow(data)\n",
        "      # And the game will considered resolved\n",
        "      with open('output_files/resolved_games.csv', 'a') as F_1:\n",
        "        writer_1 = csv.writer(F_1)\n",
        "        writer_1.writerow([title])\n",
        "    else:\n",
        "      with open('output_files/unresolved_games.csv', 'a') as F_2:\n",
        "        writer_2 = csv.writer(F_2)\n",
        "        writer_2.writerow([title])\n",
        "else:\n",
        "  print(\"'hours_stat.csv' file found\")"
      ],
      "metadata": {
        "id": "fxb2vyOGYAOf",
        "colab": {
          "base_uri": "https://localhost:8080/"
        },
        "outputId": "08f13ecd-574d-44f0-a335-0437274221c1"
      },
      "execution_count": 8,
      "outputs": [
        {
          "output_type": "stream",
          "name": "stdout",
          "text": [
            "'hours_stat.csv' file found\n"
          ]
        }
      ]
    },
    {
      "cell_type": "markdown",
      "source": [
        "#PySpark Initialization\n",
        "\n",
        "POI COMMENTA BENE TUTTO"
      ],
      "metadata": {
        "id": "dxNM5GjX4qLa"
      }
    },
    {
      "cell_type": "code",
      "source": [
        "# Install PySpark\n",
        "!pip install pyspark"
      ],
      "metadata": {
        "colab": {
          "base_uri": "https://localhost:8080/"
        },
        "id": "yXQRLwrI5AKI",
        "outputId": "a24b5c2a-f075-43be-e1bc-5cc706935db1"
      },
      "execution_count": 9,
      "outputs": [
        {
          "output_type": "stream",
          "name": "stdout",
          "text": [
            "Collecting pyspark\n",
            "  Downloading pyspark-3.4.1.tar.gz (310.8 MB)\n",
            "\u001b[2K     \u001b[90m━━━━━━━━━━━━━━━━━━━━━━━━━━━━━━━━━━━━━━━\u001b[0m \u001b[32m310.8/310.8 MB\u001b[0m \u001b[31m1.7 MB/s\u001b[0m eta \u001b[36m0:00:00\u001b[0m\n",
            "\u001b[?25h  Preparing metadata (setup.py) ... \u001b[?25l\u001b[?25hdone\n",
            "Requirement already satisfied: py4j==0.10.9.7 in /usr/local/lib/python3.10/dist-packages (from pyspark) (0.10.9.7)\n",
            "Building wheels for collected packages: pyspark\n",
            "  Building wheel for pyspark (setup.py) ... \u001b[?25l\u001b[?25hdone\n",
            "  Created wheel for pyspark: filename=pyspark-3.4.1-py2.py3-none-any.whl size=311285397 sha256=18ee1f36fd91b05967d5ad2d5838d7ba72d27eda9ef7a1954b4017b817be839c\n",
            "  Stored in directory: /root/.cache/pip/wheels/0d/77/a3/ff2f74cc9ab41f8f594dabf0579c2a7c6de920d584206e0834\n",
            "Successfully built pyspark\n",
            "Installing collected packages: pyspark\n",
            "Successfully installed pyspark-3.4.1\n"
          ]
        }
      ]
    },
    {
      "cell_type": "code",
      "source": [
        "# Import libraries\n",
        "# POI CAPISCI QUALE TI SERVE VERAMENTE\n",
        "import pyspark\n",
        "from pyspark.sql import *\n",
        "from pyspark.sql.types import *\n",
        "from pyspark.sql import functions as sqlf\n",
        "from pyspark import SparkContext, SparkConf\n",
        "from pyspark.ml.recommendation import ALS\n",
        "from pyspark.ml.evaluation import RegressionEvaluator\n",
        "from pyspark.ml.feature import Normalizer\n",
        "from pyspark.ml.linalg import Vectors, DenseVector"
      ],
      "metadata": {
        "id": "QNeCQ1NB5wBR"
      },
      "execution_count": 10,
      "outputs": []
    },
    {
      "cell_type": "code",
      "source": [
        "# Create the session\n",
        "# POI CAPISCI SE SONO I PARAMETRI GIUSTI\n",
        "\n",
        "\n",
        "# Create the session\n",
        "conf = SparkConf().\\\n",
        "                set('spark.ui.port', \"4050\").\\\n",
        "                set('spark.executor.memory', '4G').\\\n",
        "                set('spark.driver.memory', '45G').\\\n",
        "                set('spark.driver.maxResultSize', '10G').\\\n",
        "                set('spark.sql.pivotMaxValues', u'300000').\\\n",
        "                setAppName(\"VideogameRecommenderSystem\").\\\n",
        "                setMaster(\"local[*]\")\n",
        "\n",
        "# Create the context\n",
        "sc = pyspark.SparkContext(conf=conf)\n",
        "spark = SparkSession.builder.getOrCreate()"
      ],
      "metadata": {
        "id": "y-MLR86M5-T2"
      },
      "execution_count": 11,
      "outputs": []
    },
    {
      "cell_type": "code",
      "source": [
        "spark"
      ],
      "metadata": {
        "colab": {
          "base_uri": "https://localhost:8080/",
          "height": 309
        },
        "id": "khisiCn96zxf",
        "outputId": "6c7c361b-e008-4b8d-c086-eee4843ed0ab"
      },
      "execution_count": 12,
      "outputs": [
        {
          "output_type": "execute_result",
          "data": {
            "text/plain": [
              "<pyspark.sql.session.SparkSession at 0x7cab2c73a4d0>"
            ],
            "text/html": [
              "\n",
              "            <div>\n",
              "                <p><b>SparkSession - in-memory</b></p>\n",
              "                \n",
              "        <div>\n",
              "            <p><b>SparkContext</b></p>\n",
              "\n",
              "            <p><a href=\"http://a75ce891d68e:4050\">Spark UI</a></p>\n",
              "\n",
              "            <dl>\n",
              "              <dt>Version</dt>\n",
              "                <dd><code>v3.4.1</code></dd>\n",
              "              <dt>Master</dt>\n",
              "                <dd><code>local[*]</code></dd>\n",
              "              <dt>AppName</dt>\n",
              "                <dd><code>VideogameRecommenderSystem</code></dd>\n",
              "            </dl>\n",
              "        </div>\n",
              "        \n",
              "            </div>\n",
              "        "
            ]
          },
          "metadata": {},
          "execution_count": 12
        }
      ]
    },
    {
      "cell_type": "markdown",
      "source": [
        "#Data Cleaning\n",
        "In the following section I will explain in detail the job done in order to clean the data collected.\n",
        "\n",
        "POI SPIEGA BENE TUTTO"
      ],
      "metadata": {
        "id": "clojI9dU1AfO"
      }
    },
    {
      "cell_type": "markdown",
      "source": [
        "##*games.csv* cleaning"
      ],
      "metadata": {
        "id": "6jVcUeWOBiXe"
      }
    },
    {
      "cell_type": "code",
      "source": [
        "games_df = spark.read.load('/content/gdrive/MyDrive/VideogameRecommenderSystem/games.csv',\n",
        "                           format=\"csv\",\n",
        "                           sep=\",\",\n",
        "                           inferSchema=\"true\",\n",
        "                           header=\"true\")"
      ],
      "metadata": {
        "id": "jRXMJ2ro7dBy"
      },
      "execution_count": 13,
      "outputs": []
    },
    {
      "cell_type": "code",
      "source": [
        "print(\"Row number:\", games_df.count(), \"\\nColumn number:\", len(games_df.columns))"
      ],
      "metadata": {
        "colab": {
          "base_uri": "https://localhost:8080/"
        },
        "id": "wh2D0kuVVpUJ",
        "outputId": "848f8d8b-6ed8-4411-dd0e-aca09417e1e5"
      },
      "execution_count": 14,
      "outputs": [
        {
          "output_type": "stream",
          "name": "stdout",
          "text": [
            "Row number: 131974 \n",
            "Column number: 6\n"
          ]
        }
      ]
    },
    {
      "cell_type": "code",
      "source": [
        "games_df.printSchema()"
      ],
      "metadata": {
        "colab": {
          "base_uri": "https://localhost:8080/"
        },
        "id": "ahr9wVKKwDvz",
        "outputId": "cfeb0de1-111f-4b4b-982b-a1fc31a3c742"
      },
      "execution_count": 15,
      "outputs": [
        {
          "output_type": "stream",
          "name": "stdout",
          "text": [
            "root\n",
            " |-- name: string (nullable = true)\n",
            " |-- steam_appid: integer (nullable = true)\n",
            " |-- type: string (nullable = true)\n",
            " |-- about_the_game: string (nullable = true)\n",
            " |-- short_description: string (nullable = true)\n",
            " |-- total_recommendations: integer (nullable = true)\n",
            "\n"
          ]
        }
      ]
    },
    {
      "cell_type": "code",
      "source": [
        "games_df.show(n=5, truncate=False)"
      ],
      "metadata": {
        "colab": {
          "base_uri": "https://localhost:8080/"
        },
        "id": "yLXRLf-57wWn",
        "outputId": "70721145-1b47-4bf0-cd75-e1e7993048df"
      },
      "execution_count": 16,
      "outputs": [
        {
          "output_type": "stream",
          "name": "stdout",
          "text": [
            "+----------------------------------------+-----------+----+---------------------------------------------------------------------------------------------------------------------------------------------------------------------------------------------------------------------------------------------------------------------------------------------------------------------------------------------------------------------------------------------------------------------------------------------------------------------------------------------------------------------------------------------------------------------------------------------------------------------------------------------------------------------------------------------------------------------------------------------------------------------------------------------------------------------------------------------------------------------------------------------------------------------------------------------------------------------------------------------------------------------------------------------------------------------------------------------------------------------------------------------------------------------------------------------------------------------------------------------------------------------------------------------------------------------------------+--------------------------------------------------------------------------------------------------------------------------------------------------------------------------------------------------------------------------------------------------------------------------------------------+---------------------+\n",
            "|name                                    |steam_appid|type|about_the_game                                                                                                                                                                                                                                                                                                                                                                                                                                                                                                                                                                                                                                                                                                                                                                                                                                                                                                                                                                                                                                                                                                                                                                                                                                                                                                                   |short_description                                                                                                                                                                                                                                                                           |total_recommendations|\n",
            "+----------------------------------------+-----------+----+---------------------------------------------------------------------------------------------------------------------------------------------------------------------------------------------------------------------------------------------------------------------------------------------------------------------------------------------------------------------------------------------------------------------------------------------------------------------------------------------------------------------------------------------------------------------------------------------------------------------------------------------------------------------------------------------------------------------------------------------------------------------------------------------------------------------------------------------------------------------------------------------------------------------------------------------------------------------------------------------------------------------------------------------------------------------------------------------------------------------------------------------------------------------------------------------------------------------------------------------------------------------------------------------------------------------------------+--------------------------------------------------------------------------------------------------------------------------------------------------------------------------------------------------------------------------------------------------------------------------------------------+---------------------+\n",
            "|Poly Jigsaw: Furries                    |2485470    |game|Poly Jigsaw: Furries is a traditional style jigsaw puzzle game with a cute furry.Featuring 50 hand drawn images in a polygonal style with each puzzle piece uniquely shaped in a way no physical puzzle could be.The player's goal - puzzle pieces together to get a beautiful picture.In Poly Jigsaw: Furries:- 50 levels- Polygonal art- Simple controls (mouse)- Achievements- Relax music                                                                                                                                                                                                                                                                                                                                                                                                                                                                                                                                                                                                                                                                                                                                                                                                                                                                                                                                    |Poly Jigsaw: Furries is a traditional style jigsaw puzzle game with a cute furry.                                                                                                                                                                                                           |0                    |\n",
            "|Fantasy Grounds - FG Grasslands Map Pack|2484870    |dlc |FG Grasslands Map Pack The FG Grasslands Map Pack features images and art produced by our in-house artist Joshua Watmough. They have been organized and optimized for use with Fantasy Grounds Unity and the image tools. This map pack consists of many static images as well as some new animated elements for the construction of meadows fields and the like. Brushes include animated fish animated waves on a shore and dirt roads Decorations include animated birds animated surface waves rocks rock outcroppings fallen logs patches of dirt grass leaves and more Image Fills include animated water overlay 4 types of dirt grass mud pond water and more Map of a grassland example made with this art pack                                                                                                                                                                                                                                                                                                                                                                                                                                                                                                                                                                                                         |FG Grasslands Map Pack The FG Grasslands Map Pack features images and art produced by our in-house artist Joshua Watmough. They have been organized and optimized for use with Fantasy Grounds Unity and the image tools.                                                                   |0                    |\n",
            "|Phantom Peak                            |2484240    |game|https://store.steampowered.com/app/2484240/Phantom_Peak/Phantom Peak is an thrilling horror game set in an industrial complex. Solve the mysteries of the experiments conducted within these walls and discover the horrifying truth.Can you survive the nightmarish journey through Phantom Peak's industrial ruins? Will you uncover the truth or become yet another victim of the unearthly terrors that haunt this forsaken place?                                                                                                                                                                                                                                                                                                                                                                                                                                                                                                                                                                                                                                                                                                                                                                                                                                                                                           |Phantom Peak is an thrilling horror game set in an industrial complex. Solve the mysteries of the experiments conducted within these walls and discover the horrifying truth.                                                                                                               |0                    |\n",
            "|Jolly Putt - Mini Golf & Arcade         |2484340    |game|Jolly Putt is a classic tycoon game where your job is to manage an indoor Mini Golf Arcade. But you don't just get to design your own courses you can actually take part in tournaments and play them yourself! Keep your guests happy with great course designs and exciting arcade machines. If you can exceed their expectations they might become permanent members of your park. With enough members you can expand your building and lure V.I.P.s to your venue.If you really want to wow your customers you should also provide ample dining opportunities and a beautiful array of decorations. And don't forget to setup a Prize Stall so the lucky arcade players have someplace to redeem their tickets.Jolly Putt will features a wide array of unlockable content to keep you busy for hours on end.Design your own courses with a wide range of lanes and obstacles.Play your own courses and explore your park in first-person.Manage your income with an extensive display of statistics.Hire and supervise your staff.Hold tournaments.Position and rotate objects freely.Decorate and customize your park.Nostalgic isometric graphicsManage arcade prizes win-chances ticket rewards and food offerings.And much more when the game releases....Let's have a jolly good time at Jolly Putt - Mini Golf Arcade!|The jolliest Mini Golf Arcade Tycoon game! Design and Play your own courses. Manage arcade ticket prizes food stalls staff and much more to satisfy your park guest's every need. Customize decorate and explore your park in first-person.                                                 |0                    |\n",
            "|Fat Rat Pinball                         |2484420    |game|Substitute the ball in a pinball game for a Fat Rat to see what happens... Well this is Fat Rat Pinball a nice casual game! The challenges of a classic pinball are mixed up with the rat body physics creating a unique unexpected and fun pinball arcade game. With this new game you'll see animals flying over the pinball machine being hit by the flippers bouncing as a ball in the bumpers and increasing your score on each collision. But don't panic - no animals are hurt in this game. Everything happens in a nice way. You can try to beat up the pinball tables. Some pinball machines have stages and you go up until the end point. So it's part of the game challenge to win the pinball machines but you'll need to be skilled to do it. The gameplay is simple: control the flippers left and right. For launching the ball you should push down to choose the spring force. The score records and achievements are incorporated with Steam Works where you can see the game rankings. Have fun with Fat Rat Pinball! Bad Rats: the Rats Revenge © 2009-2017 Invent4 Entretenimento Ltda. Fat Rat Pinball © 2017-2023 Invent4 Entretenimento Ltda.                                                                                                                                                          |Play pinball with the Fat Rat as the ball. Yes it's an unique pinball game where the classic game encounters the unexpected magic of Bad Rats. Using ragdolls as the balls the arcade classic game enters in a brand new perspective. It's a fun and enjoyable pinball game. Try to beat it!|0                    |\n",
            "+----------------------------------------+-----------+----+---------------------------------------------------------------------------------------------------------------------------------------------------------------------------------------------------------------------------------------------------------------------------------------------------------------------------------------------------------------------------------------------------------------------------------------------------------------------------------------------------------------------------------------------------------------------------------------------------------------------------------------------------------------------------------------------------------------------------------------------------------------------------------------------------------------------------------------------------------------------------------------------------------------------------------------------------------------------------------------------------------------------------------------------------------------------------------------------------------------------------------------------------------------------------------------------------------------------------------------------------------------------------------------------------------------------------------+--------------------------------------------------------------------------------------------------------------------------------------------------------------------------------------------------------------------------------------------------------------------------------------------+---------------------+\n",
            "only showing top 5 rows\n",
            "\n"
          ]
        }
      ]
    },
    {
      "cell_type": "code",
      "source": [
        "# show nans (count rows if there are no nans)\n",
        "games_df.summary('count').show()"
      ],
      "metadata": {
        "colab": {
          "base_uri": "https://localhost:8080/"
        },
        "id": "QXcP3Wf1UUAm",
        "outputId": "253985d9-ad9e-451a-e65d-e33f15fadae6"
      },
      "execution_count": 17,
      "outputs": [
        {
          "output_type": "stream",
          "name": "stdout",
          "text": [
            "+-------+------+-----------+------+--------------+-----------------+---------------------+\n",
            "|summary|  name|steam_appid|  type|about_the_game|short_description|total_recommendations|\n",
            "+-------+------+-----------+------+--------------+-----------------+---------------------+\n",
            "|  count|131974|     131974|131974|        131884|           131974|               131974|\n",
            "+-------+------+-----------+------+--------------+-----------------+---------------------+\n",
            "\n"
          ]
        }
      ]
    },
    {
      "cell_type": "code",
      "source": [
        "print(\"Row number before excluding rows with NaNs:\", games_df.count())"
      ],
      "metadata": {
        "colab": {
          "base_uri": "https://localhost:8080/"
        },
        "id": "sD9dLnWd3YnW",
        "outputId": "2a61ba34-616d-41cd-9c38-5b505d8a6cae"
      },
      "execution_count": 18,
      "outputs": [
        {
          "output_type": "stream",
          "name": "stdout",
          "text": [
            "Row number before excluding rows with NaNs: 131974\n"
          ]
        }
      ]
    },
    {
      "cell_type": "code",
      "source": [
        "# remove rows with nans\n",
        "games_df = games_df.dropna()\n",
        "print(\"Row number after excluding rows with NaNs:\", games_df.count())"
      ],
      "metadata": {
        "colab": {
          "base_uri": "https://localhost:8080/"
        },
        "id": "LnZzYFwe2gTu",
        "outputId": "addfdc47-2266-49ca-8ee7-c3b7b5d10b8c"
      },
      "execution_count": 19,
      "outputs": [
        {
          "output_type": "stream",
          "name": "stdout",
          "text": [
            "Row number after excluding rows with NaNs: 131884\n"
          ]
        }
      ]
    },
    {
      "cell_type": "code",
      "source": [
        "# Remove the links from the games descriptions since they are not relevant for\n",
        "# the project\n",
        "CLEANER_LINKS = re.compile('http[s]?://\\S+')\n",
        "\n",
        "def clean_links(raw_text):\n",
        "  cleantext = re.sub(CLEANER_LINKS, '', raw_text)\n",
        "  return cleantext"
      ],
      "metadata": {
        "id": "NijMt45FzIvy"
      },
      "execution_count": 20,
      "outputs": []
    },
    {
      "cell_type": "code",
      "source": [
        "# SPIEGA PERCHÉ HAI BISOGNO DI STO UDF\n",
        "clean_links_UDF = sqlf.udf(lambda x : clean_links(x), StringType())"
      ],
      "metadata": {
        "id": "yVwgK_TLzhCx"
      },
      "execution_count": 21,
      "outputs": []
    },
    {
      "cell_type": "code",
      "source": [
        "games_df = games_df.withColumn('about_the_game', clean_links_UDF(sqlf.col('about_the_game')))\n",
        "games_df = games_df.withColumn('about_the_game', sqlf.trim(sqlf.col('about_the_game')))\n",
        "games_df = games_df.withColumn('short_description', clean_links_UDF(sqlf.col('short_description')))\n",
        "games_df = games_df.withColumn('short_description', sqlf.trim(sqlf.col('short_description')))"
      ],
      "metadata": {
        "id": "S9EmEBcM0GeP"
      },
      "execution_count": 22,
      "outputs": []
    },
    {
      "cell_type": "code",
      "source": [
        "games_df.show(n=5, truncate=False)"
      ],
      "metadata": {
        "colab": {
          "base_uri": "https://localhost:8080/"
        },
        "id": "KjvbV0a0AnGl",
        "outputId": "31b193e0-b41c-41f1-e3a2-928b0203d181"
      },
      "execution_count": 23,
      "outputs": [
        {
          "output_type": "stream",
          "name": "stdout",
          "text": [
            "+----------------------------------------+-----------+----+---------------------------------------------------------------------------------------------------------------------------------------------------------------------------------------------------------------------------------------------------------------------------------------------------------------------------------------------------------------------------------------------------------------------------------------------------------------------------------------------------------------------------------------------------------------------------------------------------------------------------------------------------------------------------------------------------------------------------------------------------------------------------------------------------------------------------------------------------------------------------------------------------------------------------------------------------------------------------------------------------------------------------------------------------------------------------------------------------------------------------------------------------------------------------------------------------------------------------------------------------------------------------------------------------------------------------------+--------------------------------------------------------------------------------------------------------------------------------------------------------------------------------------------------------------------------------------------------------------------------------------------+---------------------+\n",
            "|name                                    |steam_appid|type|about_the_game                                                                                                                                                                                                                                                                                                                                                                                                                                                                                                                                                                                                                                                                                                                                                                                                                                                                                                                                                                                                                                                                                                                                                                                                                                                                                                                   |short_description                                                                                                                                                                                                                                                                           |total_recommendations|\n",
            "+----------------------------------------+-----------+----+---------------------------------------------------------------------------------------------------------------------------------------------------------------------------------------------------------------------------------------------------------------------------------------------------------------------------------------------------------------------------------------------------------------------------------------------------------------------------------------------------------------------------------------------------------------------------------------------------------------------------------------------------------------------------------------------------------------------------------------------------------------------------------------------------------------------------------------------------------------------------------------------------------------------------------------------------------------------------------------------------------------------------------------------------------------------------------------------------------------------------------------------------------------------------------------------------------------------------------------------------------------------------------------------------------------------------------+--------------------------------------------------------------------------------------------------------------------------------------------------------------------------------------------------------------------------------------------------------------------------------------------+---------------------+\n",
            "|Poly Jigsaw: Furries                    |2485470    |game|Poly Jigsaw: Furries is a traditional style jigsaw puzzle game with a cute furry.Featuring 50 hand drawn images in a polygonal style with each puzzle piece uniquely shaped in a way no physical puzzle could be.The player's goal - puzzle pieces together to get a beautiful picture.In Poly Jigsaw: Furries:- 50 levels- Polygonal art- Simple controls (mouse)- Achievements- Relax music                                                                                                                                                                                                                                                                                                                                                                                                                                                                                                                                                                                                                                                                                                                                                                                                                                                                                                                                    |Poly Jigsaw: Furries is a traditional style jigsaw puzzle game with a cute furry.                                                                                                                                                                                                           |0                    |\n",
            "|Fantasy Grounds - FG Grasslands Map Pack|2484870    |dlc |FG Grasslands Map Pack The FG Grasslands Map Pack features images and art produced by our in-house artist Joshua Watmough. They have been organized and optimized for use with Fantasy Grounds Unity and the image tools. This map pack consists of many static images as well as some new animated elements for the construction of meadows fields and the like. Brushes include animated fish animated waves on a shore and dirt roads Decorations include animated birds animated surface waves rocks rock outcroppings fallen logs patches of dirt grass leaves and more Image Fills include animated water overlay 4 types of dirt grass mud pond water and more Map of a grassland example made with this art pack                                                                                                                                                                                                                                                                                                                                                                                                                                                                                                                                                                                                         |FG Grasslands Map Pack The FG Grasslands Map Pack features images and art produced by our in-house artist Joshua Watmough. They have been organized and optimized for use with Fantasy Grounds Unity and the image tools.                                                                   |0                    |\n",
            "|Phantom Peak                            |2484240    |game|Peak is an thrilling horror game set in an industrial complex. Solve the mysteries of the experiments conducted within these walls and discover the horrifying truth.Can you survive the nightmarish journey through Phantom Peak's industrial ruins? Will you uncover the truth or become yet another victim of the unearthly terrors that haunt this forsaken place?                                                                                                                                                                                                                                                                                                                                                                                                                                                                                                                                                                                                                                                                                                                                                                                                                                                                                                                                                           |Phantom Peak is an thrilling horror game set in an industrial complex. Solve the mysteries of the experiments conducted within these walls and discover the horrifying truth.                                                                                                               |0                    |\n",
            "|Jolly Putt - Mini Golf & Arcade         |2484340    |game|Jolly Putt is a classic tycoon game where your job is to manage an indoor Mini Golf Arcade. But you don't just get to design your own courses you can actually take part in tournaments and play them yourself! Keep your guests happy with great course designs and exciting arcade machines. If you can exceed their expectations they might become permanent members of your park. With enough members you can expand your building and lure V.I.P.s to your venue.If you really want to wow your customers you should also provide ample dining opportunities and a beautiful array of decorations. And don't forget to setup a Prize Stall so the lucky arcade players have someplace to redeem their tickets.Jolly Putt will features a wide array of unlockable content to keep you busy for hours on end.Design your own courses with a wide range of lanes and obstacles.Play your own courses and explore your park in first-person.Manage your income with an extensive display of statistics.Hire and supervise your staff.Hold tournaments.Position and rotate objects freely.Decorate and customize your park.Nostalgic isometric graphicsManage arcade prizes win-chances ticket rewards and food offerings.And much more when the game releases....Let's have a jolly good time at Jolly Putt - Mini Golf Arcade!|The jolliest Mini Golf Arcade Tycoon game! Design and Play your own courses. Manage arcade ticket prizes food stalls staff and much more to satisfy your park guest's every need. Customize decorate and explore your park in first-person.                                                 |0                    |\n",
            "|Fat Rat Pinball                         |2484420    |game|Substitute the ball in a pinball game for a Fat Rat to see what happens... Well this is Fat Rat Pinball a nice casual game! The challenges of a classic pinball are mixed up with the rat body physics creating a unique unexpected and fun pinball arcade game. With this new game you'll see animals flying over the pinball machine being hit by the flippers bouncing as a ball in the bumpers and increasing your score on each collision. But don't panic - no animals are hurt in this game. Everything happens in a nice way. You can try to beat up the pinball tables. Some pinball machines have stages and you go up until the end point. So it's part of the game challenge to win the pinball machines but you'll need to be skilled to do it. The gameplay is simple: control the flippers left and right. For launching the ball you should push down to choose the spring force. The score records and achievements are incorporated with Steam Works where you can see the game rankings. Have fun with Fat Rat Pinball! Bad Rats: the Rats Revenge © 2009-2017 Invent4 Entretenimento Ltda. Fat Rat Pinball © 2017-2023 Invent4 Entretenimento Ltda.                                                                                                                                                          |Play pinball with the Fat Rat as the ball. Yes it's an unique pinball game where the classic game encounters the unexpected magic of Bad Rats. Using ragdolls as the balls the arcade classic game enters in a brand new perspective. It's a fun and enjoyable pinball game. Try to beat it!|0                    |\n",
            "+----------------------------------------+-----------+----+---------------------------------------------------------------------------------------------------------------------------------------------------------------------------------------------------------------------------------------------------------------------------------------------------------------------------------------------------------------------------------------------------------------------------------------------------------------------------------------------------------------------------------------------------------------------------------------------------------------------------------------------------------------------------------------------------------------------------------------------------------------------------------------------------------------------------------------------------------------------------------------------------------------------------------------------------------------------------------------------------------------------------------------------------------------------------------------------------------------------------------------------------------------------------------------------------------------------------------------------------------------------------------------------------------------------------------+--------------------------------------------------------------------------------------------------------------------------------------------------------------------------------------------------------------------------------------------------------------------------------------------+---------------------+\n",
            "only showing top 5 rows\n",
            "\n"
          ]
        }
      ]
    },
    {
      "cell_type": "markdown",
      "source": [
        "##*game_reviews.csv* cleaning"
      ],
      "metadata": {
        "id": "3a0xmFU8BnUZ"
      }
    },
    {
      "cell_type": "code",
      "source": [
        "reviews_df = spark.read.load('/content/gdrive/MyDrive/VideogameRecommenderSystem/game_reviews.csv',\n",
        "                           format=\"csv\",\n",
        "                           sep=\",\",\n",
        "                           inferSchema=\"true\",\n",
        "                           header=\"true\")"
      ],
      "metadata": {
        "id": "w4sc_ttAQZ3G"
      },
      "execution_count": 24,
      "outputs": []
    },
    {
      "cell_type": "code",
      "source": [
        "print(\"Row number:\", reviews_df.count(), \"\\nColumn number:\", len(reviews_df.columns))"
      ],
      "metadata": {
        "colab": {
          "base_uri": "https://localhost:8080/"
        },
        "id": "IR_vdLcSWeip",
        "outputId": "504fbdf3-ef89-4b7e-b8d0-f918ed8ed5c8"
      },
      "execution_count": 25,
      "outputs": [
        {
          "output_type": "stream",
          "name": "stdout",
          "text": [
            "Row number: 6788734 \n",
            "Column number: 4\n"
          ]
        }
      ]
    },
    {
      "cell_type": "code",
      "source": [
        "reviews_df.printSchema()"
      ],
      "metadata": {
        "colab": {
          "base_uri": "https://localhost:8080/"
        },
        "id": "efn27tKfRBWv",
        "outputId": "cf87da6b-fe8e-4b66-ff9e-c9f7872a7f22"
      },
      "execution_count": 26,
      "outputs": [
        {
          "output_type": "stream",
          "name": "stdout",
          "text": [
            "root\n",
            " |-- steam_id: long (nullable = true)\n",
            " |-- app_id: integer (nullable = true)\n",
            " |-- recommended: string (nullable = true)\n",
            " |-- hours_played: string (nullable = true)\n",
            "\n"
          ]
        }
      ]
    },
    {
      "cell_type": "code",
      "source": [
        "reviews_df.show(n=10, truncate=False)"
      ],
      "metadata": {
        "colab": {
          "base_uri": "https://localhost:8080/"
        },
        "id": "HKnvPQ6QREit",
        "outputId": "bac239ec-3c19-4289-f870-1cbfbfc6f6f0"
      },
      "execution_count": 27,
      "outputs": [
        {
          "output_type": "stream",
          "name": "stdout",
          "text": [
            "+-----------------+-------+---------------+-----------------------------------------------+\n",
            "|steam_id         |app_id |recommended    |hours_played                                   |\n",
            "+-----------------+-------+---------------+-----------------------------------------------+\n",
            "|76561198832156672|277739 |Not Recommended|0.0 hrs on record                              |\n",
            "|76561198850506752|960990 |Recommended    |13.3 hrs on record(13.3 hrs at review time)    |\n",
            "|76561198850506752|1987080|Recommended    |8.1 hrs on record(4.0 hrs at review time)      |\n",
            "|76561198850506752|240    |Recommended    |43.0 hrs on record                             |\n",
            "|76561198850506752|620    |Recommended    |16.5 hrs on record(5.6 hrs at review time)     |\n",
            "|76561198850506752|730    |Recommended    |1,102.3 hrs on record(307.2 hrs at review time)|\n",
            "|76561198850506752|381210 |Recommended    |444.0 hrs on record(127.8 hrs at review time)  |\n",
            "|76561198046773252|200910 |Recommended    |16.3 hrs on record                             |\n",
            "|76561198046773252|1997040|Recommended    |31.9 hrs on record(26.6 hrs at review time)    |\n",
            "|76561198046773252|107100 |Recommended    |13.7 hrs on record                             |\n",
            "+-----------------+-------+---------------+-----------------------------------------------+\n",
            "only showing top 10 rows\n",
            "\n"
          ]
        }
      ]
    },
    {
      "cell_type": "code",
      "source": [
        "reviews_df.summary('count').show()"
      ],
      "metadata": {
        "colab": {
          "base_uri": "https://localhost:8080/"
        },
        "id": "9dm3KyO_WpD5",
        "outputId": "fb393333-b982-4d62-e242-a3cd645a437d"
      },
      "execution_count": 28,
      "outputs": [
        {
          "output_type": "stream",
          "name": "stdout",
          "text": [
            "+-------+--------+-------+-----------+------------+\n",
            "|summary|steam_id| app_id|recommended|hours_played|\n",
            "+-------+--------+-------+-----------+------------+\n",
            "|  count| 6788734|6788734|    6788734|     6788734|\n",
            "+-------+--------+-------+-----------+------------+\n",
            "\n"
          ]
        }
      ]
    },
    {
      "cell_type": "code",
      "source": [
        "CLEANER_CHARACTERS = re.compile(r'[(),a-zA-Z]')\n",
        "\n",
        "def create_tot_hours(raw_text):\n",
        "  cleanedtext = re.sub(CLEANER_CHARACTERS, '', raw_text)\n",
        "  tmp = cleanedtext.split()\n",
        "  tot = float(tmp[0])\n",
        "  return tot\n",
        "\n",
        "def create_hours_on_review(raw_text):\n",
        "  cleanedtext = re.sub(CLEANER_CHARACTERS, '', raw_text)\n",
        "  tmp = cleanedtext.split()\n",
        "  tot = 0.0\n",
        "  if len(tmp) == 2:\n",
        "    tot = float(tmp[1])\n",
        "  return tot"
      ],
      "metadata": {
        "id": "leuvJCW-aPi7"
      },
      "execution_count": 29,
      "outputs": []
    },
    {
      "cell_type": "code",
      "source": [
        "create_tot_hours_UDF = sqlf.udf(lambda x : create_tot_hours(x), FloatType())\n",
        "create_hours_on_review_UDF = sqlf.udf(lambda x : create_hours_on_review(x), FloatType())"
      ],
      "metadata": {
        "id": "Ij6l5H5Ia4Zz"
      },
      "execution_count": 30,
      "outputs": []
    },
    {
      "cell_type": "code",
      "source": [
        "reviews_df = reviews_df.withColumn('total_played_hours', create_tot_hours_UDF(sqlf.col('hours_played')))\n",
        "reviews_df = reviews_df.withColumn('played_hours_on_review', create_hours_on_review_UDF(sqlf.col('hours_played')))\n",
        "reviews_df = reviews_df.withColumnRenamed('app_id', 'steam_appid')"
      ],
      "metadata": {
        "id": "Ca9_cSQ_bGfs"
      },
      "execution_count": 31,
      "outputs": []
    },
    {
      "cell_type": "code",
      "source": [
        "steam_appids = games_df.select('steam_appid')"
      ],
      "metadata": {
        "id": "37T9fOhEFQK4"
      },
      "execution_count": 32,
      "outputs": []
    },
    {
      "cell_type": "code",
      "source": [
        "#reviews_df = reviews_df.join(\n",
        "#    steam_appids, reviews_df.steam_appid == steam_appids.steam_appid, \"inner\"\n",
        "#    ).select(reviews_df['*'])"
      ],
      "metadata": {
        "id": "fw78HIy-FYy1"
      },
      "execution_count": 33,
      "outputs": []
    },
    {
      "cell_type": "code",
      "source": [
        "#reviews_df.count()"
      ],
      "metadata": {
        "id": "1T5_gGE1K3ux"
      },
      "execution_count": 34,
      "outputs": []
    },
    {
      "cell_type": "code",
      "source": [
        "reviews_df.printSchema()"
      ],
      "metadata": {
        "colab": {
          "base_uri": "https://localhost:8080/"
        },
        "id": "zQDBWk8ubU8m",
        "outputId": "65b633d0-0b9d-42ab-9a60-f1fb89b0689f"
      },
      "execution_count": 35,
      "outputs": [
        {
          "output_type": "stream",
          "name": "stdout",
          "text": [
            "root\n",
            " |-- steam_id: long (nullable = true)\n",
            " |-- steam_appid: integer (nullable = true)\n",
            " |-- recommended: string (nullable = true)\n",
            " |-- hours_played: string (nullable = true)\n",
            " |-- total_played_hours: float (nullable = true)\n",
            " |-- played_hours_on_review: float (nullable = true)\n",
            "\n"
          ]
        }
      ]
    },
    {
      "cell_type": "code",
      "source": [
        "reviews_df.show(n=10, truncate=False)"
      ],
      "metadata": {
        "colab": {
          "base_uri": "https://localhost:8080/"
        },
        "id": "lGKXIsd6de0g",
        "outputId": "bc028ebf-a4f2-4513-8fb9-ee024fde312d"
      },
      "execution_count": 36,
      "outputs": [
        {
          "output_type": "stream",
          "name": "stdout",
          "text": [
            "+-----------------+-----------+---------------+-----------------------------------------------+------------------+----------------------+\n",
            "|steam_id         |steam_appid|recommended    |hours_played                                   |total_played_hours|played_hours_on_review|\n",
            "+-----------------+-----------+---------------+-----------------------------------------------+------------------+----------------------+\n",
            "|76561198832156672|277739     |Not Recommended|0.0 hrs on record                              |0.0               |0.0                   |\n",
            "|76561198850506752|960990     |Recommended    |13.3 hrs on record(13.3 hrs at review time)    |13.3              |13.3                  |\n",
            "|76561198850506752|1987080    |Recommended    |8.1 hrs on record(4.0 hrs at review time)      |8.1               |4.0                   |\n",
            "|76561198850506752|240        |Recommended    |43.0 hrs on record                             |43.0              |0.0                   |\n",
            "|76561198850506752|620        |Recommended    |16.5 hrs on record(5.6 hrs at review time)     |16.5              |5.6                   |\n",
            "|76561198850506752|730        |Recommended    |1,102.3 hrs on record(307.2 hrs at review time)|1102.3            |307.2                 |\n",
            "|76561198850506752|381210     |Recommended    |444.0 hrs on record(127.8 hrs at review time)  |444.0             |127.8                 |\n",
            "|76561198046773252|200910     |Recommended    |16.3 hrs on record                             |16.3              |0.0                   |\n",
            "|76561198046773252|1997040    |Recommended    |31.9 hrs on record(26.6 hrs at review time)    |31.9              |26.6                  |\n",
            "|76561198046773252|107100     |Recommended    |13.7 hrs on record                             |13.7              |0.0                   |\n",
            "+-----------------+-----------+---------------+-----------------------------------------------+------------------+----------------------+\n",
            "only showing top 10 rows\n",
            "\n"
          ]
        }
      ]
    },
    {
      "cell_type": "markdown",
      "source": [
        "## *hours_stat.csv* cleaning"
      ],
      "metadata": {
        "id": "TjTwb3G22WAn"
      }
    },
    {
      "cell_type": "code",
      "source": [
        "hours_stat_df = spark.read.load('/content/gdrive/MyDrive/VideogameRecommenderSystem/hours_stat.csv',\n",
        "                           format=\"csv\",\n",
        "                           sep=\",\",\n",
        "                           inferSchema=\"true\",\n",
        "                           header=\"true\")"
      ],
      "metadata": {
        "id": "qif2wDftziMe"
      },
      "execution_count": 37,
      "outputs": []
    },
    {
      "cell_type": "code",
      "source": [
        "print(\"Row number:\", hours_stat_df.count(), \"\\nColumn number:\", len(hours_stat_df.columns))"
      ],
      "metadata": {
        "colab": {
          "base_uri": "https://localhost:8080/"
        },
        "id": "HOjQ5wh9XXyS",
        "outputId": "560f47c3-0916-4d88-9bf0-f45c770ce2b1"
      },
      "execution_count": 38,
      "outputs": [
        {
          "output_type": "stream",
          "name": "stdout",
          "text": [
            "Row number: 79977 \n",
            "Column number: 6\n"
          ]
        }
      ]
    },
    {
      "cell_type": "code",
      "source": [
        "hours_stat_df.printSchema()"
      ],
      "metadata": {
        "colab": {
          "base_uri": "https://localhost:8080/"
        },
        "id": "IdIupI-D0mSQ",
        "outputId": "1f8f4da7-b55c-4a64-ced4-e69d2eb5acd7"
      },
      "execution_count": 39,
      "outputs": [
        {
          "output_type": "stream",
          "name": "stdout",
          "text": [
            "root\n",
            " |-- title: string (nullable = true)\n",
            " |-- steam_appid: string (nullable = true)\n",
            " |-- main_story: string (nullable = true)\n",
            " |-- main_extra: double (nullable = true)\n",
            " |-- completionist: double (nullable = true)\n",
            " |-- all_styles: double (nullable = true)\n",
            "\n"
          ]
        }
      ]
    },
    {
      "cell_type": "code",
      "source": [
        "hours_stat_df.show(n=5, truncate=False)"
      ],
      "metadata": {
        "colab": {
          "base_uri": "https://localhost:8080/"
        },
        "id": "584nJ96z0oY5",
        "outputId": "c87f63d3-4e7f-45ef-c66c-439577c052ae"
      },
      "execution_count": 40,
      "outputs": [
        {
          "output_type": "stream",
          "name": "stdout",
          "text": [
            "+---------------------------------------+-----------+----------+----------+-------------+----------+\n",
            "|title                                  |steam_appid|main_story|main_extra|completionist|all_styles|\n",
            "+---------------------------------------+-----------+----------+----------+-------------+----------+\n",
            "|Adamgelion                             |2484530    |0         |0.0       |0.0          |0.0       |\n",
            "|The golden girl pulls and licks the dog|2482460    |0         |0.0       |0.0          |0.0       |\n",
            "|Sex Simulator - Beach Resort           |2481790    |0         |0.0       |0.0          |0.0       |\n",
            "|Quantum Rail                           |2481340    |0         |0.0       |0.0          |0.0       |\n",
            "|Sun Haven: Set Sail Pack               |2488151    |0         |0.0       |0.0          |0.0       |\n",
            "+---------------------------------------+-----------+----------+----------+-------------+----------+\n",
            "only showing top 5 rows\n",
            "\n"
          ]
        }
      ]
    },
    {
      "cell_type": "code",
      "source": [
        "hours_stat_df.summary('count').show()"
      ],
      "metadata": {
        "colab": {
          "base_uri": "https://localhost:8080/"
        },
        "id": "7JLaazJ3Xc-O",
        "outputId": "f45fb18a-667f-4cd8-8909-7d30aa90773e"
      },
      "execution_count": 41,
      "outputs": [
        {
          "output_type": "stream",
          "name": "stdout",
          "text": [
            "+-------+-----+-----------+----------+----------+-------------+----------+\n",
            "|summary|title|steam_appid|main_story|main_extra|completionist|all_styles|\n",
            "+-------+-----+-----------+----------+----------+-------------+----------+\n",
            "|  count|79977|      79977|     79977|     79977|        79977|     79977|\n",
            "+-------+-----+-----------+----------+----------+-------------+----------+\n",
            "\n"
          ]
        }
      ]
    },
    {
      "cell_type": "code",
      "source": [
        "hours_stat_df = hours_stat_df.withColumn('steam_appid', hours_stat_df.steam_appid.cast('integer'))\n",
        "hours_stat_df = hours_stat_df.withColumn('main_story', hours_stat_df.main_story.cast('double'))\n",
        "hours_stat_df = hours_stat_df.drop('title')"
      ],
      "metadata": {
        "id": "qblvN6eE1etH"
      },
      "execution_count": 42,
      "outputs": []
    },
    {
      "cell_type": "code",
      "source": [
        "hours_stat_df.printSchema()"
      ],
      "metadata": {
        "colab": {
          "base_uri": "https://localhost:8080/"
        },
        "id": "ZMo-I9i_2BR6",
        "outputId": "1349e343-c93a-4fed-d4bb-1d60322058b5"
      },
      "execution_count": 43,
      "outputs": [
        {
          "output_type": "stream",
          "name": "stdout",
          "text": [
            "root\n",
            " |-- steam_appid: integer (nullable = true)\n",
            " |-- main_story: double (nullable = true)\n",
            " |-- main_extra: double (nullable = true)\n",
            " |-- completionist: double (nullable = true)\n",
            " |-- all_styles: double (nullable = true)\n",
            "\n"
          ]
        }
      ]
    },
    {
      "cell_type": "code",
      "source": [
        "hours_stat_df.show(n=5, truncate=False)"
      ],
      "metadata": {
        "colab": {
          "base_uri": "https://localhost:8080/"
        },
        "id": "6dXgvcW32NY-",
        "outputId": "5b724908-eb59-4dd6-f6da-1fba99254a5f"
      },
      "execution_count": 44,
      "outputs": [
        {
          "output_type": "stream",
          "name": "stdout",
          "text": [
            "+-----------+----------+----------+-------------+----------+\n",
            "|steam_appid|main_story|main_extra|completionist|all_styles|\n",
            "+-----------+----------+----------+-------------+----------+\n",
            "|2484530    |0.0       |0.0       |0.0          |0.0       |\n",
            "|2482460    |0.0       |0.0       |0.0          |0.0       |\n",
            "|2481790    |0.0       |0.0       |0.0          |0.0       |\n",
            "|2481340    |0.0       |0.0       |0.0          |0.0       |\n",
            "|2488151    |0.0       |0.0       |0.0          |0.0       |\n",
            "+-----------+----------+----------+-------------+----------+\n",
            "only showing top 5 rows\n",
            "\n"
          ]
        }
      ]
    },
    {
      "cell_type": "markdown",
      "source": [
        "# Recommendations' Translation\n",
        "As already mentioned, on Steam the users' recommendations can only be expressed as *Recommended* or *Not Recommended*. The recommendations can then optionally be accompanied by a textual comment that is, most of the time, either left blank or in any case does not report very useful information on the user's opinion on the game.\n",
        "\n",
        "In order to overcome this limitation of the Steam recommendation, I decided to look over an objective data that is recorderd when a user plays the game through the Steam library: the **playtime**: in fact, when a user start the game from their Steam library, the service register the total playtime of the user and when they write the recommendation report their playtime (both the total one and the one at the time of the review or just the total one) on the heading of the recommendation.\n",
        "\n",
        "By looking at it, and comparing it with the average of the time needed to complete a game (information collected thanks to the portal *How Long To Beat* which contains the amount of time needed to complete a game) I will translate the simple positive-negative recommendations to a larger scale of grades going from 1 to 5; there are still some problems though: it can happen that a player leaves a recommendation that does not report the playtime since people can play Steam games while being offline (meaning that the service has no way to collect user information during that time) or simply because they leave the recommendation as soon as they purchase the game (CAMBIA SOPRA DOVE DICI CHE SI PUÒ FARE RECENSIONE SENZA COMPRARE); in this cases the recommendation will be considered as *neutral* (CHE VUOL DIRE? LA METTI A 3 CHE È PRECISAMENTE IN MEZZO ALLA SCALA?). Also it can happen that there are no data on average playtime on *How Long To Beat*, also in this case the reviews will be considered as *neutral* (FORSE BOH POI VEDIAMO)"
      ],
      "metadata": {
        "id": "gdK8AW-Zulek"
      }
    },
    {
      "cell_type": "code",
      "source": [
        "reviews_df = reviews_df.join(\n",
        "    hours_stat_df, reviews_df.steam_appid == hours_stat_df.steam_appid, \"inner\"\n",
        "    ).select(\n",
        "        reviews_df['*'], hours_stat_df['main_story'], hours_stat_df['main_extra'],\n",
        "        hours_stat_df['completionist'], hours_stat_df['all_styles']\n",
        "        )\n"
      ],
      "metadata": {
        "id": "ujQ9orTl4ynP"
      },
      "execution_count": 45,
      "outputs": []
    },
    {
      "cell_type": "code",
      "source": [
        "print(\"Row number:\", hours_stat_df.count(), \"\\nColumn number:\", len(hours_stat_df.columns))"
      ],
      "metadata": {
        "colab": {
          "base_uri": "https://localhost:8080/"
        },
        "id": "hjNzfEEpXy-q",
        "outputId": "86ef11a4-8909-4d45-91d3-4f7b210d4585"
      },
      "execution_count": 46,
      "outputs": [
        {
          "output_type": "stream",
          "name": "stdout",
          "text": [
            "Row number: 79977 \n",
            "Column number: 5\n"
          ]
        }
      ]
    },
    {
      "cell_type": "code",
      "source": [
        "reviews_df.printSchema()"
      ],
      "metadata": {
        "colab": {
          "base_uri": "https://localhost:8080/"
        },
        "id": "0tnJ-tpT5ePm",
        "outputId": "91d2a71d-7eba-408d-b2c8-f3d8fbd19f3d"
      },
      "execution_count": 47,
      "outputs": [
        {
          "output_type": "stream",
          "name": "stdout",
          "text": [
            "root\n",
            " |-- steam_id: long (nullable = true)\n",
            " |-- steam_appid: integer (nullable = true)\n",
            " |-- recommended: string (nullable = true)\n",
            " |-- hours_played: string (nullable = true)\n",
            " |-- total_played_hours: float (nullable = true)\n",
            " |-- played_hours_on_review: float (nullable = true)\n",
            " |-- main_story: double (nullable = true)\n",
            " |-- main_extra: double (nullable = true)\n",
            " |-- completionist: double (nullable = true)\n",
            " |-- all_styles: double (nullable = true)\n",
            "\n"
          ]
        }
      ]
    },
    {
      "cell_type": "code",
      "source": [
        "reviews_df.show(n=5, truncate=False)"
      ],
      "metadata": {
        "colab": {
          "base_uri": "https://localhost:8080/"
        },
        "id": "0AhmSqga5gcr",
        "outputId": "3c4c4c75-3904-460f-fc3c-0a7beffae714"
      },
      "execution_count": 48,
      "outputs": [
        {
          "output_type": "stream",
          "name": "stdout",
          "text": [
            "+-----------------+-----------+---------------+-------------------------------------------+------------------+----------------------+----------+----------+-------------+----------+\n",
            "|steam_id         |steam_appid|recommended    |hours_played                               |total_played_hours|played_hours_on_review|main_story|main_extra|completionist|all_styles|\n",
            "+-----------------+-----------+---------------+-------------------------------------------+------------------+----------------------+----------+----------+-------------+----------+\n",
            "|76561198832156672|277739     |Not Recommended|0.0 hrs on record                          |0.0               |0.0                   |0.0       |0.0       |0.0          |0.0       |\n",
            "|76561198850506752|960990     |Recommended    |13.3 hrs on record(13.3 hrs at review time)|13.3              |13.3                  |10.62     |12.39     |27.41        |11.7      |\n",
            "|76561198850506752|1987080    |Recommended    |8.1 hrs on record(4.0 hrs at review time)  |8.1               |4.0                   |4.58      |7.6       |10.65        |5.37      |\n",
            "|76561198850506752|240        |Recommended    |43.0 hrs on record                         |43.0              |0.0                   |72.05     |87.12     |357.76       |133.74    |\n",
            "|76561198850506752|620        |Recommended    |16.5 hrs on record(5.6 hrs at review time) |16.5              |5.6                   |8.6       |13.71     |21.42        |10.44     |\n",
            "+-----------------+-----------+---------------+-------------------------------------------+------------------+----------------------+----------+----------+-------------+----------+\n",
            "only showing top 5 rows\n",
            "\n"
          ]
        }
      ]
    },
    {
      "cell_type": "code",
      "source": [
        "hours_stat_df.summary('count').show()"
      ],
      "metadata": {
        "colab": {
          "base_uri": "https://localhost:8080/"
        },
        "id": "Wk0KeU5zX33p",
        "outputId": "8813b720-5507-404a-8046-9832091e7999"
      },
      "execution_count": 49,
      "outputs": [
        {
          "output_type": "stream",
          "name": "stdout",
          "text": [
            "+-------+-----------+----------+----------+-------------+----------+\n",
            "|summary|steam_appid|main_story|main_extra|completionist|all_styles|\n",
            "+-------+-----------+----------+----------+-------------+----------+\n",
            "|  count|      79966|     79974|     79977|        79977|     79977|\n",
            "+-------+-----------+----------+----------+-------------+----------+\n",
            "\n"
          ]
        }
      ]
    },
    {
      "cell_type": "code",
      "source": [
        "# define the function for the translation\n",
        "# the function takes as argument the row of the dataframe\n",
        "# and return the grade given to the review\n",
        "# in order to compile the new column called 'review_vote'\n",
        "@sqlf.udf(FloatType())\n",
        "def create_ratings(recommendation, total_played_hours, main_story, main_extra, completionist, all_styles):\n",
        "  negative_ratings = [1.0, 1.5, 2.0, 2.5]\n",
        "  neutral_ratings = 3.0\n",
        "  positive_ratings = [3.5, 4.0, 4.5, 5.0]\n",
        "\n",
        "  # then i check for the hours\n",
        "  if total_played_hours == 0.0:\n",
        "    return neutral_ratings\n",
        "  if main_story == 0.0:\n",
        "    if recommendation == 'Recommended':\n",
        "      return positive_ratings[0]\n",
        "    return negative_ratings[-1]\n",
        "  else:\n",
        "    # allora controllo se i due tempi sono uguali\n",
        "    # there are 9 possible votes\n",
        "    # 1, 1.5, 2, 2.5, 3, 3.5, 4, 4.5, 5\n",
        "    # the first four are to be connected to a Not Recommended review\n",
        "    # the last four to a Recommended review\n",
        "    # the vote 3 is just neutral and used to reviews for which there is not\n",
        "    # either the play time or the info about the average playtime\n",
        "    # in order to map the vote the following approach will be used:\n",
        "    #   - Compute the average of all the playtimes for all the styles\n",
        "    #   - COME USI IL TIME AT REVIEW?\n",
        "    #   - Compute the proportion between the playtime and the average computed\n",
        "    #   - Each vote corresponds to a 25% of the total\n",
        "    #   - With this proportion map the recommend to one of the four possible\n",
        "    #   vote for the category\n",
        "    avg_playtime = (main_story + main_extra + completionist + all_styles)/4\n",
        "    enj_percentage = (total_played_hours*100)/avg_playtime\n",
        "    rate_index = min(int(enj_percentage // 25), 3)\n",
        "    if recommendation == 'Recommended':\n",
        "      return positive_ratings[rate_index]\n",
        "    return negative_ratings[rate_index]\n"
      ],
      "metadata": {
        "id": "8QZLKoApHuHH"
      },
      "execution_count": 50,
      "outputs": []
    },
    {
      "cell_type": "code",
      "source": [
        "reviews_df = reviews_df.withColumn('rating', create_ratings(\n",
        "    reviews_df['recommended'],\n",
        "    reviews_df['total_played_hours'],\n",
        "    reviews_df['main_story'],\n",
        "    reviews_df['main_extra'],\n",
        "    reviews_df['completionist'],\n",
        "    reviews_df['all_styles']\n",
        "))"
      ],
      "metadata": {
        "id": "NFp8fFAUuvKn"
      },
      "execution_count": 51,
      "outputs": []
    },
    {
      "cell_type": "code",
      "source": [
        "reviews_df= reviews_df.drop(\n",
        "    'hours_played',\n",
        "    'total_played_hours',\n",
        "    'played_hours_on_review',\n",
        "    'main_story',\n",
        "    'main_extra',\n",
        "    'completionist',\n",
        "    'all_styles'\n",
        "    )"
      ],
      "metadata": {
        "id": "SMEf-EJ_6vR5"
      },
      "execution_count": 52,
      "outputs": []
    },
    {
      "cell_type": "code",
      "source": [
        "reviews_df.printSchema()"
      ],
      "metadata": {
        "colab": {
          "base_uri": "https://localhost:8080/"
        },
        "id": "Q6FW12LEwmB8",
        "outputId": "4d125fca-6035-4016-fe80-3772f6ca8728"
      },
      "execution_count": 53,
      "outputs": [
        {
          "output_type": "stream",
          "name": "stdout",
          "text": [
            "root\n",
            " |-- steam_id: long (nullable = true)\n",
            " |-- steam_appid: integer (nullable = true)\n",
            " |-- recommended: string (nullable = true)\n",
            " |-- rating: float (nullable = true)\n",
            "\n"
          ]
        }
      ]
    },
    {
      "cell_type": "code",
      "source": [
        "reviews_df.show()"
      ],
      "metadata": {
        "colab": {
          "base_uri": "https://localhost:8080/"
        },
        "id": "pf0jXIPvworh",
        "outputId": "51c800ae-c6ae-488c-c0e3-0cba388b9b18"
      },
      "execution_count": 54,
      "outputs": [
        {
          "output_type": "stream",
          "name": "stdout",
          "text": [
            "+-----------------+-----------+---------------+------+\n",
            "|         steam_id|steam_appid|    recommended|rating|\n",
            "+-----------------+-----------+---------------+------+\n",
            "|76561198832156672|     277739|Not Recommended|   3.0|\n",
            "|76561198850506752|     960990|    Recommended|   5.0|\n",
            "|76561198850506752|    1987080|    Recommended|   5.0|\n",
            "|76561198850506752|        240|    Recommended|   4.0|\n",
            "|76561198850506752|        620|    Recommended|   5.0|\n",
            "|76561198850506752|        730|    Recommended|   5.0|\n",
            "|76561198850506752|     381210|    Recommended|   5.0|\n",
            "|76561198046773252|     200910|    Recommended|   5.0|\n",
            "|76561198046773252|    1997040|    Recommended|   3.5|\n",
            "|76561198046773252|     107100|    Recommended|   5.0|\n",
            "|76561198046773252|    1110910|    Recommended|   5.0|\n",
            "|76561198046773252|    1245620|    Recommended|   3.5|\n",
            "|76561198046773252|    1623660|    Recommended|   3.5|\n",
            "|76561198046773252|     418270|Not Recommended|   1.0|\n",
            "|76561198046773252|     399640|    Recommended|   5.0|\n",
            "|76561198046773252|     625960|    Recommended|   3.5|\n",
            "|76561198046773252|     745920|    Recommended|   4.5|\n",
            "|76561198046773252|     319140|    Recommended|   3.5|\n",
            "|76561198046773252|    1191580|    Recommended|   5.0|\n",
            "|76561198046773252|    1110100|    Recommended|   5.0|\n",
            "+-----------------+-----------+---------------+------+\n",
            "only showing top 20 rows\n",
            "\n"
          ]
        }
      ]
    },
    {
      "cell_type": "markdown",
      "source": [
        "# Data Analysis\n",
        "In this section of the project I will present the pre-eliminary analysis made on the data in order to get an hint of their distribution.\n",
        "\n",
        "Specifically it will be performed an EDA (Exploratory Data Analysis) E POI METTI PER BENE LE ALTRE DOPO CHE LE HAI FATTE"
      ],
      "metadata": {
        "id": "sgGEsmuuHA6h"
      }
    },
    {
      "cell_type": "code",
      "source": [
        "def plot_cdf_with_focus(data, x_label, x_min=None, x_max=None, title=None, focus_title=None):\n",
        "  # Sort the data\n",
        "  sorted_data = np.sort(data)\n",
        "\n",
        "  # Calculate the cumulative probabilities\n",
        "  cdf = np.arange(1, len(sorted_data) + 1) / len(sorted_data)\n",
        "\n",
        "  # Create the main plot\n",
        "  plt.figure(figsize=(10, 6))\n",
        "  plt.plot(sorted_data, cdf)\n",
        "  plt.title(\"Cumulative Distribution Function (CDF)\")\n",
        "  if title is not None:\n",
        "    plt.title(title)\n",
        "  plt.xlabel(x_label)\n",
        "  plt.ylabel(\"CDF\")\n",
        "\n",
        "  # Create a subplot with focused x-axis\n",
        "  if x_min is not None and x_max is not None:\n",
        "    plt.figure(figsize=(10, 6))\n",
        "    plt.subplot(2, 1, 1)\n",
        "    plt.plot(sorted_data, cdf)\n",
        "    plt.title(\"CDF with Focused X-Axis\")\n",
        "    plt.xlabel(x_label)\n",
        "    plt.ylabel(\"CDF\")\n",
        "    plt.xlim(x_min, x_max)\n",
        "    if focus_title is not None:\n",
        "      plt.title(focus_title)\n",
        "\n",
        "  plt.tight_layout()\n",
        "  plt.show()\n"
      ],
      "metadata": {
        "id": "SDGy4_skaytd"
      },
      "execution_count": 86,
      "outputs": []
    },
    {
      "cell_type": "markdown",
      "source": [
        "## Ratings' distribution EDA\n",
        "PURE QUA SPIEGA BENE"
      ],
      "metadata": {
        "id": "RhRPX1ihHY3W"
      }
    },
    {
      "cell_type": "code",
      "source": [
        "reviews_df.select('rating').summary().show()"
      ],
      "metadata": {
        "colab": {
          "base_uri": "https://localhost:8080/"
        },
        "id": "a8706xf2Hes7",
        "outputId": "45ee9230-ec74-4fcb-9f28-3363eff2c4c6"
      },
      "execution_count": 72,
      "outputs": [
        {
          "output_type": "stream",
          "name": "stdout",
          "text": [
            "+-------+------------------+\n",
            "|summary|            rating|\n",
            "+-------+------------------+\n",
            "|  count|           6779243|\n",
            "|   mean|3.7748374707913555|\n",
            "| stddev|1.1207036350541448|\n",
            "|    min|               1.0|\n",
            "|    25%|               3.5|\n",
            "|    50%|               3.5|\n",
            "|    75%|               5.0|\n",
            "|    max|               5.0|\n",
            "+-------+------------------+\n",
            "\n"
          ]
        }
      ]
    },
    {
      "cell_type": "code",
      "source": [
        "pd_reviews_df = reviews_df.select('rating').toPandas()"
      ],
      "metadata": {
        "id": "1DDIyju8qk3y"
      },
      "execution_count": 73,
      "outputs": []
    },
    {
      "cell_type": "code",
      "source": [
        "ratings_df = pd_reviews_df[['rating']].value_counts().reset_index(name='counts')"
      ],
      "metadata": {
        "id": "63Wb6XF5fpNm"
      },
      "execution_count": 75,
      "outputs": []
    },
    {
      "cell_type": "code",
      "source": [
        "tot_rows = reviews_df.count()\n",
        "ratings_df['percentage'] = ratings_df['counts']/tot_rows"
      ],
      "metadata": {
        "id": "EvEl0RGKsuVM"
      },
      "execution_count": 77,
      "outputs": []
    },
    {
      "cell_type": "code",
      "source": [
        "ratings_df.head(n=10)"
      ],
      "metadata": {
        "colab": {
          "base_uri": "https://localhost:8080/",
          "height": 331
        },
        "id": "3B9cbEYetH0Q",
        "outputId": "8a9ef6c5-e581-4607-98d5-ab6f45cc0400"
      },
      "execution_count": 78,
      "outputs": [
        {
          "output_type": "execute_result",
          "data": {
            "text/plain": [
              "   rating   counts  percentage\n",
              "0     5.0  2276734    0.335839\n",
              "1     3.5  2132427    0.314552\n",
              "2     2.5   850133    0.125402\n",
              "3     4.5   367912    0.054270\n",
              "4     4.0   357764    0.052773\n",
              "5     1.0   308240    0.045468\n",
              "6     3.0   303469    0.044764\n",
              "7     1.5   104783    0.015456\n",
              "8     2.0    77781    0.011473"
            ],
            "text/html": [
              "\n",
              "\n",
              "  <div id=\"df-730fc9d9-4e40-40db-bf78-1cc9fd112d70\">\n",
              "    <div class=\"colab-df-container\">\n",
              "      <div>\n",
              "<style scoped>\n",
              "    .dataframe tbody tr th:only-of-type {\n",
              "        vertical-align: middle;\n",
              "    }\n",
              "\n",
              "    .dataframe tbody tr th {\n",
              "        vertical-align: top;\n",
              "    }\n",
              "\n",
              "    .dataframe thead th {\n",
              "        text-align: right;\n",
              "    }\n",
              "</style>\n",
              "<table border=\"1\" class=\"dataframe\">\n",
              "  <thead>\n",
              "    <tr style=\"text-align: right;\">\n",
              "      <th></th>\n",
              "      <th>rating</th>\n",
              "      <th>counts</th>\n",
              "      <th>percentage</th>\n",
              "    </tr>\n",
              "  </thead>\n",
              "  <tbody>\n",
              "    <tr>\n",
              "      <th>0</th>\n",
              "      <td>5.0</td>\n",
              "      <td>2276734</td>\n",
              "      <td>0.335839</td>\n",
              "    </tr>\n",
              "    <tr>\n",
              "      <th>1</th>\n",
              "      <td>3.5</td>\n",
              "      <td>2132427</td>\n",
              "      <td>0.314552</td>\n",
              "    </tr>\n",
              "    <tr>\n",
              "      <th>2</th>\n",
              "      <td>2.5</td>\n",
              "      <td>850133</td>\n",
              "      <td>0.125402</td>\n",
              "    </tr>\n",
              "    <tr>\n",
              "      <th>3</th>\n",
              "      <td>4.5</td>\n",
              "      <td>367912</td>\n",
              "      <td>0.054270</td>\n",
              "    </tr>\n",
              "    <tr>\n",
              "      <th>4</th>\n",
              "      <td>4.0</td>\n",
              "      <td>357764</td>\n",
              "      <td>0.052773</td>\n",
              "    </tr>\n",
              "    <tr>\n",
              "      <th>5</th>\n",
              "      <td>1.0</td>\n",
              "      <td>308240</td>\n",
              "      <td>0.045468</td>\n",
              "    </tr>\n",
              "    <tr>\n",
              "      <th>6</th>\n",
              "      <td>3.0</td>\n",
              "      <td>303469</td>\n",
              "      <td>0.044764</td>\n",
              "    </tr>\n",
              "    <tr>\n",
              "      <th>7</th>\n",
              "      <td>1.5</td>\n",
              "      <td>104783</td>\n",
              "      <td>0.015456</td>\n",
              "    </tr>\n",
              "    <tr>\n",
              "      <th>8</th>\n",
              "      <td>2.0</td>\n",
              "      <td>77781</td>\n",
              "      <td>0.011473</td>\n",
              "    </tr>\n",
              "  </tbody>\n",
              "</table>\n",
              "</div>\n",
              "      <button class=\"colab-df-convert\" onclick=\"convertToInteractive('df-730fc9d9-4e40-40db-bf78-1cc9fd112d70')\"\n",
              "              title=\"Convert this dataframe to an interactive table.\"\n",
              "              style=\"display:none;\">\n",
              "\n",
              "  <svg xmlns=\"http://www.w3.org/2000/svg\" height=\"24px\"viewBox=\"0 0 24 24\"\n",
              "       width=\"24px\">\n",
              "    <path d=\"M0 0h24v24H0V0z\" fill=\"none\"/>\n",
              "    <path d=\"M18.56 5.44l.94 2.06.94-2.06 2.06-.94-2.06-.94-.94-2.06-.94 2.06-2.06.94zm-11 1L8.5 8.5l.94-2.06 2.06-.94-2.06-.94L8.5 2.5l-.94 2.06-2.06.94zm10 10l.94 2.06.94-2.06 2.06-.94-2.06-.94-.94-2.06-.94 2.06-2.06.94z\"/><path d=\"M17.41 7.96l-1.37-1.37c-.4-.4-.92-.59-1.43-.59-.52 0-1.04.2-1.43.59L10.3 9.45l-7.72 7.72c-.78.78-.78 2.05 0 2.83L4 21.41c.39.39.9.59 1.41.59.51 0 1.02-.2 1.41-.59l7.78-7.78 2.81-2.81c.8-.78.8-2.07 0-2.86zM5.41 20L4 18.59l7.72-7.72 1.47 1.35L5.41 20z\"/>\n",
              "  </svg>\n",
              "      </button>\n",
              "\n",
              "\n",
              "\n",
              "    <div id=\"df-ee0307df-0471-4ba7-929e-dab2147591a6\">\n",
              "      <button class=\"colab-df-quickchart\" onclick=\"quickchart('df-ee0307df-0471-4ba7-929e-dab2147591a6')\"\n",
              "              title=\"Suggest charts.\"\n",
              "              style=\"display:none;\">\n",
              "\n",
              "<svg xmlns=\"http://www.w3.org/2000/svg\" height=\"24px\"viewBox=\"0 0 24 24\"\n",
              "     width=\"24px\">\n",
              "    <g>\n",
              "        <path d=\"M19 3H5c-1.1 0-2 .9-2 2v14c0 1.1.9 2 2 2h14c1.1 0 2-.9 2-2V5c0-1.1-.9-2-2-2zM9 17H7v-7h2v7zm4 0h-2V7h2v10zm4 0h-2v-4h2v4z\"/>\n",
              "    </g>\n",
              "</svg>\n",
              "      </button>\n",
              "    </div>\n",
              "\n",
              "<style>\n",
              "  .colab-df-quickchart {\n",
              "    background-color: #E8F0FE;\n",
              "    border: none;\n",
              "    border-radius: 50%;\n",
              "    cursor: pointer;\n",
              "    display: none;\n",
              "    fill: #1967D2;\n",
              "    height: 32px;\n",
              "    padding: 0 0 0 0;\n",
              "    width: 32px;\n",
              "  }\n",
              "\n",
              "  .colab-df-quickchart:hover {\n",
              "    background-color: #E2EBFA;\n",
              "    box-shadow: 0px 1px 2px rgba(60, 64, 67, 0.3), 0px 1px 3px 1px rgba(60, 64, 67, 0.15);\n",
              "    fill: #174EA6;\n",
              "  }\n",
              "\n",
              "  [theme=dark] .colab-df-quickchart {\n",
              "    background-color: #3B4455;\n",
              "    fill: #D2E3FC;\n",
              "  }\n",
              "\n",
              "  [theme=dark] .colab-df-quickchart:hover {\n",
              "    background-color: #434B5C;\n",
              "    box-shadow: 0px 1px 3px 1px rgba(0, 0, 0, 0.15);\n",
              "    filter: drop-shadow(0px 1px 2px rgba(0, 0, 0, 0.3));\n",
              "    fill: #FFFFFF;\n",
              "  }\n",
              "</style>\n",
              "\n",
              "    <script>\n",
              "      async function quickchart(key) {\n",
              "        const containerElement = document.querySelector('#' + key);\n",
              "        const charts = await google.colab.kernel.invokeFunction(\n",
              "            'suggestCharts', [key], {});\n",
              "      }\n",
              "    </script>\n",
              "\n",
              "      <script>\n",
              "\n",
              "function displayQuickchartButton(domScope) {\n",
              "  let quickchartButtonEl =\n",
              "    domScope.querySelector('#df-ee0307df-0471-4ba7-929e-dab2147591a6 button.colab-df-quickchart');\n",
              "  quickchartButtonEl.style.display =\n",
              "    google.colab.kernel.accessAllowed ? 'block' : 'none';\n",
              "}\n",
              "\n",
              "        displayQuickchartButton(document);\n",
              "      </script>\n",
              "      <style>\n",
              "    .colab-df-container {\n",
              "      display:flex;\n",
              "      flex-wrap:wrap;\n",
              "      gap: 12px;\n",
              "    }\n",
              "\n",
              "    .colab-df-convert {\n",
              "      background-color: #E8F0FE;\n",
              "      border: none;\n",
              "      border-radius: 50%;\n",
              "      cursor: pointer;\n",
              "      display: none;\n",
              "      fill: #1967D2;\n",
              "      height: 32px;\n",
              "      padding: 0 0 0 0;\n",
              "      width: 32px;\n",
              "    }\n",
              "\n",
              "    .colab-df-convert:hover {\n",
              "      background-color: #E2EBFA;\n",
              "      box-shadow: 0px 1px 2px rgba(60, 64, 67, 0.3), 0px 1px 3px 1px rgba(60, 64, 67, 0.15);\n",
              "      fill: #174EA6;\n",
              "    }\n",
              "\n",
              "    [theme=dark] .colab-df-convert {\n",
              "      background-color: #3B4455;\n",
              "      fill: #D2E3FC;\n",
              "    }\n",
              "\n",
              "    [theme=dark] .colab-df-convert:hover {\n",
              "      background-color: #434B5C;\n",
              "      box-shadow: 0px 1px 3px 1px rgba(0, 0, 0, 0.15);\n",
              "      filter: drop-shadow(0px 1px 2px rgba(0, 0, 0, 0.3));\n",
              "      fill: #FFFFFF;\n",
              "    }\n",
              "  </style>\n",
              "\n",
              "      <script>\n",
              "        const buttonEl =\n",
              "          document.querySelector('#df-730fc9d9-4e40-40db-bf78-1cc9fd112d70 button.colab-df-convert');\n",
              "        buttonEl.style.display =\n",
              "          google.colab.kernel.accessAllowed ? 'block' : 'none';\n",
              "\n",
              "        async function convertToInteractive(key) {\n",
              "          const element = document.querySelector('#df-730fc9d9-4e40-40db-bf78-1cc9fd112d70');\n",
              "          const dataTable =\n",
              "            await google.colab.kernel.invokeFunction('convertToInteractive',\n",
              "                                                     [key], {});\n",
              "          if (!dataTable) return;\n",
              "\n",
              "          const docLinkHtml = 'Like what you see? Visit the ' +\n",
              "            '<a target=\"_blank\" href=https://colab.research.google.com/notebooks/data_table.ipynb>data table notebook</a>'\n",
              "            + ' to learn more about interactive tables.';\n",
              "          element.innerHTML = '';\n",
              "          dataTable['output_type'] = 'display_data';\n",
              "          await google.colab.output.renderOutput(dataTable, element);\n",
              "          const docLink = document.createElement('div');\n",
              "          docLink.innerHTML = docLinkHtml;\n",
              "          element.appendChild(docLink);\n",
              "        }\n",
              "      </script>\n",
              "    </div>\n",
              "  </div>\n"
            ]
          },
          "metadata": {},
          "execution_count": 78
        }
      ]
    },
    {
      "cell_type": "code",
      "source": [
        "plt.bar(\n",
        "    ratings_df['rating'],\n",
        "    ratings_df['counts'],\n",
        "    edgecolor='black',\n",
        "    width=.4,\n",
        "    tick_label = ratings_df['rating']\n",
        "    )\n",
        "plt.xlabel('Rating')\n",
        "plt.ylabel('Count')\n",
        "plt.title('Distribution of Ratings')\n",
        "plt.show()"
      ],
      "metadata": {
        "colab": {
          "base_uri": "https://localhost:8080/",
          "height": 472
        },
        "id": "k2XG2J14LMXK",
        "outputId": "272fa6c4-eff7-451b-fc31-e1d91fd424f3"
      },
      "execution_count": 79,
      "outputs": [
        {
          "output_type": "display_data",
          "data": {
            "text/plain": [
              "<Figure size 640x480 with 1 Axes>"
            ],
            "image/png": "[encoded data removed]"
          },
          "metadata": {}
        }
      ]
    },
    {
      "cell_type": "code",
      "source": [
        "plot_cdf_with_focus(pd_reviews_df['rating'], 'Ratings', None, None, 'CDF Review Ratings')"
      ],
      "metadata": {
        "colab": {
          "base_uri": "https://localhost:8080/",
          "height": 607
        },
        "id": "XzHGaBB4pMIT",
        "outputId": "c22ed360-9cae-4078-ab96-424501ca5fd7"
      },
      "execution_count": 87,
      "outputs": [
        {
          "output_type": "display_data",
          "data": {
            "text/plain": [
              "<Figure size 1000x600 with 1 Axes>"
            ],
            "image/png": "[encoded data removed]"
          },
          "metadata": {}
        }
      ]
    },
    {
      "cell_type": "code",
      "source": [
        "fig, ax = plt.subplots(1,1, figsize=(6,4))\n",
        "\n",
        "_ = sns.boxplot(x=pd_reviews_df.rating, color=\"g\")\n",
        "_ = ax.set_xlabel(\"Ratings\")"
      ],
      "metadata": {
        "colab": {
          "base_uri": "https://localhost:8080/",
          "height": 388
        },
        "id": "Oy774SsWcwbh",
        "outputId": "76cb3fe8-6d9e-4a8a-ae57-07ef80ad8726"
      },
      "execution_count": 82,
      "outputs": [
        {
          "output_type": "display_data",
          "data": {
            "text/plain": [
              "<Figure size 600x400 with 1 Axes>"
            ],
            "image/png": "[encoded data removed]"
          },
          "metadata": {}
        }
      ]
    },
    {
      "cell_type": "markdown",
      "source": [
        "## Items' popularity EDA\n",
        "POI SPIEGA BENE E FAI PURE LE CONSIDERAZIONI DATI I RISULTATI\n",
        "\n",
        "DA RIVEDERE IL GRAFICO"
      ],
      "metadata": {
        "id": "7jqHZA8-PYvs"
      }
    },
    {
      "cell_type": "code",
      "source": [
        "videogames_popularity_df = reviews_df.groupby('steam_appid').count().orderBy('count')"
      ],
      "metadata": {
        "id": "LyL_ROigPhHa"
      },
      "execution_count": 103,
      "outputs": []
    },
    {
      "cell_type": "code",
      "source": [
        "#videogames_popularity_df = videogames_popularity_df.withColumn('count', sqlf.col('count').cast('integer'))"
      ],
      "metadata": {
        "id": "MR3A7Ah2icRg"
      },
      "execution_count": 97,
      "outputs": []
    },
    {
      "cell_type": "code",
      "source": [
        "videogames_popularity_df.select('count').summary().show()"
      ],
      "metadata": {
        "colab": {
          "base_uri": "https://localhost:8080/"
        },
        "id": "nqrRWhw6egVS",
        "outputId": "53215217-fba5-4579-dd7e-62c7fab9ba08"
      },
      "execution_count": 104,
      "outputs": [
        {
          "output_type": "stream",
          "name": "stdout",
          "text": [
            "+-------+-----------------+\n",
            "|summary|            count|\n",
            "+-------+-----------------+\n",
            "|  count|            79966|\n",
            "|   mean|84.77656754120501|\n",
            "| stddev|484.5537212185353|\n",
            "|    min|                1|\n",
            "|    25%|                2|\n",
            "|    50%|                8|\n",
            "|    75%|               32|\n",
            "|    max|            39433|\n",
            "+-------+-----------------+\n",
            "\n"
          ]
        }
      ]
    },
    {
      "cell_type": "code",
      "source": [
        "pd_videogames_popularity_df = videogames_popularity_df.toPandas()"
      ],
      "metadata": {
        "id": "6CMlu8UvQJ8l"
      },
      "execution_count": 105,
      "outputs": []
    },
    {
      "cell_type": "code",
      "source": [
        "x_min = 0\n",
        "x_max = 35\n",
        "plot_cdf_with_focus(pd_videogames_popularity_df['count'], 'Reviews-Per-Item', x_min, x_max, 'CDF Reviews-Per-Item', 'CDF with focus on x-axis ('+str(x_min)+', '+str(x_max)+')' )"
      ],
      "metadata": {
        "colab": {
          "base_uri": "https://localhost:8080/",
          "height": 894
        },
        "id": "E7MT3nJTlb57",
        "outputId": "40601736-9a6a-49cd-f51b-878d2bb26357"
      },
      "execution_count": 106,
      "outputs": [
        {
          "output_type": "display_data",
          "data": {
            "text/plain": [
              "<Figure size 1000x600 with 1 Axes>"
            ],
            "image/png": "[encoded data removed]"
          },
          "metadata": {}
        },
        {
          "output_type": "display_data",
          "data": {
            "text/plain": [
              "<Figure size 1000x600 with 1 Axes>"
            ],
            "image/png": "[encoded data removed]"
          },
          "metadata": {}
        }
      ]
    },
    {
      "cell_type": "code",
      "source": [
        "fig, ax = plt.subplots(1,1, figsize=(6,4))\n",
        "\n",
        "#_ = sns.boxplot(x=pd_videogames_popularity_df.count, color=\"g\")\n",
        "_ = sns.boxplot(x=\"count\", data=pd_videogames_popularity_df, color=\"g\")\n",
        "_ = ax.set_xlabel(\"Reviews-Per-Item\")"
      ],
      "metadata": {
        "colab": {
          "base_uri": "https://localhost:8080/",
          "height": 388
        },
        "id": "O_qsDLbig5R1",
        "outputId": "3411c5fe-47a2-4474-e1c5-536b982e5b67"
      },
      "execution_count": 107,
      "outputs": [
        {
          "output_type": "display_data",
          "data": {
            "text/plain": [
              "<Figure size 600x400 with 1 Axes>"
            ],
            "image/png": "[encoded data removed]"
          },
          "metadata": {}
        }
      ]
    },
    {
      "cell_type": "markdown",
      "source": [
        "## Users' Activity EDA\n",
        "SPIEGA BENE PURE QUA"
      ],
      "metadata": {
        "id": "7HUImHYnYUPm"
      }
    },
    {
      "cell_type": "code",
      "source": [
        "ratings_per_user = (\n",
        "    reviews_df\n",
        "    .groupBy('steam_id')\n",
        "    .count()\n",
        "    .orderBy('count', ascending=False)\n",
        ")"
      ],
      "metadata": {
        "id": "Fb2DhcYRYYx_"
      },
      "execution_count": 108,
      "outputs": []
    },
    {
      "cell_type": "code",
      "source": [
        "ratings_per_user.select('count').summary().show()"
      ],
      "metadata": {
        "colab": {
          "base_uri": "https://localhost:8080/"
        },
        "id": "TbdpWE2VfNmU",
        "outputId": "2cc92d5a-efca-4197-dc5f-9b9131d8e21b"
      },
      "execution_count": 109,
      "outputs": [
        {
          "output_type": "stream",
          "name": "stdout",
          "text": [
            "+-------+------------------+\n",
            "|summary|             count|\n",
            "+-------+------------------+\n",
            "|  count|            291652|\n",
            "|   mean|23.244287712753554|\n",
            "| stddev| 60.50570284228065|\n",
            "|    min|                 1|\n",
            "|    25%|                 3|\n",
            "|    50%|                 9|\n",
            "|    75%|                24|\n",
            "|    max|              9296|\n",
            "+-------+------------------+\n",
            "\n"
          ]
        }
      ]
    },
    {
      "cell_type": "code",
      "source": [
        "pd_ratings_per_user = ratings_per_user.toPandas()"
      ],
      "metadata": {
        "id": "4zz4huoPfN7F"
      },
      "execution_count": 110,
      "outputs": []
    },
    {
      "cell_type": "code",
      "source": [
        "x_min = 0\n",
        "x_max = 35\n",
        "plot_cdf_with_focus(pd_ratings_per_user['count'], 'Reviews-Per-User', x_min, x_max, 'CDF Reviews-Per-User', 'CDF with focus on x-axis ('+str(x_min)+', '+str(x_max)+')' )"
      ],
      "metadata": {
        "colab": {
          "base_uri": "https://localhost:8080/",
          "height": 894
        },
        "id": "lQ59a06MoNCn",
        "outputId": "95334e0c-d481-4270-f292-f841b837d8dd"
      },
      "execution_count": 111,
      "outputs": [
        {
          "output_type": "display_data",
          "data": {
            "text/plain": [
              "<Figure size 1000x600 with 1 Axes>"
            ],
            "image/png": "[encoded data removed]"
          },
          "metadata": {}
        },
        {
          "output_type": "display_data",
          "data": {
            "text/plain": [
              "<Figure size 1000x600 with 1 Axes>"
            ],
            "image/png": "[encoded data removed]"
          },
          "metadata": {}
        }
      ]
    },
    {
      "cell_type": "code",
      "source": [
        "fig, ax = plt.subplots(1,1, figsize=(6,4))\n",
        "\n",
        "#_ = sns.boxplot(x=pd_videogames_popularity_df.count, color=\"g\")\n",
        "_ = sns.boxplot(x=\"count\", data=pd_ratings_per_user, color=\"g\")\n",
        "_ = ax.set_xlabel(\"Reviews-Per-User\")"
      ],
      "metadata": {
        "colab": {
          "base_uri": "https://localhost:8080/",
          "height": 388
        },
        "id": "lzVxT_k2jXar",
        "outputId": "f0ef4c66-6a64-44a2-c6b8-460eb2e15912"
      },
      "execution_count": 112,
      "outputs": [
        {
          "output_type": "display_data",
          "data": {
            "text/plain": [
              "<Figure size 600x400 with 1 Axes>"
            ],
            "image/png": "[encoded data removed]"
          },
          "metadata": {}
        }
      ]
    },
    {
      "cell_type": "markdown",
      "source": [
        "# PROVA USER-BASED MODEL"
      ],
      "metadata": {
        "id": "135LT3FAvzCX"
      }
    },
    {
      "cell_type": "code",
      "source": [
        "reviews_df.printSchema()"
      ],
      "metadata": {
        "colab": {
          "base_uri": "https://localhost:8080/"
        },
        "id": "aIdXMY8Gxwqg",
        "outputId": "9022044d-6d22-4aa0-cc44-e6cadfd187e7"
      },
      "execution_count": 55,
      "outputs": [
        {
          "output_type": "stream",
          "name": "stdout",
          "text": [
            "root\n",
            " |-- steam_id: long (nullable = true)\n",
            " |-- steam_appid: integer (nullable = true)\n",
            " |-- recommended: string (nullable = true)\n",
            " |-- rating: float (nullable = true)\n",
            "\n"
          ]
        }
      ]
    },
    {
      "cell_type": "code",
      "source": [
        "user_id_mapping = reviews_df.select('steam_id').distinct().rdd.zipWithIndex().toDF(['steam_id', 'steam_int_id'])"
      ],
      "metadata": {
        "id": "utnaNMPmw7sc"
      },
      "execution_count": 55,
      "outputs": []
    },
    {
      "cell_type": "code",
      "source": [
        "mapped_ids = user_id_mapping.select(sqlf.col(\"steam_int_id\"), sqlf.col(\"steam_id\").getItem(\"steam_id\").alias(\"steam_id\"))"
      ],
      "metadata": {
        "id": "eEyWL2TXy8Qu"
      },
      "execution_count": 56,
      "outputs": []
    },
    {
      "cell_type": "code",
      "source": [
        "mapped_ids.show()"
      ],
      "metadata": {
        "colab": {
          "base_uri": "https://localhost:8080/"
        },
        "id": "sMWgSNJHzP2J",
        "outputId": "f0f96d7c-ba68-426d-dc52-d39ad1c0d36b"
      },
      "execution_count": 58,
      "outputs": [
        {
          "output_type": "stream",
          "name": "stdout",
          "text": [
            "+------------+-----------------+\n",
            "|steam_int_id|         steam_id|\n",
            "+------------+-----------------+\n",
            "|           0|76561198259233672|\n",
            "|           1|76561198341423566|\n",
            "|           2|76561198031569409|\n",
            "|           3|76561197972849454|\n",
            "|           4|76561197973899044|\n",
            "|           5|76561198076660221|\n",
            "|           6|76561199196015162|\n",
            "|           7|76561198148487790|\n",
            "|           8|76561198130662169|\n",
            "|           9|76561197962366215|\n",
            "|          10|76561197960269579|\n",
            "|          11|76561198153732068|\n",
            "|          12|76561198045204619|\n",
            "|          13|76561198054117588|\n",
            "|          14|76561197972329126|\n",
            "|          15|76561198031573706|\n",
            "|          16|76561198115985007|\n",
            "|          17|76561198132762380|\n",
            "|          18|76561198290049169|\n",
            "|          19|76561198036818252|\n",
            "+------------+-----------------+\n",
            "only showing top 20 rows\n",
            "\n"
          ]
        }
      ]
    },
    {
      "cell_type": "code",
      "source": [
        "user_activity_df = reviews_df.join(mapped_ids, on='steam_id', how='inner')"
      ],
      "metadata": {
        "id": "fgI4OBYXyzB7"
      },
      "execution_count": 57,
      "outputs": []
    },
    {
      "cell_type": "code",
      "source": [
        "user_activity_df.show()"
      ],
      "metadata": {
        "colab": {
          "base_uri": "https://localhost:8080/"
        },
        "id": "Gw_DQJyiziYb",
        "outputId": "c778febb-88ad-445f-9f6a-3571cf5bbd26"
      },
      "execution_count": 60,
      "outputs": [
        {
          "output_type": "stream",
          "name": "stdout",
          "text": [
            "+-----------------+-----------+---------------+------+------------+\n",
            "|         steam_id|steam_appid|    recommended|rating|steam_int_id|\n",
            "+-----------------+-----------+---------------+------+------------+\n",
            "|76561198259233672|     951650|    Recommended|   3.0|           0|\n",
            "|76561198341423566|    1581451|    Recommended|   3.0|           1|\n",
            "|76561198031569409|       2310|    Recommended|   3.5|           2|\n",
            "|76561198031569409|     337000|    Recommended|   5.0|           2|\n",
            "|76561198031569409|    1353270|Not Recommended|   2.0|           2|\n",
            "|76561198031569409|    1049410|Not Recommended|   1.0|           2|\n",
            "|76561198031569409|     294860|Not Recommended|   2.5|           2|\n",
            "|76561198031569409|     429660|Not Recommended|   2.5|           2|\n",
            "|76561198031569409|     224760|Not Recommended|   2.5|           2|\n",
            "|76561198031569409|     405830|    Recommended|   3.5|           2|\n",
            "|76561198031569409|      31290|    Recommended|   4.0|           2|\n",
            "|76561198031569409|      32360|    Recommended|   5.0|           2|\n",
            "|76561198031569409|      57640|    Recommended|   5.0|           2|\n",
            "|76561198031569409|     686200|    Recommended|   5.0|           2|\n",
            "|76561198031569409|    1145960|Not Recommended|   1.5|           2|\n",
            "|76561198031569409|     480490|    Recommended|   3.5|           2|\n",
            "|76561198031569409|     228200|    Recommended|   4.0|           2|\n",
            "|76561198031569409|     435150|Not Recommended|   2.5|           2|\n",
            "|76561198031569409|    1911390|    Recommended|   3.5|           2|\n",
            "|76561198031569409|    1342620|    Recommended|   3.5|           2|\n",
            "+-----------------+-----------+---------------+------+------------+\n",
            "only showing top 20 rows\n",
            "\n"
          ]
        }
      ]
    },
    {
      "cell_type": "code",
      "source": [
        "(training, test) = user_activity_df.randomSplit([0.8, 0.2])"
      ],
      "metadata": {
        "id": "_x888rX0v2Xj"
      },
      "execution_count": 71,
      "outputs": []
    },
    {
      "cell_type": "code",
      "source": [
        "als = ALS(\n",
        "    rank = 15,\n",
        "    maxIter = 20,\n",
        "    userCol=\"steam_int_id\",\n",
        "    itemCol=\"steam_appid\",\n",
        "    ratingCol=\"rating\",\n",
        "    coldStartStrategy=\"drop\",\n",
        "    nonnegative=True\n",
        ")"
      ],
      "metadata": {
        "id": "YLivkanxv9QA"
      },
      "execution_count": 72,
      "outputs": []
    },
    {
      "cell_type": "code",
      "source": [
        "model = als.fit(training)"
      ],
      "metadata": {
        "id": "15TWeHm1wEft"
      },
      "execution_count": 73,
      "outputs": []
    },
    {
      "cell_type": "code",
      "source": [
        "predictions = model.transform(test)"
      ],
      "metadata": {
        "id": "ITvXoTy2wHLb"
      },
      "execution_count": 74,
      "outputs": []
    },
    {
      "cell_type": "code",
      "source": [
        "evaluator = RegressionEvaluator(\n",
        "    metricName=\"rmse\",\n",
        "    labelCol=\"rating\",\n",
        "    predictionCol=\"prediction\"\n",
        ")"
      ],
      "metadata": {
        "id": "xXMLXBlmwKL2"
      },
      "execution_count": 75,
      "outputs": []
    },
    {
      "cell_type": "code",
      "source": [
        "rmse = evaluator.evaluate(predictions)\n",
        "print(f\"Root Mean Squared Error (RMSE): {rmse}\")"
      ],
      "metadata": {
        "colab": {
          "base_uri": "https://localhost:8080/"
        },
        "id": "qbxAbCZqwMtA",
        "outputId": "a6680651-10b9-41d2-e96a-8ce23c450e35"
      },
      "execution_count": 76,
      "outputs": [
        {
          "output_type": "stream",
          "name": "stdout",
          "text": [
            "Root Mean Squared Error (RMSE): 0.9431451867554969\n"
          ]
        }
      ]
    },
    {
      "cell_type": "code",
      "source": [
        "df = spark.createDataFrame([1], \"int\").toDF(\"steam_int_id\")"
      ],
      "metadata": {
        "id": "pX5fGEbU4OK7"
      },
      "execution_count": 77,
      "outputs": []
    },
    {
      "cell_type": "code",
      "source": [
        "steam_int_id = 1\n",
        "user_recs = model.recommendForUserSubset(df, 5)\n",
        "print(f\"Top 5 recommendations for User {steam_int_id}:\")\n",
        "user_recs.show(truncate=False)"
      ],
      "metadata": {
        "colab": {
          "base_uri": "https://localhost:8080/"
        },
        "id": "hyl7y4TvwPYx",
        "outputId": "c5a8ea7c-6a6a-4926-c4cd-23bf0e3ff2ea"
      },
      "execution_count": 78,
      "outputs": [
        {
          "output_type": "stream",
          "name": "stdout",
          "text": [
            "Top 5 recommendations for User 1:\n",
            "+------------+----------------------------------------------------------------------------------------------------------+\n",
            "|steam_int_id|recommendations                                                                                           |\n",
            "+------------+----------------------------------------------------------------------------------------------------------+\n",
            "|1           |[{2301630, 5.063467}, {2184270, 4.7313824}, {575710, 4.728317}, {1584280, 4.7110243}, {1487360, 4.710904}]|\n",
            "+------------+----------------------------------------------------------------------------------------------------------+\n",
            "\n"
          ]
        }
      ]
    },
    {
      "cell_type": "code",
      "source": [
        "path = '/content/gdrive/MyDrive/VideogameRecommenderSystem/models/'\n",
        "now = datetime.now()\n",
        "dt_string = now.strftime(\"%d_%m_%Y__%H_%M_%S\")\n",
        "model_name = \"ALS\" + dt_string\n",
        "path += model_name\n",
        "model.save(path)"
      ],
      "metadata": {
        "id": "yiQNcjcEox3f"
      },
      "execution_count": 79,
      "outputs": []
    },
    {
      "cell_type": "markdown",
      "source": [
        "# PROVA ITEM-BASED MODEL\n",
        "\n",
        "\n",
        "1.   **Prepare the Data**: Organize your user-item interaction data into a DataFrame where each row represents a user's rating for an item.\n",
        "2.    **Transpose the Data**: Transpose the DataFrame to create an item-item interaction matrix, where each row represents an item and each column represents a user's rating.\n",
        "3.    **Calculate Similarities**: Use the pyspark.ml.feature module to calculate the cosine similarity between items. The VectorAssembler can be used to assemble the columns of the DataFrame into a vector, and then you can apply the pyspark.ml.feature.Normalizer to normalize the vectors. The pyspark.ml.feature.BucketedRandomProjectionLSH can also be used for approximate nearest neighbor search.\n",
        "4.    **Generate Recommendations**: Once you have the item-item similarity matrix, you can generate recommendations for users by selecting items that are most similar to the items the user has interacted with.    "
      ],
      "metadata": {
        "id": "dtNOif5ZcRP7"
      }
    },
    {
      "cell_type": "code",
      "source": [
        "# Group by item and collect a list of users for each item\n",
        "item_item_df = user_activity_df.groupBy('steam_appid').agg(sqlf.collect_list('steam_int_id').alias('users'))"
      ],
      "metadata": {
        "id": "WPLLmgiPCobG"
      },
      "execution_count": 106,
      "outputs": []
    },
    {
      "cell_type": "code",
      "source": [
        "item_item_df = item_item_df.withColumnRenamed('steam_appid', 'item')"
      ],
      "metadata": {
        "id": "CIpv5-u2FmBT"
      },
      "execution_count": 107,
      "outputs": []
    },
    {
      "cell_type": "code",
      "source": [
        "item_item_df_alias = item_item_df.withColumnRenamed('item', 'item2')\n",
        "item_item_df_alias = item_item_df_alias.withColumnRenamed('users', 'users2')"
      ],
      "metadata": {
        "id": "xf6T8wLmEl_v"
      },
      "execution_count": 108,
      "outputs": []
    },
    {
      "cell_type": "code",
      "source": [
        "item_item_cross_df = item_item_df.crossJoin(item_item_df_alias)"
      ],
      "metadata": {
        "id": "NVsNy4_8EqJ2"
      },
      "execution_count": 109,
      "outputs": []
    },
    {
      "cell_type": "code",
      "source": [
        "item_item_cross_df.show(n=5)"
      ],
      "metadata": {
        "colab": {
          "base_uri": "https://localhost:8080/"
        },
        "id": "DxpJXiAcEtBd",
        "outputId": "42a0a004-3ecb-4a6c-af08-e96301425c72"
      },
      "execution_count": 110,
      "outputs": [
        {
          "output_type": "stream",
          "name": "stdout",
          "text": [
            "+----+--------------------+-----+--------------------+\n",
            "|item|               users|item2|              users2|\n",
            "+----+--------------------+-----+--------------------+\n",
            "|  20|[259, 330, 508, 6...|   20|[259, 330, 508, 6...|\n",
            "|  20|[259, 330, 508, 6...|   40|[330, 638, 1241, ...|\n",
            "|  20|[259, 330, 508, 6...|  280|[20, 205, 330, 59...|\n",
            "|  20|[259, 330, 508, 6...|  300|[173, 330, 570, 6...|\n",
            "|  20|[259, 330, 508, 6...|  340|[205, 210, 330, 4...|\n",
            "+----+--------------------+-----+--------------------+\n",
            "only showing top 5 rows\n",
            "\n"
          ]
        }
      ]
    },
    {
      "cell_type": "code",
      "source": [
        "item_item_similarity_df = item_item_cross_df.withColumn(\n",
        "    'common_users',\n",
        "    sqlf.size(sqlf.array_intersect(sqlf.col('users'), sqlf.col('users2')))\n",
        ").withColumn(\n",
        "    'total_users',\n",
        "    sqlf.size(sqlf.array_union(sqlf.col('users'), sqlf.col('users2')))\n",
        ").withColumn(\n",
        "    'cosine_similarity',\n",
        "    sqlf.col('common_users') / sqlf.col('total_users')\n",
        ").select('item', 'item2', 'cosine_similarity')"
      ],
      "metadata": {
        "id": "TOCFu9NQC1iQ"
      },
      "execution_count": 113,
      "outputs": []
    },
    {
      "cell_type": "code",
      "source": [
        "item_item_similarity_df.show(n=50)"
      ],
      "metadata": {
        "colab": {
          "base_uri": "https://localhost:8080/"
        },
        "id": "3eSAvhI9GXyA",
        "outputId": "4fda50dd-c729-4e9d-a75c-c077269a276a"
      },
      "execution_count": 115,
      "outputs": [
        {
          "output_type": "stream",
          "name": "stdout",
          "text": [
            "+----+-----+--------------------+\n",
            "|item|item2|   cosine_similarity|\n",
            "+----+-----+--------------------+\n",
            "|  20|   20|                 1.0|\n",
            "|  20|   40| 0.22662173546756528|\n",
            "|  20|  280| 0.15463917525773196|\n",
            "|  20|  300|    0.13491020586947|\n",
            "|  20|  340| 0.13580246913580246|\n",
            "|  20|  360| 0.19476520400307928|\n",
            "|  20|  440| 0.03320322942843394|\n",
            "|  20|  500| 0.07925290257445734|\n",
            "|  20|  570| 0.01877426334881945|\n",
            "|  20|  620| 0.03237076648841355|\n",
            "|  20| 1002|0.002076843198338...|\n",
            "|  20| 1250| 0.04522217852929611|\n",
            "|  20| 1300| 0.03052805280528053|\n",
            "|  20| 1500|0.016253207869974338|\n",
            "|  20| 1510|0.018018018018018018|\n",
            "|  20| 1520| 0.02552048354600403|\n",
            "|  20| 1530| 0.01812977099236641|\n",
            "|  20| 1600|0.001978239366963...|\n",
            "|  20| 1670|0.007099391480730223|\n",
            "|  20| 1700|0.014218009478672985|\n",
            "|  20| 1930|0.030921459492888066|\n",
            "|  20| 2200| 0.05864197530864197|\n",
            "|  20| 2210| 0.03938115330520394|\n",
            "|  20| 2320|  0.0598404255319149|\n",
            "|  20| 2420| 0.03498293515358362|\n",
            "|  20| 2520|0.015400410677618069|\n",
            "|  20| 2600|0.020335985853227233|\n",
            "|  20| 2610|  0.0227088402270884|\n",
            "|  20| 2620| 0.04372267332916927|\n",
            "|  20| 2630|  0.0369284876905041|\n",
            "|  20| 2640|  0.0340080971659919|\n",
            "|  20| 2720|0.003181336161187699|\n",
            "|  20| 2780|0.007209062821833162|\n",
            "|  20| 2810|0.009708737864077669|\n",
            "|  20| 2840|0.012974051896207584|\n",
            "|  20| 2910|0.002976190476190476|\n",
            "|  20| 2920|0.001939864209505...|\n",
            "|  20| 3010|0.014492753623188406|\n",
            "|  20| 3020| 0.04023361453601557|\n",
            "|  20| 3260|0.003693444136657433|\n",
            "|  20| 3270| 0.04258943781942078|\n",
            "|  20| 3300|  0.0137524557956778|\n",
            "|  20| 3310|0.008670520231213872|\n",
            "|  20| 3320| 0.01267710663683818|\n",
            "|  20| 3330|0.020482809070958303|\n",
            "|  20| 3340|0.006256517205422315|\n",
            "|  20| 3350| 0.01603206412825651|\n",
            "|  20| 3390|0.011754827875734676|\n",
            "|  20| 3410|0.008113590263691683|\n",
            "|  20| 3420|0.003188097768331562|\n",
            "+----+-----+--------------------+\n",
            "only showing top 50 rows\n",
            "\n"
          ]
        }
      ]
    }
  ]
}