{
  "nbformat": 4,
  "nbformat_minor": 0,
  "metadata": {
    "colab": {
      "provenance": []
    },
    "kernelspec": {
      "name": "python3",
      "display_name": "Python 3"
    },
    "language_info": {
      "name": "python"
    }
  },
  "cells": [
    {
      "cell_type": "markdown",
      "source": [
        "# Preparazione"
      ],
      "metadata": {
        "id": "rNc25BxTSwtQ"
      }
    },
    {
      "cell_type": "code",
      "execution_count": 1,
      "metadata": {
        "id": "tZhWcP-oSuJm"
      },
      "outputs": [],
      "source": [
        "RANDOM_SEED = 42"
      ]
    },
    {
      "cell_type": "code",
      "source": [
        "!pip install pyngrok"
      ],
      "metadata": {
        "colab": {
          "base_uri": "https://localhost:8080/"
        },
        "id": "dDU1pSdXS3ok",
        "outputId": "fdd045e8-ed1b-4cb1-c04a-04ac744a4c4e"
      },
      "execution_count": 2,
      "outputs": [
        {
          "output_type": "stream",
          "name": "stdout",
          "text": [
            "Collecting pyngrok\n",
            "  Downloading pyngrok-6.0.0.tar.gz (681 kB)\n",
            "\u001b[?25l     \u001b[90m━━━━━━━━━━━━━━━━━━━━━━━━━━━━━━━━━━━━━━━━\u001b[0m \u001b[32m0.0/681.2 kB\u001b[0m \u001b[31m?\u001b[0m eta \u001b[36m-:--:--\u001b[0m\r\u001b[2K     \u001b[91m━━━━━━━━━━━━━━━━━━━━━━\u001b[0m\u001b[90m╺\u001b[0m\u001b[90m━━━━━━━━━━━━━━━\u001b[0m \u001b[32m399.4/681.2 kB\u001b[0m \u001b[31m11.7 MB/s\u001b[0m eta \u001b[36m0:00:01\u001b[0m\r\u001b[2K     \u001b[90m━━━━━━━━━━━━━━━━━━━━━━━━━━━━━━━━━━━━━━\u001b[0m \u001b[32m681.2/681.2 kB\u001b[0m \u001b[31m11.8 MB/s\u001b[0m eta \u001b[36m0:00:00\u001b[0m\n",
            "\u001b[?25h  Preparing metadata (setup.py) ... \u001b[?25l\u001b[?25hdone\n",
            "Requirement already satisfied: PyYAML in /usr/local/lib/python3.10/dist-packages (from pyngrok) (6.0.1)\n",
            "Building wheels for collected packages: pyngrok\n",
            "  Building wheel for pyngrok (setup.py) ... \u001b[?25l\u001b[?25hdone\n",
            "  Created wheel for pyngrok: filename=pyngrok-6.0.0-py3-none-any.whl size=19867 sha256=5784d9a6afb78b7b648a3fd14557fb811acc303b7fedc6b6dd5b2c785982ec5d\n",
            "  Stored in directory: /root/.cache/pip/wheels/5c/42/78/0c3d438d7f5730451a25f7ac6cbf4391759d22a67576ed7c2c\n",
            "Successfully built pyngrok\n",
            "Installing collected packages: pyngrok\n",
            "Successfully installed pyngrok-6.0.0\n"
          ]
        }
      ]
    },
    {
      "cell_type": "code",
      "source": [
        "!ngrok authtoken 2Tn9uykXlYRjLcSLIgmv1iLdEvG_3gqA9M3V4hLGqH9N3JWEr"
      ],
      "metadata": {
        "colab": {
          "base_uri": "https://localhost:8080/"
        },
        "id": "mZw6mvj8TnnK",
        "outputId": "752215b3-570e-4caf-e0ca-a7c213a60dfe"
      },
      "execution_count": 3,
      "outputs": [
        {
          "output_type": "stream",
          "name": "stdout",
          "text": [
            "Authtoken saved to configuration file: /root/.ngrok2/ngrok.yml\n"
          ]
        }
      ]
    },
    {
      "cell_type": "code",
      "source": [
        "from pyngrok import ngrok\n",
        "import matplotlib.pyplot as plt\n",
        "%matplotlib inline"
      ],
      "metadata": {
        "id": "Br58IkI_TrlK"
      },
      "execution_count": 4,
      "outputs": []
    },
    {
      "cell_type": "code",
      "source": [
        "!pip install pyspark"
      ],
      "metadata": {
        "colab": {
          "base_uri": "https://localhost:8080/"
        },
        "id": "LxrcGP2xTyZl",
        "outputId": "01a1608e-538f-48b5-e0fc-26368128842f"
      },
      "execution_count": 5,
      "outputs": [
        {
          "output_type": "stream",
          "name": "stdout",
          "text": [
            "Collecting pyspark\n",
            "  Downloading pyspark-3.4.1.tar.gz (310.8 MB)\n",
            "\u001b[2K     \u001b[90m━━━━━━━━━━━━━━━━━━━━━━━━━━━━━━━━━━━━━━━\u001b[0m \u001b[32m310.8/310.8 MB\u001b[0m \u001b[31m3.4 MB/s\u001b[0m eta \u001b[36m0:00:00\u001b[0m\n",
            "\u001b[?25h  Preparing metadata (setup.py) ... \u001b[?25l\u001b[?25hdone\n",
            "Requirement already satisfied: py4j==0.10.9.7 in /usr/local/lib/python3.10/dist-packages (from pyspark) (0.10.9.7)\n",
            "Building wheels for collected packages: pyspark\n",
            "  Building wheel for pyspark (setup.py) ... \u001b[?25l\u001b[?25hdone\n",
            "  Created wheel for pyspark: filename=pyspark-3.4.1-py2.py3-none-any.whl size=311285388 sha256=6ce7c6f000bddf629328524bc0ccb139b39c9ecd7c740a8f2e601616be4dcd10\n",
            "  Stored in directory: /root/.cache/pip/wheels/0d/77/a3/ff2f74cc9ab41f8f594dabf0579c2a7c6de920d584206e0834\n",
            "Successfully built pyspark\n",
            "Installing collected packages: pyspark\n",
            "Successfully installed pyspark-3.4.1\n"
          ]
        }
      ]
    },
    {
      "cell_type": "code",
      "source": [
        "import pyspark\n",
        "from pyspark.sql import *\n",
        "from pyspark.sql.types import *\n",
        "from pyspark.sql import functions as sqlf\n",
        "from pyspark import SparkContext, SparkConf\n",
        "from pyspark.ml.evaluation import RegressionEvaluator\n",
        "from pyspark.ml.recommendation import ALS, ALSModel\n",
        "from pyspark.mllib.evaluation import RankingMetrics"
      ],
      "metadata": {
        "id": "06Q4ABRZS3Oc"
      },
      "execution_count": 6,
      "outputs": []
    },
    {
      "cell_type": "code",
      "source": [
        "conf = SparkConf().\\\n",
        "                set('spark.ui.port', \"4050\").\\\n",
        "                set('spark.executor.memory', '4G').\\\n",
        "                set('spark.driver.memory', '45G').\\\n",
        "                set('spark.driver.maxResultSize', '10G').\\\n",
        "                setAppName(\"VideogameRecommenderSystem\").\\\n",
        "                setMaster(\"local[*]\")\n",
        "\n",
        "# Create the context\n",
        "sc = pyspark.SparkContext(conf=conf)\n",
        "spark = SparkSession.builder.getOrCreate()"
      ],
      "metadata": {
        "id": "pqjSANL6T6sl"
      },
      "execution_count": 7,
      "outputs": []
    },
    {
      "cell_type": "code",
      "source": [
        "port = '4050'\n",
        "public_url = ngrok.connect(port).public_url"
      ],
      "metadata": {
        "colab": {
          "base_uri": "https://localhost:8080/"
        },
        "id": "QJSFff4RT9by",
        "outputId": "d92c402b-65e6-4ffd-f67d-6c7ad4b498c2"
      },
      "execution_count": 8,
      "outputs": [
        {
          "output_type": "stream",
          "name": "stderr",
          "text": [
            "WARNING:pyngrok.process.ngrok:t=2023-08-17T09:44:12+0000 lvl=warn msg=\"ngrok config file found at legacy location, move to XDG location\" xdg_path=/root/.config/ngrok/ngrok.yml legacy_path=/root/.ngrok2/ngrok.yml\n"
          ]
        }
      ]
    },
    {
      "cell_type": "code",
      "source": [
        "print(\"To access the Spark Web UI console, please click on the following link to the ngrok tunnel \\\"{}\\\" -> \\\"http://127.0.0.1:{}\\\"\".format(public_url, port))"
      ],
      "metadata": {
        "colab": {
          "base_uri": "https://localhost:8080/"
        },
        "id": "3kK75_JyT_n9",
        "outputId": "ccf6b7f7-1238-46eb-a5eb-45c7bd76695f"
      },
      "execution_count": 9,
      "outputs": [
        {
          "output_type": "stream",
          "name": "stdout",
          "text": [
            "To access the Spark Web UI console, please click on the following link to the ngrok tunnel \"https://d158-34-105-119-107.ngrok-free.app\" -> \"http://127.0.0.1:4050\"\n"
          ]
        }
      ]
    },
    {
      "cell_type": "code",
      "source": [
        "spark"
      ],
      "metadata": {
        "colab": {
          "base_uri": "https://localhost:8080/",
          "height": 219
        },
        "id": "NuGJtC31UAQG",
        "outputId": "b55fbeae-6d04-49ee-d023-106331977442"
      },
      "execution_count": 10,
      "outputs": [
        {
          "output_type": "execute_result",
          "data": {
            "text/plain": [
              "<pyspark.sql.session.SparkSession at 0x7cf0e3739300>"
            ],
            "text/html": [
              "\n",
              "            <div>\n",
              "                <p><b>SparkSession - in-memory</b></p>\n",
              "                \n",
              "        <div>\n",
              "            <p><b>SparkContext</b></p>\n",
              "\n",
              "            <p><a href=\"http://f312b0052bf6:4050\">Spark UI</a></p>\n",
              "\n",
              "            <dl>\n",
              "              <dt>Version</dt>\n",
              "                <dd><code>v3.4.1</code></dd>\n",
              "              <dt>Master</dt>\n",
              "                <dd><code>local[*]</code></dd>\n",
              "              <dt>AppName</dt>\n",
              "                <dd><code>VideogameRecommenderSystem</code></dd>\n",
              "            </dl>\n",
              "        </div>\n",
              "        \n",
              "            </div>\n",
              "        "
            ]
          },
          "metadata": {},
          "execution_count": 10
        }
      ]
    },
    {
      "cell_type": "code",
      "source": [
        "# Connect this colab to Google Drive\n",
        "from google.colab import drive\n",
        "drive.mount('/content/gdrive')"
      ],
      "metadata": {
        "colab": {
          "base_uri": "https://localhost:8080/"
        },
        "id": "_PCbZ10zUFGE",
        "outputId": "2863840b-5ee0-4f63-de19-02cb38a4b69e"
      },
      "execution_count": 11,
      "outputs": [
        {
          "output_type": "stream",
          "name": "stdout",
          "text": [
            "Mounted at /content/gdrive\n"
          ]
        }
      ]
    },
    {
      "cell_type": "markdown",
      "source": [
        "# ALS analysis"
      ],
      "metadata": {
        "id": "IAWg8d4qS781"
      }
    },
    {
      "cell_type": "code",
      "source": [
        "als_model = ALSModel.load('/content/gdrive/MyDrive/VideogameRecommenderSystem/models/ALS11_08_2023__11_12_50')"
      ],
      "metadata": {
        "id": "zihhIJx-S7EK"
      },
      "execution_count": 12,
      "outputs": []
    },
    {
      "cell_type": "code",
      "source": [
        "user_activity_df = spark.read.load('/content/gdrive/MyDrive/VideogameRecommenderSystem/user_activity',\n",
        "                           format=\"csv\",\n",
        "                           sep=\",\",\n",
        "                           inferSchema=\"true\",\n",
        "                           header=\"true\")"
      ],
      "metadata": {
        "id": "AGMwhWs3brVw"
      },
      "execution_count": 13,
      "outputs": []
    },
    {
      "cell_type": "code",
      "source": [
        "user_activity_df.agg(sqlf.countDistinct(\"steam_int_id\").alias(\"distinct_id_count\")).show()"
      ],
      "metadata": {
        "colab": {
          "base_uri": "https://localhost:8080/"
        },
        "id": "GfgmKSoHmELZ",
        "outputId": "ae627fc0-814e-4b2b-9398-1d8dac5056ee"
      },
      "execution_count": null,
      "outputs": [
        {
          "output_type": "stream",
          "name": "stdout",
          "text": [
            "+-----------------+\n",
            "|distinct_id_count|\n",
            "+-----------------+\n",
            "|           291652|\n",
            "+-----------------+\n",
            "\n"
          ]
        }
      ]
    },
    {
      "cell_type": "code",
      "source": [
        "user_activity_df.count()"
      ],
      "metadata": {
        "colab": {
          "base_uri": "https://localhost:8080/"
        },
        "id": "6McvSClRxx9h",
        "outputId": "8d2a77e0-4e7b-443b-aedf-e4592a44dcfe"
      },
      "execution_count": null,
      "outputs": [
        {
          "output_type": "execute_result",
          "data": {
            "text/plain": [
              "6779243"
            ]
          },
          "metadata": {},
          "execution_count": 14
        }
      ]
    },
    {
      "cell_type": "code",
      "source": [
        "top_20_distinct_values = user_activity_df.groupBy('steam_id').count().orderBy(sqlf.col(\"count\").desc()).limit(20)"
      ],
      "metadata": {
        "id": "L68034PgxXFp"
      },
      "execution_count": null,
      "outputs": []
    },
    {
      "cell_type": "code",
      "source": [
        "demo_df = user_activity_df.join(top_20_distinct_values, on='steam_id', how=\"inner\")"
      ],
      "metadata": {
        "id": "CnXPwFlSxoSm"
      },
      "execution_count": null,
      "outputs": []
    },
    {
      "cell_type": "code",
      "source": [
        "demo_df = demo_df.drop(\"count\")"
      ],
      "metadata": {
        "id": "Bxn1xs-Uxu0X"
      },
      "execution_count": null,
      "outputs": []
    },
    {
      "cell_type": "code",
      "source": [
        "demo_df.count()"
      ],
      "metadata": {
        "colab": {
          "base_uri": "https://localhost:8080/"
        },
        "id": "TRmwMlOXx4ni",
        "outputId": "bcb3f0d6-e9b5-4dc0-9b17-63a6da6ba991"
      },
      "execution_count": null,
      "outputs": [
        {
          "output_type": "execute_result",
          "data": {
            "text/plain": [
              "70707"
            ]
          },
          "metadata": {},
          "execution_count": 18
        }
      ]
    },
    {
      "cell_type": "code",
      "source": [
        "demo_df.agg(sqlf.countDistinct(\"steam_id\").alias(\"distinct_id_count\")).show()"
      ],
      "metadata": {
        "colab": {
          "base_uri": "https://localhost:8080/"
        },
        "id": "EqszE4D3yCTA",
        "outputId": "5515d0d8-7a5b-4ca6-d875-4dbdd0f19039"
      },
      "execution_count": null,
      "outputs": [
        {
          "output_type": "stream",
          "name": "stdout",
          "text": [
            "+-----------------+\n",
            "|distinct_id_count|\n",
            "+-----------------+\n",
            "|               20|\n",
            "+-----------------+\n",
            "\n"
          ]
        }
      ]
    },
    {
      "cell_type": "code",
      "source": [
        "demo_df.write.options(header='True', delimiter=',').csv('/content/gdrive/MyDrive/VideogameRecommenderSystem/demo_data')"
      ],
      "metadata": {
        "id": "e013k5NUyJ7Z"
      },
      "execution_count": null,
      "outputs": []
    },
    {
      "cell_type": "code",
      "source": [
        "user_activity_df.show(n=5)"
      ],
      "metadata": {
        "colab": {
          "base_uri": "https://localhost:8080/"
        },
        "id": "A0-jHuscb0nq",
        "outputId": "9ad21e3f-3e47-4969-b807-2edd11bc6cf9"
      },
      "execution_count": null,
      "outputs": [
        {
          "output_type": "stream",
          "name": "stdout",
          "text": [
            "+-----------------+-----------+---------------+------+------------+\n",
            "|         steam_id|steam_appid|    recommended|rating|steam_int_id|\n",
            "+-----------------+-----------+---------------+------+------------+\n",
            "|76561198259233672|     951650|    Recommended|   3.0|           0|\n",
            "|76561198341423566|    1581451|    Recommended|   3.0|           1|\n",
            "|76561198031569409|       2310|    Recommended|   3.5|           2|\n",
            "|76561198031569409|     337000|    Recommended|   5.0|           2|\n",
            "|76561198031569409|    1353270|Not Recommended|   2.0|           2|\n",
            "+-----------------+-----------+---------------+------+------------+\n",
            "only showing top 5 rows\n",
            "\n"
          ]
        }
      ]
    },
    {
      "cell_type": "code",
      "source": [
        "(training, test) = user_activity_df.randomSplit([0.8, 0.2], seed=RANDOM_SEED)"
      ],
      "metadata": {
        "id": "s2pJS3hVUGdP"
      },
      "execution_count": null,
      "outputs": []
    },
    {
      "cell_type": "code",
      "source": [
        "predictions = als_model.transform(test)"
      ],
      "metadata": {
        "id": "G6xYiyklTD9M"
      },
      "execution_count": null,
      "outputs": []
    },
    {
      "cell_type": "code",
      "source": [
        "evaluator = RegressionEvaluator(\n",
        "    metricName=\"rmse\",\n",
        "    labelCol=\"rating\",\n",
        "    predictionCol=\"prediction\"\n",
        ")"
      ],
      "metadata": {
        "id": "NbDd6UDIcRVL"
      },
      "execution_count": null,
      "outputs": []
    },
    {
      "cell_type": "code",
      "source": [
        "rmse = evaluator.evaluate(predictions)\n",
        "print(f\"Root Mean Squared Error (RMSE): {rmse}\")"
      ],
      "metadata": {
        "colab": {
          "base_uri": "https://localhost:8080/"
        },
        "id": "NELJBiOqTM9Q",
        "outputId": "cc2962fb-cfd5-4feb-b209-e36ce497746f"
      },
      "execution_count": null,
      "outputs": [
        {
          "output_type": "stream",
          "name": "stdout",
          "text": [
            "Root Mean Squared Error (RMSE): 1.0652216001618737\n"
          ]
        }
      ]
    },
    {
      "cell_type": "code",
      "source": [
        "steam_int_id = user_activity_df.filter(user_activity_df.steam_id == 76561198116879965).first()['steam_int_id']"
      ],
      "metadata": {
        "id": "wy9HTqgG9JCE"
      },
      "execution_count": 23,
      "outputs": []
    },
    {
      "cell_type": "code",
      "source": [
        "steam_int_id"
      ],
      "metadata": {
        "colab": {
          "base_uri": "https://localhost:8080/"
        },
        "id": "-EzFRYwc9h_3",
        "outputId": "459a6516-2c62-492f-9ce4-d4b2dd9276cf"
      },
      "execution_count": 24,
      "outputs": [
        {
          "output_type": "execute_result",
          "data": {
            "text/plain": [
              "168492"
            ]
          },
          "metadata": {},
          "execution_count": 24
        }
      ]
    },
    {
      "cell_type": "code",
      "source": [
        "user = spark.createDataFrame([168492], \"int\").toDF(\"steam_int_id\")"
      ],
      "metadata": {
        "id": "LatA1SoPTSAS"
      },
      "execution_count": 25,
      "outputs": []
    },
    {
      "cell_type": "code",
      "source": [
        "steam_id = 168492\n",
        "user_recs = als_model.recommendForUserSubset(user, 5)\n",
        "print(f\"Top 5 recommendations for User {steam_id}:\")\n",
        "user_recs.show(truncate=False)"
      ],
      "metadata": {
        "colab": {
          "base_uri": "https://localhost:8080/"
        },
        "id": "Y3K65EiDTTzJ",
        "outputId": "83e2f6c6-3820-4794-fb89-327a06782652"
      },
      "execution_count": 26,
      "outputs": [
        {
          "output_type": "stream",
          "name": "stdout",
          "text": [
            "Top 5 recommendations for User 168492:\n",
            "+------------+-------------------------------------------------------------------------------------------------------------+\n",
            "|steam_int_id|recommendations                                                                                              |\n",
            "+------------+-------------------------------------------------------------------------------------------------------------+\n",
            "|168492      |[{2184270, 4.9305077}, {1511610, 4.8229003}, {1262920, 4.803187}, {1304290, 4.6724615}, {1263100, 4.6717854}]|\n",
            "+------------+-------------------------------------------------------------------------------------------------------------+\n",
            "\n"
          ]
        }
      ]
    },
    {
      "cell_type": "code",
      "source": [
        "# Convert the predictions DataFrame to include all predictions per user\n",
        "# Generate top-k recommendations for each user\n",
        "userRecs = als_model.recommendForAllUsers(5)  # Top-5 recommendations for each user\n",
        "\n",
        "# Prepare the input for RankingMetrics\n",
        "user_ground_truth = test.groupby('steam_int_id').agg(sqlf.collect_list('steam_appid').alias('ground_truth_items'))\n",
        "user_train_items = training.groupby('steam_int_id').agg(sqlf.collect_list('steam_appid').alias('train_items'))\n",
        "\n",
        "# Join the recommendations and ground truth data on the user ID\n",
        "user_eval = userRecs.join(user_ground_truth, on='steam_int_id').join(user_train_items, on='steam_int_id') \\\n",
        "    .select('steam_int_id', 'recommendations.steam_appid', 'ground_truth_items', 'train_items', 'recommendations.rating')\n",
        "user_eval = user_eval.toPandas()"
      ],
      "metadata": {
        "id": "249VEkrXTgu5"
      },
      "execution_count": null,
      "outputs": []
    },
    {
      "cell_type": "code",
      "source": [
        "user_eval.head()"
      ],
      "metadata": {
        "colab": {
          "base_uri": "https://localhost:8080/",
          "height": 424
        },
        "id": "2x5Yd_2OUgKf",
        "outputId": "15e6d00f-6cbe-4441-9ba3-9804f6fee516"
      },
      "execution_count": null,
      "outputs": [
        {
          "output_type": "execute_result",
          "data": {
            "text/plain": [
              "   steam_int_id                                    steam_appid  \\\n",
              "0             3  [2184270, 1511610, 1262920, 1304290, 1263100]   \n",
              "1             6  [2184270, 1511610, 1262920, 1304290, 1263100]   \n",
              "2             9  [2184270, 1511610, 1262920, 1304290, 1263100]   \n",
              "3            12  [2184270, 1511610, 1262920, 1304290, 1263100]   \n",
              "4            15  [2184270, 1511610, 1262920, 1304290, 1263100]   \n",
              "\n",
              "                                  ground_truth_items  \\\n",
              "0                                           [410820]   \n",
              "1                                          [1929610]   \n",
              "2                           [264710, 346110, 794260]   \n",
              "3                                           [755790]   \n",
              "4  [110800, 221680, 233840, 271590, 292730, 40971...   \n",
              "\n",
              "                                         train_items  \\\n",
              "0                                   [261570, 296490]   \n",
              "1         [739630, 771300, 962130, 1304930, 1677740]   \n",
              "2  [251570, 354680, 424370, 455120, 728240, 79074...   \n",
              "3  [221100, 267600, 506540, 677620, 1149460, 1307...   \n",
              "4  [8870, 12210, 22380, 47920, 55100, 206420, 219...   \n",
              "\n",
              "                                              rating  \n",
              "0  [4.871675491333008, 4.765350818634033, 4.74587...  \n",
              "1  [6.077251434326172, 5.944612979888916, 5.92031...  \n",
              "2  [5.162646770477295, 5.0499701499938965, 5.0293...  \n",
              "3  [5.699399948120117, 5.575007915496826, 5.55221...  \n",
              "4  [4.440424919128418, 4.343510150909424, 4.32575...  "
            ],
            "text/html": [
              "\n",
              "\n",
              "  <div id=\"df-605bb789-dd6e-47a0-aa8c-75ddc5faa952\">\n",
              "    <div class=\"colab-df-container\">\n",
              "      <div>\n",
              "<style scoped>\n",
              "    .dataframe tbody tr th:only-of-type {\n",
              "        vertical-align: middle;\n",
              "    }\n",
              "\n",
              "    .dataframe tbody tr th {\n",
              "        vertical-align: top;\n",
              "    }\n",
              "\n",
              "    .dataframe thead th {\n",
              "        text-align: right;\n",
              "    }\n",
              "</style>\n",
              "<table border=\"1\" class=\"dataframe\">\n",
              "  <thead>\n",
              "    <tr style=\"text-align: right;\">\n",
              "      <th></th>\n",
              "      <th>steam_int_id</th>\n",
              "      <th>steam_appid</th>\n",
              "      <th>ground_truth_items</th>\n",
              "      <th>train_items</th>\n",
              "      <th>rating</th>\n",
              "    </tr>\n",
              "  </thead>\n",
              "  <tbody>\n",
              "    <tr>\n",
              "      <th>0</th>\n",
              "      <td>3</td>\n",
              "      <td>[2184270, 1511610, 1262920, 1304290, 1263100]</td>\n",
              "      <td>[410820]</td>\n",
              "      <td>[261570, 296490]</td>\n",
              "      <td>[4.871675491333008, 4.765350818634033, 4.74587...</td>\n",
              "    </tr>\n",
              "    <tr>\n",
              "      <th>1</th>\n",
              "      <td>6</td>\n",
              "      <td>[2184270, 1511610, 1262920, 1304290, 1263100]</td>\n",
              "      <td>[1929610]</td>\n",
              "      <td>[739630, 771300, 962130, 1304930, 1677740]</td>\n",
              "      <td>[6.077251434326172, 5.944612979888916, 5.92031...</td>\n",
              "    </tr>\n",
              "    <tr>\n",
              "      <th>2</th>\n",
              "      <td>9</td>\n",
              "      <td>[2184270, 1511610, 1262920, 1304290, 1263100]</td>\n",
              "      <td>[264710, 346110, 794260]</td>\n",
              "      <td>[251570, 354680, 424370, 455120, 728240, 79074...</td>\n",
              "      <td>[5.162646770477295, 5.0499701499938965, 5.0293...</td>\n",
              "    </tr>\n",
              "    <tr>\n",
              "      <th>3</th>\n",
              "      <td>12</td>\n",
              "      <td>[2184270, 1511610, 1262920, 1304290, 1263100]</td>\n",
              "      <td>[755790]</td>\n",
              "      <td>[221100, 267600, 506540, 677620, 1149460, 1307...</td>\n",
              "      <td>[5.699399948120117, 5.575007915496826, 5.55221...</td>\n",
              "    </tr>\n",
              "    <tr>\n",
              "      <th>4</th>\n",
              "      <td>15</td>\n",
              "      <td>[2184270, 1511610, 1262920, 1304290, 1263100]</td>\n",
              "      <td>[110800, 221680, 233840, 271590, 292730, 40971...</td>\n",
              "      <td>[8870, 12210, 22380, 47920, 55100, 206420, 219...</td>\n",
              "      <td>[4.440424919128418, 4.343510150909424, 4.32575...</td>\n",
              "    </tr>\n",
              "  </tbody>\n",
              "</table>\n",
              "</div>\n",
              "      <button class=\"colab-df-convert\" onclick=\"convertToInteractive('df-605bb789-dd6e-47a0-aa8c-75ddc5faa952')\"\n",
              "              title=\"Convert this dataframe to an interactive table.\"\n",
              "              style=\"display:none;\">\n",
              "\n",
              "  <svg xmlns=\"http://www.w3.org/2000/svg\" height=\"24px\"viewBox=\"0 0 24 24\"\n",
              "       width=\"24px\">\n",
              "    <path d=\"M0 0h24v24H0V0z\" fill=\"none\"/>\n",
              "    <path d=\"M18.56 5.44l.94 2.06.94-2.06 2.06-.94-2.06-.94-.94-2.06-.94 2.06-2.06.94zm-11 1L8.5 8.5l.94-2.06 2.06-.94-2.06-.94L8.5 2.5l-.94 2.06-2.06.94zm10 10l.94 2.06.94-2.06 2.06-.94-2.06-.94-.94-2.06-.94 2.06-2.06.94z\"/><path d=\"M17.41 7.96l-1.37-1.37c-.4-.4-.92-.59-1.43-.59-.52 0-1.04.2-1.43.59L10.3 9.45l-7.72 7.72c-.78.78-.78 2.05 0 2.83L4 21.41c.39.39.9.59 1.41.59.51 0 1.02-.2 1.41-.59l7.78-7.78 2.81-2.81c.8-.78.8-2.07 0-2.86zM5.41 20L4 18.59l7.72-7.72 1.47 1.35L5.41 20z\"/>\n",
              "  </svg>\n",
              "      </button>\n",
              "\n",
              "\n",
              "\n",
              "    <div id=\"df-a1342246-b8e0-432c-801a-6ba523794f59\">\n",
              "      <button class=\"colab-df-quickchart\" onclick=\"quickchart('df-a1342246-b8e0-432c-801a-6ba523794f59')\"\n",
              "              title=\"Suggest charts.\"\n",
              "              style=\"display:none;\">\n",
              "\n",
              "<svg xmlns=\"http://www.w3.org/2000/svg\" height=\"24px\"viewBox=\"0 0 24 24\"\n",
              "     width=\"24px\">\n",
              "    <g>\n",
              "        <path d=\"M19 3H5c-1.1 0-2 .9-2 2v14c0 1.1.9 2 2 2h14c1.1 0 2-.9 2-2V5c0-1.1-.9-2-2-2zM9 17H7v-7h2v7zm4 0h-2V7h2v10zm4 0h-2v-4h2v4z\"/>\n",
              "    </g>\n",
              "</svg>\n",
              "      </button>\n",
              "    </div>\n",
              "\n",
              "<style>\n",
              "  .colab-df-quickchart {\n",
              "    background-color: #E8F0FE;\n",
              "    border: none;\n",
              "    border-radius: 50%;\n",
              "    cursor: pointer;\n",
              "    display: none;\n",
              "    fill: #1967D2;\n",
              "    height: 32px;\n",
              "    padding: 0 0 0 0;\n",
              "    width: 32px;\n",
              "  }\n",
              "\n",
              "  .colab-df-quickchart:hover {\n",
              "    background-color: #E2EBFA;\n",
              "    box-shadow: 0px 1px 2px rgba(60, 64, 67, 0.3), 0px 1px 3px 1px rgba(60, 64, 67, 0.15);\n",
              "    fill: #174EA6;\n",
              "  }\n",
              "\n",
              "  [theme=dark] .colab-df-quickchart {\n",
              "    background-color: #3B4455;\n",
              "    fill: #D2E3FC;\n",
              "  }\n",
              "\n",
              "  [theme=dark] .colab-df-quickchart:hover {\n",
              "    background-color: #434B5C;\n",
              "    box-shadow: 0px 1px 3px 1px rgba(0, 0, 0, 0.15);\n",
              "    filter: drop-shadow(0px 1px 2px rgba(0, 0, 0, 0.3));\n",
              "    fill: #FFFFFF;\n",
              "  }\n",
              "</style>\n",
              "\n",
              "    <script>\n",
              "      async function quickchart(key) {\n",
              "        const containerElement = document.querySelector('#' + key);\n",
              "        const charts = await google.colab.kernel.invokeFunction(\n",
              "            'suggestCharts', [key], {});\n",
              "      }\n",
              "    </script>\n",
              "\n",
              "      <script>\n",
              "\n",
              "function displayQuickchartButton(domScope) {\n",
              "  let quickchartButtonEl =\n",
              "    domScope.querySelector('#df-a1342246-b8e0-432c-801a-6ba523794f59 button.colab-df-quickchart');\n",
              "  quickchartButtonEl.style.display =\n",
              "    google.colab.kernel.accessAllowed ? 'block' : 'none';\n",
              "}\n",
              "\n",
              "        displayQuickchartButton(document);\n",
              "      </script>\n",
              "      <style>\n",
              "    .colab-df-container {\n",
              "      display:flex;\n",
              "      flex-wrap:wrap;\n",
              "      gap: 12px;\n",
              "    }\n",
              "\n",
              "    .colab-df-convert {\n",
              "      background-color: #E8F0FE;\n",
              "      border: none;\n",
              "      border-radius: 50%;\n",
              "      cursor: pointer;\n",
              "      display: none;\n",
              "      fill: #1967D2;\n",
              "      height: 32px;\n",
              "      padding: 0 0 0 0;\n",
              "      width: 32px;\n",
              "    }\n",
              "\n",
              "    .colab-df-convert:hover {\n",
              "      background-color: #E2EBFA;\n",
              "      box-shadow: 0px 1px 2px rgba(60, 64, 67, 0.3), 0px 1px 3px 1px rgba(60, 64, 67, 0.15);\n",
              "      fill: #174EA6;\n",
              "    }\n",
              "\n",
              "    [theme=dark] .colab-df-convert {\n",
              "      background-color: #3B4455;\n",
              "      fill: #D2E3FC;\n",
              "    }\n",
              "\n",
              "    [theme=dark] .colab-df-convert:hover {\n",
              "      background-color: #434B5C;\n",
              "      box-shadow: 0px 1px 3px 1px rgba(0, 0, 0, 0.15);\n",
              "      filter: drop-shadow(0px 1px 2px rgba(0, 0, 0, 0.3));\n",
              "      fill: #FFFFFF;\n",
              "    }\n",
              "  </style>\n",
              "\n",
              "      <script>\n",
              "        const buttonEl =\n",
              "          document.querySelector('#df-605bb789-dd6e-47a0-aa8c-75ddc5faa952 button.colab-df-convert');\n",
              "        buttonEl.style.display =\n",
              "          google.colab.kernel.accessAllowed ? 'block' : 'none';\n",
              "\n",
              "        async function convertToInteractive(key) {\n",
              "          const element = document.querySelector('#df-605bb789-dd6e-47a0-aa8c-75ddc5faa952');\n",
              "          const dataTable =\n",
              "            await google.colab.kernel.invokeFunction('convertToInteractive',\n",
              "                                                     [key], {});\n",
              "          if (!dataTable) return;\n",
              "\n",
              "          const docLinkHtml = 'Like what you see? Visit the ' +\n",
              "            '<a target=\"_blank\" href=https://colab.research.google.com/notebooks/data_table.ipynb>data table notebook</a>'\n",
              "            + ' to learn more about interactive tables.';\n",
              "          element.innerHTML = '';\n",
              "          dataTable['output_type'] = 'display_data';\n",
              "          await google.colab.output.renderOutput(dataTable, element);\n",
              "          const docLink = document.createElement('div');\n",
              "          docLink.innerHTML = docLinkHtml;\n",
              "          element.appendChild(docLink);\n",
              "        }\n",
              "      </script>\n",
              "    </div>\n",
              "  </div>\n"
            ]
          },
          "metadata": {},
          "execution_count": 25
        }
      ]
    },
    {
      "cell_type": "code",
      "source": [
        "user_eval['itemIndex_filtered'] = user_eval.apply(lambda x:[b for (b,z) in zip(x.steam_appid, x.rating) if b not in x.train_items], axis=1)\n",
        "user_eval['rating_filtered'] = user_eval.apply(lambda x:[z for (b,z) in zip(x.steam_appid, x.rating) if b not in x.train_items], axis=1)"
      ],
      "metadata": {
        "id": "I-kONBedUght"
      },
      "execution_count": null,
      "outputs": []
    },
    {
      "cell_type": "code",
      "source": [
        "user_eval.head()"
      ],
      "metadata": {
        "colab": {
          "base_uri": "https://localhost:8080/",
          "height": 652
        },
        "id": "2nvel8exUkzk",
        "outputId": "0d611598-0816-4f16-dff8-ed65f683c3d5"
      },
      "execution_count": null,
      "outputs": [
        {
          "output_type": "execute_result",
          "data": {
            "text/plain": [
              "   steam_int_id                                    steam_appid  \\\n",
              "0             3  [2184270, 1511610, 1262920, 1304290, 1263100]   \n",
              "1             6  [2184270, 1511610, 1262920, 1304290, 1263100]   \n",
              "2             9  [2184270, 1511610, 1262920, 1304290, 1263100]   \n",
              "3            12  [2184270, 1511610, 1262920, 1304290, 1263100]   \n",
              "4            15  [2184270, 1511610, 1262920, 1304290, 1263100]   \n",
              "\n",
              "                                  ground_truth_items  \\\n",
              "0                                           [410820]   \n",
              "1                                          [1929610]   \n",
              "2                           [264710, 346110, 794260]   \n",
              "3                                           [755790]   \n",
              "4  [110800, 221680, 233840, 271590, 292730, 40971...   \n",
              "\n",
              "                                         train_items  \\\n",
              "0                                   [261570, 296490]   \n",
              "1         [739630, 771300, 962130, 1304930, 1677740]   \n",
              "2  [251570, 354680, 424370, 455120, 728240, 79074...   \n",
              "3  [221100, 267600, 506540, 677620, 1149460, 1307...   \n",
              "4  [8870, 12210, 22380, 47920, 55100, 206420, 219...   \n",
              "\n",
              "                                              rating  \\\n",
              "0  [4.871675491333008, 4.765350818634033, 4.74587...   \n",
              "1  [6.077251434326172, 5.944612979888916, 5.92031...   \n",
              "2  [5.162646770477295, 5.0499701499938965, 5.0293...   \n",
              "3  [5.699399948120117, 5.575007915496826, 5.55221...   \n",
              "4  [4.440424919128418, 4.343510150909424, 4.32575...   \n",
              "\n",
              "                              itemIndex_filtered  \\\n",
              "0  [2184270, 1511610, 1262920, 1304290, 1263100]   \n",
              "1  [2184270, 1511610, 1262920, 1304290, 1263100]   \n",
              "2  [2184270, 1511610, 1262920, 1304290, 1263100]   \n",
              "3  [2184270, 1511610, 1262920, 1304290, 1263100]   \n",
              "4  [2184270, 1511610, 1262920, 1304290, 1263100]   \n",
              "\n",
              "                                     rating_filtered  \n",
              "0  [4.871675491333008, 4.765350818634033, 4.74587...  \n",
              "1  [6.077251434326172, 5.944612979888916, 5.92031...  \n",
              "2  [5.162646770477295, 5.0499701499938965, 5.0293...  \n",
              "3  [5.699399948120117, 5.575007915496826, 5.55221...  \n",
              "4  [4.440424919128418, 4.343510150909424, 4.32575...  "
            ],
            "text/html": [
              "\n",
              "\n",
              "  <div id=\"df-ba39a042-ec00-436f-81c2-e3cb91213486\">\n",
              "    <div class=\"colab-df-container\">\n",
              "      <div>\n",
              "<style scoped>\n",
              "    .dataframe tbody tr th:only-of-type {\n",
              "        vertical-align: middle;\n",
              "    }\n",
              "\n",
              "    .dataframe tbody tr th {\n",
              "        vertical-align: top;\n",
              "    }\n",
              "\n",
              "    .dataframe thead th {\n",
              "        text-align: right;\n",
              "    }\n",
              "</style>\n",
              "<table border=\"1\" class=\"dataframe\">\n",
              "  <thead>\n",
              "    <tr style=\"text-align: right;\">\n",
              "      <th></th>\n",
              "      <th>steam_int_id</th>\n",
              "      <th>steam_appid</th>\n",
              "      <th>ground_truth_items</th>\n",
              "      <th>train_items</th>\n",
              "      <th>rating</th>\n",
              "      <th>itemIndex_filtered</th>\n",
              "      <th>rating_filtered</th>\n",
              "    </tr>\n",
              "  </thead>\n",
              "  <tbody>\n",
              "    <tr>\n",
              "      <th>0</th>\n",
              "      <td>3</td>\n",
              "      <td>[2184270, 1511610, 1262920, 1304290, 1263100]</td>\n",
              "      <td>[410820]</td>\n",
              "      <td>[261570, 296490]</td>\n",
              "      <td>[4.871675491333008, 4.765350818634033, 4.74587...</td>\n",
              "      <td>[2184270, 1511610, 1262920, 1304290, 1263100]</td>\n",
              "      <td>[4.871675491333008, 4.765350818634033, 4.74587...</td>\n",
              "    </tr>\n",
              "    <tr>\n",
              "      <th>1</th>\n",
              "      <td>6</td>\n",
              "      <td>[2184270, 1511610, 1262920, 1304290, 1263100]</td>\n",
              "      <td>[1929610]</td>\n",
              "      <td>[739630, 771300, 962130, 1304930, 1677740]</td>\n",
              "      <td>[6.077251434326172, 5.944612979888916, 5.92031...</td>\n",
              "      <td>[2184270, 1511610, 1262920, 1304290, 1263100]</td>\n",
              "      <td>[6.077251434326172, 5.944612979888916, 5.92031...</td>\n",
              "    </tr>\n",
              "    <tr>\n",
              "      <th>2</th>\n",
              "      <td>9</td>\n",
              "      <td>[2184270, 1511610, 1262920, 1304290, 1263100]</td>\n",
              "      <td>[264710, 346110, 794260]</td>\n",
              "      <td>[251570, 354680, 424370, 455120, 728240, 79074...</td>\n",
              "      <td>[5.162646770477295, 5.0499701499938965, 5.0293...</td>\n",
              "      <td>[2184270, 1511610, 1262920, 1304290, 1263100]</td>\n",
              "      <td>[5.162646770477295, 5.0499701499938965, 5.0293...</td>\n",
              "    </tr>\n",
              "    <tr>\n",
              "      <th>3</th>\n",
              "      <td>12</td>\n",
              "      <td>[2184270, 1511610, 1262920, 1304290, 1263100]</td>\n",
              "      <td>[755790]</td>\n",
              "      <td>[221100, 267600, 506540, 677620, 1149460, 1307...</td>\n",
              "      <td>[5.699399948120117, 5.575007915496826, 5.55221...</td>\n",
              "      <td>[2184270, 1511610, 1262920, 1304290, 1263100]</td>\n",
              "      <td>[5.699399948120117, 5.575007915496826, 5.55221...</td>\n",
              "    </tr>\n",
              "    <tr>\n",
              "      <th>4</th>\n",
              "      <td>15</td>\n",
              "      <td>[2184270, 1511610, 1262920, 1304290, 1263100]</td>\n",
              "      <td>[110800, 221680, 233840, 271590, 292730, 40971...</td>\n",
              "      <td>[8870, 12210, 22380, 47920, 55100, 206420, 219...</td>\n",
              "      <td>[4.440424919128418, 4.343510150909424, 4.32575...</td>\n",
              "      <td>[2184270, 1511610, 1262920, 1304290, 1263100]</td>\n",
              "      <td>[4.440424919128418, 4.343510150909424, 4.32575...</td>\n",
              "    </tr>\n",
              "  </tbody>\n",
              "</table>\n",
              "</div>\n",
              "      <button class=\"colab-df-convert\" onclick=\"convertToInteractive('df-ba39a042-ec00-436f-81c2-e3cb91213486')\"\n",
              "              title=\"Convert this dataframe to an interactive table.\"\n",
              "              style=\"display:none;\">\n",
              "\n",
              "  <svg xmlns=\"http://www.w3.org/2000/svg\" height=\"24px\"viewBox=\"0 0 24 24\"\n",
              "       width=\"24px\">\n",
              "    <path d=\"M0 0h24v24H0V0z\" fill=\"none\"/>\n",
              "    <path d=\"M18.56 5.44l.94 2.06.94-2.06 2.06-.94-2.06-.94-.94-2.06-.94 2.06-2.06.94zm-11 1L8.5 8.5l.94-2.06 2.06-.94-2.06-.94L8.5 2.5l-.94 2.06-2.06.94zm10 10l.94 2.06.94-2.06 2.06-.94-2.06-.94-.94-2.06-.94 2.06-2.06.94z\"/><path d=\"M17.41 7.96l-1.37-1.37c-.4-.4-.92-.59-1.43-.59-.52 0-1.04.2-1.43.59L10.3 9.45l-7.72 7.72c-.78.78-.78 2.05 0 2.83L4 21.41c.39.39.9.59 1.41.59.51 0 1.02-.2 1.41-.59l7.78-7.78 2.81-2.81c.8-.78.8-2.07 0-2.86zM5.41 20L4 18.59l7.72-7.72 1.47 1.35L5.41 20z\"/>\n",
              "  </svg>\n",
              "      </button>\n",
              "\n",
              "\n",
              "\n",
              "    <div id=\"df-84175340-fb03-48bb-9066-08c7e692e9b6\">\n",
              "      <button class=\"colab-df-quickchart\" onclick=\"quickchart('df-84175340-fb03-48bb-9066-08c7e692e9b6')\"\n",
              "              title=\"Suggest charts.\"\n",
              "              style=\"display:none;\">\n",
              "\n",
              "<svg xmlns=\"http://www.w3.org/2000/svg\" height=\"24px\"viewBox=\"0 0 24 24\"\n",
              "     width=\"24px\">\n",
              "    <g>\n",
              "        <path d=\"M19 3H5c-1.1 0-2 .9-2 2v14c0 1.1.9 2 2 2h14c1.1 0 2-.9 2-2V5c0-1.1-.9-2-2-2zM9 17H7v-7h2v7zm4 0h-2V7h2v10zm4 0h-2v-4h2v4z\"/>\n",
              "    </g>\n",
              "</svg>\n",
              "      </button>\n",
              "    </div>\n",
              "\n",
              "<style>\n",
              "  .colab-df-quickchart {\n",
              "    background-color: #E8F0FE;\n",
              "    border: none;\n",
              "    border-radius: 50%;\n",
              "    cursor: pointer;\n",
              "    display: none;\n",
              "    fill: #1967D2;\n",
              "    height: 32px;\n",
              "    padding: 0 0 0 0;\n",
              "    width: 32px;\n",
              "  }\n",
              "\n",
              "  .colab-df-quickchart:hover {\n",
              "    background-color: #E2EBFA;\n",
              "    box-shadow: 0px 1px 2px rgba(60, 64, 67, 0.3), 0px 1px 3px 1px rgba(60, 64, 67, 0.15);\n",
              "    fill: #174EA6;\n",
              "  }\n",
              "\n",
              "  [theme=dark] .colab-df-quickchart {\n",
              "    background-color: #3B4455;\n",
              "    fill: #D2E3FC;\n",
              "  }\n",
              "\n",
              "  [theme=dark] .colab-df-quickchart:hover {\n",
              "    background-color: #434B5C;\n",
              "    box-shadow: 0px 1px 3px 1px rgba(0, 0, 0, 0.15);\n",
              "    filter: drop-shadow(0px 1px 2px rgba(0, 0, 0, 0.3));\n",
              "    fill: #FFFFFF;\n",
              "  }\n",
              "</style>\n",
              "\n",
              "    <script>\n",
              "      async function quickchart(key) {\n",
              "        const containerElement = document.querySelector('#' + key);\n",
              "        const charts = await google.colab.kernel.invokeFunction(\n",
              "            'suggestCharts', [key], {});\n",
              "      }\n",
              "    </script>\n",
              "\n",
              "      <script>\n",
              "\n",
              "function displayQuickchartButton(domScope) {\n",
              "  let quickchartButtonEl =\n",
              "    domScope.querySelector('#df-84175340-fb03-48bb-9066-08c7e692e9b6 button.colab-df-quickchart');\n",
              "  quickchartButtonEl.style.display =\n",
              "    google.colab.kernel.accessAllowed ? 'block' : 'none';\n",
              "}\n",
              "\n",
              "        displayQuickchartButton(document);\n",
              "      </script>\n",
              "      <style>\n",
              "    .colab-df-container {\n",
              "      display:flex;\n",
              "      flex-wrap:wrap;\n",
              "      gap: 12px;\n",
              "    }\n",
              "\n",
              "    .colab-df-convert {\n",
              "      background-color: #E8F0FE;\n",
              "      border: none;\n",
              "      border-radius: 50%;\n",
              "      cursor: pointer;\n",
              "      display: none;\n",
              "      fill: #1967D2;\n",
              "      height: 32px;\n",
              "      padding: 0 0 0 0;\n",
              "      width: 32px;\n",
              "    }\n",
              "\n",
              "    .colab-df-convert:hover {\n",
              "      background-color: #E2EBFA;\n",
              "      box-shadow: 0px 1px 2px rgba(60, 64, 67, 0.3), 0px 1px 3px 1px rgba(60, 64, 67, 0.15);\n",
              "      fill: #174EA6;\n",
              "    }\n",
              "\n",
              "    [theme=dark] .colab-df-convert {\n",
              "      background-color: #3B4455;\n",
              "      fill: #D2E3FC;\n",
              "    }\n",
              "\n",
              "    [theme=dark] .colab-df-convert:hover {\n",
              "      background-color: #434B5C;\n",
              "      box-shadow: 0px 1px 3px 1px rgba(0, 0, 0, 0.15);\n",
              "      filter: drop-shadow(0px 1px 2px rgba(0, 0, 0, 0.3));\n",
              "      fill: #FFFFFF;\n",
              "    }\n",
              "  </style>\n",
              "\n",
              "      <script>\n",
              "        const buttonEl =\n",
              "          document.querySelector('#df-ba39a042-ec00-436f-81c2-e3cb91213486 button.colab-df-convert');\n",
              "        buttonEl.style.display =\n",
              "          google.colab.kernel.accessAllowed ? 'block' : 'none';\n",
              "\n",
              "        async function convertToInteractive(key) {\n",
              "          const element = document.querySelector('#df-ba39a042-ec00-436f-81c2-e3cb91213486');\n",
              "          const dataTable =\n",
              "            await google.colab.kernel.invokeFunction('convertToInteractive',\n",
              "                                                     [key], {});\n",
              "          if (!dataTable) return;\n",
              "\n",
              "          const docLinkHtml = 'Like what you see? Visit the ' +\n",
              "            '<a target=\"_blank\" href=https://colab.research.google.com/notebooks/data_table.ipynb>data table notebook</a>'\n",
              "            + ' to learn more about interactive tables.';\n",
              "          element.innerHTML = '';\n",
              "          dataTable['output_type'] = 'display_data';\n",
              "          await google.colab.output.renderOutput(dataTable, element);\n",
              "          const docLink = document.createElement('div');\n",
              "          docLink.innerHTML = docLinkHtml;\n",
              "          element.appendChild(docLink);\n",
              "        }\n",
              "      </script>\n",
              "    </div>\n",
              "  </div>\n"
            ]
          },
          "metadata": {},
          "execution_count": 27
        }
      ]
    },
    {
      "cell_type": "code",
      "source": [
        "import numpy as np\n",
        "import math\n",
        "\n",
        "def score(predicted, actual, metric, k=None):\n",
        "    \"\"\"\n",
        "    Parameters\n",
        "    ----------\n",
        "    predicted : List\n",
        "        List of predicted apps.\n",
        "    actual : List\n",
        "        List of masked apps.\n",
        "    metric : 'precision', 'recall', or 'ndcg'\n",
        "        A valid metric for recommendation.\n",
        "    k : int or None, optional\n",
        "        The value of k for precision and recall calculations. Default is None.\n",
        "    Raises\n",
        "    -----\n",
        "    Returns\n",
        "    -------\n",
        "    m : float\n",
        "        score.\n",
        "    \"\"\"\n",
        "    valid_metrics = ['precision', 'recall', 'ndcg']\n",
        "    if metric not in valid_metrics:\n",
        "        raise Exception(f\"Choose one valid baseline in the list: {valid_metrics}\")\n",
        "\n",
        "    if metric == 'precision':\n",
        "        if k is None:\n",
        "          m = np.mean([float(len(set(predicted[:k]) & set(actual))) / float(k)\n",
        "                     for k in range(1, len(predicted) + 1)])\n",
        "        else:\n",
        "          m = np.mean([float(len(set(predicted[:k]) & set(actual))) / float(k)])\n",
        "    elif metric == 'recall':\n",
        "        if k is None:\n",
        "            raise ValueError(\"Parameter 'k' must be specified for recall calculation.\")\n",
        "        m = np.mean([float(len(set(predicted[:k]) & set(actual))) / float(len(actual))])\n",
        "    elif metric == 'ndcg':\n",
        "        v = [1 if i in actual else 0 for i in predicted]\n",
        "        v_2 = [1 for i in actual]\n",
        "        dcg = sum([(2**i-1)/math.log(k+2, 2) for (k, i) in enumerate(v)])\n",
        "        idcg = sum([(2**i-1)/math.log(k+2, 2) for (k, i) in enumerate(v_2)])\n",
        "        m = dcg/idcg\n",
        "\n",
        "    return m\n"
      ],
      "metadata": {
        "id": "MHxyITK7Un0z"
      },
      "execution_count": null,
      "outputs": []
    },
    {
      "cell_type": "code",
      "source": [
        "user_eval['precision'] = user_eval.apply(lambda x: score(x.itemIndex_filtered, x.ground_truth_items, 'precision'), axis=1)\n",
        "user_eval['NDCG'] = user_eval.apply(lambda x: score(x.itemIndex_filtered, x.ground_truth_items, 'ndcg'), axis=1)"
      ],
      "metadata": {
        "id": "V29zA0ZwUqkk"
      },
      "execution_count": null,
      "outputs": []
    },
    {
      "cell_type": "code",
      "source": [
        "user_eval['recall'] = user_eval.apply(lambda x: score(x.itemIndex_filtered, x.ground_truth_items, 'recall', 5), axis=1)\n",
        "user_eval['precisionAt'] = user_eval.apply(lambda x: score(x.itemIndex_filtered, x.ground_truth_items, 'precision', 5), axis=1)"
      ],
      "metadata": {
        "id": "mGydWGkJZRy8"
      },
      "execution_count": null,
      "outputs": []
    },
    {
      "cell_type": "code",
      "source": [
        "user_eval.head()"
      ],
      "metadata": {
        "id": "H77rsli8UsvT"
      },
      "execution_count": null,
      "outputs": []
    },
    {
      "cell_type": "code",
      "source": [
        "MAP = user_eval.precision.mean()\n",
        "avg_NDCG = user_eval.NDCG.mean()\n",
        "recall = user_eval.recall.mean()\n",
        "precision = user_eval.precisionAt.mean()"
      ],
      "metadata": {
        "id": "0vFU_nOmUtPW"
      },
      "execution_count": null,
      "outputs": []
    },
    {
      "cell_type": "code",
      "source": [
        "MAP"
      ],
      "metadata": {
        "colab": {
          "base_uri": "https://localhost:8080/"
        },
        "id": "Bjkz4pYQUvql",
        "outputId": "1b343a7d-4699-4a6d-9a40-6d9332902ddc"
      },
      "execution_count": null,
      "outputs": [
        {
          "output_type": "execute_result",
          "data": {
            "text/plain": [
              "2.97416998027996e-06"
            ]
          },
          "metadata": {},
          "execution_count": 32
        }
      ]
    },
    {
      "cell_type": "code",
      "source": [
        "avg_NDCG"
      ],
      "metadata": {
        "colab": {
          "base_uri": "https://localhost:8080/"
        },
        "id": "6TO5LORYUxqz",
        "outputId": "3e345537-1da5-415f-d46e-abd24d20a46b"
      },
      "execution_count": null,
      "outputs": [
        {
          "output_type": "execute_result",
          "data": {
            "text/plain": [
              "4.955919648603833e-06"
            ]
          },
          "metadata": {},
          "execution_count": 33
        }
      ]
    },
    {
      "cell_type": "code",
      "source": [
        "recall"
      ],
      "metadata": {
        "colab": {
          "base_uri": "https://localhost:8080/"
        },
        "id": "oQnd2pFQZbFj",
        "outputId": "6314bcb7-0b75-47ad-8686-69d1dabd3f27"
      },
      "execution_count": null,
      "outputs": [
        {
          "output_type": "execute_result",
          "data": {
            "text/plain": [
              "4.892486526178699e-06"
            ]
          },
          "metadata": {},
          "execution_count": 34
        }
      ]
    },
    {
      "cell_type": "code",
      "source": [
        "precision"
      ],
      "metadata": {
        "colab": {
          "base_uri": "https://localhost:8080/"
        },
        "id": "weZji23wZcf0",
        "outputId": "98253473-5f8c-4efe-f37e-2563e16d5283"
      },
      "execution_count": null,
      "outputs": [
        {
          "output_type": "execute_result",
          "data": {
            "text/plain": [
              "1.9396760740956263e-06"
            ]
          },
          "metadata": {},
          "execution_count": 35
        }
      ]
    },
    {
      "cell_type": "markdown",
      "source": [
        "# Prova"
      ],
      "metadata": {
        "id": "2czJHlhmkRl_"
      }
    },
    {
      "cell_type": "code",
      "source": [
        "user_recs = als_model.recommendForUserSubset(user, 5)"
      ],
      "metadata": {
        "id": "A2IEQsSalp9N"
      },
      "execution_count": null,
      "outputs": []
    },
    {
      "cell_type": "code",
      "source": [
        "user_recs.show(truncate=False)"
      ],
      "metadata": {
        "colab": {
          "base_uri": "https://localhost:8080/"
        },
        "id": "-qy-Dordlqvt",
        "outputId": "24c7d4fe-d869-4f74-c775-e6c7cc3d2213"
      },
      "execution_count": null,
      "outputs": [
        {
          "output_type": "stream",
          "name": "stdout",
          "text": [
            "+------------+---------------+\n",
            "|steam_int_id|recommendations|\n",
            "+------------+---------------+\n",
            "+------------+---------------+\n",
            "\n"
          ]
        }
      ]
    }
  ]
}