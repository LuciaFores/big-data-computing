{
 "cells": [
  {
   "cell_type": "code",
   "execution_count": 1,
   "metadata": {},
   "outputs": [],
   "source": [
    "import requests\n",
    "import json\n",
    "import pandas as pd\n",
    "from steam import Steam\n",
    "from tqdm import tqdm\n",
    "import csv\n",
    "import time"
   ]
  },
  {
   "cell_type": "code",
   "execution_count": 2,
   "metadata": {},
   "outputs": [],
   "source": [
    "KEY = '0BAEAA44F5C3C9967C53E41AE9B50F25'\n",
    "steam = Steam(KEY)"
   ]
  },
  {
   "cell_type": "code",
   "execution_count": 3,
   "metadata": {},
   "outputs": [],
   "source": [
    "URL = 'https://api.steampowered.com/ISteamApps/GetAppList/v2/'\n",
    "r = requests.get(url=URL)"
   ]
  },
  {
   "cell_type": "code",
   "execution_count": 4,
   "metadata": {},
   "outputs": [],
   "source": [
    "apps_data = r.json()\n",
    "apps_data = apps_data['applist']['apps']"
   ]
  },
  {
   "cell_type": "code",
   "execution_count": 5,
   "metadata": {},
   "outputs": [],
   "source": [
    "with open('output_files/apps.json', 'w') as F:\n",
    "    json.dump(apps_data, F)"
   ]
  },
  {
   "cell_type": "code",
   "execution_count": 6,
   "metadata": {},
   "outputs": [],
   "source": [
    "df = pd.read_json('output_files/apps.json')\n",
    "df.to_csv('output_files/apps.csv', index=None)"
   ]
  },
  {
   "cell_type": "code",
   "execution_count": 7,
   "metadata": {},
   "outputs": [],
   "source": [
    "app_ids = df['appid']"
   ]
  },
  {
   "cell_type": "code",
   "execution_count": 10,
   "metadata": {},
   "outputs": [
    {
     "name": "stderr",
     "output_type": "stream",
     "text": [
      "  0%|          | 231/163699 [05:16<62:14:13,  1.37s/it]  \n"
     ]
    },
    {
     "ename": "TypeError",
     "evalue": "'NoneType' object is not subscriptable",
     "output_type": "error",
     "traceback": [
      "\u001b[0;31m---------------------------------------------------------------------------\u001b[0m",
      "\u001b[0;31mTypeError\u001b[0m                                 Traceback (most recent call last)",
      "Cell \u001b[0;32mIn[10], line 10\u001b[0m\n\u001b[1;32m      8\u001b[0m sample \u001b[39m=\u001b[39m steam\u001b[39m.\u001b[39mapps\u001b[39m.\u001b[39mget_app_details(row[\u001b[39m'\u001b[39m\u001b[39mappid\u001b[39m\u001b[39m'\u001b[39m])\n\u001b[1;32m      9\u001b[0m sample \u001b[39m=\u001b[39m json\u001b[39m.\u001b[39mloads(sample)\n\u001b[0;32m---> 10\u001b[0m \u001b[39mif\u001b[39;00m sample[\u001b[39mstr\u001b[39;49m(row[\u001b[39m'\u001b[39;49m\u001b[39mappid\u001b[39;49m\u001b[39m'\u001b[39;49m])][\u001b[39m'\u001b[39m\u001b[39msuccess\u001b[39m\u001b[39m'\u001b[39m] \u001b[39m==\u001b[39m \u001b[39mTrue\u001b[39;00m: \n\u001b[1;32m     11\u001b[0m     game_data \u001b[39m=\u001b[39m sample[\u001b[39mstr\u001b[39m(row[\u001b[39m'\u001b[39m\u001b[39mappid\u001b[39m\u001b[39m'\u001b[39m])][\u001b[39m'\u001b[39m\u001b[39mdata\u001b[39m\u001b[39m'\u001b[39m]\n\u001b[1;32m     12\u001b[0m     \u001b[39mif\u001b[39;00m game_data[\u001b[39m'\u001b[39m\u001b[39mtype\u001b[39m\u001b[39m'\u001b[39m] \u001b[39m==\u001b[39m \u001b[39m'\u001b[39m\u001b[39mgame\u001b[39m\u001b[39m'\u001b[39m:\n",
      "\u001b[0;31mTypeError\u001b[0m: 'NoneType' object is not subscriptable"
     ]
    }
   ],
   "source": [
    "with open('output_files/games.csv', 'w') as F:\n",
    "    writer = csv.writer(F)\n",
    "    sample = steam.apps.get_app_details(2281650)\n",
    "    sample = json.loads(sample)\n",
    "    cols = ['name', 'steam_appid', 'detailed_description', 'about_the_game', 'short_description', 'total_recommendations', ]\n",
    "    writer.writerow(cols)\n",
    "    for i, row in tqdm(app_ids.to_frame().iterrows(), total = app_ids.shape[0]):\n",
    "        sample = steam.apps.get_app_details(row['appid'])\n",
    "        sample = json.loads(sample)\n",
    "        if sample[str(row['appid'])]['success'] == True: \n",
    "            game_data = sample[str(row['appid'])]['data']\n",
    "            if game_data['type'] == 'game':\n",
    "                data = []\n",
    "                data.append(game_data['name'])\n",
    "                data.append(game_data['steam_appid'])\n",
    "                data.append(game_data['detailed_description'])\n",
    "                data.append(game_data['about_the_game'])\n",
    "                data.append(game_data['short_description'])\n",
    "                try:\n",
    "                    data.append(game_data['recommendations']['total'])\n",
    "                except KeyError:\n",
    "                    data.append(0)\n",
    "                writer.writerow(data)\n",
    "        if i%120 == 0:\n",
    "            time.sleep(180)"
   ]
  }
 ],
 "metadata": {
  "kernelspec": {
   "display_name": "bigdata",
   "language": "python",
   "name": "python3"
  },
  "language_info": {
   "codemirror_mode": {
    "name": "ipython",
    "version": 3
   },
   "file_extension": ".py",
   "mimetype": "text/x-python",
   "name": "python",
   "nbconvert_exporter": "python",
   "pygments_lexer": "ipython3",
   "version": "3.9.16"
  },
  "orig_nbformat": 4
 },
 "nbformat": 4,
 "nbformat_minor": 2
}
