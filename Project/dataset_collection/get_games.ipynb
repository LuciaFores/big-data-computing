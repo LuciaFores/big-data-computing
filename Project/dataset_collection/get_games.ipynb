{
 "cells": [
  {
   "cell_type": "code",
   "execution_count": null,
   "metadata": {},
   "outputs": [],
   "source": [
    "import requests\n",
    "import json\n",
    "import pandas as pd\n",
    "from steam import Steam\n",
    "from tqdm import tqdm\n",
    "import csv\n",
    "import time\n",
    "import os"
   ]
  },
  {
   "cell_type": "code",
   "execution_count": null,
   "metadata": {},
   "outputs": [],
   "source": [
    "KEY = '0BAEAA44F5C3C9967C53E41AE9B50F25'\n",
    "steam = Steam(KEY)"
   ]
  },
  {
   "cell_type": "code",
   "execution_count": null,
   "metadata": {},
   "outputs": [],
   "source": [
    "if not os.path.exists('output_files/apps.csv'):\n",
    "    URL = 'https://api.steampowered.com/ISteamApps/GetAppList/v2/'\n",
    "    r = requests.get(url=URL)\n",
    "    apps_data = r.json()\n",
    "    apps_data = apps_data['applist']['apps']\n",
    "    with open('output_files/apps.json', 'w') as F:\n",
    "        json.dump(apps_data, F)\n",
    "    df = pd.read_json('output_files/apps.json')\n",
    "    df.to_csv('output_files/apps.csv', index=None)"
   ]
  },
  {
   "cell_type": "code",
   "execution_count": null,
   "metadata": {},
   "outputs": [],
   "source": [
    "df = pd.read_csv('output_files/apps.csv')\n",
    "app_ids = df['appid']"
   ]
  },
  {
   "cell_type": "code",
   "execution_count": null,
   "metadata": {},
   "outputs": [],
   "source": [
    "def get_game_info(app_id):\n",
    "    try:\n",
    "        url = f'http://store.steampowered.com/api/appdetails?appids={app_id}'\n",
    "        response = requests.get(url)\n",
    "        data = response.json()\n",
    "        if data == None:\n",
    "            with open('output_files/error_log.txt', 'a') as F:\n",
    "                F.write(f'{app_id}\\n')\n",
    "            return {}\n",
    "        if data[str(app_id)]['success']:\n",
    "            return data[str(app_id)]['data']\n",
    "        else:\n",
    "            #print('Error: Unable to retrieve game information.')\n",
    "            return {}\n",
    "    except requests.exceptions.RequestException as e:\n",
    "        print('Error: ', e)\n",
    "        with open('output_files/error_log.txt', 'a') as F:\n",
    "            F.write(f'{app_id}\\n')\n",
    "        return {}"
   ]
  },
  {
   "cell_type": "code",
   "execution_count": null,
   "metadata": {},
   "outputs": [],
   "source": [
    "with open('output_files/games.csv', 'w') as F:\n",
    "    writer = csv.writer(F)\n",
    "    cols = ['name', 'steam_appid', 'type', 'about_the_game', 'short_description', 'total_recommendations', ]\n",
    "    writer.writerow(cols)\n",
    "    for i, row in tqdm(app_ids.to_frame().iterrows(), total = app_ids.shape[0]):\n",
    "        if i%20 == 0:\n",
    "            time.sleep(15)\n",
    "        app_id = row['appid']\n",
    "        game_info = get_game_info(app_id)\n",
    "        if game_info != {}:\n",
    "            if game_info['type'] == 'game' or game_info['type'] == 'dlc':\n",
    "                data = []\n",
    "                data.append(game_info['name'])\n",
    "                data.append(game_info['steam_appid'])\n",
    "                data.append(game_info['type'])\n",
    "                data.append(game_info['about_the_game'])\n",
    "                data.append(game_info['short_description'])\n",
    "                try:\n",
    "                    data.append(game_info['recommendations']['total'])\n",
    "                except KeyError:\n",
    "                    data.append(0)\n",
    "                writer.writerow(data)"
   ]
  }
 ],
 "metadata": {
  "kernelspec": {
   "display_name": "bigdata",
   "language": "python",
   "name": "python3"
  },
  "language_info": {
   "codemirror_mode": {
    "name": "ipython",
    "version": 3
   },
   "file_extension": ".py",
   "mimetype": "text/x-python",
   "name": "python",
   "nbconvert_exporter": "python",
   "pygments_lexer": "ipython3",
   "version": "3.9.16"
  },
  "orig_nbformat": 4
 },
 "nbformat": 4,
 "nbformat_minor": 2
}
