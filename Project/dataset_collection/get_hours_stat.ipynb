{
 "cells": [
  {
   "cell_type": "code",
   "execution_count": 1,
   "metadata": {},
   "outputs": [],
   "source": [
    "import pandas as pd\n",
    "import csv\n",
    "from tqdm import tqdm\n",
    "from howlongtobeatpy import HowLongToBeat"
   ]
  },
  {
   "cell_type": "code",
   "execution_count": 2,
   "metadata": {},
   "outputs": [],
   "source": [
    "df = pd.read_csv('output_files/games.csv')\n",
    "# prendi solo le righe dei giochi il cui numero di recensioni è maggiore di 0\n",
    "df = df[df['reviews'] > 0]\n",
    "titles = df['name'].tolist()"
   ]
  },
  {
   "cell_type": "code",
   "execution_count": 3,
   "metadata": {},
   "outputs": [
    {
     "name": "stderr",
     "output_type": "stream",
     "text": [
      "100%|██████████| 3854/3854 [41:43<00:00,  1.54it/s] \n"
     ]
    }
   ],
   "source": [
    "with open('output_files/hours_stat.csv', 'w') as F:\n",
    "    writer = csv.writer(F)\n",
    "    cols = ['title', 'main_story', 'main_extra', 'complesionist', 'all_styles', ]\n",
    "    writer.writerow(cols)\n",
    "    for title in tqdm(titles, total=len(titles)):\n",
    "        hltb = HowLongToBeat()\n",
    "        results = hltb.search(title)\n",
    "        if len(results) > 0:\n",
    "            game = results[0]\n",
    "            data = []\n",
    "            data.append(game.game_name)\n",
    "            data.append(game.main_story)\n",
    "            data.append(game.main_extra)\n",
    "            data.append(game.completionist)\n",
    "            data.append(game.all_styles)\n",
    "        else:\n",
    "            data = []\n",
    "            data.append(title)\n",
    "            data.append(0)\n",
    "            data.append(0)\n",
    "            data.append(0)\n",
    "            data.append(0)\n",
    "        writer.writerow(data)"
   ]
  }
 ],
 "metadata": {
  "kernelspec": {
   "display_name": "bigdata",
   "language": "python",
   "name": "python3"
  },
  "language_info": {
   "codemirror_mode": {
    "name": "ipython",
    "version": 3
   },
   "file_extension": ".py",
   "mimetype": "text/x-python",
   "name": "python",
   "nbconvert_exporter": "python",
   "pygments_lexer": "ipython3",
   "version": "3.9.16"
  },
  "orig_nbformat": 4
 },
 "nbformat": 4,
 "nbformat_minor": 2
}
