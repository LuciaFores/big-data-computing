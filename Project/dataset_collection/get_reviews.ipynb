{
 "cells": [
  {
   "cell_type": "code",
   "execution_count": 1,
   "metadata": {},
   "outputs": [],
   "source": [
    "import requests\n",
    "import pandas as pd\n",
    "from bs4 import BeautifulSoup\n",
    "import csv"
   ]
  },
  {
   "cell_type": "code",
   "execution_count": 2,
   "metadata": {},
   "outputs": [],
   "source": [
    "# prendi le recensioni per ogni utente\n",
    "# dato uno steam id\n",
    "# è possibile accedere alle recensioni scritte dall'utente tramite la pagina\n",
    "# https://steamcommunity.com/profiles/{steam_id}/recommended/?p={page_number}\n",
    "# non tutte le recensioni sono presenti nella stessa pagina\n",
    "# ma è possibile scorrere le pagine aggiungendo al link\n",
    "# /?p={page_number}\n",
    "# (nella prima pagina non è necessario ma si può accedere tranquillamente mettendo p=1)\n",
    "# il problema è che è possibile accedere anche a pagine dove non sono presenti recensioni\n",
    "# ma parsando la pagina la lista delle recensioni sarà vuota"
   ]
  },
  {
   "cell_type": "code",
   "execution_count": 3,
   "metadata": {},
   "outputs": [],
   "source": [
    "def get_reviews(steam_id, page_number):\n",
    "    url = f\"https://steamcommunity.com/profiles/{steam_id}/recommended/?p={page_number}\"\n",
    "    response = requests.get(url)\n",
    "    soup = BeautifulSoup(response.text, \"html.parser\")\n",
    "    reviews = soup.findAll('div', {'class': 'review_box'})\n",
    "    return reviews"
   ]
  },
  {
   "cell_type": "code",
   "execution_count": 4,
   "metadata": {},
   "outputs": [],
   "source": [
    "with open('output_files/reviews/game_reviews.csv', 'w') as F:\n",
    "    writer = csv.writer(F)\n",
    "    cols = ['steam_id', 'app_id', 'recommended', 'hours_played', ]\n",
    "    writer.writerow(cols)\n",
    "\n",
    "    steam_ids = [76561199227008553]\n",
    "    i = 1\n",
    "    for steam_id in steam_ids:\n",
    "        while i!=0:\n",
    "            reviews = get_reviews(steam_id, i)\n",
    "            if reviews != []:\n",
    "                for review in reviews:\n",
    "                    review_data = []\n",
    "                    review_data.append(str(steam_id))\n",
    "                    app_id = review.find('a', {'class': 'game_capsule_ctn'})['href'][31:]\n",
    "                    review_data.append(app_id)\n",
    "                    recommended = review.find('div', {'class': 'title'}).text\n",
    "                    review_data.append(recommended)\n",
    "                    hours_played = review.find('div', {'class': 'hours'}).text\n",
    "                    hours_played = hours_played.replace('\\r', '')\n",
    "                    hours_played = hours_played.replace('\\n', '')\n",
    "                    hours_played = hours_played.replace('\\t', '')\n",
    "                    review_data.append(hours_played)\n",
    "                    writer.writerow(review_data)\n",
    "                i += 1\n",
    "            else:\n",
    "                i = 0"
   ]
  }
 ],
 "metadata": {
  "kernelspec": {
   "display_name": "bigdata",
   "language": "python",
   "name": "python3"
  },
  "language_info": {
   "codemirror_mode": {
    "name": "ipython",
    "version": 3
   },
   "file_extension": ".py",
   "mimetype": "text/x-python",
   "name": "python",
   "nbconvert_exporter": "python",
   "pygments_lexer": "ipython3",
   "version": "3.9.16"
  },
  "orig_nbformat": 4
 },
 "nbformat": 4,
 "nbformat_minor": 2
}
