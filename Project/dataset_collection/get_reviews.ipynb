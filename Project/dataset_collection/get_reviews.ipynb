{
 "cells": [
  {
   "cell_type": "code",
   "execution_count": 1,
   "metadata": {},
   "outputs": [],
   "source": [
    "import requests\n",
    "from bs4 import BeautifulSoup\n",
    "import csv\n",
    "import pandas as pd\n",
    "from tqdm import tqdm\n",
    "import time\n",
    "import os"
   ]
  },
  {
   "cell_type": "code",
   "execution_count": 2,
   "metadata": {},
   "outputs": [],
   "source": [
    "KEY = '0BAEAA44F5C3C9967C53E41AE9B50F25'"
   ]
  },
  {
   "cell_type": "code",
   "execution_count": 3,
   "metadata": {},
   "outputs": [],
   "source": [
    "df = pd.read_csv('output_files/games.csv')\n",
    "df_tmp = df[df['total_recommendations']>0]\n",
    "app_ids = df_tmp['steam_appid'].tolist()"
   ]
  },
  {
   "cell_type": "code",
   "execution_count": 4,
   "metadata": {},
   "outputs": [],
   "source": [
    "players = set()"
   ]
  },
  {
   "cell_type": "code",
   "execution_count": 5,
   "metadata": {},
   "outputs": [
    {
     "name": "stdout",
     "output_type": "stream",
     "text": [
      "Some players found, ids loaded.\n"
     ]
    }
   ],
   "source": [
    "if not os.path.exists('output_files/players.csv'):\n",
    "    print(\"No players found.\")\n",
    "    with open('output_files/players.csv', 'a') as F:\n",
    "        writer = csv.writer(F)\n",
    "        cols = ['steam_id', ]\n",
    "        writer.writerow(cols)\n",
    "else:\n",
    "    print(\"Some players found, ids loaded.\")\n",
    "    df_players = pd.read_csv('output_files/players.csv')\n",
    "    players = set(df_players['steam_id'].tolist())"
   ]
  },
  {
   "cell_type": "code",
   "execution_count": 6,
   "metadata": {},
   "outputs": [
    {
     "name": "stdout",
     "output_type": "stream",
     "text": [
      "Already resolved some games ids, removing them from the list...\n"
     ]
    }
   ],
   "source": [
    "if not os.path.exists('output_files/resolved_appid.csv'):\n",
    "    print('No resolved ids found.')\n",
    "    with open('output_files/resolved_appid.csv', 'a') as F_1:\n",
    "        writer_1 = csv.writer(F_1)\n",
    "        cols = ['steam_appid', ]\n",
    "        writer_1.writerow(cols)\n",
    "else:\n",
    "    print('Already resolved some games ids, removing them from the list...')\n",
    "    df_resolved = pd.read_csv('output_files/resolved_appid.csv')\n",
    "    resolved_app_ids = df_resolved['steam_appid'].tolist()\n",
    "    app_ids = list(set(app_ids) - set(resolved_app_ids))\n"
   ]
  },
  {
   "cell_type": "code",
   "execution_count": 7,
   "metadata": {},
   "outputs": [],
   "source": [
    "if not os.path.exists('output_files/error_appid.csv'):\n",
    "    with open('output_files/resolved_appid.csv', 'w') as F_2:\n",
    "        writer_2 = csv.writer(F_2)\n",
    "        cols = ['steam_appid', ]\n",
    "        writer_2.writerow(cols)"
   ]
  },
  {
   "cell_type": "code",
   "execution_count": 8,
   "metadata": {},
   "outputs": [
    {
     "name": "stderr",
     "output_type": "stream",
     "text": [
      "  0%|          | 12/15807 [00:18<6:51:02,  1.56s/it]\n"
     ]
    },
    {
     "ename": "KeyboardInterrupt",
     "evalue": "",
     "output_type": "error",
     "traceback": [
      "\u001b[0;31m---------------------------------------------------------------------------\u001b[0m",
      "\u001b[0;31mKeyboardInterrupt\u001b[0m                         Traceback (most recent call last)",
      "Cell \u001b[0;32mIn[8], line 20\u001b[0m\n\u001b[1;32m     18\u001b[0m         writer_2 \u001b[39m=\u001b[39m csv\u001b[39m.\u001b[39mwriter(F_2)\n\u001b[1;32m     19\u001b[0m         writer_2\u001b[39m.\u001b[39mwriterow([app_id])\n\u001b[0;32m---> 20\u001b[0m time\u001b[39m.\u001b[39;49msleep(\u001b[39m1\u001b[39;49m)\n",
      "\u001b[0;31mKeyboardInterrupt\u001b[0m: "
     ]
    }
   ],
   "source": [
    "with open('output_files/players.csv', 'a') as F:\n",
    "    for app_id in tqdm(app_ids, total=len(app_ids)):\n",
    "        try:\n",
    "            writer = csv.writer(F)\n",
    "            url = f'https://store.steampowered.com/appreviews/{app_id}?json=1&language=all&num_per_page=100'\n",
    "            response = requests.get(url)\n",
    "            data = response.json()\n",
    "            for review in data['reviews']:\n",
    "                player_id = review['author']['steamid']\n",
    "                if player_id not in players:\n",
    "                    players.add(player_id)\n",
    "                    writer.writerow([player_id])\n",
    "            with open('output_files/resolved_appid.csv', 'a') as F_1:\n",
    "                writer_1 = csv.writer(F_1)\n",
    "                writer_1.writerow([app_id])\n",
    "        except:\n",
    "            with open('output_files/error_appid.csv', 'w') as F_2:\n",
    "                writer_2 = csv.writer(F_2)\n",
    "                writer_2.writerow([app_id])\n",
    "        time.sleep(1)"
   ]
  },
  {
   "cell_type": "code",
   "execution_count": null,
   "metadata": {},
   "outputs": [],
   "source": [
    "df_players = pd.read_csv('output_files/players.csv')\n",
    "steam_ids = set(df_players['steam_id'].tolist())"
   ]
  },
  {
   "cell_type": "code",
   "execution_count": null,
   "metadata": {},
   "outputs": [],
   "source": [
    "def get_reviews(steam_id, page_number):\n",
    "    url = f\"https://steamcommunity.com/profiles/{steam_id}/recommended/?p={page_number}\"\n",
    "    headers = {'User-Agent': 'Mozilla/5.0'}\n",
    "    response = requests.get(url, headers=headers)\n",
    "    soup = BeautifulSoup(response.text, \"html.parser\")\n",
    "    reviews = soup.findAll('div', {'class': 'review_box'})\n",
    "    return reviews"
   ]
  },
  {
   "cell_type": "code",
   "execution_count": null,
   "metadata": {},
   "outputs": [],
   "source": [
    "if not os.path.exists('output_files/resolved_steam_ids.csv'):\n",
    "    print(\"No resolved steam ids found.\")\n",
    "    with open('output_files/resolved_steam_ids.csv', 'a') as F:\n",
    "        writer = csv.writer(F)\n",
    "        cols = ['steam_id', ]\n",
    "        writer.writerow(cols)\n",
    "else:\n",
    "    print(\"Some resolved steam ids found, ids loaded.\")\n",
    "    df_resolved = pd.read_csv('output_files/resolved_steam_ids.csv')\n",
    "    resolved_steam_ids = df_resolved['steam_id'].tolist()\n",
    "    steam_ids = list(set(steam_ids) - set(resolved_steam_ids))\n",
    "\n",
    "\n",
    "with open('output_files/game_reviews.csv', 'a') as F:\n",
    "    for steam_id in tqdm(steam_ids, total=len(steam_ids)):\n",
    "        try:\n",
    "            i = 1\n",
    "            while i!=0:\n",
    "                reviews = get_reviews(steam_id, i)\n",
    "                if reviews != []:\n",
    "                    for review in reviews:\n",
    "                        review_data = []\n",
    "                        review_data.append(str(steam_id))\n",
    "                        app_id = review.find('a', {'class': 'game_capsule_ctn'})['href'][31:]\n",
    "                        review_data.append(app_id)\n",
    "                        recommended = review.find('div', {'class': 'title'}).text\n",
    "                        review_data.append(recommended)\n",
    "                        hours_played = review.find('div', {'class': 'hours'}).text\n",
    "                        hours_played = hours_played.replace('\\r', '')\n",
    "                        hours_played = hours_played.replace('\\n', '')\n",
    "                        hours_played = hours_played.replace('\\t', '')\n",
    "                        review_data.append(hours_played)\n",
    "                        writer.writerow(review_data)\n",
    "                    i += 1\n",
    "                    time.sleep(1.5)\n",
    "                else:\n",
    "                    i = 0\n",
    "                    with open('output_files/resolved_steam_ids.csv', 'a') as F:\n",
    "                        writer = csv.writer(F)\n",
    "                        writer.writerow([steam_id])\n",
    "        except:\n",
    "            with open('output_files/error_steam_ids.csv', 'w') as F:\n",
    "                writer = csv.writer(F)\n",
    "                writer.writerow([steam_id])"
   ]
  }
 ],
 "metadata": {
  "kernelspec": {
   "display_name": "bigdata",
   "language": "python",
   "name": "python3"
  },
  "language_info": {
   "codemirror_mode": {
    "name": "ipython",
    "version": 3
   },
   "file_extension": ".py",
   "mimetype": "text/x-python",
   "name": "python",
   "nbconvert_exporter": "python",
   "pygments_lexer": "ipython3",
   "version": "3.9.16"
  },
  "orig_nbformat": 4
 },
 "nbformat": 4,
 "nbformat_minor": 2
}
