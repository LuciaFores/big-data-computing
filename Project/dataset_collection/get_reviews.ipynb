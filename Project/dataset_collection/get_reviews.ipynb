{
 "cells": [
  {
   "cell_type": "code",
   "execution_count": 13,
   "metadata": {},
   "outputs": [],
   "source": [
    "import requests\n",
    "import json\n",
    "import pandas as pd\n",
    "from steam import Steam\n",
    "from tqdm import tqdm\n",
    "import csv\n",
    "import time\n",
    "import os\n",
    "from urllib.parse import quote\n",
    "from bs4 import BeautifulSoup\n",
    "import html_to_json"
   ]
  },
  {
   "cell_type": "code",
   "execution_count": 2,
   "metadata": {},
   "outputs": [],
   "source": [
    "# Per recuperare le recensioni degli utenti steam procedi nella seguente maniera:\n",
    "# 1- Prendi le prime 100 recensioni di ogni gioco che ha recensioni\n",
    "# 2- Per ognuna di queste prendi lo steam id del recensore\n",
    "# 3- A questo punto interroga il get player summaries per ogni steam id recuperato\n",
    "\n",
    "# Potrebbe essere una buona idea parsare le recensioni per recuperare prima\n",
    "# la lista dei giocatori e poi interrogare direttamente il get player summaries"
   ]
  },
  {
   "cell_type": "code",
   "execution_count": 3,
   "metadata": {},
   "outputs": [],
   "source": [
    "KEY = '0BAEAA44F5C3C9967C53E41AE9B50F25'"
   ]
  },
  {
   "cell_type": "code",
   "execution_count": 4,
   "metadata": {},
   "outputs": [],
   "source": [
    "# Come prima cosa recupera 100 reviews per un gioco sample\n",
    "\n",
    "app_id = 2231450\n",
    "steam_id = 76561198151018729"
   ]
  },
  {
   "cell_type": "code",
   "execution_count": 8,
   "metadata": {},
   "outputs": [],
   "source": [
    "# url API a cui effettuare la richiesta per le reviews\n",
    "\n",
    "def get_game_reviews(app_id):\n",
    "    steam_user_ids = []\n",
    "    url = f'http://store.steampowered.com/appreviews/{app_id}'\n",
    "    cursor = '*'\n",
    "    old_cursor = ''\n",
    "\n",
    "    while cursor != old_cursor:\n",
    "        old_cursor = cursor\n",
    "        encoded_cursor = quote(cursor)\n",
    "        print(cursor)\n",
    "\n",
    "        params = {\n",
    "            'json': 1,\n",
    "            'language': 'all',\n",
    "            'cursor': encoded_cursor,\n",
    "            'purchase_type': 'all',\n",
    "        }\n",
    "    \n",
    "        response = requests.get(url, params=params)\n",
    "        print(response.status_code)\n",
    "\n",
    "        if response.status_code == 200:\n",
    "            data = response.json()\n",
    "            if data['success'] == 1:\n",
    "                reviews = data['reviews']\n",
    "                cursor = data['cursor']\n",
    "                for review in reviews:\n",
    "                    steam_user_ids.append(review['author']['steamid'])\n",
    "                print(len(steam_user_ids))\n",
    "            else:\n",
    "                print('Error: Unable to retrieve game reviews.')\n",
    "        \n",
    "    return steam_user_ids"
   ]
  },
  {
   "cell_type": "code",
   "execution_count": 9,
   "metadata": {},
   "outputs": [
    {
     "name": "stdout",
     "output_type": "stream",
     "text": [
      "*\n",
      "200\n",
      "20\n",
      "AoIIP1sqBnzC+owE\n",
      "200\n",
      "40\n"
     ]
    }
   ],
   "source": [
    "data = get_game_reviews(app_id)"
   ]
  },
  {
   "cell_type": "code",
   "execution_count": 7,
   "metadata": {},
   "outputs": [
    {
     "data": {
      "text/plain": [
       "20"
      ]
     },
     "execution_count": 7,
     "metadata": {},
     "output_type": "execute_result"
    }
   ],
   "source": [
    "len(set(data))"
   ]
  },
  {
   "cell_type": "code",
   "execution_count": 14,
   "metadata": {},
   "outputs": [],
   "source": [
    "# https://steamcommunity.com/profiles/76561199227008553/recommended/\n",
    "steam_id = 76561199227008553\n",
    "url = f'https://steamcommunity.com/profiles/{steam_id}/recommended/'\n",
    "response = requests.get(url)\n",
    "html_string = response.text\n",
    "output_json = html_to_json.convert(html_string)\n",
    "#data = response.json()\n",
    "#data"
   ]
  },
  {
   "cell_type": "code",
   "execution_count": 16,
   "metadata": {},
   "outputs": [],
   "source": [
    "with open('output_files/reviews/prova.json', 'w') as F:\n",
    "    json.dump(output_json, F)"
   ]
  },
  {
   "cell_type": "code",
   "execution_count": 22,
   "metadata": {},
   "outputs": [
    {
     "name": "stdout",
     "output_type": "stream",
     "text": [
      "[appID = 2141700] expected #reviews = 257\n"
     ]
    }
   ],
   "source": [
    "import steamreviews\n",
    "\n",
    "app_id = 2141700\n",
    "review_dict, query_count = steamreviews.download_reviews_for_app_id(app_id)"
   ]
  },
  {
   "cell_type": "code",
   "execution_count": 23,
   "metadata": {},
   "outputs": [
    {
     "data": {
      "text/plain": [
       "3"
      ]
     },
     "execution_count": 23,
     "metadata": {},
     "output_type": "execute_result"
    }
   ],
   "source": [
    "query_count"
   ]
  }
 ],
 "metadata": {
  "kernelspec": {
   "display_name": "bigdata",
   "language": "python",
   "name": "python3"
  },
  "language_info": {
   "codemirror_mode": {
    "name": "ipython",
    "version": 3
   },
   "file_extension": ".py",
   "mimetype": "text/x-python",
   "name": "python",
   "nbconvert_exporter": "python",
   "pygments_lexer": "ipython3",
   "version": "3.9.16"
  },
  "orig_nbformat": 4
 },
 "nbformat": 4,
 "nbformat_minor": 2
}
