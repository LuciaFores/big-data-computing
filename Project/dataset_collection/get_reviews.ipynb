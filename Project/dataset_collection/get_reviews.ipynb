{
 "cells": [
  {
   "cell_type": "code",
   "execution_count": null,
   "metadata": {},
   "outputs": [],
   "source": [
    "import requests\n",
    "from bs4 import BeautifulSoup\n",
    "import csv\n",
    "import pandas as pd\n",
    "from tqdm import tqdm\n",
    "import time\n",
    "import os"
   ]
  },
  {
   "cell_type": "code",
   "execution_count": null,
   "metadata": {},
   "outputs": [],
   "source": [
    "# prendi le recensioni per ogni utente\n",
    "# dato uno steam id\n",
    "# è possibile accedere alle recensioni scritte dall'utente tramite la pagina\n",
    "# https://steamcommunity.com/profiles/{steam_id}/recommended/?p={page_number}\n",
    "# non tutte le recensioni sono presenti nella stessa pagina\n",
    "# ma è possibile scorrere le pagine aggiungendo al link\n",
    "# /?p={page_number}\n",
    "# (nella prima pagina non è necessario ma si può accedere tranquillamente mettendo p=1)\n",
    "# il problema è che è possibile accedere anche a pagine dove non sono presenti recensioni\n",
    "# ma parsando la pagina la lista delle recensioni sarà vuota"
   ]
  },
  {
   "cell_type": "code",
   "execution_count": null,
   "metadata": {},
   "outputs": [],
   "source": [
    "KEY = '0BAEAA44F5C3C9967C53E41AE9B50F25'"
   ]
  },
  {
   "cell_type": "code",
   "execution_count": null,
   "metadata": {},
   "outputs": [],
   "source": [
    "df = pd.read_csv('output_files/games.csv')\n",
    "df_tmp = df[df['total_recommendations']>0]\n",
    "app_ids = df_tmp['steam_appid'].tolist()"
   ]
  },
  {
   "cell_type": "code",
   "execution_count": null,
   "metadata": {},
   "outputs": [],
   "source": [
    "players = []\n",
    "for app_id in tqdm(app_ids, total=len(app_ids)):\n",
    "    url = f'https://store.steampowered.com/appreviews/{app_id}?json=1&language=all&num_per_page=100'\n",
    "    response = requests.get(url)\n",
    "    data = response.json()\n",
    "    players.extend([review['author']['steamid'] for review in data['reviews']])"
   ]
  },
  {
   "cell_type": "code",
   "execution_count": null,
   "metadata": {},
   "outputs": [],
   "source": [
    "steam_ids = set(players)\n",
    "# sottrai dall'insieme steam_ids gli steam_id che sono presenti nel file resolved_steam_ids.csv\n",
    "# in modo da non ripetere le richieste\n",
    "if os.path.exists('output_files/resolved_steam_ids.csv'):\n",
    "    print('Already resolved some ids, removing them from the list...')\n",
    "    df = pd.read_csv('output_files/resolved_steam_ids.csv')\n",
    "    resolved_steam_ids = set(df['steam_id'].tolist())\n",
    "    steam_ids = steam_ids - resolved_steam_ids\n",
    "else:\n",
    "    print('No resolved ids found.')"
   ]
  },
  {
   "cell_type": "code",
   "execution_count": null,
   "metadata": {},
   "outputs": [],
   "source": [
    "def get_reviews(steam_id, page_number):\n",
    "    url = f\"https://steamcommunity.com/profiles/{steam_id}/recommended/?p={page_number}\"\n",
    "    headers = {'User-Agent': 'Mozilla/5.0'}\n",
    "    response = requests.get(url, headers=headers)\n",
    "    soup = BeautifulSoup(response.text, \"html.parser\")\n",
    "    reviews = soup.findAll('div', {'class': 'review_box'})\n",
    "    return reviews"
   ]
  },
  {
   "cell_type": "code",
   "execution_count": null,
   "metadata": {},
   "outputs": [],
   "source": [
    "with open('output_files/reviews/game_reviews.csv', 'w') as F:\n",
    "    writer = csv.writer(F)\n",
    "    cols = ['steam_id', 'app_id', 'recommended', 'hours_played', ]\n",
    "    writer.writerow(cols)\n",
    "\n",
    "    for steam_id in tqdm(steam_ids, total=len(steam_ids)):\n",
    "        try:\n",
    "            i = 1\n",
    "            while i!=0:\n",
    "                reviews = get_reviews(steam_id, i)\n",
    "                if reviews != []:\n",
    "                    for review in reviews:\n",
    "                        review_data = []\n",
    "                        review_data.append(str(steam_id))\n",
    "                        app_id = review.find('a', {'class': 'game_capsule_ctn'})['href'][31:]\n",
    "                        review_data.append(app_id)\n",
    "                        recommended = review.find('div', {'class': 'title'}).text\n",
    "                        review_data.append(recommended)\n",
    "                        hours_played = review.find('div', {'class': 'hours'}).text\n",
    "                        hours_played = hours_played.replace('\\r', '')\n",
    "                        hours_played = hours_played.replace('\\n', '')\n",
    "                        hours_played = hours_played.replace('\\t', '')\n",
    "                        review_data.append(hours_played)\n",
    "                        writer.writerow(review_data)\n",
    "                    i += 1\n",
    "                    time.sleep(1.5)\n",
    "                else:\n",
    "                    i = 0\n",
    "                    with open('output_files/reviews/resolved_steam_ids.csv', 'a') as F:\n",
    "                        writer = csv.writer(F)\n",
    "                        writer.writerow([steam_id])\n",
    "        except:\n",
    "            with open('output_files/reviews/error_steam_ids.csv', 'a') as F:\n",
    "                writer = csv.writer(F)\n",
    "                writer.writerow([steam_id])"
   ]
  }
 ],
 "metadata": {
  "kernelspec": {
   "display_name": "bigdata",
   "language": "python",
   "name": "python3"
  },
  "language_info": {
   "codemirror_mode": {
    "name": "ipython",
    "version": 3
   },
   "file_extension": ".py",
   "mimetype": "text/x-python",
   "name": "python",
   "nbconvert_exporter": "python",
   "pygments_lexer": "ipython3",
   "version": "3.9.16"
  },
  "orig_nbformat": 4
 },
 "nbformat": 4,
 "nbformat_minor": 2
}
